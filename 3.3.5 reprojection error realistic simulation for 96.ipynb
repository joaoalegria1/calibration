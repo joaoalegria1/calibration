{
 "cells": [
  {
   "cell_type": "markdown",
   "metadata": {},
   "source": [
    "# Reprojection error for 2 meters"
   ]
  },
  {
   "cell_type": "code",
   "execution_count": 125,
   "metadata": {},
   "outputs": [],
   "source": [
    "vscode = 1"
   ]
  },
  {
   "cell_type": "code",
   "execution_count": 126,
   "metadata": {},
   "outputs": [],
   "source": [
    "if(vscode == 1):\n",
    "    # for vscode\n",
    "    %matplotlib qt\n",
    "else:\n",
    "    # for jupyter notebook\n",
    "    from mpl_toolkits.mplot3d import axes3d\n",
    "    import matplotlib.pyplot as plt\n",
    "\n",
    "    %matplotlib notebook\n"
   ]
  },
  {
   "cell_type": "code",
   "execution_count": 127,
   "metadata": {},
   "outputs": [],
   "source": [
    "import matplotlib.pyplot as plt\n",
    "import numpy as np\n",
    "import cv2 \n",
    "from typing import Sequence\n",
    "from calib_lib import *\n",
    "DECIMALS = 2  # how many decimal places to use in print\n"
   ]
  },
  {
   "cell_type": "markdown",
   "metadata": {},
   "source": [
    "## Calculation of the 2D points"
   ]
  },
  {
   "cell_type": "code",
   "execution_count": 128,
   "metadata": {},
   "outputs": [],
   "source": [
    "def get_cmap(n, name='hsv'):\n",
    "    '''Returns a function that maps each index in 0, 1, ..., n-1 to a distinct \n",
    "    RGB color; the keyword argument name must be a standard mpl colormap name.'''\n",
    "    return plt.cm.get_cmap(name, n)"
   ]
  },
  {
   "cell_type": "code",
   "execution_count": 129,
   "metadata": {},
   "outputs": [],
   "source": [
    "F = 16                                       # focal length( in mm )\n",
    "image_size = np.array([1936,1216])               # sensor size(in mm)\n",
    "pixel_width = 5.86e-3                       # pixel size in mm\n",
    "PX= image_size[0]/2.0                       # principal point x-coordinate\n",
    "PY= image_size[1]/2.0                       # principal point y-coordinate\n",
    "IMAGE_HEIGTH = image_size[1]\n",
    "IMAGE_WIDTH = image_size[0]\n",
    "THETA_X = 0                                 # roll angle\n",
    "THETA_Y = 0                                 # pitch angle\n",
    "THETA_Z = 0                                 # yaw angle\n",
    "\n",
    "\n",
    "# camera Right\n",
    "THETA_X_R = 0                                 # roll angle\n",
    "THETA_Y_R = 0                                 # pitch angle\n",
    "THETA_Z_R= 0                                 # yaw angle\n",
    "# camera Left\n",
    "THETA_X_L = 0                                 # roll angle\n",
    "THETA_Y_L = 0                                 # pitch angle\n",
    "THETA_Z_L= 0                                 # yaw angle\n",
    "\n",
    "C_L = np.array([0,0,0])                     # camera centre\n",
    "\n",
    "C_R = np.array([500,0,0])\n",
    "\n",
    "chess_dimx,chess_dimy = (12,8)\n",
    "chess_sq_size = 44"
   ]
  },
  {
   "cell_type": "code",
   "execution_count": 130,
   "metadata": {},
   "outputs": [],
   "source": [
    "world_pts = create_chessboard(chess_dimx,chess_dimy,chess_sq_size)\n",
    "X = get_chessboard_rot_trans(world_pts,rx = THETA_X,ry = THETA_Y,rz = THETA_Z,tx = 250,ty = 10,tz  = 20000)"
   ]
  },
  {
   "cell_type": "code",
   "execution_count": 131,
   "metadata": {},
   "outputs": [],
   "source": [
    "x_L_list, X_arr_L, E_L, K_L,P_L = get_image_points(X,PX,PY,thetax=THETA_X_L,thetay = THETA_Y_L,thetaz = THETA_Z_L,trans_x= -C_L[0],trans_y= -C_L[1],trans_z= -C_L[2],F = F,mx = (1/pixel_width),my =(1/pixel_width))\n",
    "x_R_list, X_arr_R, E_R, K_R,P_R = get_image_points(X,PX,PY,thetax = THETA_X_R,thetay = THETA_Y_R, thetaz = THETA_Z_R,trans_x= -C_R[0],trans_y= -C_R[1],trans_z= -C_R[2],F = F,mx = (1/pixel_width),my =(1/pixel_width))"
   ]
  },
  {
   "cell_type": "code",
   "execution_count": 132,
   "metadata": {},
   "outputs": [],
   "source": [
    "fig, (ax1,ax2) = plt.subplots(2,1)\n",
    "ax1.plot(x_L_list[:,0],x_L_list[:,1], color = 'r',ls = \"None\", marker = \".\")\n",
    "ax2.plot(x_R_list[:,0],x_R_list[:,1], color = 'r',ls = \"None\", marker = \".\")\n",
    "ax1.set_aspect(1)\n",
    "ax2.set_aspect(1)\n",
    "ax1.grid()\n",
    "ax2.grid()\n",
    "plt.show()"
   ]
  },
  {
   "cell_type": "markdown",
   "metadata": {},
   "source": [
    "## Cameras parameters"
   ]
  },
  {
   "cell_type": "code",
   "execution_count": 133,
   "metadata": {},
   "outputs": [],
   "source": [
    "F = 16                                       # focal length( in mm )\n",
    "image_size = np.array([1936,1216])               # sensor size(in mm)\n",
    "pixel_width = 5.86e-3                       # pixel size in mm\n",
    "PX= image_size[0]/2.0                       # principal point x-coordinate\n",
    "PY= image_size[1]/2.0                       # principal point y-coordinate\n",
    "IMAGE_HEIGTH = image_size[1]\n",
    "IMAGE_WIDTH = image_size[0]\n",
    "THETA_X = 0                                 # roll angle\n",
    "THETA_Y = 0                                 # pitch angle\n",
    "THETA_Z = 0                                 # yaw angle\n",
    "\n",
    "\n",
    "# camera Right\n",
    "THETA_X_R = 0                                 # roll angle\n",
    "THETA_Y_R = 0                                 # pitch angle\n",
    "THETA_Z_R= 0                                 # yaw angle\n",
    "# camera Left\n",
    "THETA_X_L = 0                                 # roll angle\n",
    "THETA_Y_L = 0                                 # pitch angle\n",
    "THETA_Z_L= 0                                 # yaw angle\n",
    "\n",
    "C_L = np.array([0,0,0])                     # camera centre\n",
    "\n",
    "C_R = np.array([500,0,0])\n",
    "\n",
    "chess_dimx,chess_dimy = (12,8)\n",
    "chess_sq_size = 44\n"
   ]
  },
  {
   "cell_type": "markdown",
   "metadata": {},
   "source": [
    "## Load variables \n",
    "Load the variables from the txt files. This files contain the Projection matrix, rotation and translation from the previous scripts calibration "
   ]
  },
  {
   "cell_type": "code",
   "execution_count": 134,
   "metadata": {},
   "outputs": [],
   "source": [
    "P_L_original_p = [np.array([[2.73037543e+03, 0.00000000e+00, 9.68000000e+02, 0.00000000e+00],\n",
    "                        [0.00000000e+00, 2.73037543e+03, 6.08000000e+02, 0.00000000e+00],\n",
    "                        [0.00000000e+00, 0.00000000e+00, 1.00000000e+00, 0.00000000e+00]]),\n",
    "                np.array([[2.73037543e+03, 0.00000000e+00, 9.68000000e+02, 0.00000000e+00],\n",
    "                        [0.00000000e+00, 2.73037543e+03, 6.08000000e+02, 0.00000000e+00],\n",
    "                        [0.00000000e+00, 0.00000000e+00, 1.00000000e+00, 0.00000000e+00]]),\n",
    "                np.array([[2.73037543e+03, 0.00000000e+00, 9.68000000e+02, 0.00000000e+00],\n",
    "                        [0.00000000e+00, 2.73037543e+03, 6.08000000e+02, 0.00000000e+00],\n",
    "                        [0.00000000e+00, 0.00000000e+00, 1.00000000e+00, 0.00000000e+00]]),\n",
    "                np.array([[2.73037543e+03, 0.00000000e+00, 9.68000000e+02, 0.00000000e+00],\n",
    "                        [0.00000000e+00, 2.73037543e+03, 6.08000000e+02, 0.00000000e+00],\n",
    "                        [0.00000000e+00, 0.00000000e+00, 1.00000000e+00, 0.00000000e+00]]),\n",
    "                np.array([[2.73037543e+03, 0.00000000e+00, 9.68000000e+02, 0.00000000e+00],\n",
    "                        [0.00000000e+00, 2.73037543e+03, 6.08000000e+02, 0.00000000e+00],\n",
    "                        [0.00000000e+00, 0.00000000e+00, 1.00000000e+00, 0.00000000e+00]]),\n",
    "                np.array([[2.73037543e+03, 0.00000000e+00, 9.68000000e+02, 0.00000000e+00],\n",
    "                        [0.00000000e+00, 2.73037543e+03, 6.08000000e+02, 0.00000000e+00],\n",
    "                        [0.00000000e+00, 0.00000000e+00, 1.00000000e+00, 0.00000000e+00]])]"
   ]
  },
  {
   "cell_type": "code",
   "execution_count": 135,
   "metadata": {},
   "outputs": [],
   "source": [
    "P_R_original_p =  [np.array([[ 2.73037543e+03,  0.00000000e+00,9.68000000e+02,-1.36518771e+06],\n",
    "                        [ 0.00000000e+00,  2.73037543e+03,  6.08000000e+02,0.00000000e+00],\n",
    "                        [ 0.00000000e+00,  0.00000000e+00,  1.00000000e+00,0.00000000e+00]]),\n",
    "                np.array([[ 2.73037543e+03,  0.00000000e+00,  9.68000000e+02,-1.36518771e+06],\n",
    "                        [ 0.00000000e+00,  2.73037543e+03,  6.08000000e+02,0.00000000e+00],\n",
    "                        [ 0.00000000e+00,  0.00000000e+00,  1.00000000e+00,0.00000000e+00]]),\n",
    "                np.array([[ 2.73037543e+03,  0.00000000e+00,  9.68000000e+02,-1.36518771e+06],\n",
    "                        [ 0.00000000e+00,  2.73037543e+03,  6.08000000e+02,0.00000000e+00],\n",
    "                        [ 0.00000000e+00,  0.00000000e+00,  1.00000000e+00,0.00000000e+00]]),\n",
    "                np.array([[ 2.73037543e+03,  0.00000000e+00,  9.68000000e+02,-1.36518771e+06],\n",
    "                        [ 0.00000000e+00,  2.73037543e+03,  6.08000000e+02,0.00000000e+00],\n",
    "                        [ 0.00000000e+00,  0.00000000e+00,  1.00000000e+00,0.00000000e+00]]),\n",
    "                np.array([[ 2.73037543e+03,  0.00000000e+00,  9.68000000e+02,-1.36518771e+06],\n",
    "                        [ 0.00000000e+00,  2.73037543e+03,  6.08000000e+02,0.00000000e+00],\n",
    "                        [ 0.00000000e+00,  0.00000000e+00,  1.00000000e+00,0.00000000e+00]]),\n",
    "                np.array([[ 2.73037543e+03,  0.00000000e+00,  9.68000000e+02,-1.36518771e+06],\n",
    "                        [ 0.00000000e+00,  2.73037543e+03,  6.08000000e+02,0.00000000e+00],\n",
    "                        [ 0.00000000e+00,  0.00000000e+00,  1.00000000e+00,0.00000000e+00]])]\n"
   ]
  },
  {
   "cell_type": "code",
   "execution_count": 136,
   "metadata": {},
   "outputs": [],
   "source": [
    "ret_S_2_p =    [[0.0020527201126187768],\n",
    "                [0.003098024647735074],\n",
    "                [0.002511466268808076],\n",
    "                [0.00256782319067956],\n",
    "                [0.002335731099713944],\n",
    "                [0.002395547718783529]]"
   ]
  },
  {
   "cell_type": "code",
   "execution_count": 137,
   "metadata": {},
   "outputs": [],
   "source": [
    "ret_S_3_p = [[0.004171543153121955],\n",
    "            [0.004050739638537097],\n",
    "            [0.0035988242020932467],\n",
    "            [0.0034039430943971502],\n",
    "            [0.003195761942961131],\n",
    "            [0.003128114211866358]]"
   ]
  },
  {
   "cell_type": "code",
   "execution_count": 138,
   "metadata": {},
   "outputs": [],
   "source": [
    "ret_S_4_p = [[0.005730161977640424],\n",
    "            [0.00776707798676983],\n",
    "            [0.005361085366788011],\n",
    "            [0.006148672034079745],\n",
    "            [0.005047479366119368],\n",
    "            [0.005430273225229877]]"
   ]
  },
  {
   "cell_type": "code",
   "execution_count": 139,
   "metadata": {},
   "outputs": [],
   "source": [
    "new_mtxL_list_2_p =     [[np.array([[2.73035248e+03, 0.00000000e+00, 9.68030920e+02],\n",
    "                                [0.00000000e+00, 2.73036791e+03, 6.08028838e+02],\n",
    "                                [0.00000000e+00, 0.00000000e+00, 1.00000000e+00]])],\n",
    "                        [np.array([[2.73034597e+03, 0.00000000e+00, 9.68050324e+02],\n",
    "                                [0.00000000e+00, 2.73036540e+03, 6.08000451e+02],\n",
    "                                [0.00000000e+00, 0.00000000e+00, 1.00000000e+00]])],\n",
    "                        [np.array([[2.73033374e+03, 0.00000000e+00, 9.68042230e+02],\n",
    "                                [0.00000000e+00, 2.73033440e+03, 6.08000230e+02],\n",
    "                                [0.00000000e+00, 0.00000000e+00, 1.00000000e+00]])],\n",
    "                        [np.array([[2.73036044e+03, 0.00000000e+00, 9.68010375e+02],\n",
    "                                [0.00000000e+00, 2.73039431e+03, 6.07999985e+02],\n",
    "                                [0.00000000e+00, 0.00000000e+00, 1.00000000e+00]])],\n",
    "                        [np.array([[2.73033837e+03, 0.00000000e+00, 9.68019791e+02],\n",
    "                                [0.00000000e+00, 2.73033441e+03, 6.07999902e+02],\n",
    "                                [0.00000000e+00, 0.00000000e+00, 1.00000000e+00]])],\n",
    "                        [np.array([[2.73035022e+03, 0.00000000e+00, 9.68014411e+02],\n",
    "                                [0.00000000e+00, 2.73035529e+03, 6.07999915e+02],\n",
    "                                [0.00000000e+00, 0.00000000e+00, 1.00000000e+00]])]]  "
   ]
  },
  {
   "cell_type": "code",
   "execution_count": 140,
   "metadata": {},
   "outputs": [],
   "source": [
    "new_mtxL_list_3_p =     [[np.array([[2.73085514e+03, 0.00000000e+00, 9.67825694e+02],\n",
    "                                [0.00000000e+00, 2.73084974e+03, 6.07796789e+02],\n",
    "                                [0.00000000e+00, 0.00000000e+00, 1.00000000e+00]])],\n",
    "                        [np.array([[2.73058821e+03, 0.00000000e+00, 9.67770321e+02],\n",
    "                                [0.00000000e+00, 2.73060809e+03, 6.07999482e+02],\n",
    "                                [0.00000000e+00, 0.00000000e+00, 1.00000000e+00]])],\n",
    "                        [np.array([[2.73041345e+03, 0.00000000e+00, 9.67881305e+02],\n",
    "                                [0.00000000e+00, 2.73042540e+03, 6.07998607e+02],\n",
    "                                [0.00000000e+00, 0.00000000e+00, 1.00000000e+00]])],\n",
    "                        [np.array([[2.73043448e+03, 0.00000000e+00, 9.67949822e+02],\n",
    "                                [0.00000000e+00, 2.73045068e+03, 6.07999252e+02],\n",
    "                                [0.00000000e+00, 0.00000000e+00, 1.00000000e+00]])],\n",
    "                        [np.array([[2.73044562e+03, 0.00000000e+00, 9.67903760e+02],\n",
    "                                [0.00000000e+00, 2.73044323e+03, 6.08000061e+02],\n",
    "                                [0.00000000e+00, 0.00000000e+00, 1.00000000e+00]])],\n",
    "                        [np.array([[2.73047156e+03, 0.00000000e+00, 9.67967051e+02],\n",
    "                                [0.00000000e+00, 2.73046506e+03, 6.07999680e+02],\n",
    "                                [0.00000000e+00, 0.00000000e+00, 1.00000000e+00]])]]  "
   ]
  },
  {
   "cell_type": "code",
   "execution_count": 141,
   "metadata": {},
   "outputs": [],
   "source": [
    "new_mtxL_list_4_p =     [[np.array([[2.73066827e+03, 0.00000000e+00, 9.67592218e+02],\n",
    "                                [0.00000000e+00, 2.73080168e+03, 6.08350326e+02],\n",
    "                                [0.00000000e+00, 0.00000000e+00, 1.00000000e+00]])],\n",
    "                        [np.array([[2.73061648e+03, 0.00000000e+00, 9.67928585e+02],\n",
    "                                [0.00000000e+00, 2.73065893e+03, 6.07997710e+02],\n",
    "                                [0.00000000e+00, 0.00000000e+00, 1.00000000e+00]])],\n",
    "                        [np.array([[2.73061605e+03, 0.00000000e+00, 9.68066778e+02],\n",
    "                                [0.00000000e+00, 2.73071938e+03, 6.07999977e+02],\n",
    "                                [0.00000000e+00, 0.00000000e+00, 1.00000000e+00]])],\n",
    "                        [np.array([[2.73005939e+03, 0.00000000e+00, 9.68168218e+02],\n",
    "                                [0.00000000e+00, 2.73010756e+03, 6.08000218e+02],\n",
    "                                [0.00000000e+00, 0.00000000e+00, 1.00000000e+00]])],\n",
    "                        [np.array([[2.73070898e+03, 0.00000000e+00, 9.68058493e+02],\n",
    "                                [0.00000000e+00, 2.73078766e+03, 6.07998983e+02],\n",
    "                                [0.00000000e+00, 0.00000000e+00, 1.00000000e+00]])],\n",
    "                        [np.array([[2.73065818e+03, 0.00000000e+00, 9.68017560e+02],\n",
    "                                [0.00000000e+00, 2.73074972e+03, 6.07999108e+02],\n",
    "                                [0.00000000e+00, 0.00000000e+00, 1.00000000e+00]])]]  \n"
   ]
  },
  {
   "cell_type": "code",
   "execution_count": 142,
   "metadata": {},
   "outputs": [],
   "source": [
    "ret_L_list_2_p =  [[0.002025178177052179],\n",
    "                    [0.0020807761334231192],\n",
    "                    [0.0018718502915038844],\n",
    "                    [0.00199315873184214],\n",
    "                    [0.0019222854361344364],\n",
    "                    [0.00205478923672211]]"
   ]
  },
  {
   "cell_type": "code",
   "execution_count": 143,
   "metadata": {},
   "outputs": [],
   "source": [
    "ret_L_list_3_p =  [[0.004009480818202073],\n",
    "                    [0.0034306671023531603],\n",
    "                    [0.003173506162654716],\n",
    "                    [0.0031700148991233826],\n",
    "                    [0.0029961987229733316],\n",
    "                    [0.0029025890959377223]]"
   ]
  },
  {
   "cell_type": "code",
   "execution_count": 144,
   "metadata": {},
   "outputs": [],
   "source": [
    "ret_L_list_4_p =  [[0.0046097228623467445],\n",
    "                    [0.004469614847161164],\n",
    "                    [0.0044027657178182765],\n",
    "                    [0.004542693862740972],\n",
    "                    [0.004417716270433265],\n",
    "                    [0.004512535151965679]]"
   ]
  },
  {
   "cell_type": "code",
   "execution_count": 145,
   "metadata": {},
   "outputs": [],
   "source": [
    "new_mtxR_list_2_p =     [[np.array([[2.73029733e+03, 0.00000000e+00, 9.67976374e+02],\n",
    "                                [0.00000000e+00, 2.73028533e+03, 6.07985340e+02],\n",
    "                                [0.00000000e+00, 0.00000000e+00, 1.00000000e+00]])],\n",
    "                        [np.array([[2.73033678e+03, 0.00000000e+00, 9.67956567e+02],\n",
    "                                [0.00000000e+00, 2.73033526e+03, 6.07999862e+02],\n",
    "                                [0.00000000e+00, 0.00000000e+00, 1.00000000e+00]])],\n",
    "                        [np.array([[2.73035401e+03, 0.00000000e+00, 9.67963187e+02],\n",
    "                                [0.00000000e+00, 2.73034963e+03, 6.08000378e+02],\n",
    "                                [0.00000000e+00, 0.00000000e+00, 1.00000000e+00]])],\n",
    "                        [np.array([[2.73032171e+03, 0.00000000e+00, 9.67966010e+02],\n",
    "                                [0.00000000e+00, 2.73032765e+03, 6.08000142e+02],\n",
    "                                [0.00000000e+00, 0.00000000e+00, 1.00000000e+00]])],\n",
    "                        [np.array([[2.73035235e+03, 0.00000000e+00, 9.67970714e+02],\n",
    "                                [0.00000000e+00, 2.73034296e+03, 6.08000589e+02],\n",
    "                                [0.00000000e+00, 0.00000000e+00, 1.00000000e+00]])],\n",
    "                        [np.array([[2.73033553e+03, 0.00000000e+00, 9.67992612e+02],\n",
    "                                [0.00000000e+00, 2.73033806e+03, 6.08000330e+02],\n",
    "                                [0.00000000e+00, 0.00000000e+00, 1.00000000e+00]])]]\n",
    "                        \n"
   ]
  },
  {
   "cell_type": "code",
   "execution_count": 146,
   "metadata": {},
   "outputs": [],
   "source": [
    "new_mtxR_list_3_p =     [[np.array([[2.73022358e+03, 0.00000000e+00, 9.67907040e+02],\n",
    "                                [0.00000000e+00, 2.73026145e+03, 6.07949387e+02],\n",
    "                                [0.00000000e+00, 0.00000000e+00, 1.00000000e+00]])],\n",
    "                        [np.array([[2.73042307e+03, 0.00000000e+00, 9.67974590e+02],\n",
    "                                [0.00000000e+00, 2.73042652e+03, 6.07999176e+02],\n",
    "                                [0.00000000e+00, 0.00000000e+00, 1.00000000e+00]])],\n",
    "                        [np.array([[2.73031109e+03, 0.00000000e+00, 9.68016515e+02],\n",
    "                                [0.00000000e+00, 2.73032055e+03, 6.07999222e+02],\n",
    "                                [0.00000000e+00, 0.00000000e+00, 1.00000000e+00]])],\n",
    "                        [np.array([[2.73029868e+03, 0.00000000e+00, 9.67949824e+02],\n",
    "                                [0.00000000e+00, 2.73030343e+03, 6.08000578e+02],\n",
    "                                [0.00000000e+00, 0.00000000e+00, 1.00000000e+00]])],\n",
    "                        [np.array([[2.73036918e+03, 0.00000000e+00, 9.68008116e+02],\n",
    "                                [0.00000000e+00, 2.73037039e+03, 6.07999985e+02],\n",
    "                                [0.00000000e+00, 0.00000000e+00, 1.00000000e+00]])],\n",
    "                        [np.array([[2.73044359e+03, 0.00000000e+00, 9.67992771e+02],\n",
    "                                [0.00000000e+00, 2.73044560e+03, 6.07999789e+02],\n",
    "                                [0.00000000e+00, 0.00000000e+00, 1.00000000e+00]])]]\n"
   ]
  },
  {
   "cell_type": "code",
   "execution_count": 147,
   "metadata": {},
   "outputs": [],
   "source": [
    "new_mtxR_list_4_p =     [[np.array([[2.73054517e+03, 0.00000000e+00, 9.68032741e+02],\n",
    "                                   [0.00000000e+00, 2.73053444e+03, 6.08019564e+02],\n",
    "                                   [0.00000000e+00, 0.00000000e+00, 1.00000000e+00]])],\n",
    "                        [np.array([[2.73061348e+03, 0.00000000e+00, 9.68064764e+02],\n",
    "                                [0.00000000e+00, 2.73066044e+03, 6.08000723e+02],\n",
    "                                [0.00000000e+00, 0.00000000e+00, 1.00000000e+00]])],\n",
    "                        [np.array([[2.73061533e+03, 0.00000000e+00, 9.67926357e+02],\n",
    "                                [0.00000000e+00, 2.73072255e+03, 6.08001523e+02],\n",
    "                                [0.00000000e+00, 0.00000000e+00, 1.00000000e+00]])],\n",
    "                        [np.array([[2.73006048e+03, 0.00000000e+00, 9.67829656e+02],\n",
    "                                [0.00000000e+00, 2.73010890e+03, 6.07999620e+02],\n",
    "                                [0.00000000e+00, 0.00000000e+00, 1.00000000e+00]])],\n",
    "                        [np.array([[2.73071055e+03, 0.00000000e+00, 9.67938709e+02],\n",
    "                                [0.00000000e+00, 2.73079357e+03, 6.08000360e+02],\n",
    "                                [0.00000000e+00, 0.00000000e+00, 1.00000000e+00]])],\n",
    "                        [np.array([[2.73065762e+03, 0.00000000e+00, 9.67980446e+02],\n",
    "                                [0.00000000e+00, 2.73075450e+03, 6.07999730e+02],\n",
    "                                [0.00000000e+00, 0.00000000e+00, 1.00000000e+00]])]]\n",
    "\n"
   ]
  },
  {
   "cell_type": "code",
   "execution_count": 148,
   "metadata": {},
   "outputs": [],
   "source": [
    "ret_R_list_2_p =     [[0.0016947509561812952],      \n",
    "                     [0.0033694105187875275],\n",
    "                    [0.002730651155855071],\n",
    "                    [0.0025962130171247664],\n",
    "                    [0.0024080015699882973],\n",
    "                    [0.002498180450976711]]"
   ]
  },
  {
   "cell_type": "code",
   "execution_count": 149,
   "metadata": {},
   "outputs": [],
   "source": [
    "ret_R_list_3_p =    [[0.0035564871424299043],      \n",
    "                    [0.0034360623966220175],\n",
    "                    [0.003160289794099616],\n",
    "                    [0.003273944425351478],\n",
    "                    [0.0030072759189156265],\n",
    "                    [0.0030342407956745372]]"
   ]
  },
  {
   "cell_type": "code",
   "execution_count": 150,
   "metadata": {},
   "outputs": [],
   "source": [
    "ret_R_list_4_p =   [[0.004303091821317535],\n",
    "                    [0.004472742718734742],\n",
    "                    [0.00440610991668943],\n",
    "                    [0.004545173985333915],\n",
    "                    [0.0044204347374661055],\n",
    "                    [0.0045133949739667185]]"
   ]
  },
  {
   "cell_type": "code",
   "execution_count": 151,
   "metadata": {},
   "outputs": [],
   "source": [
    "\n",
    "Rot_list_2_p =   [[np.array([[ 1.00000000e+00,  2.74348175e-07,  1.67797990e-05],\n",
    "                                [-2.74580660e-07,  1.00000000e+00,  1.38550633e-05],\n",
    "                                [-1.67797952e-05, -1.38550679e-05,  1.00000000e+00]])],\n",
    "                [np.array([[ 9.99999999e-01,  3.22539686e-09,  3.71136942e-05],\n",
    "                                [-3.23253185e-09,  1.00000000e+00,  1.92246657e-07],\n",
    "                                [-3.71136942e-05, -1.92246777e-07,  9.99999999e-01]])],\n",
    "                [np.array([[ 1.00000000e+00, -1.16617536e-08,  3.05802066e-05],\n",
    "                                [ 1.16634081e-08,  1.00000000e+00, -5.41043648e-08],\n",
    "                                [-3.05802066e-05,  5.41047215e-08,  1.00000000e+00]])],\n",
    "                [np.array([[ 1.00000000e+00,  3.93976624e-09,  1.74992051e-05],\n",
    "                                [-3.93898487e-09,  1.00000000e+00, -4.46515783e-08],\n",
    "                                [-1.74992051e-05,  4.46515094e-08,  1.00000000e+00]])],\n",
    "                [np.array([[ 1.00000000e+00, -9.80540092e-09,  1.86115896e-05],\n",
    "                                [ 9.80967517e-09,  1.00000000e+00, -2.29654665e-07],\n",
    "                                [-1.86115896e-05,  2.29654848e-07,  1.00000000e+00]])],\n",
    "                [np.array([[ 1.00000000e+00, -1.41573897e-09,  5.42416514e-06],\n",
    "                                [ 1.41641392e-09,  1.00000000e+00, -1.24434528e-07],\n",
    "                                [-5.42416514e-06,  1.24434536e-07,  1.00000000e+00]])]]"
   ]
  },
  {
   "cell_type": "code",
   "execution_count": 152,
   "metadata": {},
   "outputs": [],
   "source": [
    "\n",
    "Rot_list_3_p =   [[np.array([[ 9.99999999e-01, -1.99963995e-06, -4.57168877e-05],\n",
    "                                [ 1.99623549e-06,  9.99999997e-01, -7.44684159e-05], \n",
    "                                [ 4.57170365e-05,  7.44683246e-05,  9.99999996e-01]])],\n",
    "                [np.array([[ 9.99999999e-01,  8.37406874e-10, -3.50929878e-05],\n",
    "                                [-8.34831760e-10,  1.00000000e+00,  7.33797421e-08],\n",
    "                                [ 3.50929878e-05, -7.33797128e-08,  9.99999999e-01]])],\n",
    "                [np.array([[ 1.00000000e+00,  3.09622882e-08, -2.38339480e-05],\n",
    "                                [-3.09665878e-08,  1.00000000e+00, -1.80395891e-07],\n",
    "                                [ 2.38339479e-05,  1.80396629e-07,  1.00000000e+00]])],\n",
    "                [np.array([[ 1.00000000e+00, -4.26570400e-09,  1.32426267e-05],\n",
    "                                [ 4.27135041e-09,  1.00000000e+00, -4.26381856e-07],\n",
    "                                [-1.32426267e-05,  4.26381912e-07,  1.00000000e+00]])],\n",
    "                [np.array([[ 1.00000000e+00,  4.59005365e-09, -2.38942728e-05],\n",
    "                                [-4.58851790e-09,  1.00000000e+00,  6.42727577e-08],\n",
    "                                [ 2.38942728e-05, -6.42726481e-08,  1.00000000e+00]])],\n",
    "                [np.array([[ 1.00000000e+00,  5.40259932e-09,  4.27735054e-06],\n",
    "                                [-5.40249839e-09,  1.00000000e+00, -2.35978844e-08],\n",
    "                                [-4.27735054e-06,  2.35978613e-08,  1.00000000e+00]])]]"
   ]
  },
  {
   "cell_type": "code",
   "execution_count": 153,
   "metadata": {},
   "outputs": [],
   "source": [
    "\n",
    "Rot_list_4_p =  [[np.array([[ 9.99999989e-01,  1.47038476e-05, -1.45705933e-04],\n",
    "                                [-1.46900004e-05,  9.99999995e-01,  9.50357407e-05],\n",
    "                                [ 1.45707329e-04, -9.50335993e-05,  9.99999985e-01]])],\n",
    "                [np.array([[ 9.99999991e-01,  2.94070101e-08,  1.31555120e-04],\n",
    "                                [-2.92889177e-08,  1.00000000e+00, -8.97666751e-07],\n",
    "                                [-1.31555121e-04,  8.97662890e-07,  9.99999991e-01]])],\n",
    "                [np.array([[ 9.99999993e-01,  5.88759371e-10,  1.19853236e-04],\n",
    "                                [-5.29218746e-10,  1.00000000e+00, -4.96779487e-07],\n",
    "                                [-1.19853236e-04,  4.96779420e-07,  9.99999993e-01]])],\n",
    "                [np.array([[ 9.99999981e-01,  1.15010169e-08,  1.94617180e-04],\n",
    "                                [-1.15309790e-08,  1.00000000e+00,  1.53953183e-07],\n",
    "                                [-1.94617180e-04, -1.53955424e-07,  9.99999981e-01]])],\n",
    "                [np.array([[ 9.99999995e-01,  1.76532682e-08,  1.00007470e-04],\n",
    "                                [-1.76028216e-08,  1.00000000e+00, -5.04428709e-07],\n",
    "                                [-1.00007470e-04,  5.04426946e-07,  9.99999995e-01]])],\n",
    "                [np.array([[ 9.99999996e-01,  1.57381949e-08,  8.99138577e-05],\n",
    "                                [-1.57168756e-08,  1.00000000e+00, -2.37108681e-07],\n",
    "                                [-8.99138577e-05,  2.37107267e-07,  9.99999996e-01]])]]"
   ]
  },
  {
   "cell_type": "code",
   "execution_count": 154,
   "metadata": {},
   "outputs": [],
   "source": [
    "Trns_list_2_p =  [[np.array([[-4.99992254e+02],\n",
    "                     [ 4.21352156e-03],\n",
    "                     [-3.63938561e-02]])],\n",
    "                 [np.array([[-5.00005136e+02],\n",
    "                     [ 4.44699177e-05],\n",
    "                     [-4.49044346e-03]])],\n",
    "                 [np.array([[-5.00002047e+02],\n",
    "                     [-1.14145182e-05],\n",
    "                     [ 1.97219008e-02]])],\n",
    "                 [np.array([[-5.00003444e+02],\n",
    "                     [-2.77976224e-05],\n",
    "                     [-3.33038545e-02]])],\n",
    "               [np.array([[-5.00000120e+02],\n",
    "                    [-5.40111674e-05],\n",
    "                    [ 1.00053638e-02]])],\n",
    "               [np.array([[-4.99994905e+02],\n",
    "                    [-5.93302545e-05],\n",
    "                    [-1.11391277e-02]])]]"
   ]
  },
  {
   "cell_type": "code",
   "execution_count": 155,
   "metadata": {},
   "outputs": [],
   "source": [
    "Trns_list_3_p =  [[np.array([[-4.99956362e+02],\n",
    "                    [ 4.97970285e-02],\n",
    "                    [-5.33279591e-01]])],\n",
    "                 [np.array([[-5.00113362e+02],\n",
    "                    [ 1.02299921e-04],\n",
    "                    [-1.80656667e-01]])],\n",
    "                 [np.array([[-5.00072691e+02],\n",
    "                    [-1.29533548e-04],\n",
    "                    [-9.75098624e-02]])],\n",
    "                 [np.array([[-5.00036916e+02],\n",
    "                     [-1.82058514e-04],\n",
    "                     [-1.48573696e-01]])],\n",
    "                  [np.array([[-5.00039951e+02],\n",
    "                     [-1.08477679e-04],\n",
    "                     [-7.06904219e-02]])],\n",
    "               [np.array([[-5.00037854e+02],\n",
    "                     [-5.06815132e-05],\n",
    "                     [-7.54036237e-03]])]]"
   ]
  },
  {
   "cell_type": "code",
   "execution_count": 156,
   "metadata": {},
   "outputs": [],
   "source": [
    "Trns_list_4_p = [[np.array([[-5.00035778e+02],\n",
    "                    [ 7.14593447e-02],\n",
    "                    [-8.42055965e-02]])],\n",
    "                [np.array([[-5.00698023e+02],\n",
    "                    [-8.75741102e-04],\n",
    "                    [ 3.36064428e-02]])],\n",
    "                [np.array([[-5.00271853e+02],\n",
    "                    [-3.03591000e-04],\n",
    "                    [ 3.28970028e-02]])],\n",
    "                [np.array([[-5.00264139e+02],\n",
    "                    [ 2.54773711e-04],\n",
    "                    [ 5.04960751e-02]])],\n",
    "               [np.array([[-5.00224256e+02],\n",
    "                    [-2.41814001e-05],\n",
    "                    [ 3.21764509e-02]])],\n",
    "               [np.array([[-5.00303635e+02],\n",
    "                    [ 3.13501011e-05],\n",
    "                    [ 2.75393033e-02]])]]"
   ]
  },
  {
   "cell_type": "code",
   "execution_count": 157,
   "metadata": {},
   "outputs": [
    {
     "data": {
      "text/plain": [
       "[array([[2.73035248e+03, 0.00000000e+00, 9.68030920e+02],\n",
       "        [0.00000000e+00, 2.73036791e+03, 6.08028838e+02],\n",
       "        [0.00000000e+00, 0.00000000e+00, 1.00000000e+00]])]"
      ]
     },
     "execution_count": 157,
     "metadata": {},
     "output_type": "execute_result"
    }
   ],
   "source": [
    "new_mtxL_list_2_p[0]"
   ]
  },
  {
   "cell_type": "code",
   "execution_count": 158,
   "metadata": {},
   "outputs": [],
   "source": [
    "\n",
    "P_L_2_list_p = []\n",
    "P_R_2_list_p = []\n",
    "\n",
    "for i in range(len(ret_R_list_2_p)):\n",
    "    R1,R2,P_L_est,P_R_est,Q,roi_left,roi_right = cv2.stereoRectify(new_mtxL_list_2_p[i][0], ret_L_list_2_p[i][0], new_mtxR_list_2_p[i][0], ret_R_list_2_p[i][0], (image_size[0],image_size[1]), Rot_list_2_p[i][0], Trns_list_2_p[i][0],flags = cv2.CALIB_ZERO_DISPARITY)\n",
    "    P_L_2_list_p.append(P_L_est)\n",
    "    P_R_2_list_p.append(P_R_est)\n"
   ]
  },
  {
   "cell_type": "code",
   "execution_count": 159,
   "metadata": {},
   "outputs": [],
   "source": [
    "\n",
    "P_L_3_list_p = []\n",
    "P_R_3_list_p = []\n",
    "\n",
    "for i in range(len(ret_R_list_3_p)):\n",
    "    R1,R2,P_L_est,P_R_est,Q,roi_left,roi_right = cv2.stereoRectify(new_mtxL_list_3_p[i][0], ret_L_list_3_p[i][0], new_mtxR_list_3_p[i][0], ret_R_list_3_p[i][0], (image_size[0],image_size[1]), Rot_list_3_p[i][0], Trns_list_3_p[i][0],flags = cv2.CALIB_ZERO_DISPARITY)\n",
    "    P_L_3_list_p.append(P_L_est)\n",
    "    P_R_3_list_p.append(P_R_est)\n"
   ]
  },
  {
   "cell_type": "code",
   "execution_count": 160,
   "metadata": {},
   "outputs": [],
   "source": [
    "\n",
    "P_L_4_list_p = []\n",
    "P_R_4_list_p = []\n",
    "\n",
    "for i in range(len(ret_R_list_4_p)):\n",
    "    R1,R2,P_L_est,P_R_est,Q,roi_left,roi_right = cv2.stereoRectify(new_mtxL_list_4_p[i][0], ret_L_list_4_p[i][0], new_mtxR_list_4_p[i][0], ret_R_list_4_p[i][0], (image_size[0],image_size[1]), Rot_list_4_p[i][0], Trns_list_4_p[i][0],flags = cv2.CALIB_ZERO_DISPARITY)\n",
    "    P_L_4_list_p.append(P_L_est)\n",
    "    P_R_4_list_p.append(P_R_est)\n"
   ]
  },
  {
   "cell_type": "code",
   "execution_count": 33,
   "metadata": {},
   "outputs": [],
   "source": [
    "n_corners = chess_dimx*chess_dimy\n",
    "len_chess = len(ret_L_list_2_p)\n",
    "XestOpenCV = np.zeros((len_chess,n_corners,4,1))\n",
    "Xoriginal = np.zeros((len_chess,n_corners,4,1))\n",
    "\n",
    "X_est_arr = np.zeros((len_chess,n_corners,4,1))\n",
    "X_org_arr = np.zeros((len_chess,n_corners,4,1))\n",
    "\n",
    "estError_2 = np.zeros((len_chess,n_corners,1))\n",
    "triangulation_error_2_p =np.zeros((len_chess,1))\n",
    "\n",
    "\n",
    "for i in range(len(ret_R_list_2_p)):\n",
    "    for j in range(XestOpenCV.shape[1]):\n",
    "        XestOpenCV[i,j,:,:] = cv2.triangulatePoints(P_L_2_list_p[i],P_R_2_list_p[i], x_L_list[j], x_R_list[j])\n",
    "        Xoriginal[i,j,:,:] =  cv2.triangulatePoints(P_L_original_p[i],P_R_original_p[i],x_L_list[j], x_R_list[j])\n",
    "\n",
    "        X_est_arr[i,j,:,:] = XestOpenCV[i,j,:,:]/XestOpenCV[i,j,-1,:]\n",
    "        X_org_arr[i,j,:,:] = Xoriginal[i,j,:,:]/Xoriginal[i,j,-1,:]\n",
    "\n",
    "        #print(X_est_arr[i,j,:,:])\n",
    "        #print(X_org_arr[i,j,:,:])\n",
    "        estError_2[i,j,:] = np.sqrt(np.sum(np.square(X_est_arr[i,j,:3,:]-X_org_arr[i,j,:3,:])))\n",
    "\n",
    "    triangulation_error_2_p[i,:] = np.sum(estError_2[i,:,:])/estError_2[i,:,:].shape[0]"
   ]
  },
  {
   "cell_type": "code",
   "execution_count": 164,
   "metadata": {},
   "outputs": [
    {
     "data": {
      "text/plain": [
       "array([[1.9201739 ],\n",
       "       [0.60162808],\n",
       "       [0.58231736],\n",
       "       [1.78811089],\n",
       "       [0.33316143],\n",
       "       [0.63165617]])"
      ]
     },
     "execution_count": 164,
     "metadata": {},
     "output_type": "execute_result"
    }
   ],
   "source": [
    "triangulation_error_2_p"
   ]
  },
  {
   "cell_type": "code",
   "execution_count": 162,
   "metadata": {},
   "outputs": [],
   "source": [
    "n_corners = chess_dimx*chess_dimy\n",
    "len_chess = len(ret_L_list_3_p)\n",
    "XestOpenCV = np.zeros((len_chess,n_corners,4,1))\n",
    "Xoriginal = np.zeros((len_chess,n_corners,4,1))\n",
    "\n",
    "X_est_arr = np.zeros((len_chess,n_corners,4,1))\n",
    "X_org_arr = np.zeros((len_chess,n_corners,4,1))\n",
    "\n",
    "estError_3 = np.zeros((len_chess,n_corners,1))\n",
    "triangulation_error_3_p =np.zeros((len_chess,1))\n",
    "\n",
    "\n",
    "for i in range(len(ret_R_list_3_p)):\n",
    "    for j in range(XestOpenCV.shape[1]):\n",
    "        XestOpenCV[i,j,:,:] = cv2.triangulatePoints(P_L_3_list_p[i],P_R_3_list_p[i], x_L_list[j], x_R_list[j])\n",
    "        Xoriginal[i,j,:,:] =  cv2.triangulatePoints(P_L_original_p[i],P_R_original_p[i],x_L_list[j], x_R_list[j])\n",
    "\n",
    "        X_est_arr[i,j,:,:] = XestOpenCV[i,j,:,:]/XestOpenCV[i,j,-1,:]\n",
    "        X_org_arr[i,j,:,:] = Xoriginal[i,j,:,:]/Xoriginal[i,j,-1,:]\n",
    "\n",
    "        #print(X_est_arr[i,j,:,:])\n",
    "        #print(X_org_arr[i,j,:,:])\n",
    "        estError_3[i,j,:] = np.sqrt(np.sum(np.square(X_est_arr[i,j,:3,:]-X_org_arr[i,j,:3,:])))\n",
    "\n",
    "    triangulation_error_3_p[i,:] = np.sum(estError_3[i,:,:])/estError_3[i,:,:].shape[0]"
   ]
  },
  {
   "cell_type": "code",
   "execution_count": 165,
   "metadata": {},
   "outputs": [
    {
     "data": {
      "text/plain": [
       "array([[24.47671909],\n",
       "       [10.3592207 ],\n",
       "       [ 5.37757751],\n",
       "       [ 7.37925803],\n",
       "       [ 3.73736423],\n",
       "       [ 2.16045357]])"
      ]
     },
     "execution_count": 165,
     "metadata": {},
     "output_type": "execute_result"
    }
   ],
   "source": [
    "triangulation_error_3_p"
   ]
  },
  {
   "cell_type": "code",
   "execution_count": 163,
   "metadata": {},
   "outputs": [],
   "source": [
    "n_corners = chess_dimx*chess_dimy\n",
    "len_chess = len(ret_L_list_4_p)\n",
    "XestOpenCV = np.zeros((len_chess,n_corners,4,1))\n",
    "Xoriginal = np.zeros((len_chess,n_corners,4,1))\n",
    "\n",
    "X_est_arr = np.zeros((len_chess,n_corners,4,1))\n",
    "X_org_arr = np.zeros((len_chess,n_corners,4,1))\n",
    "\n",
    "estError_4 = np.zeros((len_chess,n_corners,1))\n",
    "triangulation_error_4_p =np.zeros((len_chess,1))\n",
    "\n",
    "\n",
    "for i in range(len(ret_R_list_4_p)):\n",
    "    for j in range(XestOpenCV.shape[1]):\n",
    "        XestOpenCV[i,j,:,:] = cv2.triangulatePoints(P_L_4_list_p[i],P_R_4_list_p[i], x_L_list[j], x_R_list[j])\n",
    "        Xoriginal[i,j,:,:] =  cv2.triangulatePoints(P_L_original_p[i],P_R_original_p[i],x_L_list[j], x_R_list[j])\n",
    "\n",
    "        X_est_arr[i,j,:,:] = XestOpenCV[i,j,:,:]/XestOpenCV[i,j,-1,:]\n",
    "        X_org_arr[i,j,:,:] = Xoriginal[i,j,:,:]/Xoriginal[i,j,-1,:]\n",
    "\n",
    "        #print(X_est_arr[i,j,:,:])\n",
    "        #print(X_org_arr[i,j,:,:])\n",
    "        estError_4[i,j,:] = np.sqrt(np.sum(np.square(X_est_arr[i,j,:3,:]-X_org_arr[i,j,:3,:])))\n",
    "\n",
    "    triangulation_error_4_p[i,:] = np.sum(estError_4[i,:,:])/estError_4[i,:,:].shape[0]"
   ]
  },
  {
   "cell_type": "code",
   "execution_count": 166,
   "metadata": {},
   "outputs": [
    {
     "data": {
      "text/plain": [
       "array([[ 5.21381136],\n",
       "       [30.00919637],\n",
       "       [13.40710146],\n",
       "       [ 8.60826406],\n",
       "       [12.01487544],\n",
       "       [14.90696007]])"
      ]
     },
     "execution_count": 166,
     "metadata": {},
     "output_type": "execute_result"
    }
   ],
   "source": [
    "triangulation_error_4_p"
   ]
  },
  {
   "cell_type": "code",
   "execution_count": 168,
   "metadata": {},
   "outputs": [],
   "source": [
    "nr_chess = [5,20,45,80,125,180]\n",
    "\n",
    "# in order to pass to meters \n",
    "list_1000 = np.ones((len_chess,1))*1000\n",
    "\n",
    "\n",
    "fig = plt.figure(figsize = (20,20))\n",
    "ax = fig.add_subplot(121)\n",
    "ax.plot(nr_chess,ret_S_2_p[0:]/list_1000,'r-*',label = \"2 meters discretized\")\n",
    "\n",
    "ax.set_yscale('log')\n",
    "ax.set_ylabel(\"Reprojection error [m]\")\n",
    "ax.set_xlabel(\"number of chessboards\")\n",
    "ax.set_title(\"Stereo camera calibration error (log scale)\")\n",
    "\n",
    "\n",
    "\n",
    "ax.grid('--')\n",
    "ax.legend()\n",
    "ax.set_xlim([0,200])\n",
    "\n",
    "x_marker = np.ones((len_chess,1))\n",
    "y_marker = np.linspace(10e-12,10e10,estError_2[0:].shape[0])\n",
    "\n",
    "ax.plot(x_marker*nr_chess[0],y_marker,'k--')\n",
    "ax.plot(x_marker*nr_chess[1],y_marker,'k--')\n",
    "ax.plot(x_marker*nr_chess[2],y_marker,'k--')\n",
    "ax.plot(x_marker*nr_chess[3],y_marker,'k--')\n",
    "ax.plot(x_marker*nr_chess[4],y_marker,'k--')\n",
    "ax.plot(x_marker*nr_chess[5],y_marker,'k--')\n",
    "\n",
    "ax2 = fig.add_subplot(122)\n",
    "ax2.plot(nr_chess,triangulation_error_2_p[0:]/list_1000,'r-*',label = \"2 meters discretized\")\n",
    "\n",
    "ax2.plot(x_marker*nr_chess[0],y_marker,'k--')\n",
    "ax2.plot(x_marker*nr_chess[1],y_marker,'k--')\n",
    "ax2.plot(x_marker*nr_chess[2],y_marker,'k--')\n",
    "ax2.plot(x_marker*nr_chess[3],y_marker,'k--')\n",
    "ax2.plot(x_marker*nr_chess[4],y_marker,'k--')\n",
    "ax2.plot(x_marker*nr_chess[5],y_marker,'k--')\n",
    "\n",
    "ax2.set_yscale('log')\n",
    "ax2.set_ylabel(\"Triangulation error [m]\")\n",
    "ax2.set_title(\"Triangulation error (log scale)\")\n",
    "ax2.set_xlabel(\"number of chessboards\")\n",
    "\n",
    "ax2.set_xlim([0,200])\n",
    "#ax2.set_ylim([triangulation_error_2_p[-1]-5e-4,triangulation_error_20_p[-1]+2e6])\n",
    "\n",
    "\n",
    "#ax2.plot(nr_chess,triangulation_error_2[1:]/list_1000,'r--',label = \"2 meters ideal \")\n",
    "#ax2.plot(nr_chess,triangulation_error_4[1:]/list_1000,'b--',label = \"4 meters ideal \")\n",
    "#ax2.plot(nr_chess,triangulation_error_20[1:]/list_1000,'g--',label = \"20 meters ideal\")\n",
    "\n",
    "\n",
    "\n",
    "#ax2.plot(x_marker,y_marker*0.01,'b--')\n",
    "\n",
    "#ax2.set_xlim([0,550])\n",
    "ax2.set_ylim([4e-8,triangulation_error_2_p[-1]])\n",
    "ax.set_ylim([1e-10,4e-5])\n",
    "\n",
    "ax2.legend()\n",
    "ax2.grid('--')"
   ]
  },
  {
   "cell_type": "code",
   "execution_count": 169,
   "metadata": {},
   "outputs": [],
   "source": [
    "nr_chess = [5,20,45,80,125,180]\n",
    "\n",
    "# in order to pass to meters \n",
    "list_1000 = np.ones((len_chess,1))*1000\n",
    "\n",
    "\n",
    "fig = plt.figure(figsize = (20,20))\n",
    "ax = fig.add_subplot(121)\n",
    "ax.plot(nr_chess,ret_S_3_p[0:]/list_1000,'r-*',label = \"3 meters discretized\")\n",
    "\n",
    "ax.set_yscale('log')\n",
    "ax.set_ylabel(\"Reprojection error [m]\")\n",
    "ax.set_xlabel(\"number of chessboards\")\n",
    "ax.set_title(\"Stereo camera calibration error (log scale)\")\n",
    "\n",
    "\n",
    "\n",
    "ax.grid('--')\n",
    "ax.legend()\n",
    "ax.set_xlim([0,200])\n",
    "\n",
    "x_marker = np.ones((len_chess,1))\n",
    "y_marker = np.linspace(10e-12,10e10,estError_3[0:].shape[0])\n",
    "\n",
    "ax.plot(x_marker*nr_chess[0],y_marker,'k--')\n",
    "ax.plot(x_marker*nr_chess[1],y_marker,'k--')\n",
    "ax.plot(x_marker*nr_chess[2],y_marker,'k--')\n",
    "ax.plot(x_marker*nr_chess[3],y_marker,'k--')\n",
    "ax.plot(x_marker*nr_chess[4],y_marker,'k--')\n",
    "ax.plot(x_marker*nr_chess[5],y_marker,'k--')\n",
    "\n",
    "ax2 = fig.add_subplot(122)\n",
    "ax2.plot(nr_chess,triangulation_error_3_p[0:]/list_1000,'r-*',label = \"3 meters discretized\")\n",
    "\n",
    "ax2.plot(x_marker*nr_chess[0],y_marker,'k--')\n",
    "ax2.plot(x_marker*nr_chess[1],y_marker,'k--')\n",
    "ax2.plot(x_marker*nr_chess[2],y_marker,'k--')\n",
    "ax2.plot(x_marker*nr_chess[3],y_marker,'k--')\n",
    "ax2.plot(x_marker*nr_chess[4],y_marker,'k--')\n",
    "ax2.plot(x_marker*nr_chess[5],y_marker,'k--')\n",
    "\n",
    "ax2.set_yscale('log')\n",
    "ax2.set_ylabel(\"Triangulation error [m]\")\n",
    "ax2.set_title(\"Triangulation error (log scale)\")\n",
    "ax2.set_xlabel(\"number of chessboards\")\n",
    "\n",
    "ax2.set_xlim([0,200])\n",
    "#ax2.set_ylim([triangulation_error_2_p[-1]-5e-4,triangulation_error_20_p[-1]+2e6])\n",
    "\n",
    "\n",
    "#ax2.plot(nr_chess,triangulation_error_2[1:]/list_1000,'r--',label = \"2 meters ideal \")\n",
    "#ax2.plot(nr_chess,triangulation_error_4[1:]/list_1000,'b--',label = \"4 meters ideal \")\n",
    "#ax2.plot(nr_chess,triangulation_error_20[1:]/list_1000,'g--',label = \"20 meters ideal\")\n",
    "\n",
    "\n",
    "\n",
    "#ax2.plot(x_marker,y_marker*0.01,'b--')\n",
    "\n",
    "#ax2.set_xlim([0,550])\n",
    "ax2.set_ylim([4e-8,triangulation_error_3_p[-1]])\n",
    "ax.set_ylim([1e-10,4e-5])\n",
    "\n",
    "ax2.legend()\n",
    "ax2.grid('--')"
   ]
  },
  {
   "cell_type": "code",
   "execution_count": 170,
   "metadata": {},
   "outputs": [],
   "source": [
    "nr_chess = [5,20,45,80,125,180]\n",
    "\n",
    "# in order to pass to meters \n",
    "list_1000 = np.ones((len_chess,1))*1000\n",
    "\n",
    "\n",
    "fig = plt.figure(figsize = (20,20))\n",
    "ax = fig.add_subplot(121)\n",
    "ax.plot(nr_chess,ret_S_4_p[0:]/list_1000,'r-*',label = \"4 meters discretized\")\n",
    "\n",
    "ax.set_yscale('log')\n",
    "ax.set_ylabel(\"Reprojection error [m]\")\n",
    "ax.set_xlabel(\"number of chessboards\")\n",
    "ax.set_title(\"Stereo camera calibration error (log scale)\")\n",
    "\n",
    "\n",
    "\n",
    "ax.grid('--')\n",
    "ax.legend()\n",
    "ax.set_xlim([0,200])\n",
    "\n",
    "x_marker = np.ones((len_chess,1))\n",
    "y_marker = np.linspace(10e-12,10e10,estError_4[0:].shape[0])\n",
    "\n",
    "ax.plot(x_marker*nr_chess[0],y_marker,'k--')\n",
    "ax.plot(x_marker*nr_chess[1],y_marker,'k--')\n",
    "ax.plot(x_marker*nr_chess[2],y_marker,'k--')\n",
    "ax.plot(x_marker*nr_chess[3],y_marker,'k--')\n",
    "ax.plot(x_marker*nr_chess[4],y_marker,'k--')\n",
    "ax.plot(x_marker*nr_chess[5],y_marker,'k--')\n",
    "\n",
    "ax2 = fig.add_subplot(122)\n",
    "ax2.plot(nr_chess,triangulation_error_4_p[0:]/list_1000,'r-*',label = \"4 meters discretized\")\n",
    "\n",
    "ax2.plot(x_marker*nr_chess[0],y_marker,'k--')\n",
    "ax2.plot(x_marker*nr_chess[1],y_marker,'k--')\n",
    "ax2.plot(x_marker*nr_chess[2],y_marker,'k--')\n",
    "ax2.plot(x_marker*nr_chess[3],y_marker,'k--')\n",
    "ax2.plot(x_marker*nr_chess[4],y_marker,'k--')\n",
    "ax2.plot(x_marker*nr_chess[5],y_marker,'k--')\n",
    "\n",
    "ax2.set_yscale('log')\n",
    "ax2.set_ylabel(\"Triangulation error [m]\")\n",
    "ax2.set_title(\"Triangulation error (log scale)\")\n",
    "ax2.set_xlabel(\"number of chessboards\")\n",
    "\n",
    "ax2.set_xlim([0,200])\n",
    "\n",
    "ax2.set_ylim([4e-8,triangulation_error_4_p[-1]])\n",
    "ax.set_ylim([1e-10,4e-5])\n",
    "\n",
    "ax2.legend()\n",
    "ax2.grid('--')"
   ]
  },
  {
   "cell_type": "markdown",
   "metadata": {},
   "source": [
    "## Triangulation error vs. distance\n",
    "Correlate the triangulation error according to the distance of the spot.\n",
    "- Project the spot from 1:1:300 meters\n",
    "- having the ideal projection matrixes of the stereo cameras, retrieve the 2D coordinates\n",
    "- Having the 2D coordinates, triangulate the point using the projection matrixes obtained from calibration at 20 meters\n",
    "- Plot the results"
   ]
  },
  {
   "cell_type": "code",
   "execution_count": 60,
   "metadata": {},
   "outputs": [],
   "source": [
    "# from 1 meter to 300 meters in steps of 1 meters\n",
    "zdistance = np.arange(0,310000,1000)\n",
    "zdistance[0] = 1000\n",
    "xdistance = np.ones((zdistance.shape[0],))*250\n",
    "ydistance = np.ones((zdistance.shape[0],))*10\n",
    "X =np.array([xdistance,ydistance,zdistance]).T\n",
    "\n",
    "x_arr_L, X_arr_L, E_L, K_L,P_L = get_image_points(X,PX,PY,thetax=THETA_X_L,thetay = THETA_Y_L,thetaz = THETA_Z_L,trans_x= -C_L[0],trans_y= -C_L[1],trans_z= -C_L[2],F = F,mx = (1/pixel_width),my =(1/pixel_width))\n",
    "x_arr_R, X_arr_R, E_R, K_R,P_R = get_image_points(X,PX,PY,thetax = THETA_X_R,thetay = THETA_Y_R, thetaz = THETA_Z_R,trans_x= -C_R[0],trans_y= -C_R[1],trans_z= -C_R[2],F = F,mx = (1/pixel_width),my =(1/pixel_width))\n",
    "\n",
    "\n"
   ]
  },
  {
   "cell_type": "code",
   "execution_count": 172,
   "metadata": {},
   "outputs": [],
   "source": [
    "n_distance = len(zdistance)\n",
    "len_chess = len(ret_L_list_2_p)\n",
    "\n",
    "XestOpenCV2 = np.zeros((len_chess,n_distance,4,1))\n",
    "Xoriginal2 = np.zeros((len_chess,n_distance,4,1))\n",
    "\n",
    "X_est_arr2 = np.zeros((len_chess,n_distance,4,1))\n",
    "X_org_arr2 = np.zeros((len_chess,n_distance,4,1))\n",
    "\n",
    "estError_2_distance = np.zeros((len_chess,n_distance,1))\n",
    "\n",
    "\n",
    "for i in range(len(ret_R_list_2_p)):\n",
    "    for j in range(len(x_arr_R)):\n",
    "        XestOpenCV2[i,j,:,:] = cv2.triangulatePoints(P_L_2_list_p[i],P_R_2_list_p[i], x_arr_L[j], x_arr_R[j])\n",
    "        Xoriginal2[i,j,:,:] =  cv2.triangulatePoints(P_L_original_p[i],P_R_original_p[i],x_arr_L[j], x_arr_R[j])\n",
    "\n",
    "        X_est_arr2[i,j,:,:] = XestOpenCV2[i,j,:,:]/XestOpenCV2[i,j,-1,:]\n",
    "        X_org_arr2[i,j,:,:] = Xoriginal2[i,j,:,:]/Xoriginal2[i,j,-1,:]\n",
    "\n",
    "        estError_2_distance[i,j,:] = np.sqrt(np.sum(np.square(X_est_arr2[i,j,:3,:]-X_org_arr2[i,j,:3,:])))"
   ]
  },
  {
   "cell_type": "code",
   "execution_count": 173,
   "metadata": {},
   "outputs": [],
   "source": [
    "n_distance = len(zdistance)\n",
    "len_chess = len(ret_L_list_3_p)\n",
    "\n",
    "XestOpenCV3 = np.zeros((len_chess,n_distance,4,1))\n",
    "Xoriginal3 = np.zeros((len_chess,n_distance,4,1))\n",
    "\n",
    "X_est_arr3 = np.zeros((len_chess,n_distance,4,1))\n",
    "X_org_arr3 = np.zeros((len_chess,n_distance,4,1))\n",
    "\n",
    "estError_3_distance = np.zeros((len_chess,n_distance,1))\n",
    "\n",
    "\n",
    "for i in range(len(ret_R_list_3_p)):\n",
    "    for j in range(len(x_arr_R)):\n",
    "        XestOpenCV3[i,j,:,:] = cv2.triangulatePoints(P_L_3_list_p[i],P_R_3_list_p[i], x_arr_L[j], x_arr_R[j])\n",
    "        Xoriginal3[i,j,:,:] =  cv2.triangulatePoints(P_L_original_p[i],P_R_original_p[i],x_arr_L[j], x_arr_R[j])\n",
    "\n",
    "        X_est_arr3[i,j,:,:] = XestOpenCV3[i,j,:,:]/XestOpenCV3[i,j,-1,:]\n",
    "        X_org_arr3[i,j,:,:] = Xoriginal3[i,j,:,:]/Xoriginal3[i,j,-1,:]\n",
    "\n",
    "        estError_3_distance[i,j,:] = np.sqrt(np.sum(np.square(X_est_arr3[i,j,:3,:]-X_org_arr3[i,j,:3,:])))"
   ]
  },
  {
   "cell_type": "code",
   "execution_count": 174,
   "metadata": {},
   "outputs": [],
   "source": [
    "n_distance = len(zdistance)\n",
    "len_chess = len(ret_L_list_4_p)\n",
    "\n",
    "XestOpenCV4 = np.zeros((len_chess,n_distance,4,1))\n",
    "Xoriginal4 = np.zeros((len_chess,n_distance,4,1))\n",
    "\n",
    "X_est_arr4 = np.zeros((len_chess,n_distance,4,1))\n",
    "X_org_arr4 = np.zeros((len_chess,n_distance,4,1))\n",
    "\n",
    "estError_4_distance = np.zeros((len_chess,n_distance,1))\n",
    "\n",
    "\n",
    "for i in range(len(ret_R_list_4_p)):\n",
    "    for j in range(len(x_arr_R)):\n",
    "        XestOpenCV4[i,j,:,:] = cv2.triangulatePoints(P_L_4_list_p[i],P_R_4_list_p[i], x_arr_L[j], x_arr_R[j])\n",
    "        Xoriginal4[i,j,:,:] =  cv2.triangulatePoints(P_L_original_p[i],P_R_original_p[i],x_arr_L[j], x_arr_R[j])\n",
    "\n",
    "        X_est_arr4[i,j,:,:] = XestOpenCV4[i,j,:,:]/XestOpenCV4[i,j,-1,:]\n",
    "        X_org_arr4[i,j,:,:] = Xoriginal4[i,j,:,:]/Xoriginal4[i,j,-1,:]\n",
    "\n",
    "        estError_4_distance[i,j,:] = np.sqrt(np.sum(np.square(X_est_arr4[i,j,:3,:]-X_org_arr4[i,j,:3,:])))"
   ]
  },
  {
   "cell_type": "markdown",
   "metadata": {},
   "source": [
    "## Relative error \n",
    "$$E_{relative} = \\frac{err_{abs}}{val_{est}}* 100$$\n",
    ", where $err_{abs} = val_{org}-val_{est}$"
   ]
  },
  {
   "cell_type": "code",
   "execution_count": 176,
   "metadata": {},
   "outputs": [],
   "source": [
    "#estError_20_distance\n",
    "E_err2_p = np.zeros((estError_2_distance.shape[0],n_distance))\n",
    "E_err3_p = np.zeros((estError_3_distance.shape[0],n_distance))\n",
    "E_err4_p = np.zeros((estError_4_distance.shape[0],n_distance))\n",
    "for j in range(estError_2_distance.shape[0]):\n",
    "    for i in range(estError_2_distance.shape[1]):\n",
    "        E_err2_p[j,i] = np.sum(np.abs(X_est_arr2[j,i,:3,:]-X_org_arr2[j,i,:3,:]))/(np.sum(X_est_arr2[j,i,:3,:]))*100\n",
    "        E_err3_p[j,i] = np.sum(np.abs(X_est_arr3[j,i,:3,:]-X_org_arr3[j,i,:3,:]))/(np.sum(X_est_arr3[j,i,:3,:]))*100\n",
    "        E_err4_p[j,i] = np.sum(np.abs(X_est_arr4[j,i,:3,:]-X_org_arr4[j,i,:3,:]))/(np.sum(X_est_arr4[j,i,:3,:]))*100\n",
    "        #E_err20_p[i] = np.sum(np.abs(X_est_arr20[i,:3,:]-X_org_arr20[i,:3,:]))/(np.sum(X_est_arr20[i,:3,:]))*100"
   ]
  },
  {
   "cell_type": "code",
   "execution_count": 195,
   "metadata": {},
   "outputs": [],
   "source": [
    "fig = plt.figure(figsize = (20,10))\n",
    "ax = fig.add_subplot()\n",
    "\n",
    "x_marker = np.linspace(10e-10,1e3,1000)\n",
    "y_marker = np.ones((1000,1))\n",
    "#ax.plot(x_marker,y_marker*0.001,'b--')\n",
    "\n",
    "color_2 = ['black','firebrick','gold','chartreuse','darkcyan','m']\n",
    "sub_2 = [\"2 meters with 5 chessboards\",\"2 meters with 20 chessboards\",\"2 meters with 45 chessboards\",\"2 meters with 80 chessboards\",\"2 meters with 125 chessboards\",\"2 meters with 180 chessboards\"]\n",
    "color_3 = ['red','g','orange','c','darkblue','fuchsia']\n",
    "sub_3 = [\"3 meters with 5 chessboards\",\"3 meters with 20 chessboards\",\"3 meters with 45 chessboards\",\"3 meters with 80 chessboards\",\"3 meters with 125 chessboards\",\"3 meters with 180 chessboards\"]\n",
    "color_4 = ['darkslategray','brown','tomato','aqua','lime','y']\n",
    "sub_4 = [\"4 meters with 5 chessboards\",\"4 meters with 20 chessboards\",\"4 meters with 45 chessboards\",\"4 meters with 80 chessboards\",\"4 meters with 125 chessboards\",\"4 meters with 180 chessboards\"]\n",
    "\n",
    "for i in range(estError_2_distance.shape[0]):\n",
    "\n",
    "    ax.plot(zdistance/1000,E_err2_p[i,:],color =  color_2[i], label = sub_2[i])\n",
    "    ax.plot(zdistance/1000,E_err3_p[i,:],color = color_3[i],label = sub_3[i])\n",
    "    ax.plot(zdistance/1000,E_err4_p[i,:],color = color_4[i],label = sub_4[i])\n",
    "    #ax.plot(zdistance/1000,E_err4_p,'--*',label = \"2 meters with subpixelgrid = 64\")\n",
    "    #ax.plot(zdistance/1000,E_err2_pixel,'b-*', label = \"2 meters pixelixed version\")\n",
    "    #ax.plot(zdistance/1000,E_err20_p,'g-*',label = \"2 meters with subpixelgrid = 128\")\n",
    "\n",
    "ax.set_yscale('log')\n",
    "\n",
    "\n",
    "ax.set_xlim(0,30)\n",
    "ax.set_ylabel(\"Triangulation errror [%]\")\n",
    "ax.set_title(\"Triangulation error\")\n",
    "ax.set_xlabel(\"Distance [m]\")\n",
    "ax.legend()\n",
    "ax.grid()"
   ]
  },
  {
   "cell_type": "code",
   "execution_count": 187,
   "metadata": {},
   "outputs": [],
   "source": [
    "fig = plt.figure(figsize = (10,10))\n",
    "ax = fig.add_subplot()\n",
    "\n",
    "cmap = get_cmap(7*3)\n",
    "sub = [\"2 meters with 5 chessboards\",\"2 meters with 20 chessboards\",\"2 meters with 45 chessboards\",\"2 meters with 80 chessboards\",\"2 meters with 125 chessboards\",\"2 meters with 180 chessboards\"]\n",
    "for i in range(estError_2_distance.shape[0]):\n",
    "    \n",
    "    ax.plot(zdistance/1000,estError_2_distance[i]/1e3,color = cmap(i),label = sub[i])\n",
    "    #ax.plot(zdistance/1000,estError_4_distance/1e3,'r-',label = \"2 meters with subgridpixel = 64\")\n",
    "    #ax.plot(zdistance/1000,estError_20_distance/1e3,'g-',label = \"2 meters with subgridpixel = 128\")\n",
    "\n",
    "    #ax.set_yscale('log')\n",
    "ax.set_ylabel(\"Triangulation errror [m]\")\n",
    "ax.set_title(\"Triangulation error\")\n",
    "ax.set_xlabel(\"Distance [m]\")\n",
    "ax.legend()\n",
    "ax.grid()"
   ]
  },
  {
   "cell_type": "code",
   "execution_count": null,
   "metadata": {},
   "outputs": [],
   "source": []
  }
 ],
 "metadata": {
  "kernelspec": {
   "display_name": "Python 3.10.6 64-bit (windows store)",
   "language": "python",
   "name": "python3"
  },
  "language_info": {
   "codemirror_mode": {
    "name": "ipython",
    "version": 3
   },
   "file_extension": ".py",
   "mimetype": "text/x-python",
   "name": "python",
   "nbconvert_exporter": "python",
   "pygments_lexer": "ipython3",
   "version": "3.10.6"
  },
  "orig_nbformat": 4,
  "vscode": {
   "interpreter": {
    "hash": "731f58b921e0fdcacfe718f027abc2ccf38e5567ff502f3bb87e84e31ade2205"
   }
  }
 },
 "nbformat": 4,
 "nbformat_minor": 2
}

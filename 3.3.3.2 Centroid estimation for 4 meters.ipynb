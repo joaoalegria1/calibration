{
 "cells": [
  {
   "cell_type": "markdown",
   "metadata": {},
   "source": [
    "# 3.3.3.2 Realistic simulation setup\n",
    "Obtain the centroid for each chessboard "
   ]
  },
  {
   "cell_type": "code",
   "execution_count": 240,
   "metadata": {},
   "outputs": [],
   "source": [
    "vscode = 1\n"
   ]
  },
  {
   "cell_type": "code",
   "execution_count": 241,
   "metadata": {},
   "outputs": [],
   "source": [
    "if(vscode == 0):\n",
    "    # for vscode\n",
    "    # for jupyter notebook\n",
    "    from mpl_toolkits.mplot3d import axes3d\n",
    "    import matplotlib.pyplot as plt\n",
    "\n",
    "    %matplotlib notebook\n",
    "elif(vscode == 1):\n",
    "    %matplotlib qt\n",
    "    "
   ]
  },
  {
   "cell_type": "code",
   "execution_count": 242,
   "metadata": {},
   "outputs": [],
   "source": [
    "import matplotlib.pyplot as plt\n",
    "import numpy as np\n",
    "import cv2\n",
    " \n",
    "from typing import Sequence\n",
    "from calib_lib import *\n",
    "from matplotlib.collections import PatchCollection      # pathcoletion for multiple patches\n",
    "import matplotlib.cm as cm                              # for colormaps\n",
    "from matplotlib.patches import Rectangle                # for rectangle representation\n",
    "from matplotlib.patches import Ellipse                  # for ellipse representation   \n",
    "from pixelization_lib import *   \n",
    "#from ellipse import LsqEllipse                          # pip install lsq-ellipse\n",
    "\n",
    "\n",
    "DECIMALS = 2            # how many decimal places to use in print\n"
   ]
  },
  {
   "cell_type": "code",
   "execution_count": 243,
   "metadata": {},
   "outputs": [],
   "source": [
    "import logging \n",
    "import numpy as np\n",
    "from skimage.measure import EllipseModel\n",
    "from matplotlib.patches import Ellipse\n",
    "import matplotlib.pyplot as plt"
   ]
  },
  {
   "cell_type": "code",
   "execution_count": 244,
   "metadata": {},
   "outputs": [],
   "source": [
    "F = 16                                       # focal length( in mm )\n",
    "gridSize = 1024\n",
    "subpixel_grid = 128\n",
    "image_size = np.array([1936,1216])               # sensor size(in pixels)\n",
    "#image_size = np.array([11.345,7.126])\n",
    "pixel_width = 5.86e-3                       # pixel size in mm\n",
    "PX= image_size[0]/2.0                       # principal point_i x-coordinate\n",
    "PY= image_size[1]/2.0                       # principal point_i y-coordinate\n",
    "IMAGE_HEIGTH = image_size[1]\n",
    "IMAGE_WIDTH = image_size[0]\n",
    "THETA_X = 0                                 # roll angle\n",
    "THETA_Y = 0                                 # pitch angle\n",
    "THETA_Z = 0                                 # yaw angle\n",
    "\n",
    "# camera Right\n",
    "THETA_X_R = 0                                 # roll angle\n",
    "THETA_Y_R = 0                                 # pitch angle\n",
    "THETA_Z_R= 0                                 # yaw angle\n",
    "# camera Left\n",
    "THETA_X_L = 0                                 # roll angle\n",
    "THETA_Y_L = 0                                 # pitch angle\n",
    "THETA_Z_L= 0                                 # yaw angle\n",
    "\n",
    "C_L = np.array([0,0,0])                     # camera centre\n",
    "C_R = np.array([500,0,0])\n",
    "\n",
    "chess_dimx,chess_dimy = (12,8)\n",
    "chess_sq_size = 44\n",
    "\n",
    "radius = 5"
   ]
  },
  {
   "cell_type": "code",
   "execution_count": 245,
   "metadata": {},
   "outputs": [],
   "source": [
    "iterations = 5\n",
    "meters = 4"
   ]
  },
  {
   "cell_type": "code",
   "execution_count": 246,
   "metadata": {},
   "outputs": [],
   "source": [
    "xrange_5 = np.linspace(-600,1100,6)\n",
    "yrange_5 = np.linspace(-550,550,6)\n",
    "zrange_5 = ([4000])"
   ]
  },
  {
   "cell_type": "code",
   "execution_count": 247,
   "metadata": {},
   "outputs": [
    {
     "name": "stdout",
     "output_type": "stream",
     "text": [
      "world_pts_arr_2_5_px.npy\n"
     ]
    }
   ],
   "source": [
    "print('world_pts_arr_4_'+str(iterations)+'_px.npy')"
   ]
  },
  {
   "cell_type": "code",
   "execution_count": 248,
   "metadata": {},
   "outputs": [
    {
     "name": "stdout",
     "output_type": "stream",
     "text": [
      "(5, 117, 1024, 3)\n",
      "(117, 1024, 4)\n",
      "(5, 117, 1024, 3)\n",
      "World points:  (5, 1, 119808, 3)\n",
      "Image points:  (5, 117, 1024, 2)\n"
     ]
    }
   ],
   "source": [
    "\n",
    "world_pts_arr,x_zhang_R,x_zhang_L,P_R,P_L = create_1024_point_chess(xrange_5,yrange_5,zrange_5)\n",
    "\n",
    "\n",
    "np.save('world_pts_arr_'+str(meters)+'_'+str(iterations)+'_px.npy',world_pts_arr)\n",
    "np.save('x_zhang_R_'+str(meters)+'_'+str(iterations)+'_px.npy',x_zhang_R)\n",
    "np.save('x_zhang_L_'+str(meters)+'_'+str(iterations)+'_px.npy',x_zhang_L)"
   ]
  },
  {
   "cell_type": "code",
   "execution_count": 249,
   "metadata": {},
   "outputs": [
    {
     "data": {
      "text/plain": [
       "'\\nfig, (ax1,ax2) = plt.subplots(1,2)\\n\\nfor i in range(0,80,1):\\n    ax2.plot(x_zhang_R[i,:,:,0],x_zhang_R[i,:,:,1], color = \\'r\\',ls = \"None\", marker = \".\")\\n    ax1.plot(x_zhang_L[i,:,:,0],x_zhang_L[i,:,:,1], color = \\'r\\',ls = \"None\", marker = \".\")\\nax1.set_aspect(1)\\nax2.set_aspect(1)\\nax2.set_xlim([0,1936])\\nax1.set_xlim([0,1936])\\nax2.set_ylim([0,1216])\\nax1.set_ylim([0,1216])\\nax1.grid()\\nax2.grid()\\nplt.show()\\n'"
      ]
     },
     "execution_count": 249,
     "metadata": {},
     "output_type": "execute_result"
    }
   ],
   "source": [
    "\"\"\"\n",
    "fig, (ax1,ax2) = plt.subplots(1,2)\n",
    "\n",
    "for i in range(0,80,1):\n",
    "    ax2.plot(x_zhang_R[i,:,:,0],x_zhang_R[i,:,:,1], color = 'r',ls = \"None\", marker = \".\")\n",
    "    ax1.plot(x_zhang_L[i,:,:,0],x_zhang_L[i,:,:,1], color = 'r',ls = \"None\", marker = \".\")\n",
    "ax1.set_aspect(1)\n",
    "ax2.set_aspect(1)\n",
    "ax2.set_xlim([0,1936])\n",
    "ax1.set_xlim([0,1936])\n",
    "ax2.set_ylim([0,1216])\n",
    "ax1.set_ylim([0,1216])\n",
    "ax1.grid()\n",
    "ax2.grid()\n",
    "plt.show()\n",
    "\"\"\""
   ]
  },
  {
   "cell_type": "code",
   "execution_count": 250,
   "metadata": {},
   "outputs": [
    {
     "data": {
      "text/plain": [
       "\" world_pts_arr = np.load('world_pts_arr_2_80.npy')\\nx_zhang_R = np.load('x_zhang_R_2_80.npy')\\nx_zhang_L = np.load('x_zhang_L_2_80.npy') \""
      ]
     },
     "execution_count": 250,
     "metadata": {},
     "output_type": "execute_result"
    }
   ],
   "source": [
    "\"\"\" world_pts_arr = np.load('world_pts_arr_2_80.npy')\n",
    "x_zhang_R = np.load('x_zhang_R_2_80.npy')\n",
    "x_zhang_L = np.load('x_zhang_L_2_80.npy') \"\"\""
   ]
  },
  {
   "cell_type": "code",
   "execution_count": 251,
   "metadata": {},
   "outputs": [],
   "source": [
    "def spot_center_coord(cx0,cy0,pixelGridX,pixelGridY):\n",
    "    cx0_max = np.where((cx0 < pixelGridX))\n",
    "    cx0_min = np.where((cx0 > pixelGridX))\n",
    "    #print(cx0_max[0][0])\n",
    "    #print(cx0_min[0][-1])\n",
    "    cy0_max = np.where((cy0 < pixelGridY))\n",
    "    cy0_min = np.where((cy0 > pixelGridY))\n",
    "    #print(cy0_max[0][0])\n",
    "    #print(cy0_min[0][-1])\n",
    "\n",
    "    return cx0_max[0][0],cx0_min[0][-1],cy0_max[0][0],cy0_min[0][-1]\n",
    "\n",
    "\n",
    "def findcircle(x_arr):\n",
    "    \"\"\"\n",
    "    Based on the image coordinates, and knowing it forms a square/rectangle, finds the centroid and radius\n",
    "\n",
    "    Parameters\n",
    "    ----------\n",
    "    x_arr:  np.array\n",
    "        image coordinates\n",
    "    Returns\n",
    "    -------\n",
    "    cx0:    np.float\n",
    "        centroid x\n",
    "    cy0:    np.float\n",
    "        centroid y    \n",
    "    r0 : np.float\n",
    "        circle radius\n",
    "    \"\"\"  \n",
    "    \n",
    "    Ax  = x_arr[0,0]\n",
    "    Ay  = x_arr[0,1]\n",
    "    Bx  = x_arr[int(x_arr.shape[0]/4),0]\n",
    "    By  = x_arr[int(x_arr.shape[0]/4),1]\n",
    "    Cx  = x_arr[int(x_arr.shape[0]/2),0]\n",
    "    Cy  = x_arr[int(x_arr.shape[0]/2),1]\n",
    "    Dx  = x_arr[int((x_arr.shape[0]/4*3)-1),0]\n",
    "    Dy  = x_arr[int((x_arr.shape[0]/4*3)-1),1]\n",
    "\n",
    "\n",
    "    cx0 = np.sum(x_arr[:,0])/np.sum(x_arr[:,0].shape[0])\n",
    "    cy0 = np.sum(x_arr[:,1])/np.sum(x_arr[:,1].shape[0])\n",
    "\n",
    "    r0 = np.abs((Dy-By)/2)\n",
    "    \n",
    "    return cx0,cy0,r0\n",
    "\n",
    "def createcircle(x_arr,nrpoints = 100):\n",
    "    \"\"\"\n",
    "    create the circle, using the function findcircle()\n",
    "\n",
    "    Parameters\n",
    "    ----------\n",
    "    x_arr:  np.array\n",
    "        image coordinates\n",
    "    nrpoints: integer\n",
    "        number of points that compose the circle\n",
    "    Returns\n",
    "    -------\n",
    "    circle_x:    np.array\n",
    "        points that define the circle in the cx0 coordinate\n",
    "    circle_y:    np.array\n",
    "        points that define the circle in the cy0 coordinate\n",
    "    cx0:    np.float\n",
    "        centroid x\n",
    "    cy0:    np.float\n",
    "        centroid y    \n",
    "    r0 : np.float\n",
    "        circle radius    \n",
    "    \"\"\"    \n",
    "\n",
    "    cx0,cy0,r0 = findcircle(x_arr)\n",
    "\n",
    "    theta = np.linspace(0, 2*np.pi, nrpoints)\n",
    "    x = r0*np.cos(theta)\n",
    "    y = r0*np.sin(theta)\n",
    "\n",
    "    circle_x = x+cx0\n",
    "    circle_y = y+cy0\n",
    "\n",
    "\n",
    "    return circle_x, circle_y,cx0,cy0,r0"
   ]
  },
  {
   "cell_type": "code",
   "execution_count": 252,
   "metadata": {},
   "outputs": [],
   "source": [
    "\"\"\"\n",
    "NMI : 2021-11-11 \n",
    "Minimum Volume Enclosing Ellipsoids, see e.g.\n",
    "NIMA MOSHTAGH : MINIMUM VOLUME ENCLOSING ELLIPSOIDS\n",
    "or \n",
    "Linus Källberg : Minimum_Enclosing_Balls_and_Ellipsoids (Thesis)\n",
    "\"\"\"\n",
    "from warnings import warn\n",
    "\n",
    "from numpy import pi\n",
    "from numpy import sqrt\n",
    "from numpy import arccos\n",
    "from numpy import dot, outer\n",
    "from numpy import diag, transpose\n",
    "from numpy import append\n",
    "from numpy import asarray\n",
    "from numpy import ones\n",
    "from numpy import argmax\n",
    "\n",
    "from numpy.linalg import inv\n",
    "from numpy.linalg import norm\n",
    "from numpy.linalg import eig\n",
    "\n",
    "\n",
    "def mvee( data, tolerance=1e-4, maxcnt=10000 ):\n",
    "    \"\"\"\n",
    "    param data: list of xy data points\n",
    "    param tolerance: termination condition for iterative approximation\n",
    "    param maxcnt: maximum number of iterations\n",
    "    type data: iterable of float\n",
    "    type tolerance: float\n",
    "    return: (offset, semiaxis, angle)\n",
    "    return type: ( (float, float), (float, float), float )\n",
    "    \"\"\"\n",
    "    locdata = asarray( data )\n",
    "    N = len( locdata )\n",
    "    if not locdata.shape == ( N, 2):\n",
    "        raise ValueError ( \" data must be of shape( n, 2 )\" )\n",
    "    if tolerance >= 1 or tolerance <= 0:\n",
    "        raise ValueError (\" 0 < tolerance < 1 required\")\n",
    "    if not isinstance( maxcnt, int ):\n",
    "        raise TypeError\n",
    "    if not maxcnt > 0:\n",
    "        raise ValueError\n",
    "    count = 1\n",
    "    err = 1\n",
    "    d = 2\n",
    "    d1 = d + 1\n",
    "    u = ones( N ) / N\n",
    "    P = transpose( locdata )\n",
    "    Q = append( P, ones( N ) ).reshape( 3, -1 )\n",
    "    while ( err > tolerance):\n",
    "        X = dot( Q, dot( diag( u ), transpose( Q ) ) )\n",
    "        M = diag( \n",
    "            dot( \n",
    "                transpose( Q ),\n",
    "                dot(\n",
    "                    inv( X ),\n",
    "                    Q\n",
    "                )\n",
    "            )\n",
    "        )\n",
    "        maximum = max( M )\n",
    "        j = argmax( M )\n",
    "        step_size = ( maximum - d1 ) / ( d1 * ( maximum - 1 ) )\n",
    "        new_u = ( 1 - step_size ) * u\n",
    "        new_u[ j ] += step_size\n",
    "        err = norm( new_u - u )\n",
    "        count = count + 1\n",
    "        u = new_u\n",
    "        if count > maxcnt:\n",
    "            warn(\n",
    "                \"Process did not converge in {} steps\".format(\n",
    "                    count - 1\n",
    "                ),\n",
    "                UserWarning\n",
    "            )\n",
    "            break\n",
    "    U = diag( u )\n",
    "    c = dot( P,  u )\n",
    "    A = inv(\n",
    "        dot(\n",
    "            P,\n",
    "            dot( U, transpose( P ) )\n",
    "        ) - outer( c, c )\n",
    "    ) / d\n",
    "    E, V = eig( A )\n",
    "    phiopt = arccos( V[ 0, 0 ] )\n",
    "    if V[ 0, 1 ] < 0: \n",
    "        phiopt = 2 * pi - phiopt\n",
    "    ### cw vs ccw and periodicity of pi\n",
    "    phiopt = -phiopt % pi\n",
    "    sol =  (  c, sqrt( 1.0 / E ), phiopt)\n",
    "    return sol"
   ]
  },
  {
   "cell_type": "code",
   "execution_count": 253,
   "metadata": {},
   "outputs": [],
   "source": [
    "x0_L = x_zhang_L[:,:,:,0]\n",
    "y0_L = x_zhang_L[:,:,:,1]\n",
    "\n",
    "\n",
    "x0_R = x_zhang_R[:,:,:,0]\n",
    "y0_R = x_zhang_R[:,:,:,1]"
   ]
  },
  {
   "cell_type": "markdown",
   "metadata": {},
   "source": [
    "### Find the center of the circle(point)"
   ]
  },
  {
   "cell_type": "code",
   "execution_count": 254,
   "metadata": {},
   "outputs": [],
   "source": [
    "# Generate pixel grid\n",
    "pixelGridX  = (np.arange(0,image_size[0])) \n",
    "pixelGridY  = (np.arange(0,image_size[1]))\n",
    "pixelGridXX, pixelGridYY = np.meshgrid(pixelGridX,pixelGridY)\n",
    "\n",
    "cx0_L = np.zeros((x_zhang_L.shape[0],x_zhang_L.shape[1],1))\n",
    "cy0_L = np.zeros((x_zhang_L.shape[0],x_zhang_L.shape[1],1))\n",
    "r0_L = np.zeros((x_zhang_L.shape[0],x_zhang_L.shape[1],1))\n",
    "cx0_R = np.zeros((x_zhang_R.shape[0],x_zhang_R.shape[1],1))\n",
    "cy0_R = np.zeros((x_zhang_R.shape[0],x_zhang_R.shape[1],1))\n",
    "r0_R = np.zeros((x_zhang_R.shape[0],x_zhang_R.shape[1],1))\n",
    "\n",
    "#\n",
    "x0_cL = np.zeros((x_zhang_L.shape[0],x_zhang_L.shape[1],gridSize))\n",
    "y0_cL = np.zeros((x_zhang_L.shape[0],x_zhang_L.shape[1],gridSize))\n",
    "x0_cR = np.zeros((x_zhang_R.shape[0],x_zhang_R.shape[1],gridSize))\n",
    "y0_cR = np.zeros((x_zhang_R.shape[0],x_zhang_R.shape[1],gridSize))\n",
    "\n",
    "\n",
    "for chess_i in range(x0_L.shape[0]):\n",
    "    for point_i in range(x0_L.shape[1]):\n",
    "\n",
    "        #circle definition \n",
    "        # multiply by pixel_width to get the results in mm, not in pixels\n",
    "        x0_cL[chess_i,point_i,:],y0_cL[chess_i,point_i,:],cx0_L[chess_i,point_i,:],cy0_L[chess_i,point_i,:],r0_L[chess_i,point_i,:] = createcircle(x_zhang_L[chess_i,point_i,:],gridSize)\n",
    "        x0_cR[chess_i,point_i,:],y0_cR[chess_i,point_i,:],cx0_R[chess_i,point_i,:],cy0_R[chess_i,point_i,:],r0_R[chess_i,point_i,:] = createcircle(x_zhang_R[chess_i,point_i,:],gridSize)"
   ]
  },
  {
   "cell_type": "markdown",
   "metadata": {},
   "source": [
    "## Find the centroids of every ellipse and circle using the moment method"
   ]
  },
  {
   "cell_type": "code",
   "execution_count": 255,
   "metadata": {},
   "outputs": [
    {
     "name": "stdout",
     "output_type": "stream",
     "text": [
      "World points:  (5, 1, 117, 3)\n",
      "Image points:  (5, 117, 2)\n"
     ]
    }
   ],
   "source": [
    "pixelGridX  = (np.arange(0,image_size[0])) \n",
    "pixelGridY  = (np.arange(0,image_size[1])) \n",
    "pixelGridXX, pixelGridYY = np.meshgrid(pixelGridX,pixelGridY)\n",
    "\n",
    "world_pts_arr,x_zhang_R_px,x_zhang_L_px, P_R, P_L = create_ideal_chessboard_pixel(xrange_5,yrange_5,zrange_5)"
   ]
  },
  {
   "cell_type": "code",
   "execution_count": 256,
   "metadata": {},
   "outputs": [],
   "source": [
    "np.save(\"world_pts_arr_f_\"+str(meters)+\"_\"+str(iterations)+\"_px.npy\",world_pts_arr)"
   ]
  },
  {
   "cell_type": "code",
   "execution_count": 257,
   "metadata": {},
   "outputs": [
    {
     "name": "stdout",
     "output_type": "stream",
     "text": [
      "(5, 117, 1024, 3)\n",
      "(117, 1024, 4)\n",
      "(5, 117, 1024, 3)\n",
      "World points:  (5, 1, 119808, 3)\n",
      "Image points:  (5, 117, 1024, 2)\n"
     ]
    }
   ],
   "source": [
    "# get for 512 per spot\n",
    "gridSize = 1024\n",
    "\n",
    "world_pts_arr,x_zhang_R,x_zhang_L,P_R,P_L = create_1024_point_chess(xrange_5,yrange_5,zrange_5)\n",
    "\n",
    "\n",
    "# create the arrays to store the centroids\n",
    "momentL = np.zeros((x0_L.shape[0],x0_L.shape[1],2))\n",
    "momentR = np.zeros((x0_R.shape[0],x0_R.shape[1],2))\n",
    "\n",
    "#for each chessboard\n",
    "for chess_i in range(x0_L.shape[0]):\n",
    "    for point_i in range(x0_L.shape[1]):\n",
    "        momentL[chess_i,point_i,0] = np.sum(x0_L[chess_i,point_i,:])/np.sum(x0_L.shape[2])\n",
    "        momentL[chess_i,point_i,1] = np.sum(y0_L[chess_i,point_i,:])/np.sum(y0_L.shape[2])\n",
    "\n",
    "        momentR[chess_i,point_i,0] = np.sum(x0_R[chess_i,point_i,:])/np.sum(x0_R.shape[2])\n",
    "        momentR[chess_i,point_i,1] = np.sum(y0_R[chess_i,point_i,:])/np.sum(y0_R.shape[2])"
   ]
  },
  {
   "cell_type": "markdown",
   "metadata": {},
   "source": [
    "### Difference between original point without spot and centroiding the spot"
   ]
  },
  {
   "cell_type": "code",
   "execution_count": 258,
   "metadata": {},
   "outputs": [
    {
     "data": {
      "text/plain": [
       "0.8560404777526855"
      ]
     },
     "execution_count": 258,
     "metadata": {},
     "output_type": "execute_result"
    }
   ],
   "source": [
    "np.sum(momentL[:,:,:]-(x_zhang_L_px[:,:,:]))"
   ]
  },
  {
   "cell_type": "code",
   "execution_count": 259,
   "metadata": {},
   "outputs": [
    {
     "data": {
      "text/plain": [
       "0.07620954513549805"
      ]
     },
     "execution_count": 259,
     "metadata": {},
     "output_type": "execute_result"
    }
   ],
   "source": [
    "np.sum(momentR[:,:,:]-(x_zhang_R_px[:,:,:]))"
   ]
  },
  {
   "cell_type": "markdown",
   "metadata": {},
   "source": [
    "### Find max and mim values that create boundaries in the ellipse and plot the center of the ellipse \n",
    "Also, meshgrid is added to the ellipse, representing the pixels"
   ]
  },
  {
   "cell_type": "code",
   "execution_count": 260,
   "metadata": {},
   "outputs": [
    {
     "ename": "IndexError",
     "evalue": "index -1 is out of bounds for axis 0 with size 0",
     "output_type": "error",
     "traceback": [
      "\u001b[1;31m---------------------------------------------------------------------------\u001b[0m",
      "\u001b[1;31mIndexError\u001b[0m                                Traceback (most recent call last)",
      "\u001b[1;32mc:\\Users\\PC1\\Documents\\thesis\\thesis_venv\\calibration\\3.3.3.2 Realistic simulation setup for 4 meters.ipynb Cell 26'\u001b[0m in \u001b[0;36m<cell line: 3>\u001b[1;34m()\u001b[0m\n\u001b[0;32m     <a href='vscode-notebook-cell:/c%3A/Users/PC1/Documents/thesis/thesis_venv/calibration/3.3.3.2%20Realistic%20simulation%20setup%20for%204%20meters.ipynb#ch0000024?line=13'>14</a>\u001b[0m cmin_pxl_L \u001b[39m=\u001b[39m np\u001b[39m.\u001b[39mzeros((pts\u001b[39m.\u001b[39mshape[\u001b[39m0\u001b[39m],pts\u001b[39m.\u001b[39mshape[\u001b[39m1\u001b[39m]))\n\u001b[0;32m     <a href='vscode-notebook-cell:/c%3A/Users/PC1/Documents/thesis/thesis_venv/calibration/3.3.3.2%20Realistic%20simulation%20setup%20for%204%20meters.ipynb#ch0000024?line=14'>15</a>\u001b[0m \u001b[39mfor\u001b[39;00m pts_i,pts_d \u001b[39min\u001b[39;00m \u001b[39menumerate\u001b[39m(pts):\n\u001b[1;32m---> <a href='vscode-notebook-cell:/c%3A/Users/PC1/Documents/thesis/thesis_venv/calibration/3.3.3.2%20Realistic%20simulation%20setup%20for%204%20meters.ipynb#ch0000024?line=15'>16</a>\u001b[0m     cx0max_L,cx0min_L,cy0max_L,cy0min_L  \u001b[39m=\u001b[39m spot_center_coord(pts_d[\u001b[39m0\u001b[39;49m],pts_d[\u001b[39m1\u001b[39;49m],pixelGridX,pixelGridY)\n\u001b[0;32m     <a href='vscode-notebook-cell:/c%3A/Users/PC1/Documents/thesis/thesis_venv/calibration/3.3.3.2%20Realistic%20simulation%20setup%20for%204%20meters.ipynb#ch0000024?line=17'>18</a>\u001b[0m     \u001b[39m# max and min points in (x,y) coordinates\u001b[39;00m\n\u001b[0;32m     <a href='vscode-notebook-cell:/c%3A/Users/PC1/Documents/thesis/thesis_venv/calibration/3.3.3.2%20Realistic%20simulation%20setup%20for%204%20meters.ipynb#ch0000024?line=18'>19</a>\u001b[0m     cmin_pxl_L[pts_i,\u001b[39m0\u001b[39m] \u001b[39m=\u001b[39m (cx0min_L)\n",
      "\u001b[1;32mc:\\Users\\PC1\\Documents\\thesis\\thesis_venv\\calibration\\3.3.3.2 Realistic simulation setup for 4 meters.ipynb Cell 13'\u001b[0m in \u001b[0;36mspot_center_coord\u001b[1;34m(cx0, cy0, pixelGridX, pixelGridY)\u001b[0m\n\u001b[0;32m      <a href='vscode-notebook-cell:/c%3A/Users/PC1/Documents/thesis/thesis_venv/calibration/3.3.3.2%20Realistic%20simulation%20setup%20for%204%20meters.ipynb#ch0000011?line=6'>7</a>\u001b[0m cy0_min \u001b[39m=\u001b[39m np\u001b[39m.\u001b[39mwhere((cy0 \u001b[39m>\u001b[39m pixelGridY))\n\u001b[0;32m      <a href='vscode-notebook-cell:/c%3A/Users/PC1/Documents/thesis/thesis_venv/calibration/3.3.3.2%20Realistic%20simulation%20setup%20for%204%20meters.ipynb#ch0000011?line=7'>8</a>\u001b[0m \u001b[39m#print(cy0_max[0][0])\u001b[39;00m\n\u001b[0;32m      <a href='vscode-notebook-cell:/c%3A/Users/PC1/Documents/thesis/thesis_venv/calibration/3.3.3.2%20Realistic%20simulation%20setup%20for%204%20meters.ipynb#ch0000011?line=8'>9</a>\u001b[0m \u001b[39m#print(cy0_min[0][-1])\u001b[39;00m\n\u001b[1;32m---> <a href='vscode-notebook-cell:/c%3A/Users/PC1/Documents/thesis/thesis_venv/calibration/3.3.3.2%20Realistic%20simulation%20setup%20for%204%20meters.ipynb#ch0000011?line=10'>11</a>\u001b[0m \u001b[39mreturn\u001b[39;00m cx0_max[\u001b[39m0\u001b[39m][\u001b[39m0\u001b[39m],cx0_min[\u001b[39m0\u001b[39m][\u001b[39m-\u001b[39m\u001b[39m1\u001b[39m],cy0_max[\u001b[39m0\u001b[39m][\u001b[39m0\u001b[39m],cy0_min[\u001b[39m0\u001b[39;49m][\u001b[39m-\u001b[39;49m\u001b[39m1\u001b[39;49m]\n",
      "\u001b[1;31mIndexError\u001b[0m: index -1 is out of bounds for axis 0 with size 0"
     ]
    }
   ],
   "source": [
    "x_L_lst = []\n",
    "y_L_lst = []\n",
    "for chess_b_i in range(x0_L.shape[0]):\n",
    "    x_L_pts = []\n",
    "    y_L_pts = []\n",
    "    for point in range(x0_L.shape[1]):\n",
    "        #ax.plot(x0_L[chess_b_i,point,:],y0_L[chess_b_i,point,:])\n",
    "        max_pt_x_L = np.max(x_zhang_L[chess_b_i,point,:,0])\n",
    "        max_pt_y_L = np.max(x_zhang_L[chess_b_i,point,:,1])\n",
    "        min_pt_x_L = np.min(x_zhang_L[chess_b_i,point,:,0])\n",
    "        min_pt_y_L = np.min(x_zhang_L[chess_b_i,point,:,1])\n",
    "\n",
    "        pts = np.array([[max_pt_x_L,max_pt_y_L],[max_pt_x_L,min_pt_y_L],[min_pt_x_L,min_pt_y_L],[min_pt_x_L,max_pt_y_L]])\n",
    "        cmin_pxl_L = np.zeros((pts.shape[0],pts.shape[1]))\n",
    "        for pts_i,pts_d in enumerate(pts):\n",
    "            cx0max_L,cx0min_L,cy0max_L,cy0min_L  = spot_center_coord(pts_d[0],pts_d[1],pixelGridX,pixelGridY)\n",
    "\n",
    "            # max and min points in (x,y) coordinates\n",
    "            cmin_pxl_L[pts_i,0] = (cx0min_L)\n",
    "            cmin_pxl_L[pts_i,1] = (cy0min_L)\n",
    "\n",
    "        x_L_pts.append(np.arange(cmin_pxl_L[3,0],cmin_pxl_L[0,0]+1,1))\n",
    "        y_L_pts.append(np.arange(cmin_pxl_L[1,1],cmin_pxl_L[0,1]+1,1))\n",
    "        xx,yy = np.meshgrid(x_L_pts[point],y_L_pts[point])\n",
    "\n",
    "        #ax.plot(xx,yy, color = 'g',ls = \"None\", marker = \"*\")\n",
    "\n",
    "\n",
    "    x_L_lst.append(x_L_pts)\n",
    "    y_L_lst.append(y_L_pts)\n",
    "#ax.set_aspect(1)    \n",
    "#plt.show()"
   ]
  },
  {
   "cell_type": "code",
   "execution_count": null,
   "metadata": {},
   "outputs": [],
   "source": [
    "x_R_lst = []\n",
    "y_R_lst = []\n",
    "for chess_b_i in range(x0_R.shape[0]):\n",
    "    x_R_pts = []\n",
    "    y_R_pts = []\n",
    "    for point in range(x0_R.shape[1]):\n",
    "        #ax.plot(x0_L[chess_b_i,point,:],y0_L[chess_b_i,point,:])\n",
    "        max_pt_x_R = np.max(x_zhang_R[chess_b_i,point,:,0])\n",
    "        max_pt_y_R = np.max(x_zhang_R[chess_b_i,point,:,1])\n",
    "        min_pt_x_R = np.min(x_zhang_R[chess_b_i,point,:,0])\n",
    "        min_pt_y_R = np.min(x_zhang_R[chess_b_i,point,:,1])\n",
    "\n",
    "        pts = np.array([[max_pt_x_R,max_pt_y_R],[max_pt_x_R,min_pt_y_R],[min_pt_x_R,min_pt_y_R],[min_pt_x_R,max_pt_y_R]])\n",
    "        cmin_pxl_R = np.zeros((pts.shape[0],pts.shape[1]))\n",
    "        for pts_i,pts_d in enumerate(pts):\n",
    "            cx0max_R,cx0min_R,cy0max_R,cy0min_R  = spot_center_coord(pts_d[0],pts_d[1],pixelGridX,pixelGridY)\n",
    "\n",
    "            # max and min points in (x,y) coordinates\n",
    "            cmin_pxl_R[pts_i,0] = (cx0min_R)\n",
    "            cmin_pxl_R[pts_i,1] = (cy0min_R)\n",
    "\n",
    "        x_R_pts.append(np.arange(cmin_pxl_R[3,0],cmin_pxl_R[0,0]+1,1))\n",
    "        y_R_pts.append(np.arange(cmin_pxl_R[1,1],cmin_pxl_R[0,1]+1,1))\n",
    "        xx,yy = np.meshgrid(x_R_pts[point],y_R_pts[point])\n",
    "\n",
    "        #ax.plot(xx,yy, color = 'g',ls = \"None\", marker = \"*\")\n",
    "\n",
    "\n",
    "    x_R_lst.append(x_R_pts)\n",
    "    y_R_lst.append(y_R_pts)\n",
    "#ax.set_aspect(1)    \n",
    "#plt.show()"
   ]
  },
  {
   "cell_type": "markdown",
   "metadata": {},
   "source": [
    "### Find the ellipses center, semi-major and semi-minor"
   ]
  },
  {
   "cell_type": "code",
   "execution_count": null,
   "metadata": {},
   "outputs": [],
   "source": [
    "X_R = np.array(x_zhang_R[:,:,:,:])\n",
    "X_L = np.array(x_zhang_L[:,:,:,:])\n",
    "\n",
    "xy_R_arr = np.zeros((x_zhang_R.shape[0],x_zhang_R.shape[1],2))\n",
    "ab_R_arr = np.zeros((x_zhang_R.shape[0],x_zhang_R.shape[1],2))\n",
    "theta_arr_R = np.zeros((x_zhang_R.shape[0],x_zhang_R.shape[1],1))\n",
    "\n",
    "xy_L_arr = np.zeros((x_zhang_L.shape[0],x_zhang_L.shape[1],2))\n",
    "ab_L_arr = np.zeros((x_zhang_L.shape[0],x_zhang_L.shape[1],2))\n",
    "theta_arr_L = np.zeros((x_zhang_L.shape[0],x_zhang_L.shape[1],1))\n",
    "\n",
    "# centroid array\n",
    "for chess_i in range(x_zhang_L.shape[0]):\n",
    "    for point_i in range(x_zhang_L.shape[1]):\n",
    "        xy_L_arr[chess_i,point_i,:], ab_L_arr[chess_i,point_i,:],theta_arr_R[chess_i,point_i,:] = mvee(X_L[chess_i,point_i,:,:])\n",
    "        xy_R_arr[chess_i,point_i,:], ab_R_arr[chess_i,point_i,:],theta_arr_L[chess_i,point_i,:] = mvee(X_R[chess_i,point_i,:,:])\n"
   ]
  },
  {
   "cell_type": "markdown",
   "metadata": {},
   "source": [
    "#### Check if the difference between the mvee method and the original spot is correct"
   ]
  },
  {
   "cell_type": "code",
   "execution_count": null,
   "metadata": {},
   "outputs": [
    {
     "data": {
      "text/plain": [
       "-2.8114183218666042"
      ]
     },
     "execution_count": 229,
     "metadata": {},
     "output_type": "execute_result"
    }
   ],
   "source": [
    "np.sum((x_zhang_L_px[:,:,:])-xy_L_arr[:,:,:])\n",
    "#NOTE: The result is very good"
   ]
  },
  {
   "cell_type": "code",
   "execution_count": null,
   "metadata": {},
   "outputs": [
    {
     "data": {
      "text/plain": [
       "1.9948199207313522"
      ]
     },
     "execution_count": 230,
     "metadata": {},
     "output_type": "execute_result"
    }
   ],
   "source": [
    "np.sum((x_zhang_R_px[:,:,:])-xy_R_arr[:,:,:])\n",
    "#NOTE: The result is very good"
   ]
  },
  {
   "cell_type": "markdown",
   "metadata": {},
   "source": [
    "### Do analysis pixel by pixel and check if correlates withthe original ellipse"
   ]
  },
  {
   "cell_type": "code",
   "execution_count": null,
   "metadata": {},
   "outputs": [],
   "source": [
    "def circlediscretization(X_crns_L,Y_crns_L,xgrid_L,ygrid_L,cx0_L,cy0_L,r0_L,chess,point,subpixel_grid,pixel_width):\n",
    "       \n",
    "    lstL = []\n",
    "    ptchsL = []\n",
    "\n",
    "    for i in range(X_crns_L.flatten().shape[0]):\n",
    "        cx0max_L = X_crns_L.flatten()[i]\n",
    "        cy0max_L = Y_crns_L.flatten()[i]\n",
    "\n",
    "        # translate the left bottom corner\n",
    "        x_pixel_L = cx0max_L+xgrid_L\n",
    "        y_pixel_L = cy0max_L+ygrid_L\n",
    "        # create sub-pixel grid\n",
    "        xx_pixel_L, yy_pixel_L = np.meshgrid(x_pixel_L,y_pixel_L)\n",
    "        \n",
    "        circ_L = np.sqrt((xx_pixel_L-cx0_L[chess,point,:])**2 + (yy_pixel_L-cy0_L[chess,point,:])**2) <= r0_L[chess,point,:]\n",
    "        circ_corners_L = np.where(circ_L == True)\n",
    "        xxgrid_L = np.array(circ_corners_L).T\n",
    "\n",
    "\n",
    "        lstL.append((xxgrid_L.shape[0]/(subpixel_grid**2))*100)\n",
    "\n",
    "        ptchsL.append(Rectangle((cx0max_L,cy0max_L), pixel_width,pixel_width))\n",
    "\n",
    "    return xxgrid_L,lstL,ptchsL"
   ]
  },
  {
   "cell_type": "code",
   "execution_count": null,
   "metadata": {},
   "outputs": [],
   "source": [
    "def ellipsediscretization(X_crns_L,Y_crns_L,xgrid_L,ygrid_L,xc_arr_L,yc_arr_L,a_arr_L,b_arr_L,theta_arr,chess,point,subpixel_grid,pixel_width):\n",
    "    \"\"\"\n",
    "    Based on the parameters fed to the function, it discretizes the ellipse returning the occupied percentage of each pixel by the ellipse\n",
    "    ----------\n",
    "    X_crns: np.array\n",
    "        Coordinate mesh grid on the x axis\n",
    "    Y_crns:    np.array   \n",
    "        Coordinate mesh grid on the y axis \n",
    "    x_subgrid:    np.array\n",
    "        x-axis grid for the subgrid portion\n",
    "    y_subgrid:    np.array\n",
    "        y-axis grid for the subgrid portion\n",
    "    xc_arr\n",
    "    yc_arr\n",
    "    a_arr\n",
    "    b_arr\n",
    "    theta_arr\n",
    "    chess\n",
    "    point\n",
    "    subpixel_grid\n",
    "    pixel_width\n",
    "    \n",
    "    Returns    \n",
    "    -------    \n",
    "    world_pts_arr : np.array\n",
    "        world coordinates\n",
    "    x_zhang_R:    np.array\n",
    "        right image coordinates\n",
    "    x_zhang_L:    np.array\n",
    "        Left image coordinates\n",
    "    P_L : np.array\n",
    "        Left camera Projection matrix\n",
    "    P_R : np.array\n",
    "        Right camera Projection matrix\n",
    "                \n",
    "    \"\"\"\n",
    "    \n",
    "    lstL = []\n",
    "    ptchsL = []\n",
    "\n",
    "    for i in range(X_crns_L.flatten().shape[0]):\n",
    "        cx0max_L = X_crns_L.flatten()[i]\n",
    "        cy0max_L = Y_crns_L.flatten()[i]\n",
    "\n",
    "        # translate the left bottom corner\n",
    "        x_pixel_L = cx0max_L+xgrid_L\n",
    "        y_pixel_L = cy0max_L+ygrid_L\n",
    "        # create sub-pixel grid\n",
    "        xx_pixel_L, yy_pixel_L = np.meshgrid(x_pixel_L,y_pixel_L)\n",
    "\n",
    "        x_L, y_L = xx_pixel_L.flatten(), yy_pixel_L.flatten()\n",
    "                \n",
    "        # calculate whether a point is inside the ellipse or not\n",
    "        cos_angle = np.cos(np.radians(180.-theta_arr*180/np.pi))\n",
    "        sin_angle = np.sin(np.radians(180.-theta_arr*180/np.pi))\n",
    "\n",
    "        x_c_L = x_L - xc_arr_L\n",
    "        y_c_L = y_L - yc_arr_L\n",
    "\n",
    "        xct_L = x_c_L * cos_angle - y_c_L * sin_angle\n",
    "        yct_L = x_c_L * sin_angle + y_c_L * cos_angle \n",
    "\n",
    "        rad_cc = (xct_L**2/(a_arr_L)**2) + (yct_L**2/(b_arr_L)**2)\n",
    "\n",
    "        # set the \n",
    "        xxgrid_L = np.where(rad_cc <= 1.)[0]\n",
    "\n",
    "\n",
    "        lstL.append((xxgrid_L.shape[0]/(subpixel_grid**2))*100)\n",
    "\n",
    "        ptchsL.append(Rectangle((cx0max_L,cy0max_L), 1,1))\n",
    "    \n",
    "    return xxgrid_L,lstL,ptchsL "
   ]
  },
  {
   "cell_type": "code",
   "execution_count": null,
   "metadata": {},
   "outputs": [],
   "source": [
    "\n",
    "from matplotlib.path import Path\n",
    "\n",
    "\n",
    "import warnings\n",
    "warnings.filterwarnings(\"error\")\n",
    "\n",
    "centroid_L_arr = np.zeros((x0_L.shape[0],x0_L.shape[1],2))\n",
    "xgrid_L = np.linspace(0,1,subpixel_grid)\n",
    "ygrid_L = np.linspace(0,1,subpixel_grid)\n",
    "\n",
    "chess_pts_L = []\n",
    "chess_ptchs_L = []\n",
    "\n",
    "centroid_L_arr = np.zeros((x0_L.shape[0],x0_L.shape[1],2))\n",
    "# iterate the chessboards\n",
    "\n",
    "for chess_i in range(x0_L.shape[0]):\n",
    "\n",
    "    lst_pts_L = []\n",
    "    ptchs_pts_L = []\n",
    "    # runs each point in the chessboard\n",
    "    for point_i in range(x0_L.shape[1]):\n",
    "        \n",
    "        lstL = []\n",
    "        ptchsL = []\n",
    "        \n",
    "        # meshgrid for the pixel\n",
    "        [X_crns_L,Y_crns_L] = np.meshgrid(x_L_lst[chess_i][point_i],y_L_lst[chess_i][point_i])\n",
    "\n",
    "        if(chess_i % 5 == 0):\n",
    "            xxgrid_L,lstL,ptchsL = circlediscretization(X_crns_L,Y_crns_L,xgrid_L,ygrid_L,cx0_L,cy0_L,r0_L,chess_i,point_i,subpixel_grid,1)\n",
    "\n",
    "        else:\n",
    "            xxgrid_L,lstL,ptchsL  = ellipsediscretization(X_crns_L,Y_crns_L,xgrid_L,ygrid_L,xy_L_arr[chess_i,point_i,0],xy_L_arr[chess_i,point_i,1],ab_L_arr[chess_i,point_i,0],ab_L_arr[chess_i,point_i,1],theta_arr_L[chess_i,point_i,:],chess_i,point_i,subpixel_grid,1)\n",
    "        # if the max and min values as 0 it means the point was not correctly identified\n",
    "        if(np.max(lstL) == 0 and np.min(lstL) == 0):\n",
    "            xxgrid_L,lstL,ptchsL = circlediscretization(X_crns_L,Y_crns_L,xgrid_L,ygrid_L,cx0_L,cy0_L,r0_L,chess_i,point_i,subpixel_grid,1)\n",
    "                                                        \n",
    "\n",
    "        centroid_L_x = np.sum(np.multiply(X_crns_L.flatten(),lstL))/(np.sum(lstL)) + 0.5\n",
    "        centroid_L_y = np.sum(np.multiply(Y_crns_L.flatten(),lstL))/(np.sum(lstL)) + 0.5\n",
    "        centroid_L_arr[chess_i,point_i,:]  = (centroid_L_x,centroid_L_y)\n",
    "\n",
    "        lst_pts_L.append(lstL)\n",
    "        ptchs_pts_L.append(ptchsL)            \n",
    "\n",
    "    chess_ptchs_L.append(ptchs_pts_L)\n",
    "    chess_pts_L.append(lst_pts_L)"
   ]
  },
  {
   "cell_type": "code",
   "execution_count": null,
   "metadata": {},
   "outputs": [
    {
     "data": {
      "text/plain": [
       "10.378232606127206"
      ]
     },
     "execution_count": 234,
     "metadata": {},
     "output_type": "execute_result"
    }
   ],
   "source": [
    "np.sum(centroid_L_arr[:,:,:] - (x_zhang_L_px[:,:,:]))"
   ]
  },
  {
   "cell_type": "code",
   "execution_count": null,
   "metadata": {},
   "outputs": [],
   "source": [
    "\n",
    "warnings.filterwarnings(\"error\")\n",
    "\n",
    "centroid_R_arr = np.zeros((x0_R.shape[0],x0_R.shape[1],2))\n",
    "xgrid_R = np.linspace(0,1,subpixel_grid)\n",
    "ygrid_R = np.linspace(0,1,subpixel_grid)\n",
    "\n",
    "chess_pts_R = []\n",
    "chess_ptchs_R = []\n",
    "\n",
    "centroid_R_arr = np.zeros((x0_R.shape[0],x0_R.shape[1],2))\n",
    "# iterate the chessboards\n",
    "\n",
    "for chess_i in range(x0_R.shape[0]):\n",
    "\n",
    "    lst_pts_R = []\n",
    "    ptchs_pts_R = []\n",
    "    # runs each point in the chessboard\n",
    "    for point_i in range(x0_R.shape[1]):\n",
    "        \n",
    "        lstR = []\n",
    "        ptchsR = []\n",
    "        \n",
    "        # meshgrid for the pixel\n",
    "        [X_crns_R,Y_crns_R] = np.meshgrid(x_R_lst[chess_i][point_i],y_R_lst[chess_i][point_i])\n",
    "\n",
    "        if(chess_i % 5 == 0):\n",
    "            xxgrid_R,lstR,ptchsR = circlediscretization(X_crns_R,Y_crns_R,xgrid_R,ygrid_R,cx0_R,cy0_R,r0_R,chess_i,point_i,subpixel_grid,1)\n",
    "\n",
    "        else:\n",
    "            xxgrid_R,lstR,ptchsR  = ellipsediscretization(X_crns_R,Y_crns_R,xgrid_R,ygrid_R,xy_R_arr[chess_i,point_i,0],xy_R_arr[chess_i,point_i,1],ab_R_arr[chess_i,point_i,0],ab_R_arr[chess_i,point_i,1],theta_arr_R[chess_i,point_i,:],chess_i,point_i,subpixel_grid,1)\n",
    "        # if the max and min values as 0 it means the point was not correctly identified\n",
    "        if(np.max(lstR) == 0 and np.min(lstR) == 0):\n",
    "            xxgrid_R,lstR,ptchsR = circlediscretization(X_crns_R,Y_crns_R,xgrid_R,ygrid_R,cx0_R,cy0_R,r0_R,chess_i,point_i,subpixel_grid,1)\n",
    "                                                        \n",
    "\n",
    "        centroid_R_x = np.sum(np.multiply(X_crns_R.flatten(),lstR))/(np.sum(lstR)) + 0.5\n",
    "        centroid_R_y = np.sum(np.multiply(Y_crns_R.flatten(),lstR))/(np.sum(lstR)) + 0.5\n",
    "        centroid_R_arr[chess_i,point_i,:]  = (centroid_R_x,centroid_R_y)\n",
    "\n",
    "        lst_pts_R.append(lstR)\n",
    "        ptchs_pts_R.append(ptchsR)            \n",
    "\n",
    "    chess_ptchs_R.append(ptchs_pts_R)\n",
    "    chess_pts_R.append(lst_pts_R)"
   ]
  },
  {
   "cell_type": "code",
   "execution_count": null,
   "metadata": {},
   "outputs": [
    {
     "data": {
      "text/plain": [
       "17.457559232870913"
      ]
     },
     "execution_count": 236,
     "metadata": {},
     "output_type": "execute_result"
    }
   ],
   "source": [
    "np.sum(centroid_R_arr[:,:,:] - (x_zhang_R_px[:,:,:]))"
   ]
  },
  {
   "cell_type": "code",
   "execution_count": null,
   "metadata": {},
   "outputs": [],
   "source": [
    "np.save(f\"centroid_R_arr_{meters}_{iterations}_px.npy\",centroid_R_arr)\n",
    "np.save(f\"centroid_L_arr_{meters}_{iterations}_px.npy\",centroid_L_arr)"
   ]
  },
  {
   "cell_type": "code",
   "execution_count": null,
   "metadata": {},
   "outputs": [
    {
     "data": {
      "text/plain": [
       "array([[[  36.94407338,  112.43979212],\n",
       "        [  66.9790527 ,  112.43971803],\n",
       "        [  97.01391866,  112.43974947],\n",
       "        ...,\n",
       "        [ 337.29118308,  352.7052612 ],\n",
       "        [ 367.32541525,  352.70522969],\n",
       "        [ 397.35941529,  352.705282  ]],\n",
       "\n",
       "       [[ 280.72510872,   34.52624774],\n",
       "        [ 280.72500237,   65.52492663],\n",
       "        [ 280.72507714,   96.52352572],\n",
       "        ...,\n",
       "        [ 157.41360613,  360.41555318],\n",
       "        [ 157.41375234,  389.5398324 ],\n",
       "        [ 157.41378523,  418.66363546]],\n",
       "\n",
       "       [[ 365.40829321,  127.57626401],\n",
       "        [ 360.89091062,  144.41313608],\n",
       "        [ 356.31942446,  161.51778993],\n",
       "        ...,\n",
       "        [  69.03994582,  308.2019308 ],\n",
       "        [  61.76726551,  327.86168777],\n",
       "        [  54.36864483,  347.85274862]],\n",
       "\n",
       "       ...,\n",
       "\n",
       "       [[1474.07735823,  844.94621813],\n",
       "        [1477.86043144,  867.16390897],\n",
       "        [1481.70515969,  889.71598749],\n",
       "        ...,\n",
       "        [1266.71098801, 1083.15811888],\n",
       "        [1269.13280734, 1109.10246079],\n",
       "        [1271.587521  , 1135.46961056]],\n",
       "\n",
       "       [[1244.51510492, 1088.42433747],\n",
       "        [1246.58378325, 1071.58610715],\n",
       "        [1248.68171354, 1054.48240718],\n",
       "        ...,\n",
       "        [1514.70091022,  907.79479234],\n",
       "        [1519.12815332,  888.13852257],\n",
       "        [1523.62420165,  868.14702691]],\n",
       "\n",
       "       [[1303.02973474, 1181.47380911],\n",
       "        [1303.03001421, 1150.47524531],\n",
       "        [1303.02991802, 1119.47679981],\n",
       "        ...,\n",
       "        [1447.58678089,  855.58446309],\n",
       "        [1447.58671835,  826.46068764],\n",
       "        [1447.58677321,  797.33656789]]])"
      ]
     },
     "execution_count": 238,
     "metadata": {},
     "output_type": "execute_result"
    }
   ],
   "source": [
    "centroid_R_arr"
   ]
  },
  {
   "cell_type": "code",
   "execution_count": null,
   "metadata": {},
   "outputs": [
    {
     "data": {
      "text/plain": [
       "array([[[  36.94198 ,  112.43686 ],\n",
       "        [  66.97611 ,  112.43686 ],\n",
       "        [  97.01024 ,  112.43686 ],\n",
       "        ...,\n",
       "        [ 337.28326 ,  352.7099  ],\n",
       "        [ 367.3174  ,  352.7099  ],\n",
       "        [ 397.35153 ,  352.7099  ]],\n",
       "\n",
       "       [[ 280.71274 ,   34.526287],\n",
       "        [ 280.71274 ,   65.524864],\n",
       "        [ 280.71274 ,   96.523445],\n",
       "        ...,\n",
       "        [ 157.41684 ,  360.413   ],\n",
       "        [ 157.41684 ,  389.5409  ],\n",
       "        [ 157.41684 ,  418.66876 ]],\n",
       "\n",
       "       [[ 365.40576 ,  127.57054 ],\n",
       "        [ 360.89417 ,  144.41588 ],\n",
       "        [ 356.31445 ,  161.51538 ],\n",
       "        ...,\n",
       "        [  69.04121 ,  308.19498 ],\n",
       "        [  61.766006,  327.8654  ],\n",
       "        [  54.372093,  347.85675 ]],\n",
       "\n",
       "       ...,\n",
       "\n",
       "       [[1474.0748  ,  844.94464 ],\n",
       "        [1477.8638  ,  867.16095 ],\n",
       "        [1481.71    ,  889.71246 ],\n",
       "        ...,\n",
       "        [1266.7136  , 1083.1594  ],\n",
       "        [1269.1311  , 1109.1016  ],\n",
       "        [1271.588   , 1135.467   ]],\n",
       "\n",
       "       [[1244.5151  , 1088.4294  ],\n",
       "        [1246.5853  , 1071.5841  ],\n",
       "        [1248.6869  , 1054.4846  ],\n",
       "        ...,\n",
       "        [1514.7023  ,  907.805   ],\n",
       "        [1519.1266  ,  888.13464 ],\n",
       "        [1523.6233  ,  868.14325 ]],\n",
       "\n",
       "       [[1303.0306  , 1181.4738  ],\n",
       "        [1303.0306  , 1150.4751  ],\n",
       "        [1303.0306  , 1119.4766  ],\n",
       "        ...,\n",
       "        [1447.5845  ,  855.587   ],\n",
       "        [1447.5845  ,  826.4591  ],\n",
       "        [1447.5845  ,  797.33124 ]]], dtype=float32)"
      ]
     },
     "execution_count": 239,
     "metadata": {},
     "output_type": "execute_result"
    }
   ],
   "source": [
    "x_zhang_R_px"
   ]
  },
  {
   "cell_type": "code",
   "execution_count": null,
   "metadata": {},
   "outputs": [],
   "source": []
  }
 ],
 "metadata": {
  "kernelspec": {
   "display_name": "Python 3.10.5 64-bit (windows store)",
   "language": "python",
   "name": "python3"
  },
  "language_info": {
   "codemirror_mode": {
    "name": "ipython",
    "version": 3
   },
   "file_extension": ".py",
   "mimetype": "text/x-python",
   "name": "python",
   "nbconvert_exporter": "python",
   "pygments_lexer": "ipython3",
   "version": "3.10.5"
  },
  "orig_nbformat": 4,
  "vscode": {
   "interpreter": {
    "hash": "731f58b921e0fdcacfe718f027abc2ccf38e5567ff502f3bb87e84e31ade2205"
   }
  }
 },
 "nbformat": 4,
 "nbformat_minor": 2
}

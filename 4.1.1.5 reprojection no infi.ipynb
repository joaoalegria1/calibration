{
 "cells": [
  {
   "cell_type": "markdown",
   "metadata": {},
   "source": [
    "# 4.1.1 Camera calibration "
   ]
  },
  {
   "cell_type": "code",
   "execution_count": 120,
   "metadata": {},
   "outputs": [],
   "source": [
    "vscode = 1"
   ]
  },
  {
   "cell_type": "code",
   "execution_count": 121,
   "metadata": {},
   "outputs": [],
   "source": [
    "if(vscode == 1):\n",
    "    # for vscode\n",
    "    %matplotlib qt\n",
    "else:\n",
    "    # for jupyter notebook\n",
    "    from mpl_toolkits.mplot3d import axes3d\n",
    "    import matplotlib.pyplot as plt\n",
    "\n",
    "    %matplotlib notebook\n"
   ]
  },
  {
   "cell_type": "code",
   "execution_count": 122,
   "metadata": {},
   "outputs": [],
   "source": [
    "import matplotlib.pyplot as plt\n",
    "import numpy as np\n",
    "import cv2 \n",
    "from typing import Sequence\n",
    "from calib_lib import *\n",
    "DECIMALS = 2  # how many decimal places to use in print\n"
   ]
  },
  {
   "cell_type": "markdown",
   "metadata": {},
   "source": [
    "## Calculation of the 2D points"
   ]
  },
  {
   "cell_type": "code",
   "execution_count": 123,
   "metadata": {},
   "outputs": [],
   "source": [
    "F = 16                                       # focal length( in mm )\n",
    "image_size = np.array([1936,1216])               # sensor size(in mm)\n",
    "pixel_width = 5.86e-3                       # pixel size in mm\n",
    "PX= image_size[0]/2.0                       # principal point x-coordinate\n",
    "PY= image_size[1]/2.0                       # principal point y-coordinate\n",
    "IMAGE_HEIGTH = image_size[1]\n",
    "IMAGE_WIDTH = image_size[0]\n",
    "THETA_X = 0                                 # roll angle\n",
    "THETA_Y = 0                                 # pitch angle\n",
    "THETA_Z = 0                                 # yaw angle\n",
    "\n",
    "\n",
    "# camera Right\n",
    "THETA_X_R = 0                                 # roll angle\n",
    "THETA_Y_R = 0                                 # pitch angle\n",
    "THETA_Z_R= 0                                 # yaw angle\n",
    "# camera Left\n",
    "THETA_X_L = 0                                 # roll angle\n",
    "THETA_Y_L = 0                                 # pitch angle\n",
    "THETA_Z_L= 0                                 # yaw angle\n",
    "\n",
    "C_L = np.array([0,0,0])                     # camera centre\n",
    "\n",
    "C_R = np.array([500,0,0])\n",
    "\n",
    "chess_dimx,chess_dimy = (12,8)\n",
    "chess_sq_size = 44"
   ]
  },
  {
   "cell_type": "code",
   "execution_count": 124,
   "metadata": {},
   "outputs": [],
   "source": [
    "world_pts = create_chessboard(chess_dimx,chess_dimy,chess_sq_size)\n",
    "X = get_chessboard_rot_trans(world_pts,rx = THETA_X,ry = THETA_Y,rz = THETA_Z,tx = 250,ty = 10,tz  = 20000)"
   ]
  },
  {
   "cell_type": "code",
   "execution_count": 125,
   "metadata": {},
   "outputs": [],
   "source": [
    "x_L_list, X_arr_L, E_L, K_L,P_L = get_image_points(X,PX,PY,thetax=THETA_X_L,thetay = THETA_Y_L,thetaz = THETA_Z_L,trans_x= -C_L[0],trans_y= -C_L[1],trans_z= -C_L[2],F = F,mx = (1/pixel_width),my =(1/pixel_width))\n",
    "x_R_list, X_arr_R, E_R, K_R,P_R = get_image_points(X,PX,PY,thetax = THETA_X_R,thetay = THETA_Y_R, thetaz = THETA_Z_R,trans_x= -C_R[0],trans_y= -C_R[1],trans_z= -C_R[2],F = F,mx = (1/pixel_width),my =(1/pixel_width))"
   ]
  },
  {
   "cell_type": "markdown",
   "metadata": {},
   "source": [
    "## Cameras parameters"
   ]
  },
  {
   "cell_type": "code",
   "execution_count": 126,
   "metadata": {},
   "outputs": [],
   "source": [
    "F = 16                                       # focal length( in mm )\n",
    "image_size = np.array([1936,1216])               # sensor size(in mm)\n",
    "pixel_width = 5.86e-3                       # pixel size in mm\n",
    "PX= image_size[0]/2.0                       # principal point x-coordinate\n",
    "PY= image_size[1]/2.0                       # principal point y-coordinate\n",
    "IMAGE_HEIGTH = image_size[1]\n",
    "IMAGE_WIDTH = image_size[0]\n",
    "THETA_X = 0                                 # roll angle\n",
    "THETA_Y = 0                                 # pitch angle\n",
    "THETA_Z = 0                                 # yaw angle\n",
    "\n",
    "\n",
    "# camera Right\n",
    "THETA_X_R = 0                                 # roll angle\n",
    "THETA_Y_R = 0                                 # pitch angle\n",
    "THETA_Z_R= 0                                 # yaw angle\n",
    "# camera Left\n",
    "THETA_X_L = 0                                 # roll angle\n",
    "THETA_Y_L = 0                                 # pitch angle\n",
    "THETA_Z_L= 0                                 # yaw angle\n",
    "\n",
    "C_L = np.array([0,0,0])                     # camera centre\n",
    "\n",
    "C_R = np.array([500,0,0])\n",
    "\n",
    "chess_dimx,chess_dimy = (12,8)\n",
    "chess_sq_size = 44\n"
   ]
  },
  {
   "cell_type": "markdown",
   "metadata": {},
   "source": [
    "## Load variables \n",
    "Load the variables from the txt files. This files contain the Projection matrix, rotation and translation from the previous scripts calibration \n"
   ]
  },
  {
   "cell_type": "code",
   "execution_count": 127,
   "metadata": {},
   "outputs": [],
   "source": [
    "P_L_original_p = [np.array([[2.73037543e+03, 0.00000000e+00, 9.68000000e+02, 0.00000000e+00],\n",
    "                        [0.00000000e+00, 2.73037543e+03, 6.08000000e+02, 0.00000000e+00],\n",
    "                        [0.00000000e+00, 0.00000000e+00, 1.00000000e+00, 0.00000000e+00]]),\n",
    "                np.array([[2.73037543e+03, 0.00000000e+00, 9.68000000e+02, 0.00000000e+00],\n",
    "                        [0.00000000e+00, 2.73037543e+03, 6.08000000e+02, 0.00000000e+00],\n",
    "                        [0.00000000e+00, 0.00000000e+00, 1.00000000e+00, 0.00000000e+00]]),\n",
    "                np.array([[2.73037543e+03, 0.00000000e+00, 9.68000000e+02, 0.00000000e+00],\n",
    "                        [0.00000000e+00, 2.73037543e+03, 6.08000000e+02, 0.00000000e+00],\n",
    "                        [0.00000000e+00, 0.00000000e+00, 1.00000000e+00, 0.00000000e+00]]),\n",
    "                np.array([[2.73037543e+03, 0.00000000e+00, 9.68000000e+02, 0.00000000e+00],\n",
    "                        [0.00000000e+00, 2.73037543e+03, 6.08000000e+02, 0.00000000e+00],\n",
    "                        [0.00000000e+00, 0.00000000e+00, 1.00000000e+00, 0.00000000e+00]]),\n",
    "                np.array([[2.73037543e+03, 0.00000000e+00, 9.68000000e+02, 0.00000000e+00],\n",
    "                        [0.00000000e+00, 2.73037543e+03, 6.08000000e+02, 0.00000000e+00],\n",
    "                        [0.00000000e+00, 0.00000000e+00, 1.00000000e+00, 0.00000000e+00]]),\n",
    "                np.array([[2.73037543e+03, 0.00000000e+00, 9.68000000e+02, 0.00000000e+00],\n",
    "                        [0.00000000e+00, 2.73037543e+03, 6.08000000e+02, 0.00000000e+00],\n",
    "                        [0.00000000e+00, 0.00000000e+00, 1.00000000e+00, 0.00000000e+00]])]                        "
   ]
  },
  {
   "cell_type": "code",
   "execution_count": 128,
   "metadata": {},
   "outputs": [],
   "source": [
    "P_R_original_p =  [np.array([[ 2.73037543e+03,  0.00000000e+00,9.68000000e+02,-1.36518771e+06],\n",
    "                        [ 0.00000000e+00,  2.73037543e+03,  6.08000000e+02,0.00000000e+00],\n",
    "                        [ 0.00000000e+00,  0.00000000e+00,  1.00000000e+00,0.00000000e+00]]),\n",
    "                np.array([[ 2.73037543e+03,  0.00000000e+00,  9.68000000e+02,-1.36518771e+06],\n",
    "                        [ 0.00000000e+00,  2.73037543e+03,  6.08000000e+02,0.00000000e+00],\n",
    "                        [ 0.00000000e+00,  0.00000000e+00,  1.00000000e+00,0.00000000e+00]]),\n",
    "                np.array([[ 2.73037543e+03,  0.00000000e+00,  9.68000000e+02,-1.36518771e+06],\n",
    "                        [ 0.00000000e+00,  2.73037543e+03,  6.08000000e+02,0.00000000e+00],\n",
    "                        [ 0.00000000e+00,  0.00000000e+00,  1.00000000e+00,0.00000000e+00]]),\n",
    "                np.array([[ 2.73037543e+03,  0.00000000e+00,  9.68000000e+02,-1.36518771e+06],\n",
    "                        [ 0.00000000e+00,  2.73037543e+03,  6.08000000e+02,0.00000000e+00],\n",
    "                        [ 0.00000000e+00,  0.00000000e+00,  1.00000000e+00,0.00000000e+00]]),\n",
    "                np.array([[ 2.73037543e+03,  0.00000000e+00,  9.68000000e+02,-1.36518771e+06],\n",
    "                        [ 0.00000000e+00,  2.73037543e+03,  6.08000000e+02,0.00000000e+00],\n",
    "                        [ 0.00000000e+00,  0.00000000e+00,  1.00000000e+00,0.00000000e+00]]),\n",
    "                np.array([[ 2.73037543e+03,  0.00000000e+00,  9.68000000e+02,-1.36518771e+06],\n",
    "                        [ 0.00000000e+00,  2.73037543e+03,  6.08000000e+02,0.00000000e+00],\n",
    "                        [ 0.00000000e+00,  0.00000000e+00,  1.00000000e+00,0.00000000e+00]])]\n"
   ]
  },
  {
   "cell_type": "code",
   "execution_count": 129,
   "metadata": {},
   "outputs": [],
   "source": [
    "ret_S_2_p = [[0.2637375195395553],\n",
    "             [0.5208904811475614],\n",
    "             [0.39595311339867384],\n",
    "             [0.4774205929812345],\n",
    "             [0.5403807164757266],\n",
    "             [0.5129051705850326]]         "
   ]
  },
  {
   "cell_type": "code",
   "execution_count": 130,
   "metadata": {},
   "outputs": [],
   "source": [
    "new_mtxL_list_2_p =     [[np.array([[3177.394344, 0.000000, 868.514520],\n",
    "                                [0.000000, 3193.865542, 613.104839],\n",
    "                                [0.000000, 0.000000, 1.000000]])],\n",
    "                        [np.array([[2601.802800, 0.000000, 913.720774],\n",
    "                                [0.000000, 2603.661860, 640.282020],\n",
    "                                [0.000000, 0.000000, 1.000000]])],\n",
    "                        [np.array([[2590.965467, 0.000000, 907.098782],\n",
    "                                [0.000000, 2595.823358, 621.646273],\n",
    "                                [0.000000, 0.000000, 1.000000]])],\n",
    "                        [np.array([[2619.382584, 0.000000, 908.967047],\n",
    "                                [0.000000, 2622.730112, 606.658303],\n",
    "                                [0.000000, 0.000000, 1.000000]])],\n",
    "                        [np.array([[2585.978443, 0.000000, 942.514399],\n",
    "                                [0.000000, 2588.592868, 594.521434],\n",
    "                                [0.000000, 0.000000, 1.000000]])],\n",
    "                        [np.array([[2574.733760, 0.000000, 946.084130],\n",
    "                                [0.000000, 2577.776040, 590.873339],\n",
    "                                [0.000000, 0.000000, 1.000000]])]] "
   ]
  },
  {
   "cell_type": "code",
   "execution_count": 131,
   "metadata": {},
   "outputs": [],
   "source": [
    "ret_L_list_2_p =    [[0.17196515935514858],\n",
    "                    [0.47863845277104067],\n",
    "                    [0.36123020670433137],\n",
    "                    [0.44011645068186067],\n",
    "                    [0.4872057983230428],\n",
    "                    [0.4672643081187851]]"
   ]
  },
  {
   "cell_type": "code",
   "execution_count": 132,
   "metadata": {},
   "outputs": [],
   "source": [
    "new_mtxR_list_2_p =     [[np.array([[2740.523940, 0.000000, 1011.343989],\n",
    "                                [0.000000, 2745.916176, 673.805539],\n",
    "                                [0.000000, 0.000000, 1.000000]])],\n",
    "                        [np.array([[2605.435065, 0.000000, 1000.655553],\n",
    "                                [0.000000, 2607.384771, 677.607012],\n",
    "                                [0.000000, 0.000000, 1.000000]])],\n",
    "                        [np.array([[2606.595357, 0.000000, 989.407340],\n",
    "                                [0.000000, 2609.168364, 657.813164],\n",
    "                                [0.000000, 0.000000, 1.000000]])],\n",
    "                        [np.array([[2641.709842, 0.000000, 995.427222],\n",
    "                                [0.000000, 2646.217062, 635.580703],\n",
    "                                [0.000000, 0.000000, 1.000000]])],\n",
    "                        [np.array([[2579.183470, 0.000000, 999.864075],\n",
    "                                [0.000000, 2582.098697, 627.927045],\n",
    "                                [0.000000, 0.000000, 1.000000]])],\n",
    "                        [np.array([[2568.956315, 0.000000, 1000.924975],\n",
    "                                [0.000000, 2572.199945, 625.579566],\n",
    "                                [0.000000, 0.000000, 1.000000]])]]                             "
   ]
  },
  {
   "cell_type": "code",
   "execution_count": 133,
   "metadata": {},
   "outputs": [],
   "source": [
    "ret_R_list_2_p =    [[0.2156546707277009],      \n",
    "                    [0.5060286563587989],\n",
    "                    [0.3797317627153738],\n",
    "                    [0.47441006626612464],\n",
    "                    [0.5218551163958846],\n",
    "                    [0.4851207604596431]]                  "
   ]
  },
  {
   "cell_type": "code",
   "execution_count": 134,
   "metadata": {},
   "outputs": [],
   "source": [
    "\n",
    "Rot_list_2_p =  [[np.array([[0.998009, 0.001370, -0.063064],\n",
    "                            [-0.001795, 0.999976, -0.006681],\n",
    "                            [0.063053, 0.006781, 0.997987]])],\n",
    "                [np.array([[0.998257, 0.002625, -0.058951],\n",
    "                            [-0.002297, 0.999982, 0.005621],\n",
    "                            [0.058965, -0.005476, 0.998245]])],\n",
    "                [np.array([[0.998206, 0.003594, -0.059765],\n",
    "                            [-0.003167, 0.999969, 0.007237],\n",
    "                            [0.059790, -0.007035, 0.998186]])],\n",
    "                [np.array([[0.998325, 0.003811, -0.057737],\n",
    "                            [-0.003302, 0.999955, 0.008916],\n",
    "                            [0.057769, -0.008710, 0.998292]])],\n",
    "                [np.array([[0.998593, 0.004110, -0.052868],\n",
    "                            [-0.003729, 0.999966, 0.007303],\n",
    "                            [0.052897, -0.007095, 0.998575]])],\n",
    "                [np.array([[0.998581, 0.004217, -0.053089],\n",
    "                            [-0.003844, 0.999967, 0.007113],\n",
    "                            [0.053117, -0.006899, 0.998564]])]]"
   ]
  },
  {
   "cell_type": "code",
   "execution_count": 135,
   "metadata": {},
   "outputs": [],
   "source": [
    "Trns_list_2_p =  [[np.array([[-486.148518],\n",
    "                            [7.986519],\n",
    "                            [-349.481345]])],\n",
    "                 [np.array([[-480.150365],\n",
    "                            [-1.032461],\n",
    "                            [-18.354234]])],\n",
    "                 [np.array([[-475.604731],\n",
    "                            [-2.995716],\n",
    "                            [-9.700418]])],\n",
    "                 [np.array([[-481.395487],\n",
    "                            [-1.101631],\n",
    "                            [-1.375279]])],\n",
    "               [np.array([[-471.054816],\n",
    "                            [-1.084550],\n",
    "                            [-21.705676]])],\n",
    "               [np.array([[-469.311981],\n",
    "                            [-1.587343],\n",
    "                            [-21.457134]])]]"
   ]
  },
  {
   "cell_type": "code",
   "execution_count": 136,
   "metadata": {},
   "outputs": [],
   "source": [
    "P_L_2_list_p = []\n",
    "P_R_2_list_p = []\n",
    "\n",
    "for i in range(len(ret_R_list_2_p)):\n",
    "    R1,R2,P_L_est,P_R_est,Q,roi_left,roi_right = cv2.stereoRectify(new_mtxL_list_2_p[i][0], ret_L_list_2_p[i][0], new_mtxR_list_2_p[i][0], ret_R_list_2_p[i][0], (image_size[0],image_size[1]), Rot_list_2_p[i][0], Trns_list_2_p[i][0],flags = cv2.CALIB_ZERO_DISPARITY)\n",
    "    P_L_2_list_p.append(P_L_est)\n",
    "    P_R_2_list_p.append(P_R_est)"
   ]
  },
  {
   "cell_type": "code",
   "execution_count": 137,
   "metadata": {},
   "outputs": [],
   "source": [
    "n_corners = chess_dimx*chess_dimy\n",
    "len_chess = len(ret_L_list_2_p)\n",
    "XestOpenCV_2 = np.zeros((len_chess,n_corners,4,1))\n",
    "Xoriginal_2 = np.zeros((len_chess,n_corners,4,1))\n",
    "\n",
    "X_est_arr_2 = np.zeros((len_chess,n_corners,4,1))\n",
    "X_org_arr_2 = np.zeros((len_chess,n_corners,4,1))\n",
    "\n",
    "estError_2 = np.zeros((len_chess,n_corners,1))\n",
    "triangulation_error_2_p =np.zeros((len_chess,1))\n",
    "\n",
    "\n",
    "for i in range(len(ret_R_list_2_p)):\n",
    "    for j in range(XestOpenCV_2.shape[1]):\n",
    "        # 2 meters\n",
    "        XestOpenCV_2[i,j,:,:] = cv2.triangulatePoints(P_L_2_list_p[i],P_R_2_list_p[i], x_L_list[j], x_R_list[j])\n",
    "        Xoriginal_2[i,j,:,:] =  cv2.triangulatePoints(P_L_original_p[i],P_R_original_p[i],x_L_list[j], x_R_list[j])\n",
    "\n",
    "        X_est_arr_2[i,j,:,:] = XestOpenCV_2[i,j,:,:]/XestOpenCV_2[i,j,-1,:]\n",
    "        X_org_arr_2[i,j,:,:] = Xoriginal_2[i,j,:,:]/Xoriginal_2[i,j,-1,:]\n",
    "\n",
    "        estError_2[i,j,:] = np.sqrt(np.sum(np.square(X_est_arr_2[i,j,:3,:]-X_org_arr_2[i,j,:3,:])))\n",
    "\n",
    "    triangulation_error_2_p[i,:] = np.sum(estError_2[i,:,:])/estError_2[i,:,:].shape[0]"
   ]
  },
  {
   "cell_type": "code",
   "execution_count": 138,
   "metadata": {},
   "outputs": [],
   "source": [
    "nr_chess = [5,20,45,80,125,180]\n",
    "\n",
    "# in order to pass to meters \n",
    "list_1000 = np.ones((len_chess,1))*1000\n",
    "\n",
    "\n",
    "fig = plt.figure(figsize = (20,20))\n",
    "ax = fig.add_subplot(121)\n",
    "ax.plot(nr_chess,ret_S_2_p[0:]/list_1000,'r-*',label = \"2 meters discretized\")\n",
    "ax.set_yscale('log')\n",
    "ax.set_ylabel(\"Reprojection error [m]\")\n",
    "ax.set_xlabel(\"number of chessboards\")\n",
    "ax.set_title(\"Stereo camera calibration error (log scale)\")\n",
    "\n",
    "\n",
    "\n",
    "ax.grid('--')\n",
    "ax.legend()\n",
    "ax.set_xlim([0,200])\n",
    "\n",
    "x_marker = np.ones((len_chess,1))\n",
    "y_marker = np.linspace(10e-12,10e10,estError_2[0:].shape[0])\n",
    "\n",
    "ax.plot(x_marker*nr_chess[0],y_marker,'k--')\n",
    "ax.plot(x_marker*nr_chess[1],y_marker,'k--')\n",
    "ax.plot(x_marker*nr_chess[2],y_marker,'k--')\n",
    "ax.plot(x_marker*nr_chess[3],y_marker,'k--')\n",
    "ax.plot(x_marker*nr_chess[4],y_marker,'k--')\n",
    "ax.plot(x_marker*nr_chess[5],y_marker,'k--')\n",
    "\n",
    "ax2 = fig.add_subplot(122)\n",
    "ax2.plot(nr_chess,triangulation_error_2_p[0:]/list_1000,'r-*',label = \"2 meters discretized\")\n",
    "\n",
    "ax2.plot(x_marker*nr_chess[0],y_marker,'k--')\n",
    "ax2.plot(x_marker*nr_chess[1],y_marker,'k--')\n",
    "ax2.plot(x_marker*nr_chess[2],y_marker,'k--')\n",
    "ax2.plot(x_marker*nr_chess[3],y_marker,'k--')\n",
    "ax2.plot(x_marker*nr_chess[4],y_marker,'k--')\n",
    "ax2.plot(x_marker*nr_chess[5],y_marker,'k--')\n",
    "\n",
    "ax2.set_yscale('log')\n",
    "ax2.set_ylabel(\"Triangulation error [m]\")\n",
    "ax2.set_title(\"Triangulation error (log scale)\")\n",
    "ax2.set_xlabel(\"number of chessboards\")\n",
    "\n",
    "ax2.set_xlim([0,200])\n",
    "\n",
    "ax2.set_ylim([4e-2,triangulation_error_2_p[-1]+1e6])\n",
    "ax.set_ylim([1e-5,1e-1])\n",
    "\n",
    "ax2.legend()\n",
    "ax2.grid('--')"
   ]
  },
  {
   "cell_type": "markdown",
   "metadata": {},
   "source": [
    "## Triangulation error vs. distance\n",
    "Correlate the triangulation error according to the distance of the spot.\n",
    "- Project the spot from 1:10:300 meters\n",
    "- having the ideal projection matrixes of the stereo cameras, retrieve the 2D coordinates\n",
    "- Having the 2D coordinates, triangulate the point using the projection matrixes obtained from calibration at 320 meters\n",
    "- Plot the results"
   ]
  },
  {
   "cell_type": "code",
   "execution_count": 139,
   "metadata": {},
   "outputs": [],
   "source": [
    "# from 1 meter to 300 meters in steps of 10 meters\n",
    "zdistance = np.arange(0,320000,1000)\n",
    "zdistance[0] = 1000\n",
    "xdistance = np.ones((zdistance.shape[0],))*250\n",
    "ydistance = np.ones((zdistance.shape[0],))*10\n",
    "X =np.array([xdistance,ydistance,zdistance]).T\n",
    "\n",
    "x_arr_L, X_arr_L, E_L, K_L,P_L = get_image_points(X,PX,PY,thetax=THETA_X_L,thetay = THETA_Y_L,thetaz = THETA_Z_L,trans_x= -C_L[0],trans_y= -C_L[1],trans_z= -C_L[2],F = F,mx = (1/pixel_width),my =(1/pixel_width))\n",
    "x_arr_R, X_arr_R, E_R, K_R,P_R = get_image_points(X,PX,PY,thetax = THETA_X_R,thetay = THETA_Y_R, thetaz = THETA_Z_R,trans_x= -C_R[0],trans_y= -C_R[1],trans_z= -C_R[2],F = F,mx = (1/pixel_width),my =(1/pixel_width))"
   ]
  },
  {
   "cell_type": "code",
   "execution_count": 140,
   "metadata": {},
   "outputs": [],
   "source": [
    "n_distance = len(zdistance)\n",
    "n_corners = chess_dimx*chess_dimy\n",
    "len_chess = len(ret_L_list_2_p)\n",
    "\n",
    "XestOpenCV_2 = np.zeros((len_chess,n_distance,4,1))\n",
    "Xoriginal_2 = np.zeros((len_chess,n_distance,4,1))\n",
    "\n",
    "Error_2_abs_Z = np.zeros((len_chess,n_distance,1)) \n",
    "relative_Error_2_abs_Z = np.zeros((len_chess,n_distance,1)) \n",
    "estError_2_distance = np.zeros((len_chess,n_distance,1))\n",
    "\n",
    "X_est_arr_2 = np.zeros((len_chess,n_distance,4,1))\n",
    "X_org_arr_2 = np.zeros((len_chess,n_distance,4,1))\n",
    "\n",
    "\n",
    "\n",
    "for i in range(len(ret_R_list_2_p)):\n",
    "    for j in range(len(x_arr_R)):\n",
    "        # 2 meters\n",
    "        XestOpenCV_2[i,j,:,:] = cv2.triangulatePoints(P_L_2_list_p[i],P_R_2_list_p[i], x_arr_L[j], x_arr_R[j])\n",
    "        Xoriginal_2[i,j,:,:] =  cv2.triangulatePoints(P_L_original_p[i],P_R_original_p[i],x_arr_L[j], x_arr_R[j])\n",
    "\n",
    "        X_est_arr_2[i,j,:,:] = XestOpenCV_2[i,j,:,:]/XestOpenCV_2[i,j,-1,:]\n",
    "        X_org_arr_2[i,j,:,:] = Xoriginal_2[i,j,:,:]/Xoriginal_2[i,j,-1,:]\n",
    "        Error_2_abs_Z[i,j,:] = np.abs(X_est_arr_2[i,j,2,0]-X_org_arr_2[i,j,2,0])\n",
    "\n",
    "        relative_Error_2_abs_Z[i,j,:] = np.abs(X_est_arr_2[i,j,2,0]-X_org_arr_2[i,j,2,0])/X_org_arr_2[i,j,2,0]*100\n",
    "\n",
    "        estError_2_distance[i,j,:] = np.sqrt(np.sum(np.square(X_est_arr_2[i,j,:3,:]-X_org_arr_2[i,j,:3,:])))"
   ]
  },
  {
   "cell_type": "code",
   "execution_count": 152,
   "metadata": {},
   "outputs": [
    {
     "name": "stdout",
     "output_type": "stream",
     "text": [
      "2658.408111616423\n",
      "2999.999992725\n"
     ]
    },
    {
     "data": {
      "text/plain": [
       "11.38639606456458"
      ]
     },
     "execution_count": 152,
     "metadata": {},
     "output_type": "execute_result"
    }
   ],
   "source": [
    "\n",
    "i = 5\n",
    "j = 3\n",
    "\n",
    "print(X_est_arr_2[i,j,2,0])\n",
    "print(X_org_arr_2[i,j,2,0])\n",
    "\n",
    "np.abs(X_est_arr_2[i,j,2,0]-X_org_arr_2[i,j,2,0])/X_org_arr_2[i,j,2,0]*100"
   ]
  },
  {
   "cell_type": "code",
   "execution_count": 158,
   "metadata": {},
   "outputs": [],
   "source": [
    "np.save(\"E_err2_p_noinfi.npy\",Error_2_abs_Z)\n",
    "np.save(\"relative_Error_2_Z_noinfi.npy\",relative_Error_2_abs_Z)\n",
    "np.save(\"X_est_arr_2_noinfi.npy\",X_est_arr_2)"
   ]
  },
  {
   "cell_type": "code",
   "execution_count": 143,
   "metadata": {},
   "outputs": [],
   "source": [
    "#estError_20_distance\n",
    "E_err2_p = np.zeros((estError_2_distance.shape[0],n_distance))\n",
    "\n",
    "for j in range(estError_2_distance.shape[0]):\n",
    "    for i in range(estError_2_distance.shape[1]):\n",
    "        E_err2_p[j,i] = np.sum(np.abs(X_est_arr_2[j,i,:3,:]-X_org_arr_2[j,i,:3,:]))/(np.sum(X_est_arr_2[j,i,:3,:]))*100\n"
   ]
  },
  {
   "cell_type": "markdown",
   "metadata": {},
   "source": [
    "## Error percentage plot"
   ]
  },
  {
   "cell_type": "code",
   "execution_count": 144,
   "metadata": {},
   "outputs": [],
   "source": [
    "fig = plt.figure(figsize = (20,10))\n",
    "ax = fig.add_subplot()\n",
    "\n",
    "x_marker = np.linspace(10e-10,1e3,1000)\n",
    "y_marker = np.ones((1000,1))\n",
    "#ax.plot(x_marker,y_marker*0.001,'b--')\n",
    "\n",
    "color_2 = ['black','firebrick','gold','chartreuse','darkcyan','m']\n",
    "sub_2 = [\"2 meters with 5 chessboards\",\"2 meters with 20 chessboards\",\"2 meters with 45 chessboards\",\"2 meters with 80 chessboards\",\"2 meters with 125 chessboards\",\"2 meters with 180 chessboards\"]\n",
    "color_3 = ['red','g','orange','c','darkblue','fuchsia']\n",
    "sub_3 = [\"3 meters with 5 chessboards\",\"3 meters with 20 chessboards\",\"3 meters with 45 chessboards\",\"3 meters with 80 chessboards\",\"3 meters with 125 chessboards\",\"3 meters with 180 chessboards\"]\n",
    "color_4 = ['darkslategray','brown','tomato','aqua','lime','y']\n",
    "sub_4 = [\"4 meters with 5 chessboards\",\"4 meters with 20 chessboards\",\"4 meters with 45 chessboards\",\"4 meters with 80 chessboards\",\"4 meters with 125 chessboards\",\"4 meters with 180 chessboards\"]\n",
    "\n",
    "for i in range(estError_2_distance.shape[0]):\n",
    "\n",
    "    ax.plot(zdistance/1000,E_err2_p[i,:],color =  color_2[i], label = sub_2[i], marker = '^')\n",
    "    #ax.plot(zdistance/1000,E_err3_p[i,:],color = color_3[i],label = sub_3[i], marker = '*')\n",
    "    #ax.plot(zdistance/1000,E_err3_p[i,:],color = color_3[i],label = sub_3[i], marker = 'p')\n",
    "    #ax.plot(zdistance/1000,E_err4_p[i,:],color = color_4[i],label = sub_4[i], marker = 's')\n",
    "    #ax.plot(zdistance/1000,E_err4_p,'--*',label = \"2 meters with subpixelgrid = 64\")\n",
    "    #ax.plot(zdistance/1000,E_err2_pixel,'b-*', label = \"2 meters pixelixed version\")\n",
    "    #ax.plot(zdistance/1000,E_err20_p,'g-*',label = \"2 meters with subpixelgrid = 128\")\n",
    "\n",
    "ax.set_yscale('log')\n",
    "\n",
    "\n",
    "ax.set_xlim(0,50)\n",
    "ax.set_ylabel(\"Triangulation errror [%]\")\n",
    "ax.set_title(\"Triangulation error\")\n",
    "ax.set_xlabel(\"Distance [m]\")\n",
    "ax.legend()\n",
    "ax.grid()"
   ]
  },
  {
   "cell_type": "markdown",
   "metadata": {},
   "source": [
    "## Distance error plot"
   ]
  },
  {
   "cell_type": "code",
   "execution_count": 145,
   "metadata": {},
   "outputs": [],
   "source": [
    "fig = plt.figure(figsize = (10,10))\n",
    "ax = fig.add_subplot()\n",
    "\n",
    "color_2 = ['black','firebrick','gold','chartreuse','darkcyan','m']\n",
    "sub_2 = [\"2 meters with 5 chessboards\",\"2 meters with 20 chessboards\",\"2 meters with 45 chessboards\",\"2 meters with 80 chessboards\",\"2 meters with 125 chessboards\",\"2 meters with 180 chessboards\"]\n",
    "color_3 = ['red','g','orange','c','darkblue','fuchsia']\n",
    "sub_3 = [\"3 meters with 5 chessboards\",\"3 meters with 20 chessboards\",\"3 meters with 45 chessboards\",\"3 meters with 80 chessboards\",\"3 meters with 125 chessboards\",\"3 meters with 180 chessboards\"]\n",
    "color_4 = ['darkslategray','brown','tomato','aqua','lime','y']\n",
    "sub_4 = [\"4 meters with 5 chessboards\",\"4 meters with 20 chessboards\",\"4 meters with 45 chessboards\",\"4 meters with 80 chessboards\",\"4 meters with 125 chessboards\",\"4 meters with 180 chessboards\"]\n",
    "\n",
    "for i in range(2,estError_2_distance.shape[0],1):\n",
    "    \n",
    "    ax.plot(zdistance/1000,estError_2_distance[i]/1e3,color =color_2[i],label = sub_2[i])\n",
    "    #ax.plot(zdistance/1000,estError_3_distance[i]/1e3,color = color_3[i],label = sub_3[i])\n",
    "    #ax.plot(zdistance/1000,estError_4_distance[i]/1e3,color = color_4[i],label = sub_4[i])\n",
    "\n",
    "    #ax.set_yscale('log')\n",
    "ax.set_ylabel(\"Triangulation errror [m]\")\n",
    "ax.set_title(\"Triangulation error\")\n",
    "ax.set_xlabel(\"Distance [m]\")\n",
    "ax.legend()\n",
    "ax.grid()"
   ]
  },
  {
   "cell_type": "code",
   "execution_count": 146,
   "metadata": {},
   "outputs": [],
   "source": [
    "np.save(\"E_err2_p_noinfi.npy\",E_err2_p)\n",
    "np.save(\"X_org_arr_2_noinfi.npy\",X_org_arr_2)\n",
    "np.save(\"X_est_arr_2_noinfi.npy\",X_est_arr_2)\n",
    "np.save(\"estError_2_distance_noinfi.npy\",estError_2_distance)"
   ]
  },
  {
   "cell_type": "code",
   "execution_count": null,
   "metadata": {},
   "outputs": [],
   "source": []
  }
 ],
 "metadata": {
  "kernelspec": {
   "display_name": "Python 3.8.5 64-bit",
   "language": "python",
   "name": "python3"
  },
  "language_info": {
   "codemirror_mode": {
    "name": "ipython",
    "version": 3
   },
   "file_extension": ".py",
   "mimetype": "text/x-python",
   "name": "python",
   "nbconvert_exporter": "python",
   "pygments_lexer": "ipython3",
   "version": "3.8.5"
  },
  "orig_nbformat": 4,
  "vscode": {
   "interpreter": {
    "hash": "a2351b8e039bbf9c56c302d7c356075afc88dd574b72d7357dd8301589a7e4a3"
   }
  }
 },
 "nbformat": 4,
 "nbformat_minor": 2
}

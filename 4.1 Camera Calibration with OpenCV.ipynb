{
 "cells": [
  {
   "cell_type": "markdown",
   "metadata": {},
   "source": [
    "# 1. Camera Calibration"
   ]
  },
  {
   "cell_type": "markdown",
   "metadata": {},
   "source": [
    "This script intends to calibrate a camera using an object.\\\n",
    "For this implementation we will use the openCV method for calibration(https://docs.opencv.org/4.x/dc/dbb/tutorial_py_calibration.html)"
   ]
  },
  {
   "cell_type": "markdown",
   "metadata": {},
   "source": [
    "**Import the libraries**"
   ]
  },
  {
   "cell_type": "code",
   "execution_count": 47,
   "metadata": {},
   "outputs": [
    {
     "name": "stdout",
     "output_type": "stream",
     "text": [
      "3.8.5\n"
     ]
    }
   ],
   "source": [
    "from platform import python_version\n",
    "\n",
    "print(python_version())"
   ]
  },
  {
   "cell_type": "code",
   "execution_count": 43,
   "metadata": {},
   "outputs": [],
   "source": [
    "from matplotlib import pyplot as plt\n",
    "import numpy as np\n",
    "import scipy as sp\n",
    "import cv2\n",
    "\n",
    "#for LM method\n",
    "from scipy.optimize import curve_fit\n",
    "#matplotlib widget"
   ]
  },
  {
   "cell_type": "code",
   "execution_count": 44,
   "metadata": {},
   "outputs": [],
   "source": [
    "if False:\n",
    "    folder_dir = \"C:/Users/UX550/OneDrive - Universidade de Aveiro/Documentos/5º ANO\\Thesis/calibration_photos/calibration_2_meters_tivera/right_2/\"\n",
    "    img_cnt = 0\n",
    "    # list of images\n",
    "    list_images = os.listdir(folder_dir)\n",
    "    print(list_images)"
   ]
  },
  {
   "cell_type": "code",
   "execution_count": 45,
   "metadata": {},
   "outputs": [],
   "source": [
    "if False:\n",
    "    folder_dir = \"C:/Users/UX550/OneDrive - Universidade de Aveiro/Documentos/5º ANO\\Thesis/calibration_photos/calibration_2_meters_tivera/left_2/\"\n",
    "    img_cnt = 0\n",
    "    # list of images\n",
    "    list_images = os.listdir(folder_dir)\n",
    "    print(list_images)"
   ]
  },
  {
   "cell_type": "markdown",
   "metadata": {},
   "source": [
    "### Run through image directory"
   ]
  },
  {
   "cell_type": "code",
   "execution_count": 3,
   "metadata": {},
   "outputs": [
    {
     "name": "stdout",
     "output_type": "stream",
     "text": [
      "left_init_6.png\n",
      "left_init_0.png\n",
      "left_init_6.png\n",
      "left_init_0.png\n",
      "left_init_9.png\n",
      "left_init_1.png\n",
      "left_init_9.png\n",
      "left_init_1.png\n",
      "left_init_13.png\n",
      "left_init_2.png\n",
      "left_init_13.png\n",
      "left_init_2.png\n",
      "left_init_19.png\n",
      "left_init_3.png\n",
      "left_init_19.png\n",
      "left_init_3.png\n",
      "left_init_22.png\n",
      "left_init_4.png\n",
      "left_init_22.png\n",
      "left_init_4.png\n",
      "left_init_24.png\n",
      "left_init_5.png\n",
      "left_init_24.png\n",
      "left_init_5.png\n",
      "left_init_28.png\n",
      "left_init_6.png\n",
      "left_init_28.png\n",
      "left_init_6.png\n",
      "left_init_32.png\n",
      "left_init_7.png\n",
      "left_init_32.png\n",
      "left_init_7.png\n",
      "left_init_35.png\n",
      "left_init_8.png\n",
      "left_init_35.png\n",
      "left_init_8.png\n",
      "left_init_39.png\n",
      "left_init_9.png\n",
      "left_init_39.png\n",
      "left_init_9.png\n",
      "right_init_6.png\n",
      "right_init_0.png\n",
      "right_init_6.png\n",
      "right_init_0.png\n",
      "right_init_9.png\n",
      "right_init_1.png\n",
      "right_init_9.png\n",
      "right_init_1.png\n",
      "right_init_13.png\n",
      "right_init_2.png\n",
      "right_init_13.png\n",
      "right_init_2.png\n",
      "right_init_19.png\n",
      "right_init_3.png\n",
      "right_init_19.png\n",
      "right_init_3.png\n",
      "right_init_22.png\n",
      "right_init_4.png\n",
      "right_init_22.png\n",
      "right_init_4.png\n",
      "right_init_24.png\n",
      "right_init_5.png\n",
      "right_init_24.png\n",
      "right_init_5.png\n",
      "right_init_28.png\n",
      "right_init_6.png\n",
      "right_init_28.png\n",
      "right_init_6.png\n",
      "right_init_32.png\n",
      "right_init_7.png\n",
      "right_init_32.png\n",
      "right_init_7.png\n",
      "right_init_35.png\n",
      "right_init_8.png\n",
      "right_init_35.png\n",
      "right_init_8.png\n",
      "right_init_39.png\n",
      "right_init_9.png\n",
      "right_init_39.png\n",
      "right_init_9.png\n"
     ]
    }
   ],
   "source": [
    "\n",
    "if True:\n",
    "        \n",
    "    import os \n",
    "    import string\n",
    "    from os import listdir\n",
    "\n",
    "    camera_name = 'left'\n",
    "    # get the path/directory\n",
    "    #C:/Users/UX550/OneDrive - Universidade de Aveiro/Documentos/5º ANO\\Thesis/calibration_photos/calibration_2_meters_tivera/right_2/\n",
    "    folder_dir = f\"C:/Users/UX550\\OneDrive - Universidade de Aveiro/Documentos/5º ANO/Thesis/distances/distances_3_4/{camera_name}_3_distances/{camera_name}_3_45/\" \n",
    "    #folder_dir = f\"C:/Users/UX550\\OneDrive - Universidade de Aveiro/Documentos/5º ANO/Thesis/distances/{camera_name}_2_5\"\n",
    "    img_cnt = 0\n",
    "    # list of images\n",
    "    list_images = os.listdir(folder_dir)\n",
    "    new_list = sorted(list_images,key = lambda k: int(k.split('_')[2].split('.')[0]))\n",
    "\n",
    "    for images in new_list:\n",
    "        # check if the image ends with png\n",
    "        renamed_image = camera_name + \"_init_\" + '%s' % img_cnt + '.png'\n",
    "        print(images)\n",
    "        print(renamed_image)\n",
    "        # If equal, no renaming\n",
    "        if(images == renamed_image):\n",
    "            print(\"equal\")\n",
    "        else:\n",
    "            while True:\n",
    "                print(images)\n",
    "                renamed_image = camera_name + \"_init_\" + '%s' % img_cnt + '.png'\n",
    "                print(renamed_image)\n",
    "                try:\n",
    "                    os.rename(folder_dir + '/' + images,folder_dir + '/' + renamed_image)\n",
    "                except FileExistsError:\n",
    "                    img_cnt += 1\n",
    "                    pass\n",
    "                else:\n",
    "                    break\n",
    "                \n",
    "            \n",
    "        img_cnt += 1\n",
    "\n",
    "\n",
    "if True:\n",
    "        \n",
    "    import os \n",
    "    import string\n",
    "    from os import listdir\n",
    "\n",
    "    camera_name = 'right'\n",
    "    # get the path/directory\n",
    "    #C:/Users/UX550/OneDrive - Universidade de Aveiro/Documentos/5º ANO\\Thesis/calibration_photos/calibration_2_meters_tivera/right_2/\n",
    "    folder_dir = f\"C:/Users/UX550\\OneDrive - Universidade de Aveiro/Documentos/5º ANO/Thesis/distances/distances_3_4/{camera_name}_3_distances/{camera_name}_3_45/\" \n",
    "    #folder_dir = f\"C:/Users/UX550\\OneDrive - Universidade de Aveiro/Documentos/5º ANO/Thesis/distances/{camera_name}_2_5\"\n",
    "    img_cnt = 0\n",
    "    # list of images\n",
    "    list_images = os.listdir(folder_dir)\n",
    "    new_list = sorted(list_images,key = lambda k: int(k.split('_')[2].split('.')[0]))\n",
    "\n",
    "    for images in new_list:\n",
    "        # check if the image ends with png\n",
    "        renamed_image = camera_name + \"_init_\" + '%s' % img_cnt + '.png'\n",
    "        print(images)\n",
    "        print(renamed_image)\n",
    "        # If equal, no renaming\n",
    "        if(images == renamed_image):\n",
    "            print(\"equal\")\n",
    "        else:\n",
    "            while True:\n",
    "                print(images)\n",
    "                renamed_image = camera_name + \"_init_\" + '%s' % img_cnt + '.png'\n",
    "                print(renamed_image)\n",
    "                try:\n",
    "                    os.rename(folder_dir + '/' + images,folder_dir + '/' + renamed_image)\n",
    "                except FileExistsError:\n",
    "                    img_cnt += 1\n",
    "                    pass\n",
    "                else:\n",
    "                    break\n",
    "                \n",
    "            \n",
    "        img_cnt += 1\n"
   ]
  },
  {
   "cell_type": "markdown",
   "metadata": {},
   "source": [
    "## Zhang's Method\n",
    "Comparing to the DLT method, the Zhang method only calculate the intrinsic parameters. We instead only need to find 5 parameters."
   ]
  },
  {
   "cell_type": "markdown",
   "metadata": {},
   "source": [
    "## 2. Calibration"
   ]
  },
  {
   "cell_type": "markdown",
   "metadata": {},
   "source": [
    "## Find the homographies"
   ]
  },
  {
   "cell_type": "code",
   "execution_count": 55,
   "metadata": {},
   "outputs": [],
   "source": [
    "def cornerfinding(n_imgs,patternsize,dist, img_name):\n",
    "    '''\n",
    "    @param\n",
    "    [in] n_imgs : number of images used\n",
    "    [in] patternsize : size of the checkerboard\n",
    "    [in] dist : distance between squares\n",
    "    [in] img_name : name of the jpg\n",
    "    [out] imagecoo : imagecoordinates\n",
    "    [out] worldcoo : worldcoordinates\n",
    "    '''\n",
    "    # number of images\n",
    "    n_imgs = n_imgs\n",
    "    # pattern size\n",
    "    patternsize= patternsize\n",
    "    #distance between squares(in mm)\n",
    "    dist = dist\n",
    "\n",
    "    # specified number of iterations are completed.\n",
    "    criteria = (cv2.TERM_CRITERIA_EPS +\n",
    "                cv2.TERM_CRITERIA_MAX_ITER, 30, 0.001)\n",
    "\n",
    "    # Vector for 3D points\n",
    "    threedpoints = []\n",
    "\n",
    "    # Vector for 2D points\n",
    "    twodpoints = []\n",
    "\n",
    "    #3D points real world coordinates( static -> chessboard)\n",
    "    # create a matrix of zeros for 48 points , each with 3 coordinates\n",
    "    world_coo = np.zeros((1, patternsize[0]* patternsize[1],3), np.float32)\n",
    "    world_coo[:, :, :2] = np.mgrid[0:patternsize[0], 0:patternsize[1]].T.reshape(-1, 2)\n",
    "    # Transform coordinates in mm\n",
    "    world_coo = world_coo*dist\n",
    "\n",
    "    #prev_img_shape = None\n",
    "\n",
    "    for i in range(n_imgs):\n",
    "\n",
    "        im = i\n",
    "\n",
    "        #Import the image\n",
    "        name = (str(img_name)+ str(im)+\".png\")\n",
    "        img = cv2.imread(name)\n",
    "        #print(name)\n",
    "        # convert it to gray scale\n",
    "        gray = cv2.cvtColor(img,cv2.COLOR_BGR2GRAY)\n",
    "\n",
    "        retval, corners= cv2.findChessboardCorners(gray,patternsize,None)\n",
    "        #print(corners)\n",
    "        if(retval == True):\n",
    "            threedpoints.append(world_coo)\n",
    "            #print(name)\n",
    "\n",
    "            # Refining pixel coordinates or given 2d points.\n",
    "            corners2 = cv2.cornerSubPix(gray, corners, (11, 11), (-1, -1), criteria).reshape(patternsize[0]*patternsize[1],2)\n",
    "\n",
    "            twodpoints.append(corners2)\n",
    "            # Draw and display the corners\n",
    "            image = cv2.drawChessboardCorners(img,patternsize,corners2,retval)\n",
    "            #plt.imshow(image)\n",
    "            #plt.show()\n",
    "        else:\n",
    "            print(name)\n",
    "            os.remove(name)\n",
    "            other_name = (\"../Thesis/calibration_photos/calibration_3_noinfi/left_distances_2/left_init_\")+ str(im)+\".png\"\n",
    "            os.remove(other_name)\n",
    "\n",
    "    # image coordinates and world coordinates for the diferent images( the world coordinates are always the same)\n",
    "    imagecoo = np.asarray(twodpoints)\n",
    "    worldcoo = np.asarray(threedpoints) \n",
    "    return imagecoo, worldcoo\n",
    "\n",
    "#C:\\Users\\UX550\\OneDrive - Universidade de Aveiro\\Documentos\\5º ANO\\Thesis\\calibration\\images\n",
    "#name_left = (\"../calibration_photos/calibration_photos_2meters/left_160/left_init_\")\n",
    "#name_right =(\"../calibration_photos/calibration_photos_2meters/right_160/right_init_\")\n",
    "#name_left = (\"../calibration_photos/calibration_photos/left_edited/left_init_\")\n",
    "#name_right =(\"../calibration_photos/calibration_photos/right_edited/right_init_\")\n",
    "#name_left = \"../Thesis/calibration_photos/calibration/left_3/left_init_\"\n",
    "#name_right = (\"../Thesis/calibration_photos/calibration/right_3/right_init_\")\n",
    "name_left = (\"../Thesis/calibration_photos/calibration_3_noinfi/left_distances_2/left_init_\")\n",
    "name_right = (\"../Thesis/calibration_photos/calibration_3_noinfi/right_distances_2/right_init_\")\n",
    "#name_right = (\"../calibration_photos/calibration_2_meters_tivera/right_2/right_init_\")\n",
    "#name_left = (\"calibration_photos/left_edited/left_init_\")\n",
    "#name_right = (\"calibration_photos/right_edited/right_init_\")\n",
    "n_imgs = 125\n",
    "square_size = 44\n",
    "pattern_size = (12,8)\n",
    "imagecoo_left,worldcoo_left = cornerfinding(n_imgs,pattern_size,square_size,name_left)\n",
    "imagecoo_right,worldcoo_right = cornerfinding(n_imgs,pattern_size,square_size,name_right)\n"
   ]
  },
  {
   "cell_type": "code",
   "execution_count": 56,
   "metadata": {},
   "outputs": [],
   "source": [
    "def calib(world_pts_arr,x_zhang_R,x_zhang_L,image_size):    \n",
    "    ret_R, mtx_R, dist_R, rvecs_R, tvecs_R = cv2.calibrateCamera(world_pts_arr, x_zhang_R, (image_size[0],image_size[1]), None, None)\n",
    "    ret_L, mtx_L, dist_L, rvecs_L, tvecs_L = cv2.calibrateCamera(world_pts_arr, x_zhang_L, (image_size[0],image_size[1]), None, None)\n",
    "\n",
    "\n",
    "\n",
    "    flags = 0\n",
    "    flags |= cv2.CALIB_FIX_INTRINSIC\n",
    "    # Here we fix the intrinsic camara matrixes so that only Rot, Trns, Emat and Fmat are calculated.\n",
    "    # Hence intrinsic parameters are the same \n",
    "\n",
    "    criteria_stereo= (cv2.TERM_CRITERIA_EPS + cv2.TERM_CRITERIA_MAX_ITER, 30, 0.001)\n",
    "\n",
    "\n",
    "    # This step is performed to transformation between the two cameras and calculate Essential and Fundamenatl matrix\n",
    "    retS, new_mtxL, distL, new_mtxR, distR, Rot, Trns, Emat, Fmat = cv2.stereoCalibrate(world_pts_arr, x_zhang_L, x_zhang_R, mtx_L, dist_L, mtx_R, dist_R, (image_size[0],image_size[1]), criteria_stereo, flags)\n",
    "\n",
    "    return ret_R,mtx_R,ret_L,mtx_L,retS,new_mtxL,new_mtxR,Rot,Trns,Emat,Fmat,distL,distR,rvecs_L,rvecs_R"
   ]
  },
  {
   "cell_type": "code",
   "execution_count": 57,
   "metadata": {},
   "outputs": [
    {
     "data": {
      "text/plain": [
       "(125, 1, 96, 3)"
      ]
     },
     "execution_count": 57,
     "metadata": {},
     "output_type": "execute_result"
    }
   ],
   "source": [
    "worldcoo_left.shape"
   ]
  },
  {
   "cell_type": "code",
   "execution_count": 58,
   "metadata": {},
   "outputs": [
    {
     "data": {
      "text/plain": [
       "numpy.float32"
      ]
     },
     "execution_count": 58,
     "metadata": {},
     "output_type": "execute_result"
    }
   ],
   "source": [
    "type(imagecoo_right[0,0,0])"
   ]
  },
  {
   "cell_type": "code",
   "execution_count": 59,
   "metadata": {},
   "outputs": [],
   "source": [
    "#image_size = (1936,1216)\n",
    "#ret_R,mtx_R,ret_L,mtx_L,retS,new_mtxL,new_mtxR,Rot,Trns,Emat,Fmat,dist_L,dist_R,rvecs_L,rvecs_R = calib(worldcoo_left,imagecoo_right,imagecoo_left,image_size)\n",
    "#retS\n"
   ]
  },
  {
   "cell_type": "code",
   "execution_count": 60,
   "metadata": {},
   "outputs": [],
   "source": [
    "image_size = (1936,1216)\n",
    "\n",
    "\n",
    "ret_R_list = []\n",
    "mtx_R_list = []\n",
    "ret_L_list = []\n",
    "mtx_L_list = []\n",
    "retS_list = []\n",
    "new_mtxL_list = []\n",
    "new_mtxR_list = []\n",
    "Rot_list = []\n",
    "Trns_list = []\n",
    "Emat_list = []\n",
    "Fmat_list = []\n",
    "P_R_org_list = []\n",
    "P_L_org_list = []\n",
    "dist_L_list = []\n",
    "dist_R_list = []\n",
    "rvecs_L_list = []\n",
    "rvecs_R_list = []\n",
    "\n",
    "ret_R,mtx_R,ret_L,mtx_L,retS,new_mtxL,new_mtxR,Rot,Trns,Emat,Fmat,dist_L,dist_R,rvecs_L,rvecs_R = calib(worldcoo_left,imagecoo_right,imagecoo_left,image_size)\n",
    "\n",
    "\n",
    "ret_R_list.append([ret_R])\n",
    "mtx_R_list.append([mtx_R])\n",
    "ret_L_list.append([ret_L])\n",
    "mtx_L_list.append([mtx_L])\n",
    "retS_list.append([retS])\n",
    "new_mtxL_list.append([new_mtxL])\n",
    "new_mtxR_list.append([new_mtxR])\n",
    "Rot_list.append([Rot])\n",
    "Trns_list.append([Trns])\n",
    "Emat_list.append([Emat])\n",
    "Fmat_list.append([Fmat])\n",
    "dist_L_list.append(dist_L)\n",
    "dist_R_list.append(dist_R)\n",
    "rvecs_L_list.append(rvecs_L)\n",
    "rvecs_R_list.append(rvecs_R)"
   ]
  },
  {
   "cell_type": "code",
   "execution_count": 61,
   "metadata": {},
   "outputs": [],
   "source": [
    "P_L_list = []\n",
    "P_R_list = []\n",
    "R1_list = []\n",
    "R2_list = []\n",
    "R1,R2,P_L_est,P_R_est,Q,roi_left,roi_right = cv2.stereoRectify(new_mtxL, ret_L, new_mtxR, ret_R, (image_size[0],image_size[1]), Rot, Trns,flags = cv2.CALIB_ZERO_DISPARITY)\n",
    "\n",
    "R1_list.append(R1)\n",
    "R2_list.append(R2)\n",
    "P_L_list.append(P_L_est)\n",
    "P_R_list.append(P_R_est)"
   ]
  },
  {
   "cell_type": "code",
   "execution_count": 62,
   "metadata": {},
   "outputs": [],
   "source": [
    "np.set_printoptions(formatter={'float_kind':'{:f}'.format})"
   ]
  },
  {
   "cell_type": "code",
   "execution_count": 63,
   "metadata": {},
   "outputs": [
    {
     "data": {
      "text/plain": [
       "array([[0.991409, 0.010093, -0.130405],\n",
       "       [-0.010891, 0.999926, -0.005403],\n",
       "       [0.130341, 0.006776, 0.991446]])"
      ]
     },
     "execution_count": 63,
     "metadata": {},
     "output_type": "execute_result"
    }
   ],
   "source": [
    "R2"
   ]
  },
  {
   "cell_type": "code",
   "execution_count": 64,
   "metadata": {},
   "outputs": [
    {
     "name": "stdout",
     "output_type": "stream",
     "text": [
      "Writing 'R1,R2,retS_list,P_L_est,new_mtxL_list,ret_L_list,dist_L_list,P_R_est,new_mtxR_list,ret_R_list,dist_R_list,Rot_list,Trns_list' (tuple) to file '.\\calibration_files\\3_meters\\3_meters_noinfi\\calib_3_125.txt'.\n"
     ]
    }
   ],
   "source": [
    "%store R1,R2,retS_list,P_L_est,new_mtxL_list,ret_L_list,dist_L_list,P_R_est,new_mtxR_list,ret_R_list,dist_R_list,Rot_list,Trns_list >\".\\calibration_files\\3_meters\\3_meters_noinfi\\calib_3_{n_imgs}.txt\""
   ]
  },
  {
   "cell_type": "code",
   "execution_count": null,
   "metadata": {},
   "outputs": [
    {
     "data": {
      "text/plain": [
       "array([[3177.394344, 0.000000, 868.514520],\n",
       "       [0.000000, 3193.865542, 613.104839],\n",
       "       [0.000000, 0.000000, 1.000000]])"
      ]
     },
     "execution_count": 66,
     "metadata": {},
     "output_type": "execute_result"
    }
   ],
   "source": [
    "new_mtxL"
   ]
  },
  {
   "cell_type": "code",
   "execution_count": null,
   "metadata": {},
   "outputs": [
    {
     "data": {
      "text/plain": [
       "array([[2740.523940, 0.000000, 1011.343989],\n",
       "       [0.000000, 2745.916176, 673.805539],\n",
       "       [0.000000, 0.000000, 1.000000]])"
      ]
     },
     "execution_count": 67,
     "metadata": {},
     "output_type": "execute_result"
    }
   ],
   "source": [
    "new_mtxR"
   ]
  },
  {
   "cell_type": "code",
   "execution_count": null,
   "metadata": {},
   "outputs": [
    {
     "data": {
      "text/plain": [
       "array([[2969.890859, 0.000000, -1381.931427, -1778320.891748],\n",
       "       [0.000000, 2969.890859, 639.427078, 0.000000],\n",
       "       [0.000000, 0.000000, 1.000000, 0.000000]])"
      ]
     },
     "execution_count": 68,
     "metadata": {},
     "output_type": "execute_result"
    }
   ],
   "source": [
    "P_R_est"
   ]
  },
  {
   "cell_type": "code",
   "execution_count": null,
   "metadata": {},
   "outputs": [
    {
     "data": {
      "text/plain": [
       "array([[2969.890859, 0.000000, -1381.931427, 0.000000],\n",
       "       [0.000000, 2969.890859, 639.427078, 0.000000],\n",
       "       [0.000000, 0.000000, 1.000000, 0.000000]])"
      ]
     },
     "execution_count": 69,
     "metadata": {},
     "output_type": "execute_result"
    }
   ],
   "source": [
    "P_L_est"
   ]
  },
  {
   "cell_type": "code",
   "execution_count": null,
   "metadata": {},
   "outputs": [
    {
     "data": {
      "text/plain": [
       "array([[-486.148518],\n",
       "       [7.986519],\n",
       "       [-349.481345]])"
      ]
     },
     "execution_count": 70,
     "metadata": {},
     "output_type": "execute_result"
    }
   ],
   "source": [
    "Trns"
   ]
  },
  {
   "cell_type": "code",
   "execution_count": null,
   "metadata": {},
   "outputs": [
    {
     "data": {
      "text/plain": [
       "array([[0.998009, 0.001370, -0.063064],\n",
       "       [-0.001795, 0.999976, -0.006681],\n",
       "       [0.063053, 0.006781, 0.997987]])"
      ]
     },
     "execution_count": 71,
     "metadata": {},
     "output_type": "execute_result"
    }
   ],
   "source": [
    "Rot"
   ]
  },
  {
   "cell_type": "code",
   "execution_count": null,
   "metadata": {},
   "outputs": [],
   "source": []
  }
 ],
 "metadata": {
  "kernelspec": {
   "display_name": "Python 3.8.5 64-bit",
   "language": "python",
   "name": "python3"
  },
  "language_info": {
   "codemirror_mode": {
    "name": "ipython",
    "version": 3
   },
   "file_extension": ".py",
   "mimetype": "text/x-python",
   "name": "python",
   "nbconvert_exporter": "python",
   "pygments_lexer": "ipython3",
   "version": "3.8.5"
  },
  "vscode": {
   "interpreter": {
    "hash": "a2351b8e039bbf9c56c302d7c356075afc88dd574b72d7357dd8301589a7e4a3"
   }
  }
 },
 "nbformat": 4,
 "nbformat_minor": 4
}

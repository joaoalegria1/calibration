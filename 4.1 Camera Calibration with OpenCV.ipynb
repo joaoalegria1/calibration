{
 "cells": [
  {
   "cell_type": "markdown",
   "metadata": {},
   "source": [
    "# 1. Camera Calibration"
   ]
  },
  {
   "cell_type": "markdown",
   "metadata": {},
   "source": [
    "This script intends to calibrate a camera using an object.\\\n",
    "For this implementation we will use the openCV method for calibration(https://docs.opencv.org/4.x/dc/dbb/tutorial_py_calibration.html)"
   ]
  },
  {
   "cell_type": "markdown",
   "metadata": {},
   "source": [
    "**Import the libraries**"
   ]
  },
  {
   "cell_type": "code",
   "execution_count": 4,
   "metadata": {},
   "outputs": [
    {
     "name": "stdout",
     "output_type": "stream",
     "text": [
      "3.8.5\n"
     ]
    }
   ],
   "source": [
    "from platform import python_version\n",
    "\n",
    "print(python_version())"
   ]
  },
  {
   "cell_type": "code",
   "execution_count": 5,
   "metadata": {},
   "outputs": [],
   "source": [
    "from matplotlib import pyplot as plt\n",
    "import numpy as np\n",
    "import scipy as sp\n",
    "import cv2\n",
    "\n",
    "#for LM method\n",
    "from scipy.optimize import curve_fit\n",
    "#matplotlib widget"
   ]
  },
  {
   "cell_type": "code",
   "execution_count": 6,
   "metadata": {},
   "outputs": [],
   "source": [
    "if False:\n",
    "    folder_dir = \"C:/Users/UX550/OneDrive - Universidade de Aveiro/Documentos/5º ANO\\Thesis/calibration_photos/calibration_2_meters_tivera/right_2/\"\n",
    "    img_cnt = 0\n",
    "    # list of images\n",
    "    list_images = os.listdir(folder_dir)\n",
    "    print(list_images)"
   ]
  },
  {
   "cell_type": "code",
   "execution_count": 7,
   "metadata": {},
   "outputs": [],
   "source": [
    "if False:\n",
    "    folder_dir = \"C:/Users/UX550/OneDrive - Universidade de Aveiro/Documentos/5º ANO\\Thesis/calibration_photos/calibration_2_meters_tivera/left_2/\"\n",
    "    img_cnt = 0\n",
    "    # list of images\n",
    "    list_images = os.listdir(folder_dir)\n",
    "    print(list_images)"
   ]
  },
  {
   "cell_type": "markdown",
   "metadata": {},
   "source": [
    "### Run through image directory"
   ]
  },
  {
   "cell_type": "code",
   "execution_count": 22,
   "metadata": {},
   "outputs": [
    {
     "name": "stdout",
     "output_type": "stream",
     "text": [
      "right_init_0.png\n",
      "right_init_0.png\n",
      "equal\n",
      "right_init_1.png\n",
      "right_init_1.png\n",
      "equal\n",
      "right_init_2.png\n",
      "right_init_2.png\n",
      "equal\n",
      "right_init_3.png\n",
      "right_init_3.png\n",
      "equal\n",
      "right_init_4.png\n",
      "right_init_4.png\n",
      "equal\n",
      "right_init_5.png\n",
      "right_init_5.png\n",
      "equal\n",
      "right_init_6.png\n",
      "right_init_6.png\n",
      "equal\n",
      "right_init_7.png\n",
      "right_init_7.png\n",
      "equal\n",
      "right_init_8.png\n",
      "right_init_8.png\n",
      "equal\n",
      "right_init_9.png\n",
      "right_init_9.png\n",
      "equal\n",
      "right_init_10.png\n",
      "right_init_10.png\n",
      "equal\n",
      "right_init_11.png\n",
      "right_init_11.png\n",
      "equal\n",
      "right_init_12.png\n",
      "right_init_12.png\n",
      "equal\n",
      "right_init_13.png\n",
      "right_init_13.png\n",
      "equal\n",
      "right_init_14.png\n",
      "right_init_14.png\n",
      "equal\n",
      "right_init_15.png\n",
      "right_init_15.png\n",
      "equal\n",
      "right_init_16.png\n",
      "right_init_16.png\n",
      "equal\n",
      "right_init_17.png\n",
      "right_init_17.png\n",
      "equal\n",
      "right_init_18.png\n",
      "right_init_18.png\n",
      "equal\n",
      "right_init_19.png\n",
      "right_init_19.png\n",
      "equal\n",
      "right_init_20.png\n",
      "right_init_20.png\n",
      "equal\n",
      "right_init_21.png\n",
      "right_init_21.png\n",
      "equal\n",
      "right_init_22.png\n",
      "right_init_22.png\n",
      "equal\n",
      "right_init_23.png\n",
      "right_init_23.png\n",
      "equal\n",
      "right_init_24.png\n",
      "right_init_24.png\n",
      "equal\n",
      "right_init_25.png\n",
      "right_init_25.png\n",
      "equal\n",
      "right_init_26.png\n",
      "right_init_26.png\n",
      "equal\n",
      "right_init_27.png\n",
      "right_init_27.png\n",
      "equal\n",
      "right_init_28.png\n",
      "right_init_28.png\n",
      "equal\n",
      "right_init_29.png\n",
      "right_init_29.png\n",
      "equal\n",
      "right_init_30.png\n",
      "right_init_30.png\n",
      "equal\n",
      "right_init_31.png\n",
      "right_init_31.png\n",
      "equal\n",
      "right_init_32.png\n",
      "right_init_32.png\n",
      "equal\n",
      "right_init_33.png\n",
      "right_init_33.png\n",
      "equal\n",
      "right_init_34.png\n",
      "right_init_34.png\n",
      "equal\n",
      "right_init_35.png\n",
      "right_init_35.png\n",
      "equal\n",
      "right_init_36.png\n",
      "right_init_36.png\n",
      "equal\n",
      "right_init_37.png\n",
      "right_init_37.png\n",
      "equal\n",
      "right_init_38.png\n",
      "right_init_38.png\n",
      "equal\n",
      "right_init_39.png\n",
      "right_init_39.png\n",
      "equal\n",
      "right_init_40.png\n",
      "right_init_40.png\n",
      "equal\n",
      "right_init_41.png\n",
      "right_init_41.png\n",
      "equal\n",
      "right_init_42.png\n",
      "right_init_42.png\n",
      "equal\n",
      "right_init_43.png\n",
      "right_init_43.png\n",
      "equal\n",
      "right_init_44.png\n",
      "right_init_44.png\n",
      "equal\n",
      "right_init_45.png\n",
      "right_init_45.png\n",
      "equal\n",
      "right_init_46.png\n",
      "right_init_46.png\n",
      "equal\n",
      "right_init_47.png\n",
      "right_init_47.png\n",
      "equal\n",
      "right_init_48.png\n",
      "right_init_48.png\n",
      "equal\n",
      "right_init_49.png\n",
      "right_init_49.png\n",
      "equal\n",
      "right_init_50.png\n",
      "right_init_50.png\n",
      "equal\n",
      "right_init_51.png\n",
      "right_init_51.png\n",
      "equal\n",
      "right_init_52.png\n",
      "right_init_52.png\n",
      "equal\n",
      "right_init_53.png\n",
      "right_init_53.png\n",
      "equal\n",
      "right_init_54.png\n",
      "right_init_54.png\n",
      "equal\n",
      "right_init_55.png\n",
      "right_init_55.png\n",
      "equal\n",
      "right_init_56.png\n",
      "right_init_56.png\n",
      "equal\n",
      "right_init_57.png\n",
      "right_init_57.png\n",
      "equal\n",
      "right_init_58.png\n",
      "right_init_58.png\n",
      "equal\n",
      "right_init_59.png\n",
      "right_init_59.png\n",
      "equal\n",
      "right_init_60.png\n",
      "right_init_60.png\n",
      "equal\n",
      "right_init_61.png\n",
      "right_init_61.png\n",
      "equal\n",
      "right_init_62.png\n",
      "right_init_62.png\n",
      "equal\n",
      "right_init_63.png\n",
      "right_init_63.png\n",
      "equal\n",
      "right_init_64.png\n",
      "right_init_64.png\n",
      "equal\n",
      "right_init_65.png\n",
      "right_init_65.png\n",
      "equal\n",
      "right_init_66.png\n",
      "right_init_66.png\n",
      "equal\n",
      "right_init_67.png\n",
      "right_init_67.png\n",
      "equal\n",
      "right_init_68.png\n",
      "right_init_68.png\n",
      "equal\n",
      "right_init_69.png\n",
      "right_init_69.png\n",
      "equal\n",
      "right_init_70.png\n",
      "right_init_70.png\n",
      "equal\n",
      "right_init_71.png\n",
      "right_init_71.png\n",
      "equal\n",
      "right_init_72.png\n",
      "right_init_72.png\n",
      "equal\n",
      "right_init_73.png\n",
      "right_init_73.png\n",
      "equal\n",
      "right_init_74.png\n",
      "right_init_74.png\n",
      "equal\n",
      "right_init_75.png\n",
      "right_init_75.png\n",
      "equal\n",
      "right_init_76.png\n",
      "right_init_76.png\n",
      "equal\n",
      "right_init_77.png\n",
      "right_init_77.png\n",
      "equal\n",
      "right_init_78.png\n",
      "right_init_78.png\n",
      "equal\n",
      "right_init_79.png\n",
      "right_init_79.png\n",
      "equal\n",
      "right_init_80.png\n",
      "right_init_80.png\n",
      "equal\n",
      "right_init_81.png\n",
      "right_init_81.png\n",
      "equal\n",
      "right_init_82.png\n",
      "right_init_82.png\n",
      "equal\n",
      "right_init_83.png\n",
      "right_init_83.png\n",
      "equal\n",
      "right_init_84.png\n",
      "right_init_84.png\n",
      "equal\n",
      "right_init_85.png\n",
      "right_init_85.png\n",
      "equal\n",
      "right_init_86.png\n",
      "right_init_86.png\n",
      "equal\n",
      "right_init_87.png\n",
      "right_init_87.png\n",
      "equal\n",
      "right_init_88.png\n",
      "right_init_88.png\n",
      "equal\n",
      "right_init_89.png\n",
      "right_init_89.png\n",
      "equal\n",
      "right_init_90.png\n",
      "right_init_90.png\n",
      "equal\n",
      "right_init_91.png\n",
      "right_init_91.png\n",
      "equal\n",
      "right_init_92.png\n",
      "right_init_92.png\n",
      "equal\n",
      "right_init_93.png\n",
      "right_init_93.png\n",
      "equal\n",
      "right_init_94.png\n",
      "right_init_94.png\n",
      "equal\n",
      "right_init_95.png\n",
      "right_init_95.png\n",
      "equal\n",
      "right_init_96.png\n",
      "right_init_96.png\n",
      "equal\n",
      "right_init_97.png\n",
      "right_init_97.png\n",
      "equal\n",
      "right_init_98.png\n",
      "right_init_98.png\n",
      "equal\n",
      "right_init_99.png\n",
      "right_init_99.png\n",
      "equal\n",
      "right_init_100.png\n",
      "right_init_100.png\n",
      "equal\n",
      "right_init_101.png\n",
      "right_init_101.png\n",
      "equal\n",
      "right_init_102.png\n",
      "right_init_102.png\n",
      "equal\n",
      "right_init_103.png\n",
      "right_init_103.png\n",
      "equal\n",
      "right_init_104.png\n",
      "right_init_104.png\n",
      "equal\n",
      "right_init_105.png\n",
      "right_init_105.png\n",
      "equal\n",
      "right_init_106.png\n",
      "right_init_106.png\n",
      "equal\n",
      "right_init_107.png\n",
      "right_init_107.png\n",
      "equal\n",
      "right_init_108.png\n",
      "right_init_108.png\n",
      "equal\n",
      "right_init_109.png\n",
      "right_init_109.png\n",
      "equal\n",
      "right_init_110.png\n",
      "right_init_110.png\n",
      "equal\n",
      "right_init_111.png\n",
      "right_init_111.png\n",
      "equal\n",
      "right_init_112.png\n",
      "right_init_112.png\n",
      "equal\n",
      "right_init_113.png\n",
      "right_init_113.png\n",
      "equal\n",
      "right_init_114.png\n",
      "right_init_114.png\n",
      "equal\n",
      "right_init_115.png\n",
      "right_init_115.png\n",
      "equal\n",
      "right_init_116.png\n",
      "right_init_116.png\n",
      "equal\n",
      "right_init_117.png\n",
      "right_init_117.png\n",
      "equal\n",
      "right_init_118.png\n",
      "right_init_118.png\n",
      "equal\n",
      "right_init_119.png\n",
      "right_init_119.png\n",
      "equal\n",
      "right_init_120.png\n",
      "right_init_120.png\n",
      "equal\n",
      "right_init_121.png\n",
      "right_init_121.png\n",
      "equal\n",
      "right_init_122.png\n",
      "right_init_122.png\n",
      "equal\n",
      "right_init_123.png\n",
      "right_init_123.png\n",
      "equal\n",
      "right_init_124.png\n",
      "right_init_124.png\n",
      "equal\n",
      "right_init_125.png\n",
      "right_init_125.png\n",
      "equal\n",
      "right_init_126.png\n",
      "right_init_126.png\n",
      "equal\n",
      "right_init_127.png\n",
      "right_init_127.png\n",
      "equal\n",
      "right_init_128.png\n",
      "right_init_128.png\n",
      "equal\n",
      "right_init_129.png\n",
      "right_init_129.png\n",
      "equal\n",
      "right_init_130.png\n",
      "right_init_130.png\n",
      "equal\n",
      "right_init_131.png\n",
      "right_init_131.png\n",
      "equal\n",
      "right_init_132.png\n",
      "right_init_132.png\n",
      "equal\n",
      "right_init_133.png\n",
      "right_init_133.png\n",
      "equal\n",
      "right_init_134.png\n",
      "right_init_134.png\n",
      "equal\n",
      "right_init_135.png\n",
      "right_init_135.png\n",
      "equal\n",
      "right_init_136.png\n",
      "right_init_136.png\n",
      "equal\n",
      "right_init_137.png\n",
      "right_init_137.png\n",
      "equal\n",
      "right_init_138.png\n",
      "right_init_138.png\n",
      "equal\n",
      "right_init_139.png\n",
      "right_init_139.png\n",
      "equal\n",
      "right_init_140.png\n",
      "right_init_140.png\n",
      "equal\n",
      "right_init_141.png\n",
      "right_init_141.png\n",
      "equal\n",
      "right_init_142.png\n",
      "right_init_142.png\n",
      "equal\n",
      "right_init_143.png\n",
      "right_init_143.png\n",
      "equal\n",
      "right_init_144.png\n",
      "right_init_144.png\n",
      "equal\n",
      "right_init_145.png\n",
      "right_init_145.png\n",
      "equal\n",
      "right_init_146.png\n",
      "right_init_146.png\n",
      "equal\n",
      "right_init_147.png\n",
      "right_init_147.png\n",
      "equal\n",
      "right_init_148.png\n",
      "right_init_148.png\n",
      "equal\n",
      "right_init_149.png\n",
      "right_init_149.png\n",
      "equal\n",
      "right_init_150.png\n",
      "right_init_150.png\n",
      "equal\n",
      "right_init_151.png\n",
      "right_init_151.png\n",
      "equal\n",
      "right_init_152.png\n",
      "right_init_152.png\n",
      "equal\n",
      "right_init_153.png\n",
      "right_init_153.png\n",
      "equal\n",
      "right_init_154.png\n",
      "right_init_154.png\n",
      "equal\n",
      "right_init_155.png\n",
      "right_init_155.png\n",
      "equal\n",
      "right_init_156.png\n",
      "right_init_156.png\n",
      "equal\n",
      "right_init_157.png\n",
      "right_init_157.png\n",
      "equal\n",
      "right_init_158.png\n",
      "right_init_158.png\n",
      "equal\n",
      "right_init_159.png\n",
      "right_init_159.png\n",
      "equal\n",
      "right_init_160.png\n",
      "right_init_160.png\n",
      "equal\n",
      "right_init_161.png\n",
      "right_init_161.png\n",
      "equal\n",
      "right_init_162.png\n",
      "right_init_162.png\n",
      "equal\n",
      "right_init_163.png\n",
      "right_init_163.png\n",
      "equal\n",
      "right_init_164.png\n",
      "right_init_164.png\n",
      "equal\n",
      "right_init_165.png\n",
      "right_init_165.png\n",
      "equal\n",
      "right_init_166.png\n",
      "right_init_166.png\n",
      "equal\n",
      "right_init_167.png\n",
      "right_init_167.png\n",
      "equal\n",
      "right_init_168.png\n",
      "right_init_168.png\n",
      "equal\n",
      "right_init_169.png\n",
      "right_init_169.png\n",
      "equal\n",
      "right_init_170.png\n",
      "right_init_170.png\n",
      "equal\n",
      "right_init_171.png\n",
      "right_init_171.png\n",
      "equal\n",
      "right_init_172.png\n",
      "right_init_172.png\n",
      "equal\n",
      "right_init_173.png\n",
      "right_init_173.png\n",
      "equal\n",
      "right_init_174.png\n",
      "right_init_174.png\n",
      "equal\n",
      "right_init_175.png\n",
      "right_init_175.png\n",
      "equal\n",
      "right_init_176.png\n",
      "right_init_176.png\n",
      "equal\n",
      "right_init_178.png\n",
      "right_init_177.png\n",
      "right_init_178.png\n",
      "right_init_177.png\n",
      "right_init_179.png\n",
      "right_init_178.png\n",
      "right_init_179.png\n",
      "right_init_178.png\n",
      "right_init_180.png\n",
      "right_init_179.png\n",
      "right_init_180.png\n",
      "right_init_179.png\n",
      "right_init_181.png\n",
      "right_init_180.png\n",
      "right_init_181.png\n",
      "right_init_180.png\n",
      "right_init_182.png\n",
      "right_init_181.png\n",
      "right_init_182.png\n",
      "right_init_181.png\n",
      "right_init_183.png\n",
      "right_init_182.png\n",
      "right_init_183.png\n",
      "right_init_182.png\n"
     ]
    }
   ],
   "source": [
    "\n",
    "if True:\n",
    "        \n",
    "    import os \n",
    "    import string\n",
    "    from os import listdir\n",
    "\n",
    "    camera_name = 'right'\n",
    "    # get the path/directory\n",
    "    folder_dir = f\"C:/Users/UX550/OneDrive - Universidade de Aveiro/Documentos/5º ANO\\Thesis/calibration_photos/calibration_4_tivera_1/{camera_name}_4/\"\n",
    "    img_cnt = 0\n",
    "    # list of images\n",
    "    list_images = os.listdir(folder_dir)\n",
    "    new_list = sorted(list_images,key = lambda k: int(k.split('_')[2].split('.')[0]))\n",
    "\n",
    "    for images in new_list:\n",
    "        # check if the image ends with png\n",
    "        renamed_image = camera_name + \"_init_\" + '%s' % img_cnt + '.png'\n",
    "        print(images)\n",
    "        print(renamed_image)\n",
    "        # If equal, no renaming\n",
    "        if(images == renamed_image):\n",
    "            print(\"equal\")\n",
    "        else:\n",
    "            while True:\n",
    "                print(images)\n",
    "                renamed_image = camera_name + \"_init_\" + '%s' % img_cnt + '.png'\n",
    "                print(renamed_image)\n",
    "                try:\n",
    "                    os.rename(folder_dir + '/' + images,folder_dir + '/' + renamed_image)\n",
    "                except FileExistsError:\n",
    "                    img_cnt += 1\n",
    "                    pass\n",
    "                else:\n",
    "                    break\n",
    "                \n",
    "            \n",
    "        img_cnt += 1\n"
   ]
  },
  {
   "cell_type": "markdown",
   "metadata": {},
   "source": [
    "## Zhang's Method\n",
    "Comparing to the DLT method, the Zhang method only calculate the intrinsic parameters. We instead only need to find 5 parameters."
   ]
  },
  {
   "cell_type": "markdown",
   "metadata": {},
   "source": [
    "## 2. Calibration"
   ]
  },
  {
   "cell_type": "markdown",
   "metadata": {},
   "source": [
    "## Find the homographies"
   ]
  },
  {
   "cell_type": "code",
   "execution_count": 23,
   "metadata": {},
   "outputs": [],
   "source": [
    "def cornerfinding(n_imgs,patternsize,dist, img_name):\n",
    "    '''\n",
    "    @param\n",
    "    [in] n_imgs : number of images used\n",
    "    [in] patternsize : size of the checkerboard\n",
    "    [in] dist : distance between squares\n",
    "    [in] img_name : name of the jpg\n",
    "    [out] imagecoo : imagecoordinates\n",
    "    [out] worldcoo : worldcoordinates\n",
    "    '''\n",
    "    # number of images\n",
    "    n_imgs = n_imgs\n",
    "    # pattern size\n",
    "    patternsize= patternsize\n",
    "    #distance between squares(in mm)\n",
    "    dist = dist\n",
    "\n",
    "    # specified number of iterations are completed.\n",
    "    criteria = (cv2.TERM_CRITERIA_EPS +\n",
    "                cv2.TERM_CRITERIA_MAX_ITER, 30, 0.001)\n",
    "\n",
    "    # Vector for 3D points\n",
    "    threedpoints = []\n",
    "\n",
    "    # Vector for 2D points\n",
    "    twodpoints = []\n",
    "\n",
    "    #3D points real world coordinates( static -> chessboard)\n",
    "    # create a matrix of zeros for 48 points , each with 3 coordinates\n",
    "    world_coo = np.zeros((1, patternsize[0]* patternsize[1],3), np.float32)\n",
    "    world_coo[:, :, :2] = np.mgrid[0:patternsize[0], 0:patternsize[1]].T.reshape(-1, 2)\n",
    "    # Transform coordinates in mm\n",
    "    world_coo = world_coo*dist\n",
    "\n",
    "    #prev_img_shape = None\n",
    "\n",
    "    for i in range(n_imgs):\n",
    "\n",
    "        im = i\n",
    "\n",
    "        #Import the image\n",
    "        name = (str(img_name)+ str(im)+\".png\")\n",
    "        img = cv2.imread(name)\n",
    "        #print(name)\n",
    "        # convert it to gray scale\n",
    "        gray = cv2.cvtColor(img,cv2.COLOR_BGR2GRAY)\n",
    "\n",
    "        retval, corners= cv2.findChessboardCorners(gray,patternsize,None)\n",
    "        #print(corners)\n",
    "        if(retval == True):\n",
    "            threedpoints.append(world_coo)\n",
    "            #print(name)\n",
    "\n",
    "            # Refining pixel coordinates or given 2d points.\n",
    "            corners2 = cv2.cornerSubPix(gray, corners, (11, 11), (-1, -1), criteria).reshape(patternsize[0]*patternsize[1],2)\n",
    "\n",
    "            twodpoints.append(corners2)\n",
    "            # Draw and display the corners\n",
    "            image = cv2.drawChessboardCorners(img,patternsize,corners2,retval)\n",
    "            #plt.imshow(image)\n",
    "            #plt.show()\n",
    "        else:\n",
    "            print(name)\n",
    "\n",
    "    # image coordinates and world coordinates for the diferent images( the world coordinates are always the same)\n",
    "    imagecoo = np.asarray(twodpoints)\n",
    "    worldcoo = np.asarray(threedpoints) \n",
    "    return imagecoo, worldcoo\n",
    "\n",
    "#C:\\Users\\UX550\\OneDrive - Universidade de Aveiro\\Documentos\\5º ANO\\Thesis\\calibration\\images\n",
    "#name_left = (\"../calibration_photos/calibration_photos_2meters/left_160/left_init_\")\n",
    "#name_right =(\"../calibration_photos/calibration_photos_2meters/right_160/right_init_\")\n",
    "#name_left = (\"../calibration_photos/calibration_photos/left_edited/left_init_\")\n",
    "#name_right =(\"../calibration_photos/calibration_photos/right_edited/right_init_\")\n",
    "name_left = \"../Thesis/calibration_photos/calibration_4_tivera_1/left_4/left_init_\"\n",
    "name_right = (\"../Thesis/calibration_photos/calibration_4_tivera_1/right_4/right_init_\")\n",
    "\n",
    "#name_right = (\"../calibration_photos/calibration_2_meters_tivera/right_2/right_init_\")\n",
    "#name_left = (\"calibration_photos/left_edited/left_init_\")\n",
    "#name_right = (\"calibration_photos/right_edited/right_init_\")\n",
    "n_imgs = 180\n",
    "square_size = 44\n",
    "pattern_size = (12,8)\n",
    "imagecoo_left,worldcoo_left = cornerfinding(n_imgs,pattern_size,square_size,name_left)\n",
    "imagecoo_right,worldcoo_right = cornerfinding(n_imgs,pattern_size,square_size,name_right)\n"
   ]
  },
  {
   "cell_type": "code",
   "execution_count": 24,
   "metadata": {},
   "outputs": [],
   "source": [
    "def calib(world_pts_arr,x_zhang_R,x_zhang_L,image_size):    \n",
    "    ret_R, mtx_R, dist_R, rvecs_R, tvecs_R = cv2.calibrateCamera(world_pts_arr, x_zhang_R, (image_size[0],image_size[1]), None, None)\n",
    "    ret_L, mtx_L, dist_L, rvecs_L, tvecs_L = cv2.calibrateCamera(world_pts_arr, x_zhang_L, (image_size[0],image_size[1]), None, None)\n",
    "\n",
    "    flags = 0\n",
    "    flags |= cv2.CALIB_FIX_INTRINSIC\n",
    "    # Here we fix the intrinsic camara matrixes so that only Rot, Trns, Emat and Fmat are calculated.\n",
    "    # Hence intrinsic parameters are the same \n",
    "\n",
    "    criteria_stereo= (cv2.TERM_CRITERIA_EPS + cv2.TERM_CRITERIA_MAX_ITER, 30, 0.001)\n",
    "\n",
    "\n",
    "    # This step is performed to transformation between the two cameras and calculate Essential and Fundamenatl matrix\n",
    "    retS, new_mtxL, distL, new_mtxR, distR, Rot, Trns, Emat, Fmat = cv2.stereoCalibrate(world_pts_arr, x_zhang_L, x_zhang_R, mtx_L, dist_L, mtx_R, dist_R, (image_size[0],image_size[1]), criteria_stereo, flags)\n",
    "\n",
    "    return ret_R,mtx_R,ret_L,mtx_L,retS,new_mtxL,new_mtxR,Rot,Trns,Emat,Fmat,distL,distR,rvecs_L,rvecs_R"
   ]
  },
  {
   "cell_type": "code",
   "execution_count": 25,
   "metadata": {},
   "outputs": [
    {
     "data": {
      "text/plain": [
       "(180, 1, 96, 3)"
      ]
     },
     "execution_count": 25,
     "metadata": {},
     "output_type": "execute_result"
    }
   ],
   "source": [
    "worldcoo_left.shape"
   ]
  },
  {
   "cell_type": "code",
   "execution_count": 26,
   "metadata": {},
   "outputs": [
    {
     "data": {
      "text/plain": [
       "numpy.float32"
      ]
     },
     "execution_count": 26,
     "metadata": {},
     "output_type": "execute_result"
    }
   ],
   "source": [
    "type(imagecoo_right[0,0,0])"
   ]
  },
  {
   "cell_type": "code",
   "execution_count": 27,
   "metadata": {},
   "outputs": [],
   "source": [
    "#image_size = (1936,1216)\n",
    "#ret_R,mtx_R,ret_L,mtx_L,retS,new_mtxL,new_mtxR,Rot,Trns,Emat,Fmat,dist_L,dist_R,rvecs_L,rvecs_R = calib(worldcoo_left,imagecoo_right,imagecoo_left,image_size)\n",
    "#retS\n"
   ]
  },
  {
   "cell_type": "code",
   "execution_count": null,
   "metadata": {},
   "outputs": [],
   "source": [
    "image_size = (1936,1216)\n",
    "\n",
    "\n",
    "ret_R_list = []\n",
    "mtx_R_list = []\n",
    "ret_L_list = []\n",
    "mtx_L_list = []\n",
    "retS_list = []\n",
    "new_mtxL_list = []\n",
    "new_mtxR_list = []\n",
    "Rot_list = []\n",
    "Trns_list = []\n",
    "Emat_list = []\n",
    "Fmat_list = []\n",
    "P_R_org_list = []\n",
    "P_L_org_list = []\n",
    "dist_L_list = []\n",
    "dist_R_list = []\n",
    "rvecs_L_list = []\n",
    "rvecs_R_list = []\n",
    "\n",
    "ret_R,mtx_R,ret_L,mtx_L,retS,new_mtxL,new_mtxR,Rot,Trns,Emat,Fmat,dist_L,dist_R,rvecs_L,rvecs_R = calib(worldcoo_left,imagecoo_right,imagecoo_left,image_size)\n",
    "\n",
    "\n",
    "ret_R_list.append([ret_R])\n",
    "mtx_R_list.append([mtx_R])\n",
    "ret_L_list.append([ret_L])\n",
    "mtx_L_list.append([mtx_L])\n",
    "retS_list.append([retS])\n",
    "new_mtxL_list.append([new_mtxL])\n",
    "new_mtxR_list.append([new_mtxR])\n",
    "Rot_list.append([Rot])\n",
    "Trns_list.append([Trns])\n",
    "Emat_list.append([Emat])\n",
    "Fmat_list.append([Fmat])\n",
    "dist_L_list.append(dist_L)\n",
    "dist_R_list.append(dist_R)\n",
    "rvecs_L_list.append(rvecs_L)\n",
    "rvecs_R_list.append(rvecs_R)"
   ]
  },
  {
   "cell_type": "code",
   "execution_count": 16,
   "metadata": {},
   "outputs": [],
   "source": [
    "P_L_list = []\n",
    "P_R_list = []\n",
    "R1_list = []\n",
    "R2_list = []\n",
    "R1,R2,P_L_est,P_R_est,Q,roi_left,roi_right = cv2.stereoRectify(new_mtxL, ret_L, new_mtxR, ret_R, (image_size[0],image_size[1]), Rot, Trns,flags = cv2.CALIB_ZERO_DISPARITY)\n",
    "\n",
    "R1_list.append(R1)\n",
    "R2_list.append(R2)\n",
    "P_L_list.append(P_L_est)\n",
    "P_R_list.append(P_R_est)"
   ]
  },
  {
   "cell_type": "code",
   "execution_count": 17,
   "metadata": {},
   "outputs": [],
   "source": [
    "np.set_printoptions(formatter={'float_kind':'{:f}'.format})"
   ]
  },
  {
   "cell_type": "code",
   "execution_count": 18,
   "metadata": {},
   "outputs": [
    {
     "data": {
      "text/plain": [
       "array([[0.965324, 0.024442, -0.259907],\n",
       "       [-0.024538, 0.999695, 0.002879],\n",
       "       [0.259898, 0.003599, 0.965629]])"
      ]
     },
     "execution_count": 18,
     "metadata": {},
     "output_type": "execute_result"
    }
   ],
   "source": [
    "R2"
   ]
  },
  {
   "cell_type": "code",
   "execution_count": 19,
   "metadata": {},
   "outputs": [
    {
     "name": "stdout",
     "output_type": "stream",
     "text": [
      "Writing 'R1,R2,retS_list,P_L_est,new_mtxL_list,ret_L_list,dist_L_list,P_R_est,new_mtxR_list,ret_R_list,dist_R_list,Rot_list,Trns_list' (tuple) to file '.\\calibration_files\\4_meters\\calib_4_125.txt'.\n"
     ]
    }
   ],
   "source": [
    "%store R1,R2,retS_list,P_L_est,new_mtxL_list,ret_L_list,dist_L_list,P_R_est,new_mtxR_list,ret_R_list,dist_R_list,Rot_list,Trns_list >\".\\calibration_files\\4_meters\\calib_4_{n_imgs}.txt\""
   ]
  },
  {
   "cell_type": "code",
   "execution_count": 110,
   "metadata": {},
   "outputs": [
    {
     "data": {
      "text/plain": [
       "array([[2377.283484, 0.000000, 899.953008],\n",
       "       [0.000000, 2367.931216, 640.622319],\n",
       "       [0.000000, 0.000000, 1.000000]])"
      ]
     },
     "execution_count": 110,
     "metadata": {},
     "output_type": "execute_result"
    }
   ],
   "source": [
    "new_mtxL"
   ]
  },
  {
   "cell_type": "code",
   "execution_count": 108,
   "metadata": {},
   "outputs": [
    {
     "data": {
      "text/plain": [
       "array([[2.55806726e+03, 0.00000000e+00, 9.81954052e+02],\n",
       "       [0.00000000e+00, 2.56132169e+03, 6.37192983e+02],\n",
       "       [0.00000000e+00, 0.00000000e+00, 1.00000000e+00]])"
      ]
     },
     "execution_count": 108,
     "metadata": {},
     "output_type": "execute_result"
    }
   ],
   "source": [
    "new_mtxR"
   ]
  },
  {
   "cell_type": "code",
   "execution_count": 109,
   "metadata": {},
   "outputs": [
    {
     "data": {
      "text/plain": [
       "array([[ 2.55982889e+03,  0.00000000e+00,  9.30319321e+02,\n",
       "        -1.21479659e+06],\n",
       "       [ 0.00000000e+00,  2.55982889e+03,  6.22341766e+02,\n",
       "         0.00000000e+00],\n",
       "       [ 0.00000000e+00,  0.00000000e+00,  1.00000000e+00,\n",
       "         0.00000000e+00]])"
      ]
     },
     "execution_count": 109,
     "metadata": {},
     "output_type": "execute_result"
    }
   ],
   "source": [
    "P_R_est"
   ]
  },
  {
   "cell_type": "code",
   "execution_count": 110,
   "metadata": {},
   "outputs": [
    {
     "data": {
      "text/plain": [
       "array([[2.55982889e+03, 0.00000000e+00, 9.30319321e+02, 0.00000000e+00],\n",
       "       [0.00000000e+00, 2.55982889e+03, 6.22341766e+02, 0.00000000e+00],\n",
       "       [0.00000000e+00, 0.00000000e+00, 1.00000000e+00, 0.00000000e+00]])"
      ]
     },
     "execution_count": 110,
     "metadata": {},
     "output_type": "execute_result"
    }
   ],
   "source": [
    "P_L_est"
   ]
  },
  {
   "cell_type": "code",
   "execution_count": 113,
   "metadata": {},
   "outputs": [
    {
     "data": {
      "text/plain": [
       "array([[-474.06210272],\n",
       "       [   1.62292259],\n",
       "       [ -21.70802313]])"
      ]
     },
     "execution_count": 113,
     "metadata": {},
     "output_type": "execute_result"
    }
   ],
   "source": [
    "Trns"
   ]
  },
  {
   "cell_type": "code",
   "execution_count": 71,
   "metadata": {},
   "outputs": [
    {
     "data": {
      "text/plain": [
       "array([[ 9.97888679e-01,  5.96478491e-03, -6.46730722e-02],\n",
       "       [-5.95512156e-03,  9.99982210e-01,  3.42188894e-04],\n",
       "       [ 6.46739627e-02,  4.36695836e-05,  9.97906447e-01]])"
      ]
     },
     "execution_count": 71,
     "metadata": {},
     "output_type": "execute_result"
    }
   ],
   "source": [
    "Rot"
   ]
  },
  {
   "cell_type": "code",
   "execution_count": 70,
   "metadata": {},
   "outputs": [
    {
     "ename": "TypeError",
     "evalue": "_savetxt_dispatcher() takes from 2 to 9 positional arguments but 14 were given",
     "output_type": "error",
     "traceback": [
      "\u001b[1;31m---------------------------------------------------------------------------\u001b[0m",
      "\u001b[1;31mTypeError\u001b[0m                                 Traceback (most recent call last)",
      "\u001b[1;32mc:\\Users\\UX550\\OneDrive - Universidade de Aveiro\\Documentos\\5º ANO\\calibration\\4.1 Camera Calibration with OpenCV.ipynb Cell 18\u001b[0m in \u001b[0;36m<module>\u001b[1;34m\u001b[0m\n\u001b[1;32m----> <a href='vscode-notebook-cell:/c%3A/Users/UX550/OneDrive%20-%20Universidade%20de%20Aveiro/Documentos/5%C2%BA%20ANO/calibration/4.1%20Camera%20Calibration%20with%20OpenCV.ipynb#ch0000017?line=0'>1</a>\u001b[0m np\u001b[39m.\u001b[39;49msavetxt(\u001b[39mf\u001b[39;49m\u001b[39m\"\u001b[39;49m\u001b[39m../calibration_photos/calibration_2_meters_tivera/calib_2_5.txt\u001b[39;49m\u001b[39m\"\u001b[39;49m,R1,R2,P_L_est,P_R_est,retS,new_mtxL,new_mtxR,ret_L,ret_R,dist_L,dist_R,Rot,Trns)\n",
      "File \u001b[1;32m<__array_function__ internals>:179\u001b[0m, in \u001b[0;36msavetxt\u001b[1;34m(*args, **kwargs)\u001b[0m\n",
      "\u001b[1;31mTypeError\u001b[0m: _savetxt_dispatcher() takes from 2 to 9 positional arguments but 14 were given"
     ]
    }
   ],
   "source": [
    "np.savetxt(f\"../calibration_photos/calibration_2_meters_tivera/calib_2_5.txt\",R1,R2,P_L_est,P_R_est,retS,new_mtxL,new_mtxR,ret_L,ret_R,dist_L,dist_R,Rot,Trns)"
   ]
  },
  {
   "cell_type": "code",
   "execution_count": 88,
   "metadata": {},
   "outputs": [
    {
     "data": {
      "text/plain": [
       "array([[5.64744350e+03, 0.00000000e+00, 8.04407046e+04, 0.00000000e+00],\n",
       "       [0.00000000e+00, 5.64744350e+03, 7.13646637e+02, 0.00000000e+00],\n",
       "       [0.00000000e+00, 0.00000000e+00, 1.00000000e+00, 0.00000000e+00]])"
      ]
     },
     "execution_count": 88,
     "metadata": {},
     "output_type": "execute_result"
    }
   ],
   "source": [
    "P_L_est"
   ]
  },
  {
   "cell_type": "code",
   "execution_count": 90,
   "metadata": {},
   "outputs": [
    {
     "data": {
      "text/plain": [
       "array([[8.63279725e+03, 0.00000000e+00, 9.72224667e+02],\n",
       "       [0.00000000e+00, 8.64721221e+03, 6.10718092e+02],\n",
       "       [0.00000000e+00, 0.00000000e+00, 1.00000000e+00]])"
      ]
     },
     "execution_count": 90,
     "metadata": {},
     "output_type": "execute_result"
    }
   ],
   "source": [
    "mtx_R"
   ]
  },
  {
   "cell_type": "code",
   "execution_count": null,
   "metadata": {},
   "outputs": [
    {
     "data": {
      "text/plain": [
       "array([[3.11402075e+03, 0.00000000e+00, 9.84769693e+02],\n",
       "       [0.00000000e+00, 3.11732577e+03, 6.61750985e+02],\n",
       "       [0.00000000e+00, 0.00000000e+00, 1.00000000e+00]])"
      ]
     },
     "execution_count": 26,
     "metadata": {},
     "output_type": "execute_result"
    }
   ],
   "source": [
    "mtx_R"
   ]
  },
  {
   "cell_type": "code",
   "execution_count": null,
   "metadata": {},
   "outputs": [
    {
     "data": {
      "text/plain": [
       "0.3304236193635975"
      ]
     },
     "execution_count": 29,
     "metadata": {},
     "output_type": "execute_result"
    }
   ],
   "source": []
  },
  {
   "cell_type": "code",
   "execution_count": null,
   "metadata": {},
   "outputs": [],
   "source": []
  }
 ],
 "metadata": {
  "kernelspec": {
   "display_name": "Python 3.8.5 64-bit",
   "language": "python",
   "name": "python3"
  },
  "language_info": {
   "codemirror_mode": {
    "name": "ipython",
    "version": 3
   },
   "file_extension": ".py",
   "mimetype": "text/x-python",
   "name": "python",
   "nbconvert_exporter": "python",
   "pygments_lexer": "ipython3",
   "version": "3.8.5"
  },
  "vscode": {
   "interpreter": {
    "hash": "a2351b8e039bbf9c56c302d7c356075afc88dd574b72d7357dd8301589a7e4a3"
   }
  }
 },
 "nbformat": 4,
 "nbformat_minor": 4
}

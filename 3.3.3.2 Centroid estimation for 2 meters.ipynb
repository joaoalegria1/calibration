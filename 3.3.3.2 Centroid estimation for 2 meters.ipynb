{
 "cells": [
  {
   "cell_type": "markdown",
   "metadata": {},
   "source": [
    "# 3.3.3.2 Realistic simulation setup\n",
    "Obtain the centroid for each chessboard "
   ]
  },
  {
   "cell_type": "code",
   "execution_count": 61,
   "metadata": {},
   "outputs": [],
   "source": [
    "vscode = 1\n"
   ]
  },
  {
   "cell_type": "code",
   "execution_count": 62,
   "metadata": {},
   "outputs": [],
   "source": [
    "if(vscode == 0):\n",
    "    # for vscode\n",
    "    # for jupyter notebook\n",
    "    from mpl_toolkits.mplot3d import axes3d\n",
    "    import matplotlib.pyplot as plt\n",
    "\n",
    "    %matplotlib notebook\n",
    "elif(vscode == 1):\n",
    "    %matplotlib qt\n",
    "    "
   ]
  },
  {
   "cell_type": "code",
   "execution_count": 63,
   "metadata": {},
   "outputs": [],
   "source": [
    "import matplotlib.pyplot as plt\n",
    "import numpy as np\n",
    "import cv2\n",
    " \n",
    "from typing import Sequence\n",
    "from calib_lib import *\n",
    "from matplotlib.collections import PatchCollection      # pathcoletion for multiple patches\n",
    "import matplotlib.cm as cm                              # for colormaps\n",
    "from matplotlib.patches import Rectangle                # for rectangle representation\n",
    "from matplotlib.patches import Ellipse                  # for ellipse representation   \n",
    "from pixelization_lib import *   \n",
    "#from ellipse import LsqEllipse                          # pip install lsq-ellipse\n",
    "\n",
    "\n",
    "DECIMALS = 2            # how many decimal places to use in print\n"
   ]
  },
  {
   "cell_type": "code",
   "execution_count": 64,
   "metadata": {},
   "outputs": [],
   "source": [
    "import logging \n",
    "import numpy as np\n",
    "from skimage.measure import EllipseModel\n",
    "from matplotlib.patches import Ellipse\n",
    "import matplotlib.pyplot as plt"
   ]
  },
  {
   "cell_type": "code",
   "execution_count": 65,
   "metadata": {},
   "outputs": [],
   "source": [
    "F = 16                                       # focal length( in mm )\n",
    "gridSize = 1024\n",
    "subpixel_grid = 128\n",
    "image_size = np.array([1936,1216])               # sensor size(in pixels)\n",
    "#image_size = np.array([11.345,7.126])\n",
    "pixel_width = 5.86e-3                       # pixel size in mm\n",
    "PX= image_size[0]/2.0                       # principal point_i x-coordinate\n",
    "PY= image_size[1]/2.0                       # principal point_i y-coordinate\n",
    "IMAGE_HEIGTH = image_size[1]\n",
    "IMAGE_WIDTH = image_size[0]\n",
    "THETA_X = 0                                 # roll angle\n",
    "THETA_Y = 0                                 # pitch angle\n",
    "THETA_Z = 0                                 # yaw angle\n",
    "\n",
    "# camera Right\n",
    "THETA_X_R = 0                                 # roll angle\n",
    "THETA_Y_R = 0                                 # pitch angle\n",
    "THETA_Z_R= 0                                 # yaw angle\n",
    "# camera Left\n",
    "THETA_X_L = 0                                 # roll angle\n",
    "THETA_Y_L = 0                                 # pitch angle\n",
    "THETA_Z_L= 0                                 # yaw angle\n",
    "\n",
    "C_L = np.array([0,0,0])                     # camera centre\n",
    "C_R = np.array([500,0,0])\n",
    "\n",
    "chess_dimx,chess_dimy = (12,8)\n",
    "chess_sq_size = 44\n",
    "\n",
    "radius = 5"
   ]
  },
  {
   "cell_type": "code",
   "execution_count": 66,
   "metadata": {},
   "outputs": [],
   "source": [
    "iterations = 320"
   ]
  },
  {
   "cell_type": "code",
   "execution_count": 67,
   "metadata": {},
   "outputs": [],
   "source": [
    "xrange_5 = np.linspace(200,400,8)\n",
    "yrange_5 = np.linspace(-120,120,8)\n",
    "zrange_5 = ([2000])"
   ]
  },
  {
   "cell_type": "code",
   "execution_count": 68,
   "metadata": {},
   "outputs": [
    {
     "name": "stdout",
     "output_type": "stream",
     "text": [
      "world_pts_arr_2_320_px.npy\n"
     ]
    }
   ],
   "source": [
    "print('world_pts_arr_2_'+str(iterations)+'_px.npy')"
   ]
  },
  {
   "cell_type": "code",
   "execution_count": 69,
   "metadata": {},
   "outputs": [
    {
     "name": "stdout",
     "output_type": "stream",
     "text": [
      "(320, 117, 1024, 3)\n",
      "(117, 1024, 4)\n",
      "(320, 117, 1024, 3)\n",
      "World points:  (320, 1, 119808, 3)\n",
      "Image points:  (320, 117, 1024, 2)\n"
     ]
    }
   ],
   "source": [
    "\n",
    "world_pts_arr,x_zhang_R,x_zhang_L,P_R,P_L = create_1024_point_chess(xrange_5,yrange_5,zrange_5)\n",
    "\n",
    "\n",
    "np.save('world_pts_arr_2_'+str(iterations)+'_px.npy',world_pts_arr)\n",
    "np.save('x_zhang_R_2_'+str(iterations)+'_px.npy',x_zhang_R)\n",
    "np.save('x_zhang_L_2_'+str(iterations)+'_px.npy',x_zhang_L)"
   ]
  },
  {
   "cell_type": "code",
   "execution_count": 70,
   "metadata": {},
   "outputs": [],
   "source": [
    "def spot_center_coord(cx0,cy0,pixelGridX,pixelGridY):\n",
    "    cx0_max = np.where((cx0 < pixelGridX))\n",
    "    cx0_min = np.where((cx0 > pixelGridX))\n",
    "    #print(cx0_max[0][0])\n",
    "    #print(cx0_min[0][-1])\n",
    "    cy0_max = np.where((cy0 < pixelGridY))\n",
    "    cy0_min = np.where((cy0 > pixelGridY))\n",
    "    #print(cy0_max[0][0])\n",
    "    #print(cy0_min[0][-1])\n",
    "\n",
    "    return cx0_max[0][0],cx0_min[0][-1],cy0_max[0][0],cy0_min[0][-1]\n",
    "\n",
    "\n",
    "def findcircle(x_arr):\n",
    "    \"\"\"\n",
    "    Based on the image coordinates, and knowing it forms a square/rectangle, finds the centroid and radius\n",
    "\n",
    "    Parameters\n",
    "    ----------\n",
    "    x_arr:  np.array\n",
    "        image coordinates\n",
    "    Returns\n",
    "    -------\n",
    "    cx0:    np.float\n",
    "        centroid x\n",
    "    cy0:    np.float\n",
    "        centroid y    \n",
    "    r0 : np.float\n",
    "        circle radius\n",
    "    \"\"\"  \n",
    "    \n",
    "    Ax  = x_arr[0,0]\n",
    "    Ay  = x_arr[0,1]\n",
    "    Bx  = x_arr[int(x_arr.shape[0]/4),0]\n",
    "    By  = x_arr[int(x_arr.shape[0]/4),1]\n",
    "    Cx  = x_arr[int(x_arr.shape[0]/2),0]\n",
    "    Cy  = x_arr[int(x_arr.shape[0]/2),1]\n",
    "    Dx  = x_arr[int((x_arr.shape[0]/4*3)-1),0]\n",
    "    Dy  = x_arr[int((x_arr.shape[0]/4*3)-1),1]\n",
    "\n",
    "\n",
    "    cx0 = np.sum(x_arr[:,0])/np.sum(x_arr[:,0].shape[0])\n",
    "    cy0 = np.sum(x_arr[:,1])/np.sum(x_arr[:,1].shape[0])\n",
    "\n",
    "    r0 = np.abs((Dy-By)/2)\n",
    "    \n",
    "    return cx0,cy0,r0\n",
    "\n",
    "def createcircle(x_arr,nrpoints = 100):\n",
    "    \"\"\"\n",
    "    create the circle, using the function findcircle()\n",
    "\n",
    "    Parameters\n",
    "    ----------\n",
    "    x_arr:  np.array\n",
    "        image coordinates\n",
    "    nrpoints: integer\n",
    "        number of points that compose the circle\n",
    "    Returns\n",
    "    -------\n",
    "    circle_x:    np.array\n",
    "        points that define the circle in the cx0 coordinate\n",
    "    circle_y:    np.array\n",
    "        points that define the circle in the cy0 coordinate\n",
    "    cx0:    np.float\n",
    "        centroid x\n",
    "    cy0:    np.float\n",
    "        centroid y    \n",
    "    r0 : np.float\n",
    "        circle radius    \n",
    "    \"\"\"    \n",
    "\n",
    "    cx0,cy0,r0 = findcircle(x_arr)\n",
    "\n",
    "    theta = np.linspace(0, 2*np.pi, nrpoints)\n",
    "    x = r0*np.cos(theta)\n",
    "    y = r0*np.sin(theta)\n",
    "\n",
    "    circle_x = x+cx0\n",
    "    circle_y = y+cy0\n",
    "\n",
    "\n",
    "    return circle_x, circle_y,cx0,cy0,r0"
   ]
  },
  {
   "cell_type": "code",
   "execution_count": 71,
   "metadata": {},
   "outputs": [],
   "source": [
    "\"\"\"\n",
    "NMI : 2021-11-11 \n",
    "Minimum Volume Enclosing Ellipsoids, see e.g.\n",
    "NIMA MOSHTAGH : MINIMUM VOLUME ENCLOSING ELLIPSOIDS\n",
    "or \n",
    "Linus Källberg : Minimum_Enclosing_Balls_and_Ellipsoids (Thesis)\n",
    "\"\"\"\n",
    "from warnings import warn\n",
    "\n",
    "from numpy import pi\n",
    "from numpy import sqrt\n",
    "from numpy import arccos\n",
    "from numpy import dot, outer\n",
    "from numpy import diag, transpose\n",
    "from numpy import append\n",
    "from numpy import asarray\n",
    "from numpy import ones\n",
    "from numpy import argmax\n",
    "\n",
    "from numpy.linalg import inv\n",
    "from numpy.linalg import norm\n",
    "from numpy.linalg import eig\n",
    "\n",
    "\n",
    "def mvee( data, tolerance=1e-4, maxcnt=10000 ):\n",
    "    \"\"\"\n",
    "    param data: list of xy data points\n",
    "    param tolerance: termination condition for iterative approximation\n",
    "    param maxcnt: maximum number of iterations\n",
    "    type data: iterable of float\n",
    "    type tolerance: float\n",
    "    return: (offset, semiaxis, angle)\n",
    "    return type: ( (float, float), (float, float), float )\n",
    "    \"\"\"\n",
    "    locdata = asarray( data )\n",
    "    N = len( locdata )\n",
    "    if not locdata.shape == ( N, 2):\n",
    "        raise ValueError ( \" data must be of shape( n, 2 )\" )\n",
    "    if tolerance >= 1 or tolerance <= 0:\n",
    "        raise ValueError (\" 0 < tolerance < 1 required\")\n",
    "    if not isinstance( maxcnt, int ):\n",
    "        raise TypeError\n",
    "    if not maxcnt > 0:\n",
    "        raise ValueError\n",
    "    count = 1\n",
    "    err = 1\n",
    "    d = 2\n",
    "    d1 = d + 1\n",
    "    u = ones( N ) / N\n",
    "    P = transpose( locdata )\n",
    "    Q = append( P, ones( N ) ).reshape( 3, -1 )\n",
    "    while ( err > tolerance):\n",
    "        X = dot( Q, dot( diag( u ), transpose( Q ) ) )\n",
    "        M = diag( \n",
    "            dot( \n",
    "                transpose( Q ),\n",
    "                dot(\n",
    "                    inv( X ),\n",
    "                    Q\n",
    "                )\n",
    "            )\n",
    "        )\n",
    "        maximum = max( M )\n",
    "        j = argmax( M )\n",
    "        step_size = ( maximum - d1 ) / ( d1 * ( maximum - 1 ) )\n",
    "        new_u = ( 1 - step_size ) * u\n",
    "        new_u[ j ] += step_size\n",
    "        err = norm( new_u - u )\n",
    "        count = count + 1\n",
    "        u = new_u\n",
    "        if count > maxcnt:\n",
    "            warn(\n",
    "                \"Process did not converge in {} steps\".format(\n",
    "                    count - 1\n",
    "                ),\n",
    "                UserWarning\n",
    "            )\n",
    "            break\n",
    "    U = diag( u )\n",
    "    c = dot( P,  u )\n",
    "    A = inv(\n",
    "        dot(\n",
    "            P,\n",
    "            dot( U, transpose( P ) )\n",
    "        ) - outer( c, c )\n",
    "    ) / d\n",
    "    E, V = eig( A )\n",
    "    phiopt = arccos( V[ 0, 0 ] )\n",
    "    if V[ 0, 1 ] < 0: \n",
    "        phiopt = 2 * pi - phiopt\n",
    "    ### cw vs ccw and periodicity of pi\n",
    "    phiopt = -phiopt % pi\n",
    "    sol =  (  c, sqrt( 1.0 / E ), phiopt)\n",
    "    return sol"
   ]
  },
  {
   "cell_type": "code",
   "execution_count": 72,
   "metadata": {},
   "outputs": [],
   "source": [
    "x0_L = x_zhang_L[:,:,:,0]\n",
    "y0_L = x_zhang_L[:,:,:,1]\n",
    "\n",
    "\n",
    "x0_R = x_zhang_R[:,:,:,0]\n",
    "y0_R = x_zhang_R[:,:,:,1]"
   ]
  },
  {
   "cell_type": "markdown",
   "metadata": {},
   "source": [
    "### Find the center of the circle(point)"
   ]
  },
  {
   "cell_type": "code",
   "execution_count": 73,
   "metadata": {},
   "outputs": [],
   "source": [
    "# Generate pixel grid\n",
    "pixelGridX  = (np.arange(0,image_size[0])) \n",
    "pixelGridY  = (np.arange(0,image_size[1]))\n",
    "pixelGridXX, pixelGridYY = np.meshgrid(pixelGridX,pixelGridY)\n",
    "\n",
    "cx0_L = np.zeros((x_zhang_L.shape[0],x_zhang_L.shape[1],1))\n",
    "cy0_L = np.zeros((x_zhang_L.shape[0],x_zhang_L.shape[1],1))\n",
    "r0_L = np.zeros((x_zhang_L.shape[0],x_zhang_L.shape[1],1))\n",
    "cx0_R = np.zeros((x_zhang_R.shape[0],x_zhang_R.shape[1],1))\n",
    "cy0_R = np.zeros((x_zhang_R.shape[0],x_zhang_R.shape[1],1))\n",
    "r0_R = np.zeros((x_zhang_R.shape[0],x_zhang_R.shape[1],1))\n",
    "\n",
    "#\n",
    "x0_cL = np.zeros((x_zhang_L.shape[0],x_zhang_L.shape[1],gridSize))\n",
    "y0_cL = np.zeros((x_zhang_L.shape[0],x_zhang_L.shape[1],gridSize))\n",
    "x0_cR = np.zeros((x_zhang_R.shape[0],x_zhang_R.shape[1],gridSize))\n",
    "y0_cR = np.zeros((x_zhang_R.shape[0],x_zhang_R.shape[1],gridSize))\n",
    "\n",
    "\n",
    "for chess_i in range(x0_L.shape[0]):\n",
    "    for point_i in range(x0_L.shape[1]):\n",
    "\n",
    "        #circle definition \n",
    "        # multiply by pixel_width to get the results in mm, not in pixels\n",
    "        x0_cL[chess_i,point_i,:],y0_cL[chess_i,point_i,:],cx0_L[chess_i,point_i,:],cy0_L[chess_i,point_i,:],r0_L[chess_i,point_i,:] = createcircle(x_zhang_L[chess_i,point_i,:],gridSize)\n",
    "        x0_cR[chess_i,point_i,:],y0_cR[chess_i,point_i,:],cx0_R[chess_i,point_i,:],cy0_R[chess_i,point_i,:],r0_R[chess_i,point_i,:] = createcircle(x_zhang_R[chess_i,point_i,:],gridSize)"
   ]
  },
  {
   "cell_type": "markdown",
   "metadata": {},
   "source": [
    "## Find the centroids of every ellipse and circle using the moment method"
   ]
  },
  {
   "cell_type": "code",
   "execution_count": 74,
   "metadata": {},
   "outputs": [
    {
     "name": "stdout",
     "output_type": "stream",
     "text": [
      "World points:  (320, 1, 117, 3)\n",
      "Image points:  (320, 117, 2)\n"
     ]
    }
   ],
   "source": [
    "pixelGridX  = (np.arange(0,image_size[0])) \n",
    "pixelGridY  = (np.arange(0,image_size[1])) \n",
    "pixelGridXX, pixelGridYY = np.meshgrid(pixelGridX,pixelGridY)\n",
    "\n",
    "world_pts_arr,x_zhang_R_px,x_zhang_L_px, P_R, P_L = create_ideal_chessboard_pixel(xrange_5,yrange_5,zrange_5)"
   ]
  },
  {
   "cell_type": "code",
   "execution_count": 75,
   "metadata": {},
   "outputs": [],
   "source": [
    "np.save(\"world_pts_arr_f_2_\"+str(iterations)+\"_px.npy\",world_pts_arr)"
   ]
  },
  {
   "cell_type": "code",
   "execution_count": 76,
   "metadata": {},
   "outputs": [
    {
     "name": "stdout",
     "output_type": "stream",
     "text": [
      "(320, 117, 1024, 3)\n",
      "(117, 1024, 4)\n",
      "(320, 117, 1024, 3)\n",
      "World points:  (320, 1, 119808, 3)\n",
      "Image points:  (320, 117, 1024, 2)\n"
     ]
    }
   ],
   "source": [
    "# get for 512 per spot\n",
    "gridSize = 1024\n",
    "\n",
    "world_pts_arr,x_zhang_R,x_zhang_L,P_R,P_L = create_1024_point_chess(xrange_5,yrange_5,zrange_5)\n",
    "\n",
    "\n",
    "# create the arrays to store the centroids\n",
    "momentL = np.zeros((x0_L.shape[0],x0_L.shape[1],2))\n",
    "momentR = np.zeros((x0_R.shape[0],x0_R.shape[1],2))\n",
    "\n",
    "#for each chessboard\n",
    "for chess_i in range(x0_L.shape[0]):\n",
    "    for point_i in range(x0_L.shape[1]):\n",
    "        momentL[chess_i,point_i,0] = np.sum(x0_L[chess_i,point_i,:])/np.sum(x0_L.shape[2])\n",
    "        momentL[chess_i,point_i,1] = np.sum(y0_L[chess_i,point_i,:])/np.sum(y0_L.shape[2])\n",
    "\n",
    "        momentR[chess_i,point_i,0] = np.sum(x0_R[chess_i,point_i,:])/np.sum(x0_R.shape[2])\n",
    "        momentR[chess_i,point_i,1] = np.sum(y0_R[chess_i,point_i,:])/np.sum(y0_R.shape[2])"
   ]
  },
  {
   "cell_type": "markdown",
   "metadata": {},
   "source": [
    "### Difference between original point without spot and centroiding the spot"
   ]
  },
  {
   "cell_type": "code",
   "execution_count": 77,
   "metadata": {},
   "outputs": [
    {
     "data": {
      "text/plain": [
       "79.99105834960938"
      ]
     },
     "execution_count": 77,
     "metadata": {},
     "output_type": "execute_result"
    }
   ],
   "source": [
    "np.sum(momentL[:,:,:]-(x_zhang_L_px[:,:,:]))"
   ]
  },
  {
   "cell_type": "code",
   "execution_count": 78,
   "metadata": {},
   "outputs": [
    {
     "data": {
      "text/plain": [
       "29.857879638671875"
      ]
     },
     "execution_count": 78,
     "metadata": {},
     "output_type": "execute_result"
    }
   ],
   "source": [
    "np.sum(momentR[:,:,:]-(x_zhang_R_px[:,:,:]))"
   ]
  },
  {
   "cell_type": "markdown",
   "metadata": {},
   "source": [
    "### Find max and mim values that create boundaries in the ellipse and plot the center of the ellipse \n",
    "Also, meshgrid is added to the ellipse, representing the pixels"
   ]
  },
  {
   "cell_type": "code",
   "execution_count": 79,
   "metadata": {},
   "outputs": [
    {
     "data": {
      "text/plain": [
       "array([   0,    1,    2, ..., 1213, 1214, 1215])"
      ]
     },
     "execution_count": 79,
     "metadata": {},
     "output_type": "execute_result"
    }
   ],
   "source": [
    "pixelGridY"
   ]
  },
  {
   "cell_type": "code",
   "execution_count": 80,
   "metadata": {},
   "outputs": [],
   "source": [
    "x_L_lst = []\n",
    "y_L_lst = []\n",
    "for chess_b_i in range(x0_L.shape[0]):\n",
    "    x_L_pts = []\n",
    "    y_L_pts = []\n",
    "    for point in range(x0_L.shape[1]):\n",
    "        #ax.plot(x0_L[chess_b_i,point,:],y0_L[chess_b_i,point,:])\n",
    "        max_pt_x_L = np.max(x_zhang_L[chess_b_i,point,:,0])\n",
    "        max_pt_y_L = np.max(x_zhang_L[chess_b_i,point,:,1])\n",
    "        min_pt_x_L = np.min(x_zhang_L[chess_b_i,point,:,0])\n",
    "        min_pt_y_L = np.min(x_zhang_L[chess_b_i,point,:,1])\n",
    "\n",
    "        pts = np.array([[max_pt_x_L,max_pt_y_L],[max_pt_x_L,min_pt_y_L],[min_pt_x_L,min_pt_y_L],[min_pt_x_L,max_pt_y_L]])\n",
    "        cmin_pxl_L = np.zeros((pts.shape[0],pts.shape[1]))\n",
    "        for pts_i,pts_d in enumerate(pts):\n",
    "            cx0max_L,cx0min_L,cy0max_L,cy0min_L  = spot_center_coord(pts_d[0],pts_d[1],pixelGridX,pixelGridY)\n",
    "\n",
    "            # max and min points in (x,y) coordinates\n",
    "            cmin_pxl_L[pts_i,0] = (cx0min_L)\n",
    "            cmin_pxl_L[pts_i,1] = (cy0min_L)\n",
    "\n",
    "        x_L_pts.append(np.arange(cmin_pxl_L[3,0],cmin_pxl_L[0,0]+1,1))\n",
    "        y_L_pts.append(np.arange(cmin_pxl_L[1,1],cmin_pxl_L[0,1]+1,1))\n",
    "        xx,yy = np.meshgrid(x_L_pts[point],y_L_pts[point])\n",
    "\n",
    "        #ax.plot(xx,yy, color = 'g',ls = \"None\", marker = \"*\")\n",
    "\n",
    "\n",
    "    x_L_lst.append(x_L_pts)\n",
    "    y_L_lst.append(y_L_pts)\n",
    "#ax.set_aspect(1)    \n",
    "#plt.show()"
   ]
  },
  {
   "cell_type": "code",
   "execution_count": 81,
   "metadata": {},
   "outputs": [],
   "source": [
    "x_R_lst = []\n",
    "y_R_lst = []\n",
    "for chess_b_i in range(x0_R.shape[0]):\n",
    "    x_R_pts = []\n",
    "    y_R_pts = []\n",
    "    for point in range(x0_R.shape[1]):\n",
    "        #ax.plot(x0_L[chess_b_i,point,:],y0_L[chess_b_i,point,:])\n",
    "        max_pt_x_R = np.max(x_zhang_R[chess_b_i,point,:,0])\n",
    "        max_pt_y_R = np.max(x_zhang_R[chess_b_i,point,:,1])\n",
    "        min_pt_x_R = np.min(x_zhang_R[chess_b_i,point,:,0])\n",
    "        min_pt_y_R = np.min(x_zhang_R[chess_b_i,point,:,1])\n",
    "\n",
    "        pts = np.array([[max_pt_x_R,max_pt_y_R],[max_pt_x_R,min_pt_y_R],[min_pt_x_R,min_pt_y_R],[min_pt_x_R,max_pt_y_R]])\n",
    "        cmin_pxl_R = np.zeros((pts.shape[0],pts.shape[1]))\n",
    "        for pts_i,pts_d in enumerate(pts):\n",
    "            cx0max_R,cx0min_R,cy0max_R,cy0min_R  = spot_center_coord(pts_d[0],pts_d[1],pixelGridX,pixelGridY)\n",
    "\n",
    "            # max and min points in (x,y) coordinates\n",
    "            cmin_pxl_R[pts_i,0] = (cx0min_R)\n",
    "            cmin_pxl_R[pts_i,1] = (cy0min_R)\n",
    "\n",
    "        x_R_pts.append(np.arange(cmin_pxl_R[3,0],cmin_pxl_R[0,0]+1,1))\n",
    "        y_R_pts.append(np.arange(cmin_pxl_R[1,1],cmin_pxl_R[0,1]+1,1))\n",
    "        xx,yy = np.meshgrid(x_R_pts[point],y_R_pts[point])\n",
    "\n",
    "        #ax.plot(xx,yy, color = 'g',ls = \"None\", marker = \"*\")\n",
    "\n",
    "\n",
    "    x_R_lst.append(x_R_pts)\n",
    "    y_R_lst.append(y_R_pts)\n",
    "#ax.set_aspect(1)    \n",
    "#plt.show()"
   ]
  },
  {
   "cell_type": "markdown",
   "metadata": {},
   "source": [
    "### Find the ellipses center, semi-major and semi-minor"
   ]
  },
  {
   "cell_type": "code",
   "execution_count": 82,
   "metadata": {},
   "outputs": [],
   "source": [
    "X_R = np.array(x_zhang_R[:,:,:,:])\n",
    "X_L = np.array(x_zhang_L[:,:,:,:])\n",
    "\n",
    "xy_R_arr = np.zeros((x_zhang_R.shape[0],x_zhang_R.shape[1],2))\n",
    "ab_R_arr = np.zeros((x_zhang_R.shape[0],x_zhang_R.shape[1],2))\n",
    "theta_arr_R = np.zeros((x_zhang_R.shape[0],x_zhang_R.shape[1],1))\n",
    "\n",
    "xy_L_arr = np.zeros((x_zhang_L.shape[0],x_zhang_L.shape[1],2))\n",
    "ab_L_arr = np.zeros((x_zhang_L.shape[0],x_zhang_L.shape[1],2))\n",
    "theta_arr_L = np.zeros((x_zhang_L.shape[0],x_zhang_L.shape[1],1))\n",
    "\n",
    "# centroid array\n",
    "for chess_i in range(x_zhang_L.shape[0]):\n",
    "    for point_i in range(x_zhang_L.shape[1]):\n",
    "        xy_L_arr[chess_i,point_i,:], ab_L_arr[chess_i,point_i,:],theta_arr_R[chess_i,point_i,:] = mvee(X_L[chess_i,point_i,:,:])\n",
    "        xy_R_arr[chess_i,point_i,:], ab_R_arr[chess_i,point_i,:],theta_arr_L[chess_i,point_i,:] = mvee(X_R[chess_i,point_i,:,:])\n"
   ]
  },
  {
   "cell_type": "markdown",
   "metadata": {},
   "source": [
    "#### Check if the difference between the mvee method and the original spot is correct"
   ]
  },
  {
   "cell_type": "code",
   "execution_count": 83,
   "metadata": {},
   "outputs": [
    {
     "data": {
      "text/plain": [
       "-41.14532318350548"
      ]
     },
     "execution_count": 83,
     "metadata": {},
     "output_type": "execute_result"
    }
   ],
   "source": [
    "np.sum((x_zhang_L_px[:,:,:])-xy_L_arr[:,:,:])\n",
    "#NOTE: The result is very good"
   ]
  },
  {
   "cell_type": "code",
   "execution_count": 84,
   "metadata": {},
   "outputs": [
    {
     "data": {
      "text/plain": [
       "23.71684807731377"
      ]
     },
     "execution_count": 84,
     "metadata": {},
     "output_type": "execute_result"
    }
   ],
   "source": [
    "np.sum((x_zhang_R_px[:,:,:])-xy_R_arr[:,:,:])\n",
    "#NOTE: The result is very good"
   ]
  },
  {
   "cell_type": "markdown",
   "metadata": {},
   "source": [
    "### Do analysis pixel by pixel and check if correlates withthe original ellipse"
   ]
  },
  {
   "cell_type": "code",
   "execution_count": 85,
   "metadata": {},
   "outputs": [],
   "source": [
    "def circlediscretization(X_crns_L,Y_crns_L,xgrid_L,ygrid_L,cx0_L,cy0_L,r0_L,chess,point,subpixel_grid,pixel_width):\n",
    "       \n",
    "    lstL = []\n",
    "    ptchsL = []\n",
    "\n",
    "    for i in range(X_crns_L.flatten().shape[0]):\n",
    "        cx0max_L = X_crns_L.flatten()[i]\n",
    "        cy0max_L = Y_crns_L.flatten()[i]\n",
    "\n",
    "        # translate the left bottom corner\n",
    "        x_pixel_L = cx0max_L+xgrid_L\n",
    "        y_pixel_L = cy0max_L+ygrid_L\n",
    "        # create sub-pixel grid\n",
    "        xx_pixel_L, yy_pixel_L = np.meshgrid(x_pixel_L,y_pixel_L)\n",
    "        \n",
    "        circ_L = np.sqrt((xx_pixel_L-cx0_L[chess,point,:])**2 + (yy_pixel_L-cy0_L[chess,point,:])**2) <= r0_L[chess,point,:]\n",
    "        circ_corners_L = np.where(circ_L == True)\n",
    "        xxgrid_L = np.array(circ_corners_L).T\n",
    "\n",
    "\n",
    "        lstL.append((xxgrid_L.shape[0]/(subpixel_grid**2))*100)\n",
    "\n",
    "        ptchsL.append(Rectangle((cx0max_L,cy0max_L), pixel_width,pixel_width))\n",
    "\n",
    "    return xxgrid_L,lstL,ptchsL"
   ]
  },
  {
   "cell_type": "code",
   "execution_count": 86,
   "metadata": {},
   "outputs": [],
   "source": [
    "def ellipsediscretization(X_crns_L,Y_crns_L,xgrid_L,ygrid_L,xc_arr_L,yc_arr_L,a_arr_L,b_arr_L,theta_arr,chess,point,subpixel_grid,pixel_width):\n",
    "    \"\"\"\n",
    "    Based on the parameters fed to the function, it discretizes the ellipse returning the occupied percentage of each pixel by the ellipse\n",
    "    ----------\n",
    "    X_crns: np.array\n",
    "        Coordinate mesh grid on the x axis\n",
    "    Y_crns:    np.array   \n",
    "        Coordinate mesh grid on the y axis \n",
    "    x_subgrid:    np.array\n",
    "        x-axis grid for the subgrid portion\n",
    "    y_subgrid:    np.array\n",
    "        y-axis grid for the subgrid portion\n",
    "    xc_arr\n",
    "    yc_arr\n",
    "    a_arr\n",
    "    b_arr\n",
    "    theta_arr\n",
    "    chess\n",
    "    point\n",
    "    subpixel_grid\n",
    "    pixel_width\n",
    "    \n",
    "    Returns    \n",
    "    -------    \n",
    "    world_pts_arr : np.array\n",
    "        world coordinates\n",
    "    x_zhang_R:    np.array\n",
    "        right image coordinates\n",
    "    x_zhang_L:    np.array\n",
    "        Left image coordinates\n",
    "    P_L : np.array\n",
    "        Left camera Projection matrix\n",
    "    P_R : np.array\n",
    "        Right camera Projection matrix\n",
    "                \n",
    "    \"\"\"\n",
    "    \n",
    "    lstL = []\n",
    "    ptchsL = []\n",
    "\n",
    "    for i in range(X_crns_L.flatten().shape[0]):\n",
    "        cx0max_L = X_crns_L.flatten()[i]\n",
    "        cy0max_L = Y_crns_L.flatten()[i]\n",
    "\n",
    "        # translate the left bottom corner\n",
    "        x_pixel_L = cx0max_L+xgrid_L\n",
    "        y_pixel_L = cy0max_L+ygrid_L\n",
    "        # create sub-pixel grid\n",
    "        xx_pixel_L, yy_pixel_L = np.meshgrid(x_pixel_L,y_pixel_L)\n",
    "\n",
    "        x_L, y_L = xx_pixel_L.flatten(), yy_pixel_L.flatten()\n",
    "                \n",
    "        # calculate whether a point is inside the ellipse or not\n",
    "        cos_angle = np.cos(np.radians(180.-theta_arr*180/np.pi))\n",
    "        sin_angle = np.sin(np.radians(180.-theta_arr*180/np.pi))\n",
    "\n",
    "        x_c_L = x_L - xc_arr_L\n",
    "        y_c_L = y_L - yc_arr_L\n",
    "\n",
    "        xct_L = x_c_L * cos_angle - y_c_L * sin_angle\n",
    "        yct_L = x_c_L * sin_angle + y_c_L * cos_angle \n",
    "\n",
    "        rad_cc = (xct_L**2/(a_arr_L)**2) + (yct_L**2/(b_arr_L)**2)\n",
    "\n",
    "        # set the \n",
    "        xxgrid_L = np.where(rad_cc <= 1.)[0]\n",
    "\n",
    "\n",
    "        lstL.append((xxgrid_L.shape[0]/(subpixel_grid**2))*100)\n",
    "\n",
    "        ptchsL.append(Rectangle((cx0max_L,cy0max_L), 1,1))\n",
    "    \n",
    "    return xxgrid_L,lstL,ptchsL "
   ]
  },
  {
   "cell_type": "code",
   "execution_count": 87,
   "metadata": {},
   "outputs": [],
   "source": [
    "\n",
    "from matplotlib.path import Path\n",
    "\n",
    "\n",
    "import warnings\n",
    "warnings.filterwarnings(\"error\")\n",
    "\n",
    "centroid_L_arr = np.zeros((x0_L.shape[0],x0_L.shape[1],2))\n",
    "xgrid_L = np.linspace(0,1,subpixel_grid)\n",
    "ygrid_L = np.linspace(0,1,subpixel_grid)\n",
    "\n",
    "chess_pts_L = []\n",
    "chess_ptchs_L = []\n",
    "\n",
    "centroid_L_arr = np.zeros((x0_L.shape[0],x0_L.shape[1],2))\n",
    "# iterate the chessboards\n",
    "\n",
    "for chess_i in range(x0_L.shape[0]):\n",
    "\n",
    "    lst_pts_L = []\n",
    "    ptchs_pts_L = []\n",
    "    # runs each point in the chessboard\n",
    "    for point_i in range(x0_L.shape[1]):\n",
    "        \n",
    "        lstL = []\n",
    "        ptchsL = []\n",
    "        \n",
    "        # meshgrid for the pixel\n",
    "        [X_crns_L,Y_crns_L] = np.meshgrid(x_L_lst[chess_i][point_i],y_L_lst[chess_i][point_i])\n",
    "\n",
    "        if(chess_i % 5 == 0):\n",
    "            xxgrid_L,lstL,ptchsL = circlediscretization(X_crns_L,Y_crns_L,xgrid_L,ygrid_L,cx0_L,cy0_L,r0_L,chess_i,point_i,subpixel_grid,1)\n",
    "\n",
    "        else:\n",
    "            xxgrid_L,lstL,ptchsL  = ellipsediscretization(X_crns_L,Y_crns_L,xgrid_L,ygrid_L,xy_L_arr[chess_i,point_i,0],xy_L_arr[chess_i,point_i,1],ab_L_arr[chess_i,point_i,0],ab_L_arr[chess_i,point_i,1],theta_arr_L[chess_i,point_i,:],chess_i,point_i,subpixel_grid,1)\n",
    "        # if the max and min values as 0 it means the point was not correctly identified\n",
    "        if(np.max(lstL) == 0 and np.min(lstL) == 0):\n",
    "            xxgrid_L,lstL,ptchsL = circlediscretization(X_crns_L,Y_crns_L,xgrid_L,ygrid_L,cx0_L,cy0_L,r0_L,chess_i,point_i,subpixel_grid,1)\n",
    "                                                        \n",
    "\n",
    "        centroid_L_x = np.sum(np.multiply(X_crns_L.flatten(),lstL))/(np.sum(lstL)) + 0.5\n",
    "        centroid_L_y = np.sum(np.multiply(Y_crns_L.flatten(),lstL))/(np.sum(lstL)) + 0.5\n",
    "        centroid_L_arr[chess_i,point_i,:]  = (centroid_L_x,centroid_L_y)\n",
    "\n",
    "        lst_pts_L.append(lstL)\n",
    "        ptchs_pts_L.append(ptchsL)            \n",
    "\n",
    "    chess_ptchs_L.append(ptchs_pts_L)\n",
    "    chess_pts_L.append(lst_pts_L)"
   ]
  },
  {
   "cell_type": "code",
   "execution_count": 88,
   "metadata": {},
   "outputs": [
    {
     "data": {
      "text/plain": [
       "88.88015994351144"
      ]
     },
     "execution_count": 88,
     "metadata": {},
     "output_type": "execute_result"
    }
   ],
   "source": [
    "np.sum(centroid_L_arr[:,:,:] - (x_zhang_L_px[:,:,:]))"
   ]
  },
  {
   "cell_type": "code",
   "execution_count": 89,
   "metadata": {},
   "outputs": [],
   "source": [
    "\n",
    "warnings.filterwarnings(\"error\")\n",
    "\n",
    "centroid_R_arr = np.zeros((x0_R.shape[0],x0_R.shape[1],2))\n",
    "xgrid_R = np.linspace(0,1,subpixel_grid)\n",
    "ygrid_R = np.linspace(0,1,subpixel_grid)\n",
    "\n",
    "chess_pts_R = []\n",
    "chess_ptchs_R = []\n",
    "\n",
    "centroid_R_arr = np.zeros((x0_R.shape[0],x0_R.shape[1],2))\n",
    "# iterate the chessboards\n",
    "\n",
    "for chess_i in range(x0_R.shape[0]):\n",
    "\n",
    "    lst_pts_R = []\n",
    "    ptchs_pts_R = []\n",
    "    # runs each point in the chessboard\n",
    "    for point_i in range(x0_R.shape[1]):\n",
    "        \n",
    "        lstR = []\n",
    "        ptchsR = []\n",
    "        \n",
    "        # meshgrid for the pixel\n",
    "        [X_crns_R,Y_crns_R] = np.meshgrid(x_R_lst[chess_i][point_i],y_R_lst[chess_i][point_i])\n",
    "\n",
    "        if(chess_i % 5 == 0):\n",
    "            xxgrid_R,lstR,ptchsR = circlediscretization(X_crns_R,Y_crns_R,xgrid_R,ygrid_R,cx0_R,cy0_R,r0_R,chess_i,point_i,subpixel_grid,1)\n",
    "\n",
    "        else:\n",
    "            xxgrid_R,lstR,ptchsR  = ellipsediscretization(X_crns_R,Y_crns_R,xgrid_R,ygrid_R,xy_R_arr[chess_i,point_i,0],xy_R_arr[chess_i,point_i,1],ab_R_arr[chess_i,point_i,0],ab_R_arr[chess_i,point_i,1],theta_arr_R[chess_i,point_i,:],chess_i,point_i,subpixel_grid,1)\n",
    "        # if the max and min values as 0 it means the point was not correctly identified\n",
    "        if(np.max(lstR) == 0 and np.min(lstR) == 0):\n",
    "            xxgrid_R,lstR,ptchsR = circlediscretization(X_crns_R,Y_crns_R,xgrid_R,ygrid_R,cx0_R,cy0_R,r0_R,chess_i,point_i,subpixel_grid,1)\n",
    "                                                        \n",
    "\n",
    "        centroid_R_x = np.sum(np.multiply(X_crns_R.flatten(),lstR))/(np.sum(lstR)) + 0.5\n",
    "        centroid_R_y = np.sum(np.multiply(Y_crns_R.flatten(),lstR))/(np.sum(lstR)) + 0.5\n",
    "        centroid_R_arr[chess_i,point_i,:]  = (centroid_R_x,centroid_R_y)\n",
    "\n",
    "        lst_pts_R.append(lstR)\n",
    "        ptchs_pts_R.append(ptchsR)            \n",
    "\n",
    "    chess_ptchs_R.append(ptchs_pts_R)\n",
    "    chess_pts_R.append(lst_pts_R)"
   ]
  },
  {
   "cell_type": "code",
   "execution_count": 90,
   "metadata": {},
   "outputs": [
    {
     "data": {
      "text/plain": [
       "24.665770051653197"
      ]
     },
     "execution_count": 90,
     "metadata": {},
     "output_type": "execute_result"
    }
   ],
   "source": [
    "np.sum(centroid_R_arr[:,:,:] - (x_zhang_R_px[:,:,:]))"
   ]
  },
  {
   "cell_type": "code",
   "execution_count": 91,
   "metadata": {},
   "outputs": [],
   "source": [
    "np.save(\"centroid_R_arr_2_80_px.npy\",centroid_R_arr)\n",
    "np.save(\"centroid_L_arr_2_80_px.npy\",centroid_L_arr)"
   ]
  },
  {
   "cell_type": "code",
   "execution_count": null,
   "metadata": {},
   "outputs": [],
   "source": []
  }
 ],
 "metadata": {
  "kernelspec": {
   "display_name": "Python 3.10.5 64-bit (windows store)",
   "language": "python",
   "name": "python3"
  },
  "language_info": {
   "codemirror_mode": {
    "name": "ipython",
    "version": 3
   },
   "file_extension": ".py",
   "mimetype": "text/x-python",
   "name": "python",
   "nbconvert_exporter": "python",
   "pygments_lexer": "ipython3",
   "version": "3.10.5"
  },
  "orig_nbformat": 4,
  "vscode": {
   "interpreter": {
    "hash": "731f58b921e0fdcacfe718f027abc2ccf38e5567ff502f3bb87e84e31ade2205"
   }
  }
 },
 "nbformat": 4,
 "nbformat_minor": 2
}

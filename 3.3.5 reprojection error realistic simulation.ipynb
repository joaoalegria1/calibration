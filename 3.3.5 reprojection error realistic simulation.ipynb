{
 "cells": [
  {
   "cell_type": "code",
   "execution_count": 1,
   "metadata": {},
   "outputs": [],
   "source": [
    "vscode = 1"
   ]
  },
  {
   "cell_type": "code",
   "execution_count": 2,
   "metadata": {},
   "outputs": [],
   "source": [
    "if(vscode == 1):\n",
    "    # for vscode\n",
    "    %matplotlib qt\n",
    "else:\n",
    "    # for jupyter notebook\n",
    "    from mpl_toolkits.mplot3d import axes3d\n",
    "    import matplotlib.pyplot as plt\n",
    "\n",
    "    %matplotlib notebook\n"
   ]
  },
  {
   "cell_type": "code",
   "execution_count": 3,
   "metadata": {},
   "outputs": [],
   "source": [
    "import matplotlib.pyplot as plt\n",
    "import numpy as np\n",
    "import cv2 \n",
    "from typing import Sequence\n",
    "from calib_lib import *\n",
    "DECIMALS = 2  # how many decimal places to use in print\n"
   ]
  },
  {
   "cell_type": "markdown",
   "metadata": {},
   "source": [
    "## Calculation of the 2D points"
   ]
  },
  {
   "cell_type": "code",
   "execution_count": 4,
   "metadata": {},
   "outputs": [],
   "source": [
    "F = 16                                       # focal length( in mm )\n",
    "image_size = np.array([1936,1216])               # sensor size(in mm)\n",
    "pixel_width = 5.86e-3                       # pixel size in mm\n",
    "PX= image_size[0]/2.0                       # principal point x-coordinate\n",
    "PY= image_size[1]/2.0                       # principal point y-coordinate\n",
    "IMAGE_HEIGTH = image_size[1]\n",
    "IMAGE_WIDTH = image_size[0]\n",
    "THETA_X = 0                                 # roll angle\n",
    "THETA_Y = 0                                 # pitch angle\n",
    "THETA_Z = 0                                 # yaw angle\n",
    "\n",
    "\n",
    "# camera Right\n",
    "THETA_X_R = 0                                 # roll angle\n",
    "THETA_Y_R = 0                                 # pitch angle\n",
    "THETA_Z_R= 0                                 # yaw angle\n",
    "# camera Left\n",
    "THETA_X_L = 0                                 # roll angle\n",
    "THETA_Y_L = 0                                 # pitch angle\n",
    "THETA_Z_L= 0                                 # yaw angle\n",
    "\n",
    "C_L = np.array([0,0,0])                     # camera centre\n",
    "\n",
    "C_R = np.array([500,0,0])\n",
    "\n",
    "chess_dimx,chess_dimy = (13,9)\n",
    "chess_sq_size = 44"
   ]
  },
  {
   "cell_type": "code",
   "execution_count": 5,
   "metadata": {},
   "outputs": [],
   "source": [
    "world_pts = create_chessboard(chess_dimx,chess_dimy,chess_sq_size)\n",
    "X = get_chessboard_rot_trans(world_pts,rx = THETA_X,ry = THETA_Y,rz = THETA_Z,tx = 250,ty = 10,tz  = 20000)"
   ]
  },
  {
   "cell_type": "code",
   "execution_count": 6,
   "metadata": {},
   "outputs": [],
   "source": [
    "x_L_list, X_arr_L, E_L, K_L,P_L = get_image_points(X,PX,PY,thetax=THETA_X_L,thetay = THETA_Y_L,thetaz = THETA_Z_L,trans_x= -C_L[0],trans_y= -C_L[1],trans_z= -C_L[2],F = F,mx = (1/pixel_width),my =(1/pixel_width))\n",
    "x_R_list, X_arr_R, E_R, K_R,P_R = get_image_points(X,PX,PY,thetax = THETA_X_R,thetay = THETA_Y_R, thetaz = THETA_Z_R,trans_x= -C_R[0],trans_y= -C_R[1],trans_z= -C_R[2],F = F,mx = (1/pixel_width),my =(1/pixel_width))"
   ]
  },
  {
   "cell_type": "code",
   "execution_count": 7,
   "metadata": {},
   "outputs": [],
   "source": [
    "fig, (ax1,ax2) = plt.subplots(2,1)\n",
    "ax1.plot(x_L_list[:,0],x_L_list[:,1], color = 'r',ls = \"None\", marker = \".\")\n",
    "ax2.plot(x_R_list[:,0],x_R_list[:,1], color = 'r',ls = \"None\", marker = \".\")\n",
    "ax1.set_aspect(1)\n",
    "ax2.set_aspect(1)\n",
    "ax1.grid()\n",
    "ax2.grid()\n",
    "plt.show()"
   ]
  },
  {
   "cell_type": "markdown",
   "metadata": {},
   "source": [
    "## Cameras parameters"
   ]
  },
  {
   "cell_type": "code",
   "execution_count": 8,
   "metadata": {},
   "outputs": [],
   "source": [
    "F = 16                                       # focal length( in mm )\n",
    "image_size = np.array([1936,1216])               # sensor size(in mm)\n",
    "pixel_width = 5.86e-3                       # pixel size in mm\n",
    "PX= image_size[0]/2.0                       # principal point x-coordinate\n",
    "PY= image_size[1]/2.0                       # principal point y-coordinate\n",
    "IMAGE_HEIGTH = image_size[1]\n",
    "IMAGE_WIDTH = image_size[0]\n",
    "THETA_X = 0                                 # roll angle\n",
    "THETA_Y = 0                                 # pitch angle\n",
    "THETA_Z = 0                                 # yaw angle\n",
    "\n",
    "\n",
    "# camera Right\n",
    "THETA_X_R = 0                                 # roll angle\n",
    "THETA_Y_R = 0                                 # pitch angle\n",
    "THETA_Z_R= 0                                 # yaw angle\n",
    "# camera Left\n",
    "THETA_X_L = 0                                 # roll angle\n",
    "THETA_Y_L = 0                                 # pitch angle\n",
    "THETA_Z_L= 0                                 # yaw angle\n",
    "\n",
    "C_L = np.array([0,0,0])                     # camera centre\n",
    "\n",
    "C_R = np.array([500,0,0])\n",
    "\n",
    "chess_dimx,chess_dimy = (13,9)\n",
    "chess_sq_size = 44\n"
   ]
  },
  {
   "cell_type": "markdown",
   "metadata": {},
   "source": [
    "## Load variables \n",
    "Load the variables from the txt files. This files contain the Projection matrix, rotation and translation from the previous scripts calibration "
   ]
  },
  {
   "cell_type": "code",
   "execution_count": 9,
   "metadata": {},
   "outputs": [],
   "source": [
    "P_L_original_p = [np.array([[2.73037543e+03, 0.00000000e+00, 9.68000000e+02, 0.00000000e+00],\n",
    "                        [0.00000000e+00, 2.73037543e+03, 6.08000000e+02, 0.00000000e+00],\n",
    "                        [0.00000000e+00, 0.00000000e+00, 1.00000000e+00, 0.00000000e+00]]),\n",
    "                np.array([[2.73037543e+03, 0.00000000e+00, 9.68000000e+02, 0.00000000e+00],\n",
    "                        [0.00000000e+00, 2.73037543e+03, 6.08000000e+02, 0.00000000e+00],\n",
    "                        [0.00000000e+00, 0.00000000e+00, 1.00000000e+00, 0.00000000e+00]]),\n",
    "                np.array([[2.73037543e+03, 0.00000000e+00, 9.68000000e+02, 0.00000000e+00],\n",
    "                        [0.00000000e+00, 2.73037543e+03, 6.08000000e+02, 0.00000000e+00],\n",
    "                        [0.00000000e+00, 0.00000000e+00, 1.00000000e+00, 0.00000000e+00]]),\n",
    "                np.array([[2.73037543e+03, 0.00000000e+00, 9.68000000e+02, 0.00000000e+00],\n",
    "                        [0.00000000e+00, 2.73037543e+03, 6.08000000e+02, 0.00000000e+00],\n",
    "                        [0.00000000e+00, 0.00000000e+00, 1.00000000e+00, 0.00000000e+00]])]"
   ]
  },
  {
   "cell_type": "code",
   "execution_count": 10,
   "metadata": {},
   "outputs": [],
   "source": [
    "P_R_original_p =  [np.array([[ 2.73037543e+03,  0.00000000e+00,9.68000000e+02,-1.36518771e+06],\n",
    "                        [ 0.00000000e+00,  2.73037543e+03,  6.08000000e+02,0.00000000e+00],\n",
    "                        [ 0.00000000e+00,  0.00000000e+00,  1.00000000e+00,0.00000000e+00]]),\n",
    "                np.array([[ 2.73037543e+03,  0.00000000e+00,  9.68000000e+02,-1.36518771e+06],\n",
    "                        [ 0.00000000e+00,  2.73037543e+03,  6.08000000e+02,0.00000000e+00],\n",
    "                        [ 0.00000000e+00,  0.00000000e+00,  1.00000000e+00,0.00000000e+00]]),\n",
    "                np.array([[ 2.73037543e+03,  0.00000000e+00,  9.68000000e+02,-1.36518771e+06],\n",
    "                        [ 0.00000000e+00,  2.73037543e+03,  6.08000000e+02,0.00000000e+00],\n",
    "                        [ 0.00000000e+00,  0.00000000e+00,  1.00000000e+00,0.00000000e+00]]),\n",
    "                np.array([[ 2.73037543e+03,  0.00000000e+00,  9.68000000e+02,-1.36518771e+06],\n",
    "                        [ 0.00000000e+00,  2.73037543e+03,  6.08000000e+02,0.00000000e+00],\n",
    "                        [ 0.00000000e+00,  0.00000000e+00,  1.00000000e+00,0.00000000e+00]])]\n"
   ]
  },
  {
   "cell_type": "code",
   "execution_count": 11,
   "metadata": {},
   "outputs": [],
   "source": [
    "ret_S_2_p =   [[0.002909729498763357],\n",
    "              [0.002909729498763357],\n",
    "              [0.0030442238152310033],\n",
    "              [0.0031819477430528285]]"
   ]
  },
  {
   "cell_type": "code",
   "execution_count": 12,
   "metadata": {},
   "outputs": [],
   "source": [
    "new_mtxL_list_2_p =     [[np.array([[2.73034199e+03, 0.00000000e+00, 9.68109230e+02],\n",
    "                                [0.00000000e+00, 2.73037770e+03, 6.08009929e+02],\n",
    "                                [0.00000000e+00, 0.00000000e+00, 1.00000000e+00]])],\n",
    "                        [np.array([[2.73034199e+03, 0.00000000e+00, 9.68109230e+02],\n",
    "                                [0.00000000e+00, 2.73037770e+03, 6.08009929e+02],\n",
    "                                [0.00000000e+00, 0.00000000e+00, 1.00000000e+00]])],\n",
    "                        [np.array([[2.73034877e+03, 0.00000000e+00, 9.68067732e+02],\n",
    "                                [0.00000000e+00, 2.73039291e+03, 6.08005787e+02],\n",
    "                                [0.00000000e+00, 0.00000000e+00, 1.00000000e+00]])],\n",
    "                        [np.array([[2.73038811e+03, 0.00000000e+00, 9.68131797e+02],\n",
    "                                [0.00000000e+00, 2.73042242e+03, 6.07988679e+02],\n",
    "                                [0.00000000e+00, 0.00000000e+00, 1.00000000e+00]])]]  "
   ]
  },
  {
   "cell_type": "code",
   "execution_count": 13,
   "metadata": {},
   "outputs": [],
   "source": [
    "ret_L_list_2_p = [[0.003247775337673299],\n",
    "                [0.003247775337673299],\n",
    "                [0.0027841689291071754],\n",
    "                [0.0038484414949279395]]\n"
   ]
  },
  {
   "cell_type": "code",
   "execution_count": 14,
   "metadata": {},
   "outputs": [],
   "source": [
    "\n",
    "new_mtxR_list_2_p =     [[np.array([[2.73031096e+03, 0.00000000e+00, 9.67986799e+02],\n",
    "                                [0.00000000e+00, 2.73029460e+03, 6.08016586e+02],\n",
    "                                [0.00000000e+00, 0.00000000e+00, 1.00000000e+00]])],\n",
    "                        [np.array([[2.73031096e+03, 0.00000000e+00, 9.67986799e+02],\n",
    "                                [0.00000000e+00, 2.73029460e+03, 6.08016586e+02],\n",
    "                                [0.00000000e+00, 0.00000000e+00, 1.00000000e+00]])],\n",
    "                        [np.array([[2.73034118e+03, 0.00000000e+00, 9.67998478e+02],\n",
    "                                [0.00000000e+00, 2.73033903e+03, 6.08007576e+02],\n",
    "                                [0.00000000e+00, 0.00000000e+00, 1.00000000e+00]])],\n",
    "                        [np.array([[2.73032331e+03, 0.00000000e+00, 9.67986100e+02],\n",
    "                               [0.00000000e+00, 2.73031593e+03, 6.08014196e+02],\n",
    "                               [0.00000000e+00, 0.00000000e+00, 1.00000000e+00]])]]\n"
   ]
  },
  {
   "cell_type": "code",
   "execution_count": 15,
   "metadata": {},
   "outputs": [],
   "source": [
    "ret_R_list_2_p =    [[0.001983870347140716],        \n",
    "                    [0.002199640096257195],\n",
    "                    [0.0029483767244468315],\n",
    "                    [0.001983870347140716]]"
   ]
  },
  {
   "cell_type": "code",
   "execution_count": 16,
   "metadata": {},
   "outputs": [],
   "source": [
    "\n",
    "Rot_list_2_p =  [[np.array([[ 9.99999999e-01, -8.61536753e-07,  4.51743995e-05],\n",
    "                                [ 8.61632995e-07,  1.00000000e+00, -2.13042601e-06],\n",
    "                                [-4.51743976e-05,  2.13046493e-06,  9.99999999e-01]])],\n",
    "                [np.array([[ 9.99999999e-01, -8.61536753e-07,  4.51743995e-05],\n",
    "                                [ 8.61632995e-07,  1.00000000e+00, -2.13042601e-06],\n",
    "                                [-4.51743976e-05,  2.13046493e-06,  9.99999999e-01]])],\n",
    "                [np.array([[ 1.00000000e+00, -6.60280586e-07,  2.74348357e-05],\n",
    "                                [ 6.60301291e-07,  1.00000000e+00, -7.54710404e-07],\n",
    "                                [-2.74348352e-05,  7.54728519e-07,  1.00000000e+00]])],\n",
    "                [np.array([[ 9.99999998e-01, -7.79612838e-07,  5.64420483e-05],\n",
    "                                [ 7.80290505e-07,  1.00000000e+00, -1.20064053e-05],\n",
    "                                [-5.64420390e-05,  1.20064494e-05,  9.99999998e-01]])]]"
   ]
  },
  {
   "cell_type": "code",
   "execution_count": 17,
   "metadata": {},
   "outputs": [],
   "source": [
    "Trns_list_2_p = [[np.array([[-5.00001093e+02],\n",
    "                        [-8.07345437e-04],\n",
    "                        [-5.33976218e-02]])],\n",
    "                [np.array([[-5.00001093e+02],\n",
    "                       [-8.07345437e-04],\n",
    "                       [-5.33976218e-02]])],\n",
    "                [np.array([[-5.00005260e+02],\n",
    "                       [ 5.34427897e-05],\n",
    "                       [-3.42782251e-02]])],\n",
    "                [np.array([[-5.00005793e+02],\n",
    "                       [ 5.19138948e-03],\n",
    "                       [-6.35544046e-02]])]]"
   ]
  },
  {
   "cell_type": "code",
   "execution_count": 18,
   "metadata": {},
   "outputs": [
    {
     "data": {
      "text/plain": [
       "[array([[2.73034199e+03, 0.00000000e+00, 9.68109230e+02],\n",
       "        [0.00000000e+00, 2.73037770e+03, 6.08009929e+02],\n",
       "        [0.00000000e+00, 0.00000000e+00, 1.00000000e+00]])]"
      ]
     },
     "execution_count": 18,
     "metadata": {},
     "output_type": "execute_result"
    }
   ],
   "source": [
    "new_mtxL_list_2_p[0]"
   ]
  },
  {
   "cell_type": "code",
   "execution_count": 19,
   "metadata": {},
   "outputs": [],
   "source": [
    "\n",
    "P_L_2_list_p = []\n",
    "P_R_2_list_p = []\n",
    "\n",
    "for i in range(len(ret_R_list_2_p)):\n",
    "    R1,R2,P_L_est,P_R_est,Q,roi_left,roi_right = cv2.stereoRectify(new_mtxL_list_2_p[i][0], ret_L_list_2_p[i][0], new_mtxR_list_2_p[i][0], ret_R_list_2_p[i][0], (image_size[0],image_size[1]), Rot_list_2_p[i][0], Trns_list_2_p[i][0],flags = cv2.CALIB_ZERO_DISPARITY)\n",
    "    P_L_2_list_p.append(P_L_est)\n",
    "    P_R_2_list_p.append(P_R_est)\n"
   ]
  },
  {
   "cell_type": "code",
   "execution_count": 20,
   "metadata": {},
   "outputs": [
    {
     "data": {
      "text/plain": [
       "[array([[2.73037543e+03, 0.00000000e+00, 9.68000000e+02, 0.00000000e+00],\n",
       "        [0.00000000e+00, 2.73037543e+03, 6.08000000e+02, 0.00000000e+00],\n",
       "        [0.00000000e+00, 0.00000000e+00, 1.00000000e+00, 0.00000000e+00]]),\n",
       " array([[2.73037543e+03, 0.00000000e+00, 9.68000000e+02, 0.00000000e+00],\n",
       "        [0.00000000e+00, 2.73037543e+03, 6.08000000e+02, 0.00000000e+00],\n",
       "        [0.00000000e+00, 0.00000000e+00, 1.00000000e+00, 0.00000000e+00]]),\n",
       " array([[2.73037543e+03, 0.00000000e+00, 9.68000000e+02, 0.00000000e+00],\n",
       "        [0.00000000e+00, 2.73037543e+03, 6.08000000e+02, 0.00000000e+00],\n",
       "        [0.00000000e+00, 0.00000000e+00, 1.00000000e+00, 0.00000000e+00]]),\n",
       " array([[2.73037543e+03, 0.00000000e+00, 9.68000000e+02, 0.00000000e+00],\n",
       "        [0.00000000e+00, 2.73037543e+03, 6.08000000e+02, 0.00000000e+00],\n",
       "        [0.00000000e+00, 0.00000000e+00, 1.00000000e+00, 0.00000000e+00]])]"
      ]
     },
     "execution_count": 20,
     "metadata": {},
     "output_type": "execute_result"
    }
   ],
   "source": [
    "P_L_original_p"
   ]
  },
  {
   "cell_type": "code",
   "execution_count": 21,
   "metadata": {},
   "outputs": [],
   "source": [
    "XestOpenCV = np.zeros((4,140,4,1))\n",
    "Xoriginal = np.zeros((4,140,4,1))\n",
    "\n",
    "X_est_arr = np.zeros((4,140,4,1))\n",
    "X_org_arr = np.zeros((4,140,4,1))\n",
    "\n",
    "estError_2 = np.zeros((4,140,1))\n",
    "triangulation_error_2_p =np.zeros((4,1))\n",
    "\n",
    "\n",
    "for i in range(len(ret_R_list_2_p)):\n",
    "    for j in range(XestOpenCV.shape[1]):\n",
    "        XestOpenCV[i,j,:,:] = cv2.triangulatePoints(P_L_2_list_p[i],P_R_2_list_p[i], x_L_list[j], x_R_list[j])\n",
    "        Xoriginal[i,j,:,:] =  cv2.triangulatePoints(P_L_original_p[i],P_R_original_p[i],x_L_list[j], x_R_list[j])\n",
    "\n",
    "        X_est_arr[i,j,:,:] = XestOpenCV[i,j,:,:]/XestOpenCV[i,j,-1,:]\n",
    "        X_org_arr[i,j,:,:] = Xoriginal[i,j,:,:]/Xoriginal[i,j,-1,:]\n",
    "\n",
    "        #print(X_est_arr[i,j,:,:])\n",
    "        #print(X_org_arr[i,j,:,:])\n",
    "        estError_2[i,j,:] = np.sqrt(np.sum(np.square(X_est_arr[i,j,:3,:]-X_org_arr[i,j,:3,:])))\n",
    "\n",
    "    triangulation_error_2_p[i,:] = np.sum(estError_2[i,:,:])/estError_2[i,:,:].shape[0]"
   ]
  },
  {
   "cell_type": "code",
   "execution_count": 22,
   "metadata": {},
   "outputs": [
    {
     "data": {
      "text/plain": [
       "array([[2.57892108],\n",
       "       [2.57913938],\n",
       "       [1.6235338 ],\n",
       "       [3.0783019 ]])"
      ]
     },
     "execution_count": 22,
     "metadata": {},
     "output_type": "execute_result"
    }
   ],
   "source": [
    "triangulation_error_2_p"
   ]
  },
  {
   "cell_type": "code",
   "execution_count": 23,
   "metadata": {},
   "outputs": [],
   "source": [
    "nr_chess = [20,80,180]\n",
    "\n",
    "# in order to pass to meters \n",
    "list_1000 = np.ones((3,1))*1000\n",
    "\n",
    "\n",
    "fig = plt.figure(figsize = (20,20))\n",
    "ax = fig.add_subplot(121)\n",
    "ax.plot(nr_chess,ret_S_2_p[1:]/list_1000,'r-*',label = \"2 meters discretized\")\n",
    "\n",
    "ax.set_yscale('log')\n",
    "ax.set_ylabel(\"Reprojection error [m]\")\n",
    "ax.set_xlabel(\"number of chessboards\")\n",
    "ax.set_title(\"Stereo camera calibration error (log scale)\")\n",
    "\n",
    "\n",
    "\n",
    "ax.grid('--')\n",
    "ax.legend()\n",
    "ax.set_xlim([0,200])\n",
    "\n",
    "x_marker = np.ones((3,1))\n",
    "y_marker = np.linspace(10e-12,10e10,estError_2[1:].shape[0])\n",
    "\n",
    "ax.plot(x_marker*nr_chess[0],y_marker,'k--')\n",
    "ax.plot(x_marker*nr_chess[1],y_marker,'k--')\n",
    "ax.plot(x_marker*nr_chess[2],y_marker,'k--')\n",
    "\n",
    "ax2 = fig.add_subplot(122)\n",
    "ax2.plot(nr_chess,triangulation_error_2_p[1:]/list_1000,'r-*',label = \"2 meters pixelized\")\n",
    "\n",
    "ax2.plot(x_marker*nr_chess[0],y_marker,'k--')\n",
    "ax2.plot(x_marker*nr_chess[1],y_marker,'k--')\n",
    "ax2.plot(x_marker*nr_chess[2],y_marker,'k--')\n",
    "\n",
    "ax2.set_yscale('log')\n",
    "ax2.set_ylabel(\"Triangulation error [m]\")\n",
    "ax2.set_title(\"Triangulation error (log scale)\")\n",
    "ax2.set_xlabel(\"number of chessboards\")\n",
    "\n",
    "ax2.set_xlim([0,200])\n",
    "#ax2.set_ylim([triangulation_error_2_p[-1]-5e-4,triangulation_error_20_p[-1]+2e6])\n",
    "\n",
    "\n",
    "#ax2.plot(nr_chess,triangulation_error_2[1:]/list_1000,'r--',label = \"2 meters ideal \")\n",
    "#ax2.plot(nr_chess,triangulation_error_4[1:]/list_1000,'b--',label = \"4 meters ideal \")\n",
    "#ax2.plot(nr_chess,triangulation_error_20[1:]/list_1000,'g--',label = \"20 meters ideal\")\n",
    "\n",
    "\n",
    "\n",
    "#ax2.plot(x_marker,y_marker*0.01,'b--')\n",
    "\n",
    "#ax2.set_xlim([0,550])\n",
    "ax2.set_ylim([4e-8,triangulation_error_2_p[-1]])\n",
    "ax.set_ylim([1e-10,4e-5])\n",
    "\n",
    "ax2.legend()\n",
    "ax2.grid('--')"
   ]
  },
  {
   "cell_type": "code",
   "execution_count": null,
   "metadata": {},
   "outputs": [],
   "source": []
  }
 ],
 "metadata": {
  "kernelspec": {
   "display_name": "Python 3.8.5 64-bit",
   "language": "python",
   "name": "python3"
  },
  "language_info": {
   "codemirror_mode": {
    "name": "ipython",
    "version": 3
   },
   "file_extension": ".py",
   "mimetype": "text/x-python",
   "name": "python",
   "nbconvert_exporter": "python",
   "pygments_lexer": "ipython3",
   "version": "3.8.5"
  },
  "orig_nbformat": 4,
  "vscode": {
   "interpreter": {
    "hash": "a2351b8e039bbf9c56c302d7c356075afc88dd574b72d7357dd8301589a7e4a3"
   }
  }
 },
 "nbformat": 4,
 "nbformat_minor": 2
}

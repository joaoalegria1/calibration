{
 "cells": [
  {
   "cell_type": "markdown",
   "metadata": {},
   "source": [
    "## 3.3.4.1 Stereo Calibration w/pixelization\n",
    "Stereo calibration and triangulation for 2 meters using 12x8 chessboards"
   ]
  },
  {
   "cell_type": "markdown",
   "metadata": {},
   "source": [
    "### import  libraries"
   ]
  },
  {
   "cell_type": "code",
   "execution_count": 37,
   "metadata": {},
   "outputs": [],
   "source": [
    "vscode = 1"
   ]
  },
  {
   "cell_type": "code",
   "execution_count": 38,
   "metadata": {},
   "outputs": [],
   "source": [
    "if(vscode == 1):\n",
    "    # for vscode\n",
    "    %matplotlib qt\n",
    "else:\n",
    "    # for jupyter notebook\n",
    "    from mpl_toolkits.mplot3d import axes3d\n",
    "    import matplotlib.pyplot as plt\n",
    "\n",
    "    %matplotlib notebook\n"
   ]
  },
  {
   "cell_type": "code",
   "execution_count": 39,
   "metadata": {},
   "outputs": [],
   "source": [
    "import matplotlib.pyplot as plt\n",
    "import numpy as np\n",
    "import cv2 \n",
    "from typing import Sequence\n",
    "from calib_lib import *\n",
    "DECIMALS = 2  # how many decimal places to use in print\n"
   ]
  },
  {
   "cell_type": "code",
   "execution_count": 40,
   "metadata": {},
   "outputs": [],
   "source": [
    "F = 16                                       # focal length( in mm )\n",
    "image_size = np.array([1936,1216])               # sensor size(in mm)\n",
    "pixel_width = 5.86e-3                       # pixel size in mm\n",
    "PX= image_size[0]/2.0                       # principal point x-coordinate\n",
    "PY= image_size[1]/2.0                       # principal point y-coordinate\n",
    "IMAGE_HEIGTH = image_size[1]\n",
    "IMAGE_WIDTH = image_size[0]\n",
    "THETA_X = 0                                 # roll angle\n",
    "THETA_Y = 0                                 # pitch angle\n",
    "THETA_Z = 0                                 # yaw angle\n",
    "\n",
    "\n",
    "# camera Right\n",
    "THETA_X_R = 0                                 # roll angle\n",
    "THETA_Y_R = 0                                 # pitch angle\n",
    "THETA_Z_R= 0                                 # yaw angle\n",
    "# camera Left\n",
    "THETA_X_L = 0                                 # roll angle\n",
    "THETA_Y_L = 0                                 # pitch angle\n",
    "THETA_Z_L= 0                                 # yaw angle\n",
    "\n",
    "C_L = np.array([0,0,0])                     # camera centre\n",
    "\n",
    "C_R = np.array([500,0,0])\n",
    "\n",
    "chess_dimx,chess_dimy = (12,8)\n",
    "chess_sq_size = 44"
   ]
  },
  {
   "cell_type": "code",
   "execution_count": 41,
   "metadata": {},
   "outputs": [],
   "source": [
    "iteration = 180"
   ]
  },
  {
   "cell_type": "code",
   "execution_count": 42,
   "metadata": {},
   "outputs": [],
   "source": [
    "world_pts_arr = np.load(f\"world_pts_arr_f_4_{iteration}_px.npy\")\n",
    "centroid_R = np.load(f\"centroid_R_arr_4_{iteration}_px.npy\")\n",
    "centroid_L = np.load(f\"centroid_L_arr_4_{iteration}_px.npy\")\n",
    "\n",
    "centroid_R = np.array(centroid_R,dtype = \"float32\")\n",
    "centroid_L = np.array(centroid_L,dtype = \"float32\")\n",
    "world_pts_arr = np.array(world_pts_arr, dtype = \"float32\")"
   ]
  },
  {
   "cell_type": "code",
   "execution_count": 43,
   "metadata": {},
   "outputs": [],
   "source": [
    "ret_R_list = []\n",
    "mtx_R_list = []\n",
    "ret_L_list = []\n",
    "mtx_L_list = []\n",
    "retS_list = []\n",
    "new_mtxL_list = []\n",
    "new_mtxR_list = []\n",
    "Rot_list = []\n",
    "Trns_list = []\n",
    "Emat_list = []\n",
    "Fmat_list = []\n",
    "P_R_org_list = []\n",
    "P_L_org_list = []\n",
    "\n",
    "\n",
    "ret_R,mtx_R,ret_L,mtx_L,retS,new_mtxL,new_mtxR,Rot,Trns,Emat,Fmat = calibration(world_pts_arr,centroid_R,centroid_L,image_size)\n",
    "\n",
    "ret_R_list.append([ret_R])\n",
    "mtx_R_list.append([mtx_R])\n",
    "ret_L_list.append([ret_L])\n",
    "mtx_L_list.append([mtx_L])\n",
    "retS_list.append([retS])\n",
    "new_mtxL_list.append([new_mtxL])\n",
    "new_mtxR_list.append([new_mtxR])\n",
    "Rot_list.append([Rot])\n",
    "Trns_list.append([Trns])\n",
    "Emat_list.append([Emat])\n",
    "Fmat_list.append([Fmat])"
   ]
  },
  {
   "cell_type": "code",
   "execution_count": 44,
   "metadata": {},
   "outputs": [
    {
     "data": {
      "text/plain": [
       "0.004736053524812539"
      ]
     },
     "execution_count": 44,
     "metadata": {},
     "output_type": "execute_result"
    }
   ],
   "source": [
    "retS"
   ]
  },
  {
   "cell_type": "code",
   "execution_count": 45,
   "metadata": {},
   "outputs": [
    {
     "name": "stdout",
     "output_type": "stream",
     "text": [
      "Writing 'P_L_org_list,P_R_org_list,retS_list,new_mtxL_list,ret_L_list,new_mtxR_list,ret_R_list,Rot_list,Trns_list' (tuple) to file '.\\distances\\discretization\\fourmeters_180_discretization.txt'.\n"
     ]
    }
   ],
   "source": [
    "%store P_L_org_list,P_R_org_list,retS_list,new_mtxL_list,ret_L_list,new_mtxR_list,ret_R_list,Rot_list,Trns_list >\".\\distances\\discretization\\fourmeters_{iteration}_discretization.txt\""
   ]
  },
  {
   "cell_type": "code",
   "execution_count": 46,
   "metadata": {},
   "outputs": [
    {
     "data": {
      "text/plain": [
       "[[0.004736053524812539]]"
      ]
     },
     "execution_count": 46,
     "metadata": {},
     "output_type": "execute_result"
    }
   ],
   "source": [
    "retS_list"
   ]
  },
  {
   "cell_type": "markdown",
   "metadata": {},
   "source": [
    "80 - retS - 0.003044"
   ]
  },
  {
   "cell_type": "code",
   "execution_count": 47,
   "metadata": {},
   "outputs": [],
   "source": [
    "P_L_2_list = []\n",
    "P_R_2_list = []\n",
    "\n",
    "for i in range(len(ret_R_list)):\n",
    "    R1,R2,P_L_est,P_R_est,Q,roi_left,roi_right = cv2.stereoRectify(new_mtxL_list[i][0], ret_L_list[i][0], new_mtxR_list[i][0], ret_R_list[i][0], (image_size[0],image_size[1]), Rot_list[i][0], Trns_list[i][0],flags = cv2.CALIB_ZERO_DISPARITY)\n",
    "    P_L_2_list.append(P_L_est)\n",
    "    P_R_2_list.append(P_R_est)"
   ]
  },
  {
   "cell_type": "code",
   "execution_count": 48,
   "metadata": {},
   "outputs": [
    {
     "data": {
      "text/plain": [
       "array([[ 2.73050110e+03,  0.00000000e+00,  9.68023643e+02,\n",
       "        -1.36532571e+06],\n",
       "       [ 0.00000000e+00,  2.73050110e+03,  6.07999161e+02,\n",
       "         0.00000000e+00],\n",
       "       [ 0.00000000e+00,  0.00000000e+00,  1.00000000e+00,\n",
       "         0.00000000e+00]])"
      ]
     },
     "execution_count": 48,
     "metadata": {},
     "output_type": "execute_result"
    }
   ],
   "source": [
    "P_R_est\n"
   ]
  },
  {
   "cell_type": "code",
   "execution_count": null,
   "metadata": {},
   "outputs": [],
   "source": []
  }
 ],
 "metadata": {
  "kernelspec": {
   "display_name": "Python 3.10.5 64-bit (windows store)",
   "language": "python",
   "name": "python3"
  },
  "language_info": {
   "codemirror_mode": {
    "name": "ipython",
    "version": 3
   },
   "file_extension": ".py",
   "mimetype": "text/x-python",
   "name": "python",
   "nbconvert_exporter": "python",
   "pygments_lexer": "ipython3",
   "version": "3.10.5"
  },
  "orig_nbformat": 4,
  "vscode": {
   "interpreter": {
    "hash": "731f58b921e0fdcacfe718f027abc2ccf38e5567ff502f3bb87e84e31ade2205"
   }
  }
 },
 "nbformat": 4,
 "nbformat_minor": 2
}

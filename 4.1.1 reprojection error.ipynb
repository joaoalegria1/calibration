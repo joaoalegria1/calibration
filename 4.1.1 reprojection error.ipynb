{
 "cells": [
  {
   "cell_type": "markdown",
   "metadata": {},
   "source": [
    "# 4.1.1 Camera calibration "
   ]
  },
  {
   "cell_type": "code",
   "execution_count": 1,
   "metadata": {},
   "outputs": [],
   "source": [
    "vscode = 1"
   ]
  },
  {
   "cell_type": "code",
   "execution_count": 2,
   "metadata": {},
   "outputs": [],
   "source": [
    "if(vscode == 1):\n",
    "    # for vscode\n",
    "    %matplotlib qt\n",
    "else:\n",
    "    # for jupyter notebook\n",
    "    from mpl_toolkits.mplot3d import axes3d\n",
    "    import matplotlib.pyplot as plt\n",
    "\n",
    "    %matplotlib notebook\n"
   ]
  },
  {
   "cell_type": "code",
   "execution_count": 3,
   "metadata": {},
   "outputs": [],
   "source": [
    "import matplotlib.pyplot as plt\n",
    "import numpy as np\n",
    "import cv2 \n",
    "from typing import Sequence\n",
    "from calib_lib import *\n",
    "DECIMALS = 2  # how many decimal places to use in print\n"
   ]
  },
  {
   "cell_type": "markdown",
   "metadata": {},
   "source": [
    "## Calculation of the 2D points"
   ]
  },
  {
   "cell_type": "code",
   "execution_count": 4,
   "metadata": {},
   "outputs": [],
   "source": [
    "F = 16                                       # focal length( in mm )\n",
    "image_size = np.array([1936,1216])               # sensor size(in mm)\n",
    "pixel_width = 5.86e-3                       # pixel size in mm\n",
    "PX= image_size[0]/2.0                       # principal point x-coordinate\n",
    "PY= image_size[1]/2.0                       # principal point y-coordinate\n",
    "IMAGE_HEIGTH = image_size[1]\n",
    "IMAGE_WIDTH = image_size[0]\n",
    "THETA_X = 0                                 # roll angle\n",
    "THETA_Y = 0                                 # pitch angle\n",
    "THETA_Z = 0                                 # yaw angle\n",
    "\n",
    "\n",
    "# camera Right\n",
    "THETA_X_R = 0                                 # roll angle\n",
    "THETA_Y_R = 0                                 # pitch angle\n",
    "THETA_Z_R= 0                                 # yaw angle\n",
    "# camera Left\n",
    "THETA_X_L = 0                                 # roll angle\n",
    "THETA_Y_L = 0                                 # pitch angle\n",
    "THETA_Z_L= 0                                 # yaw angle\n",
    "\n",
    "C_L = np.array([0,0,0])                     # camera centre\n",
    "\n",
    "C_R = np.array([500,0,0])\n",
    "\n",
    "chess_dimx,chess_dimy = (13,9)\n",
    "chess_sq_size = 44"
   ]
  },
  {
   "cell_type": "code",
   "execution_count": 5,
   "metadata": {},
   "outputs": [],
   "source": [
    "world_pts = create_chessboard(chess_dimx,chess_dimy,chess_sq_size)\n",
    "X = get_chessboard_rot_trans(world_pts,rx = THETA_X,ry = THETA_Y,rz = THETA_Z,tx = 250,ty = 10,tz  = 20000)"
   ]
  },
  {
   "cell_type": "code",
   "execution_count": 6,
   "metadata": {},
   "outputs": [],
   "source": [
    "x_L_list, X_arr_L, E_L, K_L,P_L = get_image_points(X,PX,PY,thetax=THETA_X_L,thetay = THETA_Y_L,thetaz = THETA_Z_L,trans_x= -C_L[0],trans_y= -C_L[1],trans_z= -C_L[2],F = F,mx = (1/pixel_width),my =(1/pixel_width))\n",
    "x_R_list, X_arr_R, E_R, K_R,P_R = get_image_points(X,PX,PY,thetax = THETA_X_R,thetay = THETA_Y_R, thetaz = THETA_Z_R,trans_x= -C_R[0],trans_y= -C_R[1],trans_z= -C_R[2],F = F,mx = (1/pixel_width),my =(1/pixel_width))"
   ]
  },
  {
   "cell_type": "code",
   "execution_count": 7,
   "metadata": {},
   "outputs": [],
   "source": [
    "fig, (ax1,ax2) = plt.subplots(2,1)\n",
    "ax1.plot(x_L_list[:,0],x_L_list[:,1], color = 'r',ls = \"None\", marker = \".\")\n",
    "ax2.plot(x_R_list[:,0],x_R_list[:,1], color = 'r',ls = \"None\", marker = \".\")\n",
    "ax1.set_aspect(1)\n",
    "ax2.set_aspect(1)\n",
    "ax1.grid()\n",
    "ax2.grid()\n",
    "plt.show()"
   ]
  },
  {
   "cell_type": "markdown",
   "metadata": {},
   "source": [
    "## Cameras parameters"
   ]
  },
  {
   "cell_type": "code",
   "execution_count": 8,
   "metadata": {},
   "outputs": [],
   "source": [
    "F = 16                                       # focal length( in mm )\n",
    "image_size = np.array([1936,1216])               # sensor size(in mm)\n",
    "pixel_width = 5.86e-3                       # pixel size in mm\n",
    "PX= image_size[0]/2.0                       # principal point x-coordinate\n",
    "PY= image_size[1]/2.0                       # principal point y-coordinate\n",
    "IMAGE_HEIGTH = image_size[1]\n",
    "IMAGE_WIDTH = image_size[0]\n",
    "THETA_X = 0                                 # roll angle\n",
    "THETA_Y = 0                                 # pitch angle\n",
    "THETA_Z = 0                                 # yaw angle\n",
    "\n",
    "\n",
    "# camera Right\n",
    "THETA_X_R = 0                                 # roll angle\n",
    "THETA_Y_R = 0                                 # pitch angle\n",
    "THETA_Z_R= 0                                 # yaw angle\n",
    "# camera Left\n",
    "THETA_X_L = 0                                 # roll angle\n",
    "THETA_Y_L = 0                                 # pitch angle\n",
    "THETA_Z_L= 0                                 # yaw angle\n",
    "\n",
    "C_L = np.array([0,0,0])                     # camera centre\n",
    "\n",
    "C_R = np.array([500,0,0])\n",
    "\n",
    "chess_dimx,chess_dimy = (13,9)\n",
    "chess_sq_size = 44\n"
   ]
  },
  {
   "cell_type": "markdown",
   "metadata": {},
   "source": [
    "## Load variables \n",
    "Load the variables from the txt files. This files contain the Projection matrix, rotation and translation from the previous scripts calibration \n"
   ]
  },
  {
   "cell_type": "code",
   "execution_count": 23,
   "metadata": {},
   "outputs": [],
   "source": [
    "P_L_original_p = [np.array([[2.73037543e+03, 0.00000000e+00, 9.68000000e+02, 0.00000000e+00],\n",
    "                        [0.00000000e+00, 2.73037543e+03, 6.08000000e+02, 0.00000000e+00],\n",
    "                        [0.00000000e+00, 0.00000000e+00, 1.00000000e+00, 0.00000000e+00]])]"
   ]
  },
  {
   "cell_type": "code",
   "execution_count": 24,
   "metadata": {},
   "outputs": [],
   "source": [
    "P_R_original_p =  [np.array([[ 2.73037543e+03,  0.00000000e+00,9.68000000e+02,-1.36518771e+06],\n",
    "                        [ 0.00000000e+00,  2.73037543e+03,  6.08000000e+02,0.00000000e+00],\n",
    "                        [ 0.00000000e+00,  0.00000000e+00,  1.00000000e+00,0.00000000e+00]])]"
   ]
  },
  {
   "cell_type": "code",
   "execution_count": 25,
   "metadata": {},
   "outputs": [],
   "source": [
    "ret_S_2_p = [[0.8407898897366246]]"
   ]
  },
  {
   "cell_type": "code",
   "execution_count": 26,
   "metadata": {},
   "outputs": [],
   "source": [
    "new_mtxL_list_2_p = [np.array([[2.59262607e+03, 0.00000000e+00, 9.28084009e+02],\n",
    "                            [0.00000000e+00, 2.58839597e+03, 5.98290639e+02],\n",
    "                            [0.00000000e+00, 0.00000000e+00, 1.00000000e+00]])]"
   ]
  },
  {
   "cell_type": "code",
   "execution_count": 27,
   "metadata": {},
   "outputs": [],
   "source": [
    "ret_L_list_2_p = [[0.7757193998082408]]"
   ]
  },
  {
   "cell_type": "code",
   "execution_count": 28,
   "metadata": {},
   "outputs": [],
   "source": [
    "new_mtxR_list_2_p = [np.array([[2.59143624e+03, 0.00000000e+00, 9.80112590e+02],\n",
    "                            [0.00000000e+00, 2.58631222e+03, 6.28629966e+02],\n",
    "                            [0.00000000e+00, 0.00000000e+00, 1.00000000e+00]])]"
   ]
  },
  {
   "cell_type": "code",
   "execution_count": 29,
   "metadata": {},
   "outputs": [],
   "source": [
    "ret_R_list_2_p = [[0.7948067867206756]]"
   ]
  },
  {
   "cell_type": "code",
   "execution_count": 30,
   "metadata": {},
   "outputs": [],
   "source": [
    "Rot_list_2_p =  [[np.array([[ 0.99869423,  0.00807766, -0.05044381],\n",
    "                            [-0.00757769,  0.99992033,  0.01009485], \n",
    "                            [ 0.05052133, -0.00969942,  0.99867588]])]]"
   ]
  },
  {
   "cell_type": "code",
   "execution_count": 31,
   "metadata": {},
   "outputs": [],
   "source": [
    "Trns_list_2_p = [[np.array([[-478.50443   ],\n",
    "                            [   1.34404188],\n",
    "                            [ -14.7717225 ]])]]"
   ]
  },
  {
   "cell_type": "code",
   "execution_count": 44,
   "metadata": {},
   "outputs": [],
   "source": [
    "P_L_2_list_p = []\n",
    "P_R_2_list_p = []\n",
    "\n",
    "for i in range(len(ret_R_list_2_p)):\n",
    "    R1,R2,P_L_est,P_R_est,Q,roi_left,roi_right = cv2.stereoRectify(new_mtxL_list_2_p[0], ret_L_list_2_p[i][0], new_mtxR_list_2_p[0], ret_R_list_2_p[i][0], (image_size[0],image_size[1]), Rot_list_2_p[i][0], Trns_list_2_p[i][0],flags = cv2.CALIB_ZERO_DISPARITY)\n",
    "    P_L_2_list_p.append(P_L_est)\n",
    "    P_R_2_list_p.append(P_R_est)\n"
   ]
  },
  {
   "cell_type": "code",
   "execution_count": 61,
   "metadata": {},
   "outputs": [],
   "source": [
    "XestOpenCV = np.zeros((3,96,4,1))\n",
    "Xoriginal = np.zeros((3,96,4,1))\n",
    "\n",
    "X_est_arr = np.zeros((3,96,4,1))\n",
    "X_org_arr = np.zeros((3,96,4,1))\n",
    "\n",
    "estError_2 = np.zeros((3,96,1))\n",
    "triangulation_error_2_p =np.zeros((3,1))\n",
    "\n",
    "\n",
    "for i in range(len(ret_R_list_2_p)):\n",
    "    for j in range(XestOpenCV.shape[1]):\n",
    "        XestOpenCV[i,j,:,:] = cv2.triangulatePoints(P_L_2_list_p[i],P_R_2_list_p[i], x_L_list[j], x_R_list[j])\n",
    "        Xoriginal[i,j,:,:] =  cv2.triangulatePoints(P_L_original_p[i],P_R_original_p[i],x_L_list[j], x_R_list[j])\n",
    "\n",
    "        X_est_arr[i,j,:,:] = XestOpenCV[i,j,:,:]/XestOpenCV[i,j,-1,:]\n",
    "        X_org_arr[i,j,:,:] = Xoriginal[i,j,:,:]/Xoriginal[i,j,-1,:]\n",
    "\n",
    "        #print(X_est_arr[i,j,:,:])\n",
    "        #print(X_org_arr[i,j,:,:])\n",
    "        estError_2[i,j,:] = np.sqrt(np.sum(np.square(X_est_arr[i,j,:3,:]-X_org_arr[i,j,:3,:])))\n",
    "\n",
    "    triangulation_error_2_p[i,:] = np.sum(estError_2[i,:,:])/estError_2[i,:,:].shape[0]"
   ]
  },
  {
   "cell_type": "code",
   "execution_count": 47,
   "metadata": {},
   "outputs": [
    {
     "data": {
      "text/plain": [
       "array([[1862.64599899],\n",
       "       [   0.        ],\n",
       "       [   0.        ]])"
      ]
     },
     "execution_count": 47,
     "metadata": {},
     "output_type": "execute_result"
    }
   ],
   "source": [
    "triangulation_error_2_p"
   ]
  },
  {
   "cell_type": "markdown",
   "metadata": {},
   "source": [
    "## Triangulation error vs. distance\n",
    "Correlate the triangulation error according to the distance of the spot.\n",
    "- Project the spot from 1:10:300 meters\n",
    "- having the ideal projection matrixes of the stereo cameras, retrieve the 2D coordinates\n",
    "- Having the 2D coordinates, triangulate the point using the projection matrixes obtained from calibration at 320 meters\n",
    "- Plot the results"
   ]
  },
  {
   "cell_type": "code",
   "execution_count": 62,
   "metadata": {},
   "outputs": [],
   "source": [
    "# from 1 meter to 300 meters in steps of 10 meters\n",
    "zdistance = np.arange(0,310000,10000)\n",
    "zdistance[0] = 1000\n",
    "xdistance = np.ones((zdistance.shape[0],))*250\n",
    "ydistance = np.ones((zdistance.shape[0],))*10\n",
    "X =np.array([xdistance,ydistance,zdistance]).T\n",
    "\n",
    "x_arr_L, X_arr_L, E_L, K_L,P_L = get_image_points(X,PX,PY,thetax=THETA_X_L,thetay = THETA_Y_L,thetaz = THETA_Z_L,trans_x= -C_L[0],trans_y= -C_L[1],trans_z= -C_L[2],F = F,mx = (1/pixel_width),my =(1/pixel_width))\n",
    "x_arr_R, X_arr_R, E_R, K_R,P_R = get_image_points(X,PX,PY,thetax = THETA_X_R,thetay = THETA_Y_R, thetaz = THETA_Z_R,trans_x= -C_R[0],trans_y= -C_R[1],trans_z= -C_R[2],F = F,mx = (1/pixel_width),my =(1/pixel_width))"
   ]
  },
  {
   "cell_type": "code",
   "execution_count": 63,
   "metadata": {},
   "outputs": [],
   "source": [
    "XestOpenCV2 = np.zeros((x_arr_R.shape[0],4,1))\n",
    "Xoriginal2 = np.zeros((x_arr_R.shape[0],4,1))\n",
    "\n",
    "X_est_arr2 = np.zeros((x_arr_R.shape[0],4,1))\n",
    "X_org_arr2 = np.zeros((x_arr_R.shape[0],4,1))\n",
    "\n",
    "estError_2_distance = np.zeros((x_arr_R.shape[0],1))\n",
    "i = 0\n",
    "for j in range(len(x_arr_R)):\n",
    "    XestOpenCV2[j,:,:] = cv2.triangulatePoints(P_L_2_list_p[i],P_R_2_list_p[i], x_arr_L[j], x_arr_R[j])\n",
    "    Xoriginal2[j,:,:] =  cv2.triangulatePoints(P_L_original_p[i],P_R_original_p[i],x_arr_L[j], x_arr_R[j])\n",
    "\n",
    "    X_est_arr2[j,:,:] = XestOpenCV2[j,:,:]/XestOpenCV2[j,-1,:]\n",
    "    X_org_arr2[j,:,:] = Xoriginal2[j,:,:]/Xoriginal2[j,-1,:]\n",
    "\n",
    "    estError_2_distance[j,:] = np.sqrt(np.sum(np.square(X_est_arr2[j,:3,:]-X_org_arr2[j,:3,:])))"
   ]
  },
  {
   "cell_type": "code",
   "execution_count": 64,
   "metadata": {},
   "outputs": [
    {
     "data": {
      "text/plain": [
       "array([[   92.7134916 ],\n",
       "       [  930.83258344],\n",
       "       [ 1862.65279322],\n",
       "       [ 2794.4930896 ],\n",
       "       [ 3726.33840353],\n",
       "       [ 4658.1857238 ],\n",
       "       [ 5590.03404705],\n",
       "       [ 6521.88294337],\n",
       "       [ 7453.73219783],\n",
       "       [ 8385.58169103],\n",
       "       [ 9317.43135133],\n",
       "       [10249.28113317],\n",
       "       [11181.13100615],\n",
       "       [12112.98094925],\n",
       "       [13044.83094742],\n",
       "       [13976.68098967],\n",
       "       [14908.53106772],\n",
       "       [15840.38117525],\n",
       "       [16772.23130735],\n",
       "       [17704.08146015],\n",
       "       [18635.93163053],\n",
       "       [19567.78181599],\n",
       "       [20499.63201446],\n",
       "       [21431.48222426],\n",
       "       [22363.33244396],\n",
       "       [23295.18267238],\n",
       "       [24227.03290851],\n",
       "       [25158.88315149],\n",
       "       [26090.73340059],\n",
       "       [27022.58365518],\n",
       "       [27954.43391471]])"
      ]
     },
     "execution_count": 64,
     "metadata": {},
     "output_type": "execute_result"
    }
   ],
   "source": [
    "estError_2_distance"
   ]
  },
  {
   "cell_type": "code",
   "execution_count": 51,
   "metadata": {},
   "outputs": [],
   "source": [
    "#estError_20_distance\n",
    "E_err2_p = np.zeros((31,))\n",
    "for i in range(len(estError_2_distance)):\n",
    "    # E_err2[i] = np.sqrt(np.sum(np.square(X_est_arr2[i,:3,:]-X_org_arr2[i,:3,:])))/(np.sum(X_est_arr2[i,:3,:]))*100\n",
    "    # E_err4[i] = np.sqrt(np.sum(np.square(X_est_arr4[i,:3,:]-X_org_arr4[i,:3,:])))/(np.sum(X_est_arr4[i,:3,:]))*100\n",
    "    # E_err20[i] = np.sqrt(np.sum(np.square(X_est_arr20[i,:3,:]-X_org_arr20[i,:3,:])))/(np.sum(X_est_arr20[i,:3,:]))*100\n",
    "    E_err2_p[i] = np.sum(np.abs(X_est_arr2[i,:3,:]-X_org_arr2[i,:3,:]))/(np.sum(X_est_arr2[i,:3,:]))*100"
   ]
  },
  {
   "cell_type": "code",
   "execution_count": 72,
   "metadata": {},
   "outputs": [],
   "source": [
    "fig = plt.figure(figsize = (10,10))\n",
    "ax = fig.add_subplot()\n",
    "\n",
    "x_marker = np.linspace(10e-10,1e3,1000)\n",
    "y_marker = np.ones((1000,1))\n",
    "#ax.plot(x_marker,y_marker*0.001,'b--')\n",
    "\n",
    "\n",
    "ax.plot(zdistance/1000,E_err2_p,'b-*',label = \"2 meters calibration\")\n",
    "\n",
    "ax.set_yscale('log')\n",
    "\n",
    "\n",
    "ax.set_xlim(0,300)\n",
    "ax.set_ylabel(\"Triangulation error [%]\")\n",
    "ax.set_title(\"Triangulation error\")\n",
    "ax.set_xlabel(\"Distance [m]\")\n",
    "ax.legend()\n",
    "ax.grid()"
   ]
  },
  {
   "cell_type": "code",
   "execution_count": 74,
   "metadata": {},
   "outputs": [
    {
     "data": {
      "text/plain": [
       "array([ 8.22939039, 10.92882653, 11.13047578, 11.19890007, 11.23334328,\n",
       "       11.25408374, 11.26794192, 11.27785594, 11.28529986, 11.29109456,\n",
       "       11.29573346, 11.299531  , 11.30269705, 11.30537704, 11.30767491,\n",
       "       11.30966695, 11.31141041, 11.31294909, 11.31431706, 11.31554123,\n",
       "       11.31664316, 11.31764028, 11.31854686, 11.3193747 , 11.32013363,\n",
       "       11.32083192, 11.32147655, 11.32207347, 11.3226278 , 11.32314393,\n",
       "       11.32362569])"
      ]
     },
     "execution_count": 74,
     "metadata": {},
     "output_type": "execute_result"
    }
   ],
   "source": [
    "E_err2_p"
   ]
  },
  {
   "cell_type": "code",
   "execution_count": 73,
   "metadata": {},
   "outputs": [],
   "source": [
    "fig = plt.figure(figsize = (10,10))\n",
    "ax = fig.add_subplot()\n",
    "\n",
    "x_marker = np.linspace(10e-10,1e3,1000)\n",
    "y_marker = np.ones((1000,1))\n",
    "#ax.plot(x_marker,y_marker*0.001,'b--')\n",
    "\n",
    "\n",
    "ax.plot(zdistance/1000,estError_2_distance/1000,'b-*',label = \"2 meters calibration\")\n",
    "\n",
    "#ax.set_yscale('log')\n",
    "\n",
    "\n",
    "ax.set_xlim(0,300)\n",
    "ax.set_ylabel(\"Triangulation error [m]\")\n",
    "ax.set_title(\"Triangulation error\")\n",
    "ax.set_xlabel(\"Distance [m]\")\n",
    "ax.legend()\n",
    "ax.grid()"
   ]
  },
  {
   "cell_type": "code",
   "execution_count": null,
   "metadata": {},
   "outputs": [],
   "source": []
  }
 ],
 "metadata": {
  "kernelspec": {
   "display_name": "Python 3.8.5 64-bit",
   "language": "python",
   "name": "python3"
  },
  "language_info": {
   "codemirror_mode": {
    "name": "ipython",
    "version": 3
   },
   "file_extension": ".py",
   "mimetype": "text/x-python",
   "name": "python",
   "nbconvert_exporter": "python",
   "pygments_lexer": "ipython3",
   "version": "3.8.5"
  },
  "orig_nbformat": 4,
  "vscode": {
   "interpreter": {
    "hash": "a2351b8e039bbf9c56c302d7c356075afc88dd574b72d7357dd8301589a7e4a3"
   }
  }
 },
 "nbformat": 4,
 "nbformat_minor": 2
}

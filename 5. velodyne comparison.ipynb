{
 "cells": [
  {
   "cell_type": "markdown",
   "metadata": {},
   "source": [
    "# 5. Velodyne comparison"
   ]
  },
  {
   "cell_type": "markdown",
   "metadata": {},
   "source": [
    "**Import the libraries**"
   ]
  },
  {
   "cell_type": "code",
   "execution_count": 1,
   "metadata": {},
   "outputs": [],
   "source": [
    "vscode = 1"
   ]
  },
  {
   "cell_type": "code",
   "execution_count": 2,
   "metadata": {},
   "outputs": [],
   "source": [
    "if(vscode == 1):\n",
    "    # for vscode\n",
    "    %matplotlib qt\n",
    "else:\n",
    "    # for jupyter notebook\n",
    "    from mpl_toolkits.mplot3d import axes3d\n",
    "    import matplotlib.pyplot as plt\n",
    "\n",
    "    %matplotlib notebook\n"
   ]
  },
  {
   "cell_type": "code",
   "execution_count": 3,
   "metadata": {},
   "outputs": [
    {
     "name": "stdout",
     "output_type": "stream",
     "text": [
      "3.8.5\n"
     ]
    }
   ],
   "source": [
    "from platform import python_version\n",
    "\n",
    "print(python_version())"
   ]
  },
  {
   "cell_type": "code",
   "execution_count": 4,
   "metadata": {},
   "outputs": [],
   "source": [
    "from matplotlib import pyplot as plt\n",
    "import numpy as np\n",
    "import scipy as sp\n",
    "import cv2\n",
    "\n",
    "#for LM method\n",
    "from scipy.optimize import curve_fit\n",
    "#matplotlib widget"
   ]
  },
  {
   "cell_type": "markdown",
   "metadata": {},
   "source": [
    "# Matrix creation"
   ]
  },
  {
   "cell_type": "code",
   "execution_count": 5,
   "metadata": {},
   "outputs": [],
   "source": [
    "Y = np.linspace(-4,4,81)\n",
    "X = np.linspace(-5, 5,101)"
   ]
  },
  {
   "cell_type": "code",
   "execution_count": 6,
   "metadata": {},
   "outputs": [],
   "source": [
    "xdata,ydata = np.meshgrid(X,Y)"
   ]
  },
  {
   "cell_type": "code",
   "execution_count": 7,
   "metadata": {},
   "outputs": [
    {
     "data": {
      "text/plain": [
       "[<matplotlib.lines.Line2D at 0x1f94e453b20>,\n",
       " <matplotlib.lines.Line2D at 0x1f94e453a90>,\n",
       " <matplotlib.lines.Line2D at 0x1f94e453c70>,\n",
       " <matplotlib.lines.Line2D at 0x1f94e453d90>,\n",
       " <matplotlib.lines.Line2D at 0x1f94e453eb0>,\n",
       " <matplotlib.lines.Line2D at 0x1f94e453fd0>,\n",
       " <matplotlib.lines.Line2D at 0x1f94e465130>,\n",
       " <matplotlib.lines.Line2D at 0x1f94e465250>,\n",
       " <matplotlib.lines.Line2D at 0x1f94e465370>,\n",
       " <matplotlib.lines.Line2D at 0x1f94e465490>,\n",
       " <matplotlib.lines.Line2D at 0x1f94e4655b0>,\n",
       " <matplotlib.lines.Line2D at 0x1f94e4656d0>,\n",
       " <matplotlib.lines.Line2D at 0x1f94e4657f0>,\n",
       " <matplotlib.lines.Line2D at 0x1f94e465910>,\n",
       " <matplotlib.lines.Line2D at 0x1f94e465a30>,\n",
       " <matplotlib.lines.Line2D at 0x1f94e465b50>,\n",
       " <matplotlib.lines.Line2D at 0x1f94e465c70>,\n",
       " <matplotlib.lines.Line2D at 0x1f94e465d90>,\n",
       " <matplotlib.lines.Line2D at 0x1f94e465eb0>,\n",
       " <matplotlib.lines.Line2D at 0x1f94e465fd0>,\n",
       " <matplotlib.lines.Line2D at 0x1f94e46a130>,\n",
       " <matplotlib.lines.Line2D at 0x1f94e46a250>,\n",
       " <matplotlib.lines.Line2D at 0x1f94e46a370>,\n",
       " <matplotlib.lines.Line2D at 0x1f94e46a490>,\n",
       " <matplotlib.lines.Line2D at 0x1f94e46a5b0>,\n",
       " <matplotlib.lines.Line2D at 0x1f94e46a6d0>,\n",
       " <matplotlib.lines.Line2D at 0x1f94e46a7f0>,\n",
       " <matplotlib.lines.Line2D at 0x1f94e46a910>,\n",
       " <matplotlib.lines.Line2D at 0x1f94e46aa30>,\n",
       " <matplotlib.lines.Line2D at 0x1f94e46ab50>,\n",
       " <matplotlib.lines.Line2D at 0x1f94e46ac70>,\n",
       " <matplotlib.lines.Line2D at 0x1f94e46ad90>,\n",
       " <matplotlib.lines.Line2D at 0x1f94e46aeb0>,\n",
       " <matplotlib.lines.Line2D at 0x1f94e46afd0>,\n",
       " <matplotlib.lines.Line2D at 0x1f94e471130>,\n",
       " <matplotlib.lines.Line2D at 0x1f94e471250>,\n",
       " <matplotlib.lines.Line2D at 0x1f94e471370>,\n",
       " <matplotlib.lines.Line2D at 0x1f94e471490>,\n",
       " <matplotlib.lines.Line2D at 0x1f94e4715b0>,\n",
       " <matplotlib.lines.Line2D at 0x1f94e4716d0>,\n",
       " <matplotlib.lines.Line2D at 0x1f94e4717f0>,\n",
       " <matplotlib.lines.Line2D at 0x1f94e471910>,\n",
       " <matplotlib.lines.Line2D at 0x1f94e471a30>,\n",
       " <matplotlib.lines.Line2D at 0x1f94e471b50>,\n",
       " <matplotlib.lines.Line2D at 0x1f94e471c70>,\n",
       " <matplotlib.lines.Line2D at 0x1f94e471d90>,\n",
       " <matplotlib.lines.Line2D at 0x1f94e471eb0>,\n",
       " <matplotlib.lines.Line2D at 0x1f94e471fd0>,\n",
       " <matplotlib.lines.Line2D at 0x1f94e478130>,\n",
       " <matplotlib.lines.Line2D at 0x1f94e478250>,\n",
       " <matplotlib.lines.Line2D at 0x1f94e478370>,\n",
       " <matplotlib.lines.Line2D at 0x1f94e478490>,\n",
       " <matplotlib.lines.Line2D at 0x1f94e4785b0>,\n",
       " <matplotlib.lines.Line2D at 0x1f94e4786d0>,\n",
       " <matplotlib.lines.Line2D at 0x1f94e4787f0>,\n",
       " <matplotlib.lines.Line2D at 0x1f94e478910>,\n",
       " <matplotlib.lines.Line2D at 0x1f94e478a30>,\n",
       " <matplotlib.lines.Line2D at 0x1f94e478b50>,\n",
       " <matplotlib.lines.Line2D at 0x1f94e478c70>,\n",
       " <matplotlib.lines.Line2D at 0x1f94e478d90>,\n",
       " <matplotlib.lines.Line2D at 0x1f94e478eb0>,\n",
       " <matplotlib.lines.Line2D at 0x1f94e478fd0>,\n",
       " <matplotlib.lines.Line2D at 0x1f94e47e130>,\n",
       " <matplotlib.lines.Line2D at 0x1f94e47e250>,\n",
       " <matplotlib.lines.Line2D at 0x1f94e47e370>,\n",
       " <matplotlib.lines.Line2D at 0x1f94e47e490>,\n",
       " <matplotlib.lines.Line2D at 0x1f94e47e5b0>,\n",
       " <matplotlib.lines.Line2D at 0x1f94e47e6d0>,\n",
       " <matplotlib.lines.Line2D at 0x1f94e47e7f0>,\n",
       " <matplotlib.lines.Line2D at 0x1f94e47e910>,\n",
       " <matplotlib.lines.Line2D at 0x1f94e47ea30>,\n",
       " <matplotlib.lines.Line2D at 0x1f94e47eb50>,\n",
       " <matplotlib.lines.Line2D at 0x1f94e47ec70>,\n",
       " <matplotlib.lines.Line2D at 0x1f94e47ed90>,\n",
       " <matplotlib.lines.Line2D at 0x1f94e47eeb0>,\n",
       " <matplotlib.lines.Line2D at 0x1f94e47efd0>,\n",
       " <matplotlib.lines.Line2D at 0x1f950484130>,\n",
       " <matplotlib.lines.Line2D at 0x1f950484250>,\n",
       " <matplotlib.lines.Line2D at 0x1f950484370>,\n",
       " <matplotlib.lines.Line2D at 0x1f950484490>,\n",
       " <matplotlib.lines.Line2D at 0x1f9504845b0>,\n",
       " <matplotlib.lines.Line2D at 0x1f9504846d0>,\n",
       " <matplotlib.lines.Line2D at 0x1f9504847f0>,\n",
       " <matplotlib.lines.Line2D at 0x1f950484910>,\n",
       " <matplotlib.lines.Line2D at 0x1f950484a30>,\n",
       " <matplotlib.lines.Line2D at 0x1f950484b50>,\n",
       " <matplotlib.lines.Line2D at 0x1f950484c70>,\n",
       " <matplotlib.lines.Line2D at 0x1f950484d90>,\n",
       " <matplotlib.lines.Line2D at 0x1f950484eb0>,\n",
       " <matplotlib.lines.Line2D at 0x1f950484fd0>,\n",
       " <matplotlib.lines.Line2D at 0x1f95048a130>,\n",
       " <matplotlib.lines.Line2D at 0x1f95048a250>,\n",
       " <matplotlib.lines.Line2D at 0x1f95048a370>,\n",
       " <matplotlib.lines.Line2D at 0x1f95048a490>,\n",
       " <matplotlib.lines.Line2D at 0x1f95048a5b0>,\n",
       " <matplotlib.lines.Line2D at 0x1f95048a6d0>,\n",
       " <matplotlib.lines.Line2D at 0x1f95048a7f0>,\n",
       " <matplotlib.lines.Line2D at 0x1f95048a910>,\n",
       " <matplotlib.lines.Line2D at 0x1f95048aa30>,\n",
       " <matplotlib.lines.Line2D at 0x1f95048ab50>,\n",
       " <matplotlib.lines.Line2D at 0x1f95048ac70>]"
      ]
     },
     "execution_count": 7,
     "metadata": {},
     "output_type": "execute_result"
    }
   ],
   "source": [
    "fig = plt.figure()\n",
    "ax = fig.add_subplot()\n",
    "ax.plot(xdata,ydata, color = 'r',ls = \"None\", marker = \".\")\n"
   ]
  },
  {
   "cell_type": "code",
   "execution_count": 8,
   "metadata": {},
   "outputs": [],
   "source": [
    "c1_lst = []\n",
    "c2_lst = []\n",
    "c3_lst = []\n",
    "import csv\n",
    "\n",
    "with open('coord_left.txt') as f:\n",
    "    reader = csv.reader(f)\n",
    "    for count, (c1, c2, c3) in enumerate(reader):\n",
    "        c1_lst.append(float(c1))\n",
    "        c2_lst.append(-float(c2))\n",
    "        c3_lst.append(float(c3))\n"
   ]
  },
  {
   "cell_type": "code",
   "execution_count": null,
   "metadata": {},
   "outputs": [],
   "source": []
  },
  {
   "cell_type": "code",
   "execution_count": 9,
   "metadata": {},
   "outputs": [],
   "source": [
    "c3 = np.array(c1_lst)"
   ]
  },
  {
   "cell_type": "code",
   "execution_count": 10,
   "metadata": {},
   "outputs": [],
   "source": [
    "new_array = c3[np.logical_not(np.isnan(c3))]\n",
    "\n"
   ]
  },
  {
   "cell_type": "code",
   "execution_count": 11,
   "metadata": {},
   "outputs": [],
   "source": [
    "import matplotlib.cm as cm\n",
    "\n",
    "fontsize_ylabel = 17\n",
    "fontsize_xlabel = 17\n",
    "fontsize_zlabel = 17\n",
    "font_xticks = 15\n",
    "font_yticks = 15\n",
    "font_legend =13\n",
    "\n",
    "fig = plt.figure(figsize=(10,10))\n",
    "ax = fig.add_subplot(projection = '3d')\n",
    "ax.scatter(c1_lst,c2_lst,c3_lst,color = 'blue',linewidth=0.5)\n",
    "\n",
    "\n",
    "ax.tick_params(axis='x', labelsize=font_xticks)\n",
    "ax.tick_params(axis='y', labelsize=font_yticks)\n",
    "ax.tick_params(axis='z', labelsize=font_yticks)\n",
    "\n",
    "ax.set_ylabel(\"y axis [m]\", fontsize = fontsize_ylabel)\n",
    "ax.set_xlabel(\"z axis [m]\", fontsize = fontsize_xlabel)\n",
    "ax.set_zlabel(\"x axis [m]\", fontsize = fontsize_zlabel)\n",
    "fig.tight_layout()\n",
    "\n",
    "#plt.savefig('setup_lateral.pdf',bbox_inches='tight', transparent=\"True\", pad_inches=0.1)\n"
   ]
  },
  {
   "cell_type": "code",
   "execution_count": 39,
   "metadata": {},
   "outputs": [],
   "source": [
    "import numpy as np\n",
    "csv_file = np.genfromtxt('D:/frame.csv', \n",
    "                          delimiter=',', dtype=str)\n",
    "top_row = np.array(csv_file[1:,:],dtype = float)"
   ]
  },
  {
   "cell_type": "code",
   "execution_count": 40,
   "metadata": {},
   "outputs": [],
   "source": [
    "x_coordinate = top_row[1:,7].tolist()\n",
    "z_coordinate = top_row[1:,8].tolist()\n",
    "y_coordinate = top_row[1:,9].tolist()"
   ]
  },
  {
   "cell_type": "code",
   "execution_count": 41,
   "metadata": {},
   "outputs": [
    {
     "name": "stderr",
     "output_type": "stream",
     "text": [
      "Traceback (most recent call last):\n",
      "  File \"c:\\Users\\UX550\\AppData\\Local\\Programs\\Python\\Python38\\lib\\site-packages\\matplotlib\\backends\\backend_qt.py\", line 455, in _draw_idle\n",
      "    self.draw()\n",
      "  File \"c:\\Users\\UX550\\AppData\\Local\\Programs\\Python\\Python38\\lib\\site-packages\\matplotlib\\backends\\backend_agg.py\", line 436, in draw\n",
      "    self.figure.draw(self.renderer)\n",
      "  File \"c:\\Users\\UX550\\AppData\\Local\\Programs\\Python\\Python38\\lib\\site-packages\\matplotlib\\artist.py\", line 73, in draw_wrapper\n",
      "    result = draw(artist, renderer, *args, **kwargs)\n",
      "  File \"c:\\Users\\UX550\\AppData\\Local\\Programs\\Python\\Python38\\lib\\site-packages\\matplotlib\\artist.py\", line 50, in draw_wrapper\n",
      "    return draw(artist, renderer)\n",
      "  File \"c:\\Users\\UX550\\AppData\\Local\\Programs\\Python\\Python38\\lib\\site-packages\\matplotlib\\figure.py\", line 2810, in draw\n",
      "    mimage._draw_list_compositing_images(\n",
      "  File \"c:\\Users\\UX550\\AppData\\Local\\Programs\\Python\\Python38\\lib\\site-packages\\matplotlib\\image.py\", line 132, in _draw_list_compositing_images\n",
      "    a.draw(renderer)\n",
      "  File \"c:\\Users\\UX550\\AppData\\Local\\Programs\\Python\\Python38\\lib\\site-packages\\matplotlib\\artist.py\", line 50, in draw_wrapper\n",
      "    return draw(artist, renderer)\n",
      "  File \"c:\\Users\\UX550\\AppData\\Local\\Programs\\Python\\Python38\\lib\\site-packages\\mpl_toolkits\\mplot3d\\axes3d.py\", line 451, in draw\n",
      "    for artist in sorted(collections_and_patches,\n",
      "  File \"c:\\Users\\UX550\\AppData\\Local\\Programs\\Python\\Python38\\lib\\site-packages\\mpl_toolkits\\mplot3d\\axes3d.py\", line 440, in do_3d_projection\n",
      "    return artist.do_3d_projection()\n",
      "  File \"c:\\Users\\UX550\\AppData\\Local\\Programs\\Python\\Python38\\lib\\site-packages\\matplotlib\\_api\\deprecation.py\", line 386, in wrapper\n",
      "    return func(*inner_args, **inner_kwargs)\n",
      "  File \"c:\\Users\\UX550\\AppData\\Local\\Programs\\Python\\Python38\\lib\\site-packages\\mpl_toolkits\\mplot3d\\art3d.py\", line 600, in do_3d_projection\n",
      "    vxs, vys, vzs, vis = proj3d.proj_transform_clip(xs, ys, zs,\n",
      "  File \"c:\\Users\\UX550\\AppData\\Local\\Programs\\Python\\Python38\\lib\\site-packages\\mpl_toolkits\\mplot3d\\proj3d.py\", line 157, in proj_transform_clip\n",
      "    return _proj_transform_vec_clip(vec, M)\n",
      "  File \"c:\\Users\\UX550\\AppData\\Local\\Programs\\Python\\Python38\\lib\\site-packages\\mpl_toolkits\\mplot3d\\proj3d.py\", line 114, in _proj_transform_vec_clip\n",
      "    vecw = np.dot(M, vec)\n",
      "  File \"<__array_function__ internals>\", line 180, in dot\n",
      "ValueError: data type must provide an itemsize\n"
     ]
    }
   ],
   "source": [
    "import matplotlib.cm as cm\n",
    "\n",
    "fontsize_ylabel = 17\n",
    "fontsize_xlabel = 17\n",
    "fontsize_zlabel = 17\n",
    "font_xticks = 15\n",
    "font_yticks = 15\n",
    "font_legend =13\n",
    "\n",
    "fig = plt.figure(figsize=(10,10))\n",
    "ax = fig.add_subplot(projection = '3d')\n",
    "ax.scatter(x_coordinate,z_coordinate,y_coordinate,color = 'blue',linewidth=0.5)\n",
    "\n",
    "\n",
    "ax.tick_params(axis='x', labelsize=font_xticks)\n",
    "ax.tick_params(axis='y', labelsize=font_yticks)\n",
    "ax.tick_params(axis='z', labelsize=font_yticks)\n",
    "\n",
    "ax.set_ylabel(\"y axis [m]\", fontsize = fontsize_ylabel)\n",
    "ax.set_xlabel(\"z axis [m]\", fontsize = fontsize_xlabel)\n",
    "ax.set_zlabel(\"x axis [m]\", fontsize = fontsize_zlabel)\n",
    "fig.tight_layout()\n",
    "\n",
    "#plt.savefig('setup_lateral.pdf',bbox_inches='tight', transparent=\"True\", pad_inches=0.1)\n"
   ]
  },
  {
   "cell_type": "code",
   "execution_count": null,
   "metadata": {},
   "outputs": [],
   "source": []
  }
 ],
 "metadata": {
  "kernelspec": {
   "display_name": "Python 3.8.5 64-bit",
   "language": "python",
   "name": "python3"
  },
  "language_info": {
   "codemirror_mode": {
    "name": "ipython",
    "version": 3
   },
   "file_extension": ".py",
   "mimetype": "text/x-python",
   "name": "python",
   "nbconvert_exporter": "python",
   "pygments_lexer": "ipython3",
   "version": "3.8.5"
  },
  "orig_nbformat": 4,
  "vscode": {
   "interpreter": {
    "hash": "a2351b8e039bbf9c56c302d7c356075afc88dd574b72d7357dd8301589a7e4a3"
   }
  }
 },
 "nbformat": 4,
 "nbformat_minor": 2
}

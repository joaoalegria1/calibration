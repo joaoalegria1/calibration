{
 "cells": [
  {
   "cell_type": "markdown",
   "metadata": {},
   "source": [
    "# 1. Camera Calibration"
   ]
  },
  {
   "cell_type": "markdown",
   "metadata": {},
   "source": [
    "This script intends to calibrate a camera using an object.\\\n",
    "For this implementation we will use the openCV method for calibration(https://docs.opencv.org/4.x/dc/dbb/tutorial_py_calibration.html)"
   ]
  },
  {
   "cell_type": "markdown",
   "metadata": {},
   "source": [
    "**Import the libraries**"
   ]
  },
  {
   "cell_type": "code",
   "execution_count": 1,
   "metadata": {},
   "outputs": [
    {
     "name": "stdout",
     "output_type": "stream",
     "text": [
      "3.8.5\n"
     ]
    }
   ],
   "source": [
    "from platform import python_version\n",
    "\n",
    "print(python_version())"
   ]
  },
  {
   "cell_type": "code",
   "execution_count": 2,
   "metadata": {},
   "outputs": [],
   "source": [
    "from matplotlib import pyplot as plt\n",
    "import numpy as np\n",
    "import scipy as sp\n",
    "import cv2\n",
    "\n",
    "#for LM method\n",
    "from scipy.optimize import curve_fit\n",
    "#matplotlib widget"
   ]
  },
  {
   "cell_type": "code",
   "execution_count": 3,
   "metadata": {},
   "outputs": [],
   "source": [
    "if False:\n",
    "    folder_dir = \"C:/Users/UX550/OneDrive - Universidade de Aveiro/Documentos/5º ANO\\Thesis/calibration_photos/calibration_2_meters_tivera/right_2/\"\n",
    "    img_cnt = 0\n",
    "    # list of images\n",
    "    list_images = os.listdir(folder_dir)\n",
    "    print(list_images)"
   ]
  },
  {
   "cell_type": "code",
   "execution_count": 4,
   "metadata": {},
   "outputs": [],
   "source": [
    "if False:\n",
    "    folder_dir = \"C:/Users/UX550/OneDrive - Universidade de Aveiro/Documentos/5º ANO\\Thesis/calibration_photos/calibration_2_meters_tivera/left_2/\"\n",
    "    img_cnt = 0\n",
    "    # list of images\n",
    "    list_images = os.listdir(folder_dir)\n",
    "    print(list_images)"
   ]
  },
  {
   "cell_type": "markdown",
   "metadata": {},
   "source": [
    "### Run through image directory"
   ]
  },
  {
   "cell_type": "code",
   "execution_count": null,
   "metadata": {},
   "outputs": [],
   "source": [
    "\n",
    "if True:\n",
    "        \n",
    "    import os \n",
    "    import string\n",
    "    from os import listdir\n",
    "\n",
    "    camera_name = 'left'\n",
    "    # get the path/directory\n",
    "    folder_dir = f\"C:/Users/UX550/OneDrive - Universidade de Aveiro/Documentos/5º ANO\\Thesis/calibration_photos/calibration_circle_2_f8_/{camera_name}_2/\"\n",
    "    img_cnt = 0\n",
    "    # list of images\n",
    "    list_images = os.listdir(folder_dir)\n",
    "    new_list = sorted(list_images,key = lambda k: int(k.split('_')[2].split('.')[0]))\n",
    "\n",
    "    for images in new_list:\n",
    "        # check if the image ends with png\n",
    "        renamed_image = camera_name + \"_init_\" + '%s' % img_cnt + '.png'\n",
    "        print(images)\n",
    "        print(renamed_image)\n",
    "        # If equal, no renaming\n",
    "        if(images == renamed_image):\n",
    "            print(\"equal\")\n",
    "        else:\n",
    "            while True:\n",
    "                print(images)\n",
    "                renamed_image = camera_name + \"_init_\" + '%s' % img_cnt + '.png'\n",
    "                print(renamed_image)\n",
    "                try:\n",
    "                    os.rename(folder_dir + '/' + images,folder_dir + '/' + renamed_image)\n",
    "                except FileExistsError:\n",
    "                    img_cnt += 1\n",
    "                    pass\n",
    "                else:\n",
    "                    break\n",
    "                \n",
    "            \n",
    "        img_cnt += 1\n"
   ]
  },
  {
   "cell_type": "markdown",
   "metadata": {},
   "source": [
    "## Zhang's Method\n",
    "Comparing to the DLT method, the Zhang method only calculate the intrinsic parameters. We instead only need to find 5 parameters."
   ]
  },
  {
   "cell_type": "markdown",
   "metadata": {},
   "source": [
    "## 2. Calibration"
   ]
  },
  {
   "cell_type": "markdown",
   "metadata": {},
   "source": [
    "## Find the homographies"
   ]
  },
  {
   "cell_type": "code",
   "execution_count": 5,
   "metadata": {},
   "outputs": [],
   "source": [
    "def cornerfinding(n_imgs,patternsize,dist, img_name):\n",
    "    '''\n",
    "    @param\n",
    "    [in] n_imgs : number of images used\n",
    "    [in] patternsize : size of the checkerboard\n",
    "    [in] dist : distance between squares\n",
    "    [in] img_name : name of the jpg\n",
    "    [out] imagecoo : imagecoordinates\n",
    "    [out] worldcoo : worldcoordinates\n",
    "    '''\n",
    "    # number of images\n",
    "    n_imgs = n_imgs\n",
    "    # pattern size\n",
    "    patternsize= patternsize\n",
    "    #distance between squares(in mm)\n",
    "    dist = dist\n",
    "\n",
    "    # specified number of iterations are completed.\n",
    "    criteria = (cv2.TERM_CRITERIA_EPS +\n",
    "                cv2.TERM_CRITERIA_MAX_ITER, 30, 0.001)\n",
    "\n",
    "    # Vector for 3D points\n",
    "    threedpoints = []\n",
    "\n",
    "    # Vector for 2D points\n",
    "    twodpoints = []\n",
    "\n",
    "    #3D points real world coordinates( static -> chessboard)\n",
    "    # create a matrix of zeros for 48 points , each with 3 coordinates\n",
    "    world_coo = np.zeros((1, patternsize[0]* patternsize[1],3), np.float32)\n",
    "    world_coo[:, :, :2] = np.mgrid[0:patternsize[0], 0:patternsize[1]].T.reshape(-1, 2)\n",
    "    # Transform coordinates in mm\n",
    "    world_coo = world_coo*dist\n",
    "\n",
    "    #prev_img_shape = None\n",
    "\n",
    "    for i in range(n_imgs):\n",
    "\n",
    "        im = i\n",
    "        #Import the image\n",
    "        name = (str(img_name)+ str(im)+\".png\")\n",
    "        img = cv2.imread(name)\n",
    "        #print(name)\n",
    "        # convert it to gray scale\n",
    "        gray = cv2.cvtColor(img,cv2.COLOR_BGR2GRAY)\n",
    "\n",
    "        retval, corners= cv2.findChessboardCorners(gray,patternsize,None)\n",
    "        #print(corners)\n",
    "        if(retval == True):\n",
    "            threedpoints.append(world_coo)\n",
    "            #print(name)\n",
    "\n",
    "            # Refining pixel coordinates or given 2d points.\n",
    "            corners2 = cv2.cornerSubPix(gray, corners, (11, 11), (-1, -1), criteria).reshape(patternsize[0]*patternsize[1],2)\n",
    "\n",
    "            twodpoints.append(corners2)\n",
    "            # Draw and display the corners\n",
    "            image = cv2.drawChessboardCorners(img,patternsize,corners2,retval)\n",
    "            #plt.imshow(image)\n",
    "            #plt.show()\n",
    "        else:\n",
    "            print(name)\n",
    "\n",
    "    # image coordinates and world coordinates for the diferent images( the world coordinates are always the same)\n",
    "    imagecoo = np.asarray(twodpoints)\n",
    "    worldcoo = np.asarray(threedpoints) \n",
    "    return imagecoo, worldcoo\n",
    "\n",
    "#C:\\Users\\UX550\\OneDrive - Universidade de Aveiro\\Documentos\\5º ANO\\Thesis\\calibration\\images\n",
    "#name_left = (\"../calibration_photos/calibration_photos_2meters/left_160/left_init_\")\n",
    "#name_right =(\"../calibration_photos/calibration_photos_2meters/right_160/right_init_\")\n",
    "#name_left = (\"../calibration_photos/calibration_photos/left_edited/left_init_\")\n",
    "#name_right =(\"../calibration_photos/calibration_photos/right_edited/right_init_\")\n",
    "name_left = \"../Thesis/calibration_photos/calibration_circle_2_f8_/left_2/left_init_\"\n",
    "name_right = (\"../Thesis/calibration_photos/calibration_circle_2_f8_/right_2/right_init_\")\n",
    "\n",
    "#name_right = (\"../calibration_photos/calibration_2_meters_tivera/right_2/right_init_\")\n",
    "#name_left = (\"calibration_photos/left_edited/left_init_\")\n",
    "#name_right = (\"calibration_photos/right_edited/right_init_\")\n",
    "n_imgs = 180\n",
    "square_size = 44\n",
    "pattern_size = (12,8)\n",
    "#imagecoo_left,worldcoo_left = cornerfinding(n_imgs,pattern_size,square_size,name_left)\n",
    "#imagecoo_right,worldcoo_right = cornerfinding(n_imgs,pattern_size,square_size,name_right)\n"
   ]
  },
  {
   "cell_type": "code",
   "execution_count": 33,
   "metadata": {},
   "outputs": [],
   "source": [
    "if True:\n",
    "        objp=np.array([[0,0,0],[0,1,0],[0,2,0],[0,3,0],[0,4,0],[0,5,0],[0.5,0.5,0],[1,1.5,0],[1.5,2.5,0],[2,3.5,0],[2.5,4.5,0],[3,5.5,0]],np.float32)\n",
    "        for y in range(6):\n",
    "                for x in range(2,16):\n",
    "                        objp=np.append(objp,[np.array([objp[4*(y-2)+x][0],objp[4*(y-2)+x][1]+1,0])],axis=0)\n",
    "\n",
    "        objp = objp*60.8 "
   ]
  },
  {
   "cell_type": "code",
   "execution_count": 34,
   "metadata": {},
   "outputs": [
    {
     "data": {
      "text/plain": [
       "array([[  0. ,   0. ,   0. ],\n",
       "       [  0. ,  60.8,   0. ],\n",
       "       [  0. , 121.6,   0. ],\n",
       "       [  0. , 182.4,   0. ],\n",
       "       [  0. , 243.2,   0. ],\n",
       "       [  0. , 304. ,   0. ],\n",
       "       [ 30.4,  30.4,   0. ],\n",
       "       [ 60.8,  91.2,   0. ],\n",
       "       [ 91.2, 152. ,   0. ],\n",
       "       [121.6, 212.8,   0. ],\n",
       "       [152. , 273.6,   0. ],\n",
       "       [182.4, 334.4,   0. ],\n",
       "       [ 30.4,  91.2,   0. ],\n",
       "       [ 91.2, 212.8,   0. ],\n",
       "       [152. , 334.4,   0. ],\n",
       "       [ 30.4, 152. ,   0. ],\n",
       "       [152. , 395.2,   0. ],\n",
       "       [152. , 456. ,   0. ],\n",
       "       [  0. ,  60.8,   0. ],\n",
       "       [  0. , 121.6,   0. ],\n",
       "       [  0. , 182.4,   0. ],\n",
       "       [  0. , 243.2,   0. ],\n",
       "       [  0. , 304. ,   0. ],\n",
       "       [  0. , 364.8,   0. ],\n",
       "       [ 30.4,  91.2,   0. ],\n",
       "       [ 60.8, 152. ,   0. ],\n",
       "       [ 30.4, 152. ,   0. ],\n",
       "       [ 30.4, 212.8,   0. ],\n",
       "       [  0. ,  60.8,   0. ],\n",
       "       [  0. , 121.6,   0. ],\n",
       "       [  0. , 182.4,   0. ],\n",
       "       [  0. , 243.2,   0. ],\n",
       "       [  0. , 304. ,   0. ],\n",
       "       [  0. , 364.8,   0. ],\n",
       "       [ 30.4,  91.2,   0. ],\n",
       "       [ 60.8, 152. ,   0. ],\n",
       "       [ 91.2, 212.8,   0. ],\n",
       "       [121.6, 273.6,   0. ],\n",
       "       [152. , 334.4,   0. ],\n",
       "       [182.4, 395.2,   0. ],\n",
       "       [  0. , 182.4,   0. ],\n",
       "       [  0. , 243.2,   0. ],\n",
       "       [  0. , 304. ,   0. ],\n",
       "       [  0. , 364.8,   0. ],\n",
       "       [ 30.4,  91.2,   0. ],\n",
       "       [ 60.8, 152. ,   0. ],\n",
       "       [ 91.2, 212.8,   0. ],\n",
       "       [121.6, 273.6,   0. ],\n",
       "       [152. , 334.4,   0. ],\n",
       "       [182.4, 395.2,   0. ],\n",
       "       [ 30.4, 152. ,   0. ],\n",
       "       [ 91.2, 273.6,   0. ],\n",
       "       [152. , 395.2,   0. ],\n",
       "       [ 30.4, 212.8,   0. ],\n",
       "       [ 30.4,  91.2,   0. ],\n",
       "       [ 60.8, 152. ,   0. ],\n",
       "       [ 91.2, 212.8,   0. ],\n",
       "       [121.6, 273.6,   0. ],\n",
       "       [152. , 334.4,   0. ],\n",
       "       [182.4, 395.2,   0. ],\n",
       "       [ 30.4, 152. ,   0. ],\n",
       "       [ 91.2, 273.6,   0. ],\n",
       "       [152. , 395.2,   0. ],\n",
       "       [ 30.4, 212.8,   0. ],\n",
       "       [152. , 456. ,   0. ],\n",
       "       [152. , 516.8,   0. ],\n",
       "       [  0. , 121.6,   0. ],\n",
       "       [  0. , 182.4,   0. ],\n",
       "       [152. , 334.4,   0. ],\n",
       "       [182.4, 395.2,   0. ],\n",
       "       [ 30.4, 152. ,   0. ],\n",
       "       [ 91.2, 273.6,   0. ],\n",
       "       [152. , 395.2,   0. ],\n",
       "       [ 30.4, 212.8,   0. ],\n",
       "       [152. , 456. ,   0. ],\n",
       "       [152. , 516.8,   0. ],\n",
       "       [  0. , 121.6,   0. ],\n",
       "       [  0. , 182.4,   0. ],\n",
       "       [  0. , 243.2,   0. ],\n",
       "       [  0. , 304. ,   0. ],\n",
       "       [  0. , 364.8,   0. ],\n",
       "       [  0. , 425.6,   0. ],\n",
       "       [152. , 395.2,   0. ],\n",
       "       [ 30.4, 212.8,   0. ],\n",
       "       [152. , 456. ,   0. ],\n",
       "       [152. , 516.8,   0. ],\n",
       "       [  0. , 121.6,   0. ],\n",
       "       [  0. , 182.4,   0. ],\n",
       "       [  0. , 243.2,   0. ],\n",
       "       [  0. , 304. ,   0. ],\n",
       "       [  0. , 364.8,   0. ],\n",
       "       [  0. , 425.6,   0. ],\n",
       "       [ 30.4, 152. ,   0. ],\n",
       "       [ 60.8, 212.8,   0. ],\n",
       "       [ 30.4, 212.8,   0. ],\n",
       "       [ 30.4, 273.6,   0. ]])"
      ]
     },
     "execution_count": 34,
     "metadata": {},
     "output_type": "execute_result"
    }
   ],
   "source": [
    "objp"
   ]
  },
  {
   "cell_type": "code",
   "execution_count": null,
   "metadata": {},
   "outputs": [],
   "source": [
    "objp = np.zeros((96, 3), np.float32)\n",
    "objp[0]  = (0  ,   0  , 0)\n",
    "objp[1]  = (0  , 60.8 , 0)\n",
    "objp[2]  = (0  , 121.6, 0)\n",
    "objp[3]  = (0  , 182.4, 0)\n",
    "objp[4]  = (0  , 243.2, 0)\n",
    "objp[5]  = (0  ,   304, 0)\n",
    "\n",
    "objp[6]  = (30.4 , 30.4 , 0)\n",
    "objp[7]  = (30.4 , 91.2., 0)\n",
    "objp[8]  = (30.4 ,   152, 0)\n",
    "objp[9]  = (30.4 , 212.8, 0)\n",
    "objp[10] = (30.4 , 273.6, 0)\n",
    "objp[11] = (30.4 , 334.4, 0)\n",
    "\n",
    "objp[12] = (60.8 ,  0  , 0)\n",
    "objp[13] = (60.8 ,60.8 , 0)\n",
    "objp[14] = (60.8 ,121.6, 0)\n",
    "objp[15] = (60.8 ,182.4, 0)\n",
    "objp[16] = (60.8 ,243.2, 0)\n",
    "objp[17] = (60.8 ,  304, 0)\n",
    "\n",
    "objp[18] = (91.2 , 30.4 , 0)\n",
    "objp[19] = (91.2 , 91.2., 0)\n",
    "objp[20] = (91.2 ,   152, 0)\n",
    "objp[21] = (91.2 , 212.8, 0)\n",
    "objp[22] = (91.2 , 273.6, 0)\n",
    "objp[23] = (91.2 , 334.4, 0)\n",
    "\n",
    "objp[24] = (121.6,  0  , 0)\n",
    "objp[25] = (121.6,60.8 , 0)\n",
    "objp[26] = (121.6,121.6, 0)\n",
    "objp[27] = (121.6,182.4, 0)\n",
    "objp[28] = (121.6,243.2, 0)\n",
    "objp[29] = (121.6,  304, 0)\n",
    "\n",
    "objp[30] = (152,  30.4 , 0)\n",
    "objp[31] = (152,  91.2., 0)\n",
    "objp[32] = (152,    152, 0)\n",
    "objp[33] = (152,  212.8, 0)\n",
    "objp[34] = (152,  273.6, 0)\n",
    "objp[35] = (152,  334.4, 0)\n",
    "\n",
    "objp[36] = (182.4,  0  , 0)\n",
    "objp[37] = (182.4,60.8 , 0)\n",
    "objp[38] = (182.4,121.6, 0)\n",
    "objp[39] = (182.4,182.4, 0)\n",
    "objp[40] = (182.4,243.2, 0)\n",
    "objp[41] = (182.4,  304, 0)\n",
    "\n",
    "objp[42] = (212.8,  30.4 , 0)\n",
    "objp[43] = (212.8,  91.2., 0)\n",
    "objp[44] = (212.8,    152, 0)\n",
    "objp[45] = (212.8,  212.8, 0)\n",
    "objp[46] = (212.8,  273.6, 0)\n",
    "objp[47] = (212.8,  334.4, 0)\n",
    "\n",
    "objp[48] = (243.2,  0  , 0)\n",
    "objp[49] = (243.2,60.8 , 0)\n",
    "objp[50] = (243.2,121.6, 0)\n",
    "objp[51] = (243.2,182.4, 0)\n",
    "objp[52] = (243.2,243.2, 0)\n",
    "objp[53] = (243.2,  304, 0)\n",
    "\n",
    "objp[54] = (273.6,  30.4 , 0)\n",
    "objp[55] = (273.6,  91.2., 0)\n",
    "objp[56] = (273.6,    152, 0)\n",
    "objp[57] = (273.6,  212.8, 0)\n",
    "objp[58] = (273.6,  273.6, 0)\n",
    "objp[59] = (273.6,  334.4, 0)\n",
    "\n",
    "objp[60] = (304,  0  , 0)\n",
    "objp[61] = (304,60.8 , 0)\n",
    "objp[62] = (304,121.6, 0)\n",
    "objp[63] = (304,182.4, 0)\n",
    "objp[64] = (304,243.2, 0)\n",
    "objp[65] = (304,  304, 0)\n",
    "\n",
    "objp[66] = (334.4,  30.4 , 0)\n",
    "objp[67] = (334.4,  91.2., 0)\n",
    "objp[68] = (334.4,    152, 0)\n",
    "objp[69] = (334.4,  212.8, 0)\n",
    "objp[70] = (334.4,  273.6, 0)\n",
    "objp[71] = (334.4,  334.4, 0)\n",
    "\n",
    "objp[72] = (364.8,  0  , 0)\n",
    "objp[73] = (364.8,60.8 , 0)\n",
    "objp[74] = (364.8,121.6, 0)\n",
    "objp[75] = (364.8,182.4, 0)\n",
    "objp[76] = (364.8,243.2, 0)\n",
    "objp[77] = (364.8,  304, 0)\n",
    "\n",
    "objp[78] = (395.2,  30.4 , 0)\n",
    "objp[79] = (395.2,  91.2., 0)\n",
    "objp[80] = (395.2,    152, 0)\n",
    "objp[81] = (395.2,  212.8, 0)\n",
    "objp[82] = (395.2,  273.6, 0)\n",
    "objp[83] = (395.2,  334.4, 0)\n",
    "\n",
    "objp[84] = (425.6,  0  , 0)\n",
    "objp[85] = (425.6,60.8 , 0)\n",
    "objp[86] = (425.6,121.6, 0)\n",
    "objp[87] = (425.6,182.4, 0)\n",
    "objp[88] = (425.6,243.2, 0)\n",
    "objp[89] = (425.6,  304, 0)\n",
    "\n",
    "objp[90] = (456,  30.4 , 0)\n",
    "objp[91] = (456,  91.2., 0)\n",
    "objp[92] = (456,    152, 0)\n",
    "objp[93] = (456,  212.8, 0)\n",
    "objp[94] = (456,  273.6, 0)\n",
    "objp[95] = (456,  334.4, 0)"
   ]
  },
  {
   "cell_type": "code",
   "execution_count": 53,
   "metadata": {},
   "outputs": [],
   "source": [
    "objp = np.zeros((96, 3), np.float32)\n",
    "objp[0]  = (0  , 0  , 0)\n",
    "objp[1]  = (0  , 60 , 0)\n",
    "objp[2]  = (0  , 120, 0)\n",
    "objp[3]  = (0  , 180, 0)\n",
    "objp[4]  = (0  , 240, 0)\n",
    "objp[5]  = (0  , 300, 0)\n",
    "\n",
    "objp[6]  = (30 , 30 , 0)\n",
    "objp[7]  = (30 , 90 , 0)\n",
    "objp[8]  = (30 , 150, 0)\n",
    "objp[9]  = (30 , 210, 0)\n",
    "objp[10] = (30 , 270, 0)\n",
    "objp[11] = (30 , 330, 0)\n",
    "\n",
    "objp[12] = (60 , 0  , 0)\n",
    "objp[13] = (60 , 60 , 0)\n",
    "objp[14] = (60 , 120, 0)\n",
    "objp[15] = (60 , 180, 0)\n",
    "objp[16] = (60 , 240, 0)\n",
    "objp[17] = (60 , 300, 0)\n",
    "\n",
    "objp[18] = (90 , 30 , 0)\n",
    "objp[19] = (90 , 90 , 0)\n",
    "objp[20] = (90 , 150, 0)\n",
    "objp[21] = (90 , 210, 0)\n",
    "objp[22] = (90 , 270, 0)\n",
    "objp[23] = (90 , 330, 0)\n",
    "\n",
    "objp[24] = (120, 0  , 0)\n",
    "objp[25] = (120, 60 , 0)\n",
    "objp[26] = (120, 120, 0)\n",
    "objp[27] = (120, 180, 0)\n",
    "objp[28] = (120, 240, 0)\n",
    "objp[29] = (120, 300, 0)\n",
    "\n",
    "objp[30] = (150, 30 , 0)\n",
    "objp[31] = (150, 90 , 0)\n",
    "objp[32] = (150, 150, 0)\n",
    "objp[33] = (150, 210, 0)\n",
    "objp[34] = (150, 270, 0)\n",
    "objp[35] = (150, 330, 0)\n",
    "\n",
    "objp[36] = (180, 0  , 0)\n",
    "objp[37] = (180, 60 , 0)\n",
    "objp[38] = (180, 120, 0)\n",
    "objp[39] = (180, 180, 0)\n",
    "objp[40] = (180, 240, 0)\n",
    "objp[41] = (180, 300, 0)\n",
    "\n",
    "objp[42] = (210, 30, 0)\n",
    "objp[43] = (210, 90, 0)\n",
    "objp[44] = (210, 150, 0)\n",
    "objp[45] = (210, 210, 0)\n",
    "objp[46] = (210, 270, 0)\n",
    "objp[47] = (210, 330, 0)\n",
    "\n",
    "objp[48] = (240, 0  , 0)\n",
    "objp[49] = (240, 60 , 0)\n",
    "objp[50] = (240, 120, 0)\n",
    "objp[51] = (240, 180, 0)\n",
    "objp[52] = (240, 240, 0)\n",
    "objp[53] = (240, 300, 0)\n",
    "\n",
    "objp[54] = (270, 30, 0)\n",
    "objp[55] = (270, 90, 0)\n",
    "objp[56] = (270, 150, 0)\n",
    "objp[57] = (270, 210, 0)\n",
    "objp[58] = (270, 270, 0)\n",
    "objp[59] = (270, 330, 0)\n",
    "\n",
    "objp[60] = (300, 0  , 0)\n",
    "objp[61] = (300, 60 , 0)\n",
    "objp[62] = (300, 120, 0)\n",
    "objp[63] = (300, 180, 0)\n",
    "objp[64] = (300, 240, 0)\n",
    "objp[65] = (300, 300, 0)\n",
    "\n",
    "objp[66] = (330, 30, 0)\n",
    "objp[67] = (330, 90, 0)\n",
    "objp[68] = (330, 150, 0)\n",
    "objp[69] = (330, 210, 0)\n",
    "objp[70] = (330, 270, 0)\n",
    "objp[71] = (330, 330, 0)\n",
    "\n",
    "objp[72] = (360, 0  , 0)\n",
    "objp[73] = (360, 60 , 0)\n",
    "objp[74] = (360, 120, 0)\n",
    "objp[75] = (360, 180, 0)\n",
    "objp[76] = (360, 240, 0)\n",
    "objp[77] = (360, 300, 0)\n",
    "\n",
    "objp[78] = (390, 30, 0)\n",
    "objp[79] = (390, 90, 0)\n",
    "objp[80] = (390, 150, 0)\n",
    "objp[81] = (390, 210, 0)\n",
    "objp[82] = (390, 270, 0)\n",
    "objp[83] = (390, 330, 0)\n",
    "\n",
    "objp[84] = (410, 0  , 0)\n",
    "objp[85] = (410, 60 , 0)\n",
    "objp[86] = (410, 120, 0)\n",
    "objp[87] = (410, 180, 0)\n",
    "objp[88] = (410, 240, 0)\n",
    "objp[89] = (410, 300, 0)\n",
    "\n",
    "objp[90] = (440, 30, 0)\n",
    "objp[91] = (440, 90, 0)\n",
    "objp[92] = (440, 150, 0)\n",
    "objp[93] = (440, 210, 0)\n",
    "objp[94] = (440, 270, 0)\n",
    "objp[95] = (440, 330, 0)\n",
    "# Arrays to store object points and image points from all the images.\n"
   ]
  },
  {
   "cell_type": "code",
   "execution_count": 54,
   "metadata": {},
   "outputs": [],
   "source": [
    "# termination criteria\n",
    "criteria = (cv2.TERM_CRITERIA_EPS + cv2.TERM_CRITERIA_MAX_ITER, 30, 0.001)\n",
    "\n",
    "########################################Blob Detector##############################################\n",
    "\n",
    "# Setup SimpleBlobDetector parameters.\n",
    "blobParams = cv2.SimpleBlobDetector_Params()\n",
    "\n",
    "# Change thresholds\n",
    "blobParams.minThreshold = 230\n",
    "blobParams.maxThreshold = 255\n",
    "\n",
    "# Filter by Area.\n",
    "blobParams.filterByArea = True\n",
    "blobParams.minArea = 60     # minArea may be adjusted to suit for your experiment\n",
    "blobParams.maxArea = 250   # maxArea may be adjusted to suit for your experiment\n",
    "\n",
    "# Filter by Circularity\n",
    "blobParams.filterByCircularity = True\n",
    "blobParams.minCircularity = 0.8\n",
    "\n",
    "# Filter by Convexity\n",
    "blobParams.filterByConvexity = True\n",
    "blobParams.minConvexity = 0.87\n",
    "\n",
    "# Filter by Inertia\n",
    "blobParams.filterByInertia = True\n",
    "blobParams.minInertiaRatio = 0.01\n",
    "\n",
    "# Create a detector with the parameters\n",
    "blobDetector = cv2.SimpleBlobDetector_create(blobParams)"
   ]
  },
  {
   "cell_type": "markdown",
   "metadata": {},
   "source": [
    "## Left camera "
   ]
  },
  {
   "cell_type": "code",
   "execution_count": 55,
   "metadata": {},
   "outputs": [],
   "source": [
    "nimage = 60\n",
    "imgpoints_L = np.zeros((nimage,objp.shape[0],2), np.float32) # 2d points in image plane.\n",
    "objpoints = np.zeros((1,objp.shape[0],3),np.float32) \n",
    "objpoints = objp\n",
    "threepoints = []\n",
    "\n",
    "import os \n",
    "for i in range(0,nimage,1):\n",
    "\n",
    "    name = (str(name_left)+str(i)+\".png\")\n",
    "    #print(name)\n",
    "    found = 0\n",
    "    img = cv2.imread(name)\n",
    "    gray = cv2.cvtColor(img, cv2.COLOR_BGR2GRAY)\n",
    "\n",
    "    keypoints = blobDetector.detect(gray) # Detect blobs\n",
    "\n",
    "    im_with_keypoints = cv2.drawKeypoints(img, keypoints, np.array([]), (0,255,0), cv2.DRAW_MATCHES_FLAGS_DRAW_RICH_KEYPOINTS)\n",
    "    im_with_keypoints_gray = cv2.cvtColor(im_with_keypoints, cv2.COLOR_BGR2GRAY)\n",
    "    ret, corners = cv2.findCirclesGrid(im_with_keypoints, (6,16), None, flags = cv2.CALIB_CB_ASYMMETRIC_GRID)   # Find the circle grid\n",
    "\n",
    "    if ret == True:\n",
    "          # Certainly, every loop objp is the same, in 3D.\n",
    "\n",
    "        corners2 = cv2.cornerSubPix(im_with_keypoints_gray, corners, (11,11), (-1,-1), criteria).reshape(16*6,2)    # Refines the corner locations.\n",
    "        imgpoints_L[i,:,:] = corners2\n",
    "        threepoints.append(objpoints)\n",
    "\n",
    "        # Draw and display the corners.\n",
    "        im_with_keypoints = cv2.drawChessboardCorners(img, (6,16), corners2, ret)\n",
    "        found += 1\n",
    "\n",
    "    else:\n",
    "        print(f\"false: {name}\\n\")\n",
    "        os.remove(name)\n",
    "        name_right_i = (str(name_right)+str(i)+\".png\")\n",
    "        os.remove(name_right_i)\n",
    "        \n",
    "\n",
    "\n",
    "        \n",
    "    #cv2.imshow(\"img\",im_with_keypoints)\n",
    "    #cv2.waitKey(0)\n",
    "    #cv2.destroyAllWindows()\n",
    "\n",
    "worldpoints = np.asarray(threepoints,np.float32).reshape(nimage,1,96,3)\n",
    "\n",
    "\n"
   ]
  },
  {
   "cell_type": "code",
   "execution_count": 56,
   "metadata": {},
   "outputs": [
    {
     "data": {
      "text/plain": [
       "(60, 1, 96, 3)"
      ]
     },
     "execution_count": 56,
     "metadata": {},
     "output_type": "execute_result"
    }
   ],
   "source": [
    "worldpoints.shape"
   ]
  },
  {
   "cell_type": "code",
   "execution_count": 57,
   "metadata": {},
   "outputs": [
    {
     "data": {
      "text/plain": [
       "numpy.float32"
      ]
     },
     "execution_count": 57,
     "metadata": {},
     "output_type": "execute_result"
    }
   ],
   "source": [
    "type(imgpoints_L[0,0,0])"
   ]
  },
  {
   "cell_type": "markdown",
   "metadata": {},
   "source": [
    "## Right camera"
   ]
  },
  {
   "cell_type": "code",
   "execution_count": 58,
   "metadata": {},
   "outputs": [],
   "source": [
    "nimage = 60\n",
    "imgpoints_R = np.zeros((nimage,objp.shape[0],2),np.float32) # 2d points in image plane.\n",
    "\n",
    "for i in range(0,nimage,1):\n",
    "\n",
    "    name = (str(name_right)+str(i)+\".png\")\n",
    "    found = 0\n",
    "    img = cv2.imread(name)\n",
    "    gray = cv2.cvtColor(img, cv2.COLOR_BGR2GRAY)\n",
    "\n",
    "    keypoints_R = blobDetector.detect(gray) # Detect blobs\n",
    "\n",
    "    im_with_keypoints_R = cv2.drawKeypoints(img, keypoints_R, np.array([]), (0,255,0), cv2.DRAW_MATCHES_FLAGS_DRAW_RICH_KEYPOINTS)\n",
    "    im_with_keypoints_gray_R = cv2.cvtColor(im_with_keypoints_R, cv2.COLOR_BGR2GRAY)\n",
    "    ret_R, corners_R = cv2.findCirclesGrid(im_with_keypoints_R, (6,16), None, flags = cv2.CALIB_CB_ASYMMETRIC_GRID)   # Find the circle grid\n",
    "    if ret_R == True:\n",
    "        cornersR = cv2.cornerSubPix(im_with_keypoints_gray_R, corners, (11,11), (-1,-1), criteria).reshape(16*6,2)    # Refines the corner locations.\n",
    "        imgpoints_R[i,:,:] = cornersR\n",
    "\n",
    "        # Draw and display the corners.\n",
    "        im_with_keypoints_R = cv2.drawChessboardCorners(img, (6,16), corners_R, ret_R)\n",
    "        found += 1\n",
    "\n",
    "    else:\n",
    "        print(f\"false: {name}\\n\")\n",
    "        os.remove(name)\n",
    "        name_left_i = (str(name_left)+str(i)+\".png\")\n",
    "        os.remove(name_left_i)\n",
    "\n",
    "    #cv2.imshow(\"img\",im_with_keypoints_R)\n",
    "    #cv2.waitKey(0)\n",
    "    #cv2.destroyAllWindows()\n",
    "\n"
   ]
  },
  {
   "cell_type": "code",
   "execution_count": 59,
   "metadata": {},
   "outputs": [
    {
     "name": "stdout",
     "output_type": "stream",
     "text": [
      "(60, 96, 2)\n",
      "(60, 96, 2)\n"
     ]
    }
   ],
   "source": [
    "print(np.shape(imgpoints_L))\n",
    "print(np.shape(imgpoints_R))"
   ]
  },
  {
   "cell_type": "code",
   "execution_count": 60,
   "metadata": {},
   "outputs": [
    {
     "data": {
      "text/plain": [
       "numpy.float32"
      ]
     },
     "execution_count": 60,
     "metadata": {},
     "output_type": "execute_result"
    }
   ],
   "source": [
    "type(worldpoints[0,0,0,0])"
   ]
  },
  {
   "cell_type": "code",
   "execution_count": 61,
   "metadata": {},
   "outputs": [],
   "source": [
    "def calib(world_pts_arr,x_zhang_R,x_zhang_L,image_size):    \n",
    "    ret_R, mtx_R, dist_R, rvecs_R, tvecs_R = cv2.calibrateCamera(world_pts_arr, x_zhang_R, (image_size[0],image_size[1]), None, None)\n",
    "    ret_L, mtx_L, dist_L, rvecs_L, tvecs_L = cv2.calibrateCamera(world_pts_arr, x_zhang_L, (image_size[0],image_size[1]), None, None)\n",
    "\n",
    "    flags = 0\n",
    "    flags |= cv2.CALIB_FIX_INTRINSIC\n",
    "    # Here we fix the intrinsic camara matrixes so that only Rot, Trns, Emat and Fmat are calculated.\n",
    "    # Hence intrinsic parameters are the same \n",
    "\n",
    "    criteria_stereo= (cv2.TERM_CRITERIA_EPS + cv2.TERM_CRITERIA_MAX_ITER, 30, 0.001)\n",
    "\n",
    "\n",
    "    # This step is performed to transformation between the two cameras and calculate Essential and Fundamenatl matrix\n",
    "    retS, new_mtxL, distL, new_mtxR, distR, Rot, Trns, Emat, Fmat = cv2.stereoCalibrate(world_pts_arr, x_zhang_L, x_zhang_R, mtx_L, dist_L, mtx_R, dist_R, (image_size[0],image_size[1]), criteria_stereo, flags)\n",
    "\n",
    "    return ret_R,mtx_R,ret_L,mtx_L,retS,new_mtxL,new_mtxR,Rot,Trns,Emat,Fmat,distL,distR,rvecs_L,rvecs_R"
   ]
  },
  {
   "cell_type": "code",
   "execution_count": 68,
   "metadata": {},
   "outputs": [],
   "source": [
    "ret_R,mtx_R,ret_L,mtx_L,retS,new_mtxL,new_mtxR,Rot,Trns,Emat,Fmat,distL,distR,rvecs_L,rvecs_R = calib(worldpoints,imgpoints_R,imgpoints_L,[1216,1936])"
   ]
  },
  {
   "cell_type": "code",
   "execution_count": 67,
   "metadata": {},
   "outputs": [
    {
     "data": {
      "text/plain": [
       "(1936, 1216)"
      ]
     },
     "execution_count": 67,
     "metadata": {},
     "output_type": "execute_result"
    }
   ],
   "source": [
    "gray.shape[::-1]"
   ]
  },
  {
   "cell_type": "code",
   "execution_count": 69,
   "metadata": {},
   "outputs": [
    {
     "data": {
      "text/plain": [
       "array([[7.52880331e+03, 0.00000000e+00, 5.04870364e+02],\n",
       "       [0.00000000e+00, 6.74215121e+03, 1.01897411e+03],\n",
       "       [0.00000000e+00, 0.00000000e+00, 1.00000000e+00]])"
      ]
     },
     "execution_count": 69,
     "metadata": {},
     "output_type": "execute_result"
    }
   ],
   "source": [
    "new_mtxL"
   ]
  },
  {
   "cell_type": "code",
   "execution_count": 70,
   "metadata": {},
   "outputs": [
    {
     "data": {
      "text/plain": [
       "array([[4.35057095e+03, 0.00000000e+00, 6.56004986e+02],\n",
       "       [0.00000000e+00, 3.11386213e+03, 6.60487703e+02],\n",
       "       [0.00000000e+00, 0.00000000e+00, 1.00000000e+00]])"
      ]
     },
     "execution_count": 70,
     "metadata": {},
     "output_type": "execute_result"
    }
   ],
   "source": [
    "new_mtxR"
   ]
  },
  {
   "cell_type": "code",
   "execution_count": 66,
   "metadata": {},
   "outputs": [
    {
     "data": {
      "text/plain": [
       "array([[ 1197.57682508],\n",
       "       [ 2691.02479483],\n",
       "       [-1500.61293136]])"
      ]
     },
     "execution_count": 66,
     "metadata": {},
     "output_type": "execute_result"
    }
   ],
   "source": [
    "Trns"
   ]
  },
  {
   "cell_type": "code",
   "execution_count": 20,
   "metadata": {},
   "outputs": [
    {
     "data": {
      "text/plain": [
       "(30, 96, 2)"
      ]
     },
     "execution_count": 20,
     "metadata": {},
     "output_type": "execute_result"
    }
   ],
   "source": [
    "np.shape(imgpoints_L)"
   ]
  },
  {
   "cell_type": "code",
   "execution_count": null,
   "metadata": {},
   "outputs": [],
   "source": [
    "P_L_list = []\n",
    "P_R_list = []\n",
    "R1_list = []\n",
    "R2_list = []\n",
    "R1,R2,P_L_est,P_R_est,Q,roi_left,roi_right = cv2.stereoRectify(new_mtxL, ret_L, new_mtxR, ret_R, (image_size[0],image_size[1]), Rot, Trns,flags = cv2.CALIB_ZERO_DISPARITY)\n",
    "\n",
    "R1_list.append(R1)\n",
    "R2_list.append(R2)\n",
    "P_L_list.append(P_L_est)\n",
    "P_R_list.append(P_R_est)"
   ]
  },
  {
   "cell_type": "code",
   "execution_count": null,
   "metadata": {},
   "outputs": [],
   "source": [
    "new_mtxL"
   ]
  },
  {
   "cell_type": "code",
   "execution_count": null,
   "metadata": {},
   "outputs": [],
   "source": [
    "np.savetxt(f\"../calibration_photos/calibration_2_meters_tivera/calib_2_5.txt\",R1,R2,P_L_est,P_R_est,retS,new_mtxL,new_mtxR,ret_L,ret_R,dist_L,dist_R,Rot,Trns)"
   ]
  },
  {
   "cell_type": "code",
   "execution_count": null,
   "metadata": {},
   "outputs": [],
   "source": [
    "P_L_est"
   ]
  },
  {
   "cell_type": "code",
   "execution_count": null,
   "metadata": {},
   "outputs": [],
   "source": [
    "mtx_L"
   ]
  },
  {
   "cell_type": "code",
   "execution_count": null,
   "metadata": {},
   "outputs": [],
   "source": [
    "mtx_R"
   ]
  },
  {
   "cell_type": "code",
   "execution_count": null,
   "metadata": {},
   "outputs": [],
   "source": []
  },
  {
   "cell_type": "code",
   "execution_count": null,
   "metadata": {},
   "outputs": [],
   "source": []
  }
 ],
 "metadata": {
  "kernelspec": {
   "display_name": "Python 3.8.5 64-bit",
   "language": "python",
   "name": "python3"
  },
  "language_info": {
   "codemirror_mode": {
    "name": "ipython",
    "version": 3
   },
   "file_extension": ".py",
   "mimetype": "text/x-python",
   "name": "python",
   "nbconvert_exporter": "python",
   "pygments_lexer": "ipython3",
   "version": "3.8.5"
  },
  "vscode": {
   "interpreter": {
    "hash": "a2351b8e039bbf9c56c302d7c356075afc88dd574b72d7357dd8301589a7e4a3"
   }
  }
 },
 "nbformat": 4,
 "nbformat_minor": 4
}

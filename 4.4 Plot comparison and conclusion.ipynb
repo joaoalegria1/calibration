{
 "cells": [
  {
   "cell_type": "markdown",
   "metadata": {},
   "source": [
    "# 4.4 Plot comparison and conclusions"
   ]
  },
  {
   "cell_type": "code",
   "execution_count": 31,
   "metadata": {},
   "outputs": [],
   "source": [
    "vscode = 1"
   ]
  },
  {
   "cell_type": "code",
   "execution_count": 32,
   "metadata": {},
   "outputs": [],
   "source": [
    "if(vscode == 1):\n",
    "    # for vscode\n",
    "    %matplotlib qt\n",
    "else:\n",
    "    # for jupyter notebook\n",
    "    from mpl_toolkits.mplot3d import axes3d\n",
    "    import matplotlib.pyplot as plt\n",
    "\n",
    "    %matplotlib notebook\n"
   ]
  },
  {
   "cell_type": "code",
   "execution_count": 33,
   "metadata": {},
   "outputs": [],
   "source": [
    "import matplotlib.pyplot as plt\n",
    "import numpy as np\n",
    "import cv2 \n",
    "from typing import Sequence\n",
    "from calib_lib import *\n",
    "DECIMALS = 2  # how many decimal places to use in print\n"
   ]
  },
  {
   "cell_type": "markdown",
   "metadata": {},
   "source": [
    "## Load the variables"
   ]
  },
  {
   "cell_type": "markdown",
   "metadata": {},
   "source": [
    "- Infinity focus"
   ]
  },
  {
   "cell_type": "code",
   "execution_count": 92,
   "metadata": {},
   "outputs": [],
   "source": [
    "abs_error_2_infi = np.load(\"E_err2_p_infi.npy\")\n",
    "relative_error_2_infi = np.load(\"relative_Error_2_Z_infi.npy\")\n",
    "X_est_arr_2_infi = np.load(\"X_est_arr_2_infi.npy\")"
   ]
  },
  {
   "cell_type": "markdown",
   "metadata": {},
   "source": [
    "- maximum aperture"
   ]
  },
  {
   "cell_type": "code",
   "execution_count": 93,
   "metadata": {},
   "outputs": [],
   "source": [
    "abs_error_2_noinfi = np.load(\"E_err2_p_noinfi.npy\")\n",
    "relative_error_2_noinfi = np.load(\"relative_Error_2_Z_noinfi.npy\")\n",
    "X_est_arr_2_noinfi = np.load(\"X_est_arr_2_noinfi.npy\")"
   ]
  },
  {
   "cell_type": "markdown",
   "metadata": {},
   "source": [
    "- centroid estimation( infinite focus)"
   ]
  },
  {
   "cell_type": "code",
   "execution_count": 94,
   "metadata": {},
   "outputs": [],
   "source": [
    "abs_error_2_centroid_infi = np.load(\"E_err2_p_centroid_infi_round.npy\")\n",
    "relative_error_2_centroid_infi = np.load(\"relative_Error_2_Z_centroid_infi_round.npy\")\n",
    "X_org_arr_2_centroid_infi = np.load(\"X_org_arr_2_centroid_infi.npy\")\n",
    "X_est_arr_2_centroid_infi = np.load(\"X_est_arr_2_centroid_infi.npy\")"
   ]
  },
  {
   "cell_type": "markdown",
   "metadata": {},
   "source": [
    "- centroid estimation( maximum aperture)"
   ]
  },
  {
   "cell_type": "code",
   "execution_count": 95,
   "metadata": {},
   "outputs": [],
   "source": [
    "abs_error_2_centroid_noinfi = np.load(\"E_err2_p_centroid_noinfi_round.npy\")\n",
    "relative_error_2_centroid_noinfi = np.load(\"relative_Error_2_Z_centroid_noinfi_round.npy\")\n",
    "X_org_arr_2_centroid_noinfi = np.load(\"X_org_arr_2_centroid_noinfi.npy\")\n",
    "X_est_arr_2_centroid_noinfi = np.load(\"X_est_arr_2_centroid_noinfi.npy\")"
   ]
  },
  {
   "cell_type": "markdown",
   "metadata": {},
   "source": [
    "- physical setup results(max aperture)"
   ]
  },
  {
   "cell_type": "code",
   "execution_count": 97,
   "metadata": {},
   "outputs": [],
   "source": [
    "abs_error_2_setup_infi = np.load(\"E_err2_p_noinfi_phy.npy\")\n",
    "relative_error_2_setup_infi = np.load(\"relative_Error_2_Z_noinfi_phy.npy\")\n",
    "X_est_arr_2_setup_infi = np.load(\"X_est_arr_2_infi_phy.npy\")"
   ]
  },
  {
   "cell_type": "markdown",
   "metadata": {},
   "source": [
    "- physical setup results(infinite focal length)"
   ]
  },
  {
   "cell_type": "code",
   "execution_count": 98,
   "metadata": {},
   "outputs": [],
   "source": [
    "abs_error_2_setup_noinfi = np.load(\"E_err2_p_infi_phy.npy\")\n",
    "relative_error_2_setup_noinfi = np.load(\"relative_Error_2_Z_infi_phy.npy\")\n",
    "X_est_arr_2_setup_noinfi = np.load(\"X_est_arr_2_noinfi_phy.npy\")"
   ]
  },
  {
   "cell_type": "markdown",
   "metadata": {},
   "source": [
    "# Ideal error( focus in infinite vs. focus not on infinite)\n",
    "The diference in this plots are obtained from:\n",
    "- focusing on the infinite( focal lenght to the infinity) and variable aperture\n",
    "- Maximum aperture(f1.4) and variable focal length"
   ]
  },
  {
   "cell_type": "code",
   "execution_count": 66,
   "metadata": {},
   "outputs": [],
   "source": [
    "# from 1 meter to 300 meters in steps of 10 meters\n",
    "zdistance = np.arange(0,320000,1000)\n",
    "zdistance[0] = 1000\n",
    "xdistance = np.ones((zdistance.shape[0],))*250\n",
    "ydistance = np.ones((zdistance.shape[0],))*100\n",
    "X =np.array([xdistance,ydistance,zdistance]).T"
   ]
  },
  {
   "cell_type": "markdown",
   "metadata": {},
   "source": [
    "## Error percentage plot"
   ]
  },
  {
   "cell_type": "code",
   "execution_count": 67,
   "metadata": {},
   "outputs": [],
   "source": [
    "fig = plt.figure(figsize = (20,10))\n",
    "ax = fig.add_subplot()\n",
    "\n",
    "x_marker = np.linspace(10e-10,1e3,1000)\n",
    "y_marker = np.ones((1000,1))\n",
    "\n",
    "color_2_infi = ['black','firebrick','gold','chartreuse','darkcyan','m']\n",
    "sub_2_infi = [\"2 meters with 5 chessboards ideal[infinity]\",\"2 meters with 20 chessboards ideal[infinity]\",\"2 meters with 45 chessboards ideal[infinity]\",\"2 meters with 80 chessboards ideal[infinity]\",\"2 meters with 125 chessboards ideal[infinity]\",\"2 meters with 180 chessboards ideal[infinity]\"]\n",
    "color_2_noinfi = ['red','g','orange','c','darkblue','fuchsia']\n",
    "sub_2_noinfi = [\"2 meters with 5 chessboards ideal[max aperture]\",\"2 meters with 20 chessboards ideal[max aperture]\",\"2 meters with 45 chessboards ideal[max aperture]\",\"2 meters with 80 chessboards ideal[max aperture]\",\"2 meters with 125 chessboards ideal[max aperture]\",\"2 meters with 180 chessboards ideal[max aperture]\"]\n",
    "\n",
    "for i in range(relative_error_2_infi.shape[0]):\n",
    "\n",
    "    ax.plot(zdistance/1000,relative_error_2_infi[i,:],color =  color_2_infi[i], label = sub_2_infi[i], marker = '^')\n",
    "    ax.plot(zdistance/1000,relative_error_2_noinfi[i,:],color =  color_2_noinfi[i], label = sub_2_noinfi[i], marker = '*')\n",
    "#ax.set_yscale('log')\n",
    "\n",
    "\n",
    "ax.set_xlim(0,50)\n",
    "ax.set_ylabel(\"Triangulation error [%]\")\n",
    "ax.set_title(\"Triangulation error \")\n",
    "ax.set_xlabel(\"Distance [m]\")\n",
    "ax.legend()\n",
    "ax.grid()"
   ]
  },
  {
   "cell_type": "markdown",
   "metadata": {},
   "source": [
    "## Distance error plot"
   ]
  },
  {
   "cell_type": "code",
   "execution_count": 68,
   "metadata": {},
   "outputs": [],
   "source": [
    "fig = plt.figure(figsize = (10,10))\n",
    "ax = fig.add_subplot()\n",
    "\n",
    "color_2_infi = ['black','firebrick','gold','chartreuse','darkcyan','m']\n",
    "sub_2_infi = [\"2 meters with 5 chessboards ideal[infinity]\",\"2 meters with 20 chessboards ideal[infinity]\",\"2 meters with 45 chessboards ideal[infinity]\",\"2 meters with 80 chessboards ideal[infinity]\",\"2 meters with 125 chessboards ideal[infinity]\",\"2 meters with 180 chessboards ideal[infinity]\"]\n",
    "color_2_noinfi = ['red','g','orange','c','darkblue','fuchsia']\n",
    "sub_2_noinfi = [\"2 meters with 5 chessboards ideal[max aperture]\",\"2 meters with 20 chessboards ideal[max aperture]\",\"2 meters with 45 chessboards ideal[max aperture]\",\"2 meters with 80 chessboards ideal[max aperture]\",\"2 meters with 125 chessboards ideal[max aperture]\",\"2 meters with 180 chessboards ideal[max aperture]\"]\n",
    "\n",
    "for i in range(2,abs_error_2_centroid_infi.shape[0],1):\n",
    "    \n",
    "    ax.plot(zdistance/1000,abs_error_2_infi[i,:]/1000,color =  color_2_infi[i], label = sub_2_infi[i], marker = '^')\n",
    "    ax.plot(zdistance/1000,abs_error_2_noinfi[i,:]/1000,color =  color_2_noinfi[i], label = sub_2_noinfi[i], marker = '*')\n",
    "    \n",
    "\n",
    "    #ax.set_yscale('log')\n",
    "ax.set_ylabel(\"Triangulation errror [m]\")\n",
    "ax.set_title(\"Triangulation error\")\n",
    "ax.set_xlabel(\"Distance [m]\")\n",
    "ax.legend()\n",
    "ax.grid()"
   ]
  },
  {
   "cell_type": "markdown",
   "metadata": {},
   "source": [
    "# ideal error using centroid estimation( focus in infinite vs. focus not on infinite)\n",
    "**Previously, the tests used infinitesimal points, now centroid estimation is used**\\\n",
    "The diference in this plots are obtained from:\n",
    "- focusing on the infinite( focal lenght to the infinity) and variable aperture\n",
    "- Maximum aperture(f1.4) and variable focal length"
   ]
  },
  {
   "cell_type": "markdown",
   "metadata": {},
   "source": [
    "## Error percentage plot"
   ]
  },
  {
   "cell_type": "code",
   "execution_count": 75,
   "metadata": {},
   "outputs": [],
   "source": [
    "fig = plt.figure(figsize = (20,10))\n",
    "ax = fig.add_subplot()\n",
    "\n",
    "x_marker = np.linspace(10e-10,1e3,1000)\n",
    "y_marker = np.ones((1000,1))\n",
    "\n",
    "color_2_infi = ['black','firebrick','gold','chartreuse','darkcyan','m']\n",
    "sub_2_infi = [\"2 meters with 5 chessboards ideal w/ centroiding[infinity]\",\"2 meters with 20 chessboards ideal w/ centroiding[infinity]\",\"2 meters with 45 chessboards ideal w/ centroiding[infinity]\",\"2 meters with 80 chessboards ideal w/ centroiding[infinity]\",\"2 meters with 125 chessboards ideal w/ centroiding[infinity]\",\"2 meters with 180 chessboards ideal w/ centroiding[infinity]\"]\n",
    "color_2_noinfi = ['red','g','orange','c','darkblue','fuchsia']\n",
    "sub_2_noinfi = [\"2 meters with 5 chessboards ideal w/ centroiding[max aperture]\",\"2 meters with 20 chessboards ideal w/ centroiding[max aperture]\",\"2 meters with 45 chessboards ideal w/ centroiding[max aperture]\",\"2 meters with 80 chessboards ideal w/ centroiding[max aperture]\",\"2 meters with 125 chessboards ideal w/ centroiding[max aperture]\",\"2 meters with 180 chessboards ideal w/ centroiding[max aperture]\"]\n",
    "\n",
    "for i in range(relative_error_2_centroid_infi.shape[0]):\n",
    "\n",
    "    ax.plot(zdistance/1000,relative_error_2_centroid_infi[i,:],color =  color_2_infi[i], label = sub_2_infi[i], marker = '^')\n",
    "    ax.plot(zdistance/1000,relative_error_2_centroid_noinfi[i,:],color =  color_2_noinfi[i], label = sub_2_noinfi[i], marker = '*')\n",
    "ax.set_yscale('log')\n",
    "\n",
    "\n",
    "ax.set_xlim(0,300)\n",
    "ax.set_ylabel(\"Triangulation error [%]\")\n",
    "ax.set_title(\"Triangulation error using centroid estimation \")\n",
    "ax.set_xlabel(\"Distance [m]\")\n",
    "ax.legend()\n",
    "ax.grid()"
   ]
  },
  {
   "cell_type": "markdown",
   "metadata": {},
   "source": [
    "## Distance error plot"
   ]
  },
  {
   "cell_type": "code",
   "execution_count": 76,
   "metadata": {},
   "outputs": [],
   "source": [
    "fig = plt.figure(figsize = (10,10))\n",
    "ax = fig.add_subplot()\n",
    "\n",
    "color_2_infi = ['black','firebrick','gold','chartreuse','darkcyan','m']\n",
    "sub_2_infi = [\"2 meters with 5 chessboards ideal w/ centroiding[infinity]\",\"2 meters with 20 chessboards ideal w/ centroiding[infinity]\",\"2 meters with 45 chessboards ideal w/ centroiding[infinity]\",\"2 meters with 80 chessboards ideal w/ centroiding[infinity]\",\"2 meters with 125 chessboards ideal w/ centroiding[infinity]\",\"2 meters with 180 chessboards ideal w/ centroiding[infinity]\"]\n",
    "color_2_noinfi = ['red','g','orange','c','darkblue','fuchsia']\n",
    "sub_2_noinfi = [\"2 meters with 5 chessboards ideal w/ centroiding[max aperture]\",\"2 meters with 20 chessboards ideal w/ centroiding[max aperture]\",\"2 meters with 45 chessboards ideal w/ centroiding[max aperture]\",\"2 meters with 80 chessboards ideal w/ centroiding[max aperture]\",\"2 meters with 125 chessboards ideal w/ centroiding[max aperture]\",\"2 meters with 180 chessboards ideal w/ centroiding[max aperture]\"]\n",
    "\n",
    "for i in range(2,abs_error_2_centroid_infi.shape[0],1):\n",
    "    \n",
    "    ax.plot(zdistance/1000,abs_error_2_centroid_infi[i,:]/1000,color =  color_2_infi[i], label = sub_2_infi[i], marker = '^')\n",
    "    ax.plot(zdistance/1000,abs_error_2_centroid_noinfi[i,:]/1000,color =  color_2_noinfi[i], label = sub_2_noinfi[i], marker = '*')\n",
    "    \n",
    "\n",
    "    #ax.set_yscale('log')\n",
    "ax.set_ylabel(\"Triangulation errror [m]\")\n",
    "ax.set_title(\"Triangulation error\")\n",
    "ax.set_xlabel(\"Distance [m]\")\n",
    "ax.legend()\n",
    "ax.grid()"
   ]
  },
  {
   "cell_type": "markdown",
   "metadata": {},
   "source": [
    "# Comparison between ideal vs. centroid estimation for 2 meters with 80 chessboards"
   ]
  },
  {
   "cell_type": "markdown",
   "metadata": {},
   "source": [
    "## Error percentage plot"
   ]
  },
  {
   "cell_type": "code",
   "execution_count": 77,
   "metadata": {},
   "outputs": [],
   "source": [
    "fig = plt.figure(figsize = (20,10))\n",
    "ax = fig.add_subplot(121)\n",
    "\n",
    "x_marker = np.linspace(10e-10,1e3,1000)\n",
    "y_marker = np.ones((1000,1))\n",
    "\n",
    "color_2_infi = 'cyan'\n",
    "sub_2_infi = \"2 meters with 80 chessboards ideal[infinity]\"\n",
    "color_2_noinfi = 'darkblue'\n",
    "sub_2_noinfi = \"2 meters with 80 chessboards ideal[max aperture]\"\n",
    "color_2_centroid_infi = 'red'\n",
    "sub_2_centroid_infi = \"2 meters with 80 chessboards ideal w/ centroiding[infinity]\"\n",
    "color_2_centroid_noinfi = 'green'\n",
    "sub_2_centroid_noinfi = \"2 meters with 80 chessboards ideal w/centroiding[max aperture]\"\n",
    "\n",
    "# for 80 chessboards\n",
    "i = 3\n",
    "\n",
    "ax.plot(zdistance/1000,relative_error_2_infi[i,:],color =  color_2_infi, label = sub_2_infi, marker = '^')\n",
    "ax.plot(zdistance/1000,relative_error_2_noinfi[i,:],color =  color_2_noinfi, label = sub_2_noinfi, marker = '*')\n",
    "\n",
    "ax.plot(zdistance/1000,relative_error_2_centroid_infi[i,:],color =  color_2_centroid_infi, label = sub_2_centroid_infi, marker = '^')\n",
    "ax.plot(zdistance/1000,relative_error_2_centroid_noinfi[i,:],color =  color_2_centroid_noinfi, label = sub_2_centroid_noinfi, marker = '*')\n",
    "\n",
    "ax.set_yscale('log')\n",
    "\n",
    "\n",
    "ax.set_xlim(0,300)\n",
    "ax.set_ylabel(\"Triangulation error [%]\")\n",
    "ax.set_title(\"Triangulation error using centroid estimation \")\n",
    "ax.set_xlabel(\"Distance [m]\")\n",
    "ax.legend()\n",
    "ax.grid()\n",
    "\n",
    "# second plot, only for 12 meters\n",
    "ax2 = fig.add_subplot(122)\n",
    "\n",
    "ax2.plot(zdistance/1000,relative_error_2_infi[i,:],color =  color_2_infi, label = sub_2_infi, marker = '^',linewidth = 3)\n",
    "ax2.plot(zdistance/1000,relative_error_2_noinfi[i,:],color =  color_2_noinfi, label = sub_2_noinfi, marker = '*',linewidth = 3)\n",
    "\n",
    "ax2.plot(zdistance/1000,relative_error_2_centroid_infi[i,:],color =  color_2_centroid_infi, label = sub_2_centroid_infi, marker = '^')\n",
    "ax2.plot(zdistance/1000,relative_error_2_centroid_noinfi[i,:],color =  color_2_centroid_noinfi, label = sub_2_centroid_noinfi, marker = '*')\n",
    "\n",
    "ax2.set_yscale('log')\n",
    "\n",
    "\n",
    "ax2.set_xlim(1,12)\n",
    "ax2.set_ylim(6,15)\n",
    "ax2.set_ylabel(\"Triangulation error [%]\")\n",
    "ax2.set_title(\"Triangulation error using centroid estimation \")\n",
    "ax2.set_xlabel(\"Distance [m]\")\n",
    "ax2.legend()\n",
    "ax2.grid()\n"
   ]
  },
  {
   "cell_type": "markdown",
   "metadata": {},
   "source": [
    "## Distance error plot"
   ]
  },
  {
   "cell_type": "code",
   "execution_count": 78,
   "metadata": {},
   "outputs": [],
   "source": [
    "fig = plt.figure(figsize = (20,10))\n",
    "ax = fig.add_subplot(121)\n",
    "color_2_infi = 'cyan'\n",
    "sub_2_infi = \"2 meters with 80 chessboards ideal[infinity]\"\n",
    "color_2_noinfi = 'darkblue'\n",
    "sub_2_noinfi = \"2 meters with 80 chessboards ideal[max aperture]\"\n",
    "color_2_centroid_infi = 'red'\n",
    "sub_2_centroid_infi = \"2 meters with 80 chessboards ideal w/ centroiding[infinity]\"\n",
    "color_2_centroid_noinfi = 'green'\n",
    "sub_2_centroid_noinfi = \"2 meters with 80 chessboards ideal w/centroiding[max aperture]\"\n",
    "\n",
    "# for 80 chessboards\n",
    "i = 3\n",
    "\n",
    "ax.plot(zdistance/1000,abs_error_2_infi[i,:]/1000,color =  color_2_infi, label = sub_2_infi, marker = '^')\n",
    "ax.plot(zdistance/1000,abs_error_2_noinfi[i,:]/1000,color =  color_2_noinfi, label = sub_2_noinfi, marker = '*')\n",
    "\n",
    "ax.plot(zdistance/1000,abs_error_2_centroid_infi[i,:]/1000,color =  color_2_centroid_infi, label = sub_2_centroid_infi, marker = '^')\n",
    "ax.plot(zdistance/1000,abs_error_2_centroid_noinfi[i,:]/1000,color =  color_2_centroid_noinfi, label = sub_2_centroid_noinfi, marker = '*')\n",
    "    \n",
    "ax.set_xlim(0,300)\n",
    "ax.set_ylabel(\"Triangulation errror [m]\")\n",
    "ax.set_title(\"Triangulation error\")\n",
    "ax.set_xlabel(\"Distance [m]\")\n",
    "ax.legend()\n",
    "ax.grid()\n",
    "\n",
    "# second plot, only for 12 meters\n",
    "ax2 = fig.add_subplot(122)\n",
    "\n",
    "ax2.plot(zdistance/1000,abs_error_2_infi[i,:]/1000,color =  color_2_infi, label = sub_2_infi, marker = '^')\n",
    "ax2.plot(zdistance/1000,abs_error_2_noinfi[i,:]/1000,color =  color_2_noinfi, label = sub_2_noinfi, marker = '*')\n",
    "\n",
    "ax2.plot(zdistance/1000,abs_error_2_centroid_infi[i,:]/1000,color =  color_2_centroid_infi, label = sub_2_centroid_infi, marker = '^')\n",
    "ax2.plot(zdistance/1000,abs_error_2_centroid_noinfi[i,:]/1000,color =  color_2_centroid_noinfi, label = sub_2_centroid_noinfi, marker = '*')\n",
    "    \n",
    "\n",
    "ax2.set_xlim(1,12)\n",
    "ax2.set_ylim(-1,5)\n",
    "ax2.set_ylabel(\"Triangulation errror [m]\")\n",
    "ax2.set_title(\"Triangulation error\")\n",
    "ax2.set_xlabel(\"Distance [m]\")\n",
    "ax2.legend()\n",
    "ax2.grid()"
   ]
  },
  {
   "cell_type": "markdown",
   "metadata": {},
   "source": [
    "# physical setup [max aperture vs. infinity focal length]"
   ]
  },
  {
   "cell_type": "markdown",
   "metadata": {},
   "source": [
    "## Error percentage plot"
   ]
  },
  {
   "cell_type": "code",
   "execution_count": 79,
   "metadata": {},
   "outputs": [],
   "source": [
    "fig = plt.figure(figsize = (20,10))\n",
    "ax = fig.add_subplot()\n",
    "\n",
    "x_marker = np.linspace(10e-10,1e3,1000)\n",
    "y_marker = np.ones((1000,1))\n",
    "\n",
    "color_2_infi = ['black','firebrick','gold','chartreuse','darkcyan','m']\n",
    "sub_2_infi = [\"2 meters with 20 chessboards ideal physical setup [infinity]\",\"2 meters with 45 chessboards ideal physical setup [infinity]\",\"2 meters with 80 chessboards ideal physical setup [infinity]\",\"2 meters with 125 chessboards ideal physical setup [infinity]\",\"2 meters with 180 chessboards ideal physical setup [infinity]\"]\n",
    "color_2_noinfi = ['red','g','orange','c','darkblue','fuchsia']\n",
    "sub_2_noinfi = [\"2 meters with 20 chessboards ideal physical setup [max aperture]\",\"2 meters with 45 chessboards ideal physical setup [max aperture]\",\"2 meters with 80 chessboards ideal physical setup [max aperture]\",\"2 meters with 125 chessboards ideal physical setup [max aperture]\",\"2 meters with 180 chessboards ideal physical setup [max aperture]\"]\n",
    "\n",
    "for i in range(relative_error_2_setup_infi.shape[0]):\n",
    "\n",
    "    ax.plot(zdistance[2:12]/1000,relative_error_2_setup_infi[i,:],color =  color_2_infi[i], label = sub_2_infi[i], marker = '^')\n",
    "    ax.plot(zdistance[2:12]/1000,relative_error_2_setup_noinfi[i,:],color =  color_2_noinfi[i], label = sub_2_noinfi[i], marker = '*')\n",
    "    \n",
    "#ax.set_yscale('log')\n",
    "\n",
    "\n",
    "ax.set_xlim(1,12)\n",
    "ax.set_ylabel(\"Triangulation error [%]\")\n",
    "ax.set_title(\"Triangulation error using centroid estimation \")\n",
    "ax.set_xlabel(\"Distance [m]\")\n",
    "ax.legend()\n",
    "ax.grid()"
   ]
  },
  {
   "cell_type": "markdown",
   "metadata": {},
   "source": [
    "## Distance error plot"
   ]
  },
  {
   "cell_type": "code",
   "execution_count": 80,
   "metadata": {},
   "outputs": [],
   "source": [
    "fig = plt.figure(figsize = (10,10))\n",
    "ax = fig.add_subplot()\n",
    "\n",
    "color_2_infi = ['black','firebrick','gold','chartreuse','darkcyan','m']\n",
    "sub_2_infi = [\"2 meters with 5 chessboards ideal w/ centroiding[infinity]\",\"2 meters with 20 chessboards ideal w/ centroiding[infinity]\",\"2 meters with 45 chessboards ideal w/ centroiding[infinity]\",\"2 meters with 80 chessboards ideal w/ centroiding[infinity]\",\"2 meters with 125 chessboards ideal w/ centroiding[infinity]\",\"2 meters with 180 chessboards ideal w/ centroiding[infinity]\"]\n",
    "color_2_noinfi = ['red','g','orange','c','darkblue','fuchsia']\n",
    "sub_2_noinfi = [\"2 meters with 5 chessboards ideal w/ centroiding[max aperture]\",\"2 meters with 20 chessboards ideal w/ centroiding[max aperture]\",\"2 meters with 45 chessboards ideal w/ centroiding[max aperture]\",\"2 meters with 80 chessboards ideal w/ centroiding[max aperture]\",\"2 meters with 125 chessboards ideal w/ centroiding[max aperture]\",\"2 meters with 180 chessboards ideal w/ centroiding[max aperture]\"]\n",
    "\n",
    "for i in range(2,abs_error_2_setup_infi.shape[0],1):\n",
    "    \n",
    "    ax.plot(zdistance[2:12]/1000,abs_error_2_setup_infi[i,:]/1000,color =  color_2_infi[i], label = sub_2_infi[i], marker = '^')\n",
    "    ax.plot(zdistance[2:12]/1000,abs_error_2_setup_noinfi[i,:]/1000,color =  color_2_noinfi[i], label = sub_2_noinfi[i], marker = '*')\n",
    "    \n",
    "\n",
    "    #ax.set_yscale('log')\n",
    "ax.set_ylabel(\"Triangulation errror [m]\")\n",
    "ax.set_title(\"Triangulation error\")\n",
    "ax.set_xlabel(\"Distance [m]\")\n",
    "ax.legend()\n",
    "ax.grid()"
   ]
  },
  {
   "cell_type": "markdown",
   "metadata": {},
   "source": [
    "# Comparison between ideal vs. centroid estimation vs physical setup for 2 meters with 80 chessboards"
   ]
  },
  {
   "cell_type": "markdown",
   "metadata": {},
   "source": [
    "## Error percentage plot"
   ]
  },
  {
   "cell_type": "code",
   "execution_count": 81,
   "metadata": {},
   "outputs": [],
   "source": [
    "fig = plt.figure(figsize = (20,10))\n",
    "ax = fig.add_subplot()\n",
    "\n",
    "x_marker = np.linspace(10e-10,1e3,1000)\n",
    "y_marker = np.ones((1000,1))\n",
    "\n",
    "color_2_infi = 'cyan'\n",
    "sub_2_infi = \"2 meters with 80 chessboards ideal[infinity]\"\n",
    "color_2_noinfi = 'darkblue'\n",
    "sub_2_noinfi = \"2 meters with 80 chessboards ideal[max aperture]\"\n",
    "color_2_centroid_infi = 'red'\n",
    "sub_2_centroid_infi = \"2 meters with 80 chessboards ideal w/ centroiding[infinity]\"\n",
    "color_2_centroid_noinfi = 'green'\n",
    "sub_2_centroid_noinfi = \"2 meters with 80 chessboards ideal w/centroiding[max aperture]\"\n",
    "color_2_setup_infi = 'orange'\n",
    "sub_2_infi_setup = '2 meters with 80 chessboard setup[infinity]'\n",
    "color_2_setup_noinfi = 'black'\n",
    "sub_2_noinfi_setup = '2 meters with 80 chessboards setup[max aperture]'\n",
    "\n",
    "# for 80 chessboards\n",
    "i = 3\n",
    "j = 0\n",
    "\n",
    "ax.plot(zdistance[2:12]/1000,relative_error_2_infi[i,2:12],color =  color_2_infi, label = sub_2_infi, marker = '^')\n",
    "ax.plot(zdistance[2:12]/1000,relative_error_2_noinfi[i,2:12],color =  color_2_noinfi, label = sub_2_noinfi, marker = '*')\n",
    "\n",
    "ax.plot(zdistance[2:12]/1000,relative_error_2_centroid_infi[i,2:12],color =  color_2_centroid_infi, label = sub_2_centroid_infi, marker = '^')\n",
    "ax.plot(zdistance[2:12]/1000,relative_error_2_centroid_noinfi[i,2:12],color =  color_2_centroid_noinfi, label = sub_2_centroid_noinfi, marker = '*')\n",
    "\n",
    "ax.plot(zdistance[2:12]/1000,relative_error_2_setup_infi[j],color =  color_2_setup_infi, label = sub_2_infi_setup, marker = '^')\n",
    "ax.plot(zdistance[2:12]/1000,relative_error_2_setup_noinfi[j],color =  color_2_setup_noinfi, label = sub_2_noinfi_setup, marker = '*')\n",
    "\n",
    "#ax.set_yscale('log')\n",
    "\n",
    "\n",
    "ax.set_xlim(2,11)\n",
    "ax.set_ylabel(\"Triangulation error [%]\")\n",
    "ax.set_title(\"Triangulation error using centroid estimation \")\n",
    "ax.set_xlabel(\"Distance [m]\")\n",
    "ax.legend()\n",
    "ax.grid()\n"
   ]
  },
  {
   "cell_type": "markdown",
   "metadata": {},
   "source": [
    "## Distance error plot"
   ]
  },
  {
   "cell_type": "code",
   "execution_count": 85,
   "metadata": {},
   "outputs": [],
   "source": [
    "fig = plt.figure(figsize = (20,10))\n",
    "ax = fig.add_subplot()\n",
    "\n",
    "x_marker = np.linspace(10e-10,1e3,1000)\n",
    "y_marker = np.ones((1000,1))\n",
    "\n",
    "color_2_infi = 'cyan'\n",
    "sub_2_infi = \"2 meters with 80 chessboards ideal[infinity]\"\n",
    "color_2_noinfi = 'darkblue'\n",
    "sub_2_noinfi = \"2 meters with 80 chessboards ideal[max aperture]\"\n",
    "color_2_centroid_infi = 'red'\n",
    "sub_2_centroid_infi = \"2 meters with 80 chessboards ideal w/ centroiding[infinity]\"\n",
    "color_2_centroid_noinfi = 'green'\n",
    "sub_2_centroid_noinfi = \"2 meters with 80 chessboards ideal w/centroiding[max aperture]\"\n",
    "color_2_setup_infi = 'orange'\n",
    "sub_2_infi_setup = '2 meters with 80 chessboard setup[infinity]'\n",
    "color_2_setup_noinfi = 'black'\n",
    "sub_2_noinfi_setup = '2 meters with 80 chessboards setup[max aperture]'\n",
    "\n",
    "# for 80 chessboards\n",
    "i = 3\n",
    "j = 0\n",
    "\n",
    "ax.plot(zdistance[2:12]/1000,abs_error_2_infi[i,2:12]/1000,color =  color_2_infi, label = sub_2_infi, marker = '^')\n",
    "ax.plot(zdistance[2:12]/1000,abs_error_2_noinfi[i,2:12]/1000,color =  color_2_noinfi, label = sub_2_noinfi, marker = '*')\n",
    "\n",
    "ax.plot(zdistance[2:12]/1000,abs_error_2_centroid_infi[i,2:12]/1000,color =  color_2_centroid_infi, label = sub_2_centroid_infi, marker = '^')\n",
    "ax.plot(zdistance[2:12]/1000,abs_error_2_centroid_noinfi[i,2:12]/1000,color =  color_2_centroid_noinfi, label = sub_2_centroid_noinfi, marker = '*')\n",
    "\n",
    "ax.plot(zdistance[2:12]/1000,abs_error_2_setup_infi[j]/1000,color =  color_2_setup_infi, label = sub_2_infi_setup, marker = '^')\n",
    "ax.plot(zdistance[2:12]/1000,abs_error_2_setup_noinfi[j]/1000,color =  color_2_setup_noinfi, label = sub_2_noinfi_setup, marker = '*')\n",
    "\n",
    "\n",
    "ax.set_xlim(2,11)\n",
    "ax.set_ylabel(\"Triangulation error [m]\")\n",
    "ax.set_title(\"Triangulation error using centroid estimation \")\n",
    "ax.set_xlabel(\"Distance [m]\")\n",
    "ax.legend()\n",
    "ax.grid()\n"
   ]
  },
  {
   "cell_type": "markdown",
   "metadata": {},
   "source": [
    "# Real distance vs. Estimated distance"
   ]
  },
  {
   "cell_type": "code",
   "execution_count": 107,
   "metadata": {},
   "outputs": [],
   "source": [
    "fig = plt.figure(figsize = (20,10))\n",
    "ax = fig.add_subplot()\n",
    "\n",
    "x_marker = np.linspace(10e-10,1e3,1000)\n",
    "y_marker = np.ones((1000,1))\n",
    "\n",
    "color_2_infi = 'cyan'\n",
    "sub_2_infi = \"2 meters with 80 chessboards ideal[infinity]\"\n",
    "color_2_noinfi = 'darkblue'\n",
    "sub_2_noinfi = \"2 meters with 80 chessboards ideal[max aperture]\"\n",
    "color_2_centroid_infi = 'red'\n",
    "sub_2_centroid_infi = \"2 meters with 80 chessboards ideal w/ centroiding[infinity]\"\n",
    "color_2_centroid_noinfi = 'green'\n",
    "sub_2_centroid_noinfi = \"2 meters with 80 chessboards ideal w/centroiding[max aperture]\"\n",
    "color_2_setup_infi = 'orange'\n",
    "sub_2_infi_setup = '2 meters with 80 chessboard setup[infinity]'\n",
    "color_2_setup_noinfi = 'black'\n",
    "sub_2_noinfi_setup = '2 meters with 80 chessboards setup[max aperture]'\n",
    "\n",
    "# for 80 chessboards\n",
    "i = 3\n",
    "j = 0\n",
    "# ideal correspondence\n",
    "ax.plot(zdistance[2:12]/1000,zdistance[2:12]/1000,color = 'firebrick', label = \"1:1 correspondence\", marker = '^')\n",
    "\n",
    "# ideal estimation( infinitesimal points)\n",
    "ax.plot(zdistance[2:12]/1000,X_est_arr_2_infi[i,2:12,2]/1000,color =  color_2_infi, label = sub_2_infi, marker = '^')\n",
    "ax.plot(zdistance[2:12]/1000,X_est_arr_2_noinfi[i,2:12,2]/1000,color =  color_2_noinfi, label = sub_2_noinfi, marker = '*')\n",
    "\n",
    "# centroid estimation(spots)\n",
    "ax.plot(zdistance[2:12]/1000,X_est_arr_2_centroid_infi[i,2:12,2]/1000,color =  color_2_centroid_infi, label = sub_2_centroid_infi, marker = '^')\n",
    "ax.plot(zdistance[2:12]/1000,X_est_arr_2_centroid_noinfi[i,2:12,2]/1000,color =  color_2_centroid_noinfi, label = sub_2_centroid_noinfi, marker = '*')\n",
    "\n",
    "# setup estimation\n",
    "ax.plot(zdistance[2:12]/1000,X_est_arr_2_setup_infi[j,:,2]/1000,color =  color_2_setup_infi, label = sub_2_infi_setup, marker = '^')\n",
    "ax.plot(zdistance[2:12]/1000,X_est_arr_2_setup_noinfi[j,:,2]/1000,color =  color_2_setup_noinfi, label = sub_2_noinfi_setup, marker = '*')\n",
    "\n",
    "\n",
    "\n",
    "ax.set_xlim(2,11)\n",
    "ax.set_ylabel(\"estimated distance [m]\")\n",
    "ax.set_title(\" expected distance vs. estimated distance\")\n",
    "ax.set_xlabel(\"expected distance [m]\")\n",
    "ax.legend()\n",
    "ax.grid()"
   ]
  },
  {
   "cell_type": "code",
   "execution_count": 89,
   "metadata": {},
   "outputs": [
    {
     "data": {
      "text/plain": [
       "(6, 320, 4, 1)"
      ]
     },
     "execution_count": 89,
     "metadata": {},
     "output_type": "execute_result"
    }
   ],
   "source": [
    "X_est_arr_2_centroid_noinfi.shape"
   ]
  },
  {
   "cell_type": "code",
   "execution_count": 102,
   "metadata": {},
   "outputs": [
    {
     "data": {
      "text/plain": [
       "(3, 10, 4, 1)"
      ]
     },
     "execution_count": 102,
     "metadata": {},
     "output_type": "execute_result"
    }
   ],
   "source": [
    "X_est_arr_2_setup_infi.shape"
   ]
  },
  {
   "cell_type": "code",
   "execution_count": null,
   "metadata": {},
   "outputs": [],
   "source": []
  }
 ],
 "metadata": {
  "kernelspec": {
   "display_name": "Python 3.8.5 64-bit",
   "language": "python",
   "name": "python3"
  },
  "language_info": {
   "codemirror_mode": {
    "name": "ipython",
    "version": 3
   },
   "file_extension": ".py",
   "mimetype": "text/x-python",
   "name": "python",
   "nbconvert_exporter": "python",
   "pygments_lexer": "ipython3",
   "version": "3.8.5"
  },
  "orig_nbformat": 4,
  "vscode": {
   "interpreter": {
    "hash": "a2351b8e039bbf9c56c302d7c356075afc88dd574b72d7357dd8301589a7e4a3"
   }
  }
 },
 "nbformat": 4,
 "nbformat_minor": 2
}
